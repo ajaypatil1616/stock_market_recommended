{
 "cells": [
  {
   "cell_type": "code",
   "execution_count": 116,
   "metadata": {},
   "outputs": [],
   "source": [
    "from datetime import datetime, timedelta\n",
    "import yfinance as yf"
   ]
  },
  {
   "cell_type": "code",
   "execution_count": 117,
   "metadata": {},
   "outputs": [],
   "source": [
    "def get_stock_data(stock_ticker, date):\n",
    "    endDate = datetime.now()\n",
    "    stock = yf.Ticker(stock_ticker)\n",
    "    hist = stock.history(start=date, end=endDate)\n",
    "   \n",
    "    if not hist.empty:\n",
    "        closest_date = hist.index[0]\n",
    "        open_price = hist.iloc[0][\"Open\"]\n",
    "        High_price = hist.iloc[0][\"High\"]\n",
    "        Low_price = hist.iloc[0][\"Low\"]\n",
    "        close_price = hist.iloc[0][\"Close\"]\n",
    "        volume = hist.iloc[0][\"Volume\"]\n",
    "        price_movement_per = ((close_price - open_price) / open_price) * 100\n",
    "        stock_movement = \"up\" if close_price > open_price else \"down\"\n",
    "        return {\n",
    "            \"stock_ticker\": stock_ticker,\n",
    "            \"date\": closest_date.strftime(\"%Y-%m-%d\"),\n",
    "            \"open_price\": open_price,\n",
    "            \"High_price\": High_price,\n",
    "            \"Low_price\": Low_price,\n",
    "            \"close_price\": close_price,\n",
    "            \"volume\": volume,\n",
    "            \"movement\": stock_movement,\n",
    "            \"price_movement_per\": price_movement_per,\n",
    "        }\n",
    "    else:\n",
    "        return {\"error\":f\"no data available\"}"
   ]
  },
  {
   "cell_type": "code",
   "execution_count": 118,
   "metadata": {},
   "outputs": [],
   "source": [
    "data = get_stock_data(\"COALINDIA.NS\", \"2025-01-06\")"
   ]
  },
  {
   "cell_type": "code",
   "execution_count": 119,
   "metadata": {},
   "outputs": [
    {
     "data": {
      "text/plain": [
       "{'stock_ticker': 'COALINDIA.NS',\n",
       " 'date': '2025-01-06',\n",
       " 'open_price': 394.04998779296875,\n",
       " 'High_price': 394.04998779296875,\n",
       " 'Low_price': 377.1499938964844,\n",
       " 'close_price': 378.75,\n",
       " 'volume': 8773112.0,\n",
       " 'movement': 'down',\n",
       " 'price_movement': -3.8827530178753014}"
      ]
     },
     "execution_count": 119,
     "metadata": {},
     "output_type": "execute_result"
    }
   ],
   "source": [
    "data"
   ]
  },
  {
   "cell_type": "code",
   "execution_count": null,
   "metadata": {},
   "outputs": [],
   "source": []
  },
  {
   "cell_type": "code",
   "execution_count": 123,
   "metadata": {},
   "outputs": [],
   "source": [
    "import pandas as pd\n",
    "import yfinance as yf\n",
    "from datetime import datetime, timedelta\n",
    "\n",
    "def get_stock_features(ticker, news_date):\n",
    "    # Define date ranges\n",
    "    news_date = datetime.strptime(news_date, \"%Y-%m-%d\")\n",
    "    before_start = (news_date - timedelta(days=5)).strftime(\"%Y-%m-%d\")\n",
    "    after_end = (news_date + timedelta(days=5)).strftime(\"%Y-%m-%d\")\n",
    "    \n",
    "    # Fetch historical data\n",
    "    stock = yf.Ticker(ticker)\n",
    "    historical_data = stock.history(start=before_start, end=after_end)\n",
    "    \n",
    "    # Convert index to timezone-naive to match news_date\n",
    "    historical_data.index = historical_data.index.tz_localize(None)\n",
    "    \n",
    "    # Ensure data is available\n",
    "    if historical_data.empty:\n",
    "        return None\n",
    "    \n",
    "    # Compute before-news metrics (5 days)\n",
    "    before_news = historical_data.loc[:news_date - timedelta(days=1)]\n",
    "    avg_price_5d = before_news['Close'].mean()\n",
    "    vol_5d = before_news['Close'].std()\n",
    "    avg_volume_5d = before_news['Volume'].mean()\n",
    "    \n",
    "    # On news day\n",
    "    if news_date.strftime(\"%Y-%m-%d\") in historical_data.index:\n",
    "        news_day = historical_data.loc[news_date.strftime(\"%Y-%m-%d\")]\n",
    "        open_price = news_day['Open']\n",
    "        close_price = news_day['Close']\n",
    "        volume_news_day = news_day['Volume']\n",
    "    else:\n",
    "        open_price = close_price = volume_news_day = None\n",
    "    \n",
    "    # Compute after-news metrics (1, 3, 5 days)\n",
    "    after_news = historical_data.loc[news_date + timedelta(days=1):]\n",
    "    price_movement_1d = ((after_news['Close'].iloc[0] - open_price) / open_price) * 100 if len(after_news) > 0 and open_price else None\n",
    "    price_movement_3d = ((after_news['Close'].iloc[2] - open_price) / open_price) * 100 if len(after_news) > 2 and open_price else None\n",
    "    price_movement_5d = ((after_news['Close'].iloc[4] - open_price) / open_price) * 100 if len(after_news) > 4 and open_price else None\n",
    "    avg_volume_after = after_news['Volume'].mean() if len(after_news) > 0 else None\n",
    "    \n",
    "    return {\n",
    "        \"avg_price_5d\": avg_price_5d,\n",
    "        \"volatility_5d\": vol_5d,\n",
    "        \"avg_volume_5d\": avg_volume_5d,\n",
    "        \"open_price_news_day\": open_price,\n",
    "        \"close_price_news_day\": close_price,\n",
    "        \"volume_news_day\": volume_news_day,\n",
    "        \"price_movement_1d\": price_movement_1d,\n",
    "        \"price_movement_3d\": price_movement_3d,\n",
    "        \"price_movement_5d\": price_movement_5d,\n",
    "        \"avg_volume_after\": avg_volume_after,\n",
    "    }\n"
   ]
  },
  {
   "cell_type": "code",
   "execution_count": 124,
   "metadata": {},
   "outputs": [
    {
     "name": "stdout",
     "output_type": "stream",
     "text": [
      "{'avg_price_5d': 385.3499984741211, 'volatility_5d': 6.213031421149259, 'avg_volume_5d': 10284797.75, 'open_price_news_day': 393.0, 'close_price_news_day': 393.6499938964844, 'volume_news_day': 7122319.0, 'price_movement_1d': -3.6259541984732824, 'price_movement_3d': None, 'price_movement_5d': None, 'avg_volume_after': 8773112.0}\n"
     ]
    }
   ],
   "source": [
    "news_date = \"2025-01-03\"\n",
    "ticker = \"COALINDIA.NS\"\n",
    "features = get_stock_features(ticker, news_date)\n",
    "print(features)\n"
   ]
  },
  {
   "cell_type": "code",
   "execution_count": 125,
   "metadata": {},
   "outputs": [
    {
     "data": {
      "text/plain": [
       "{'avg_price_5d': 385.3499984741211,\n",
       " 'volatility_5d': 6.213031421149259,\n",
       " 'avg_volume_5d': 10284797.75,\n",
       " 'open_price_news_day': 393.0,\n",
       " 'close_price_news_day': 393.6499938964844,\n",
       " 'volume_news_day': 7122319.0,\n",
       " 'price_movement_1d': -3.6259541984732824,\n",
       " 'price_movement_3d': None,\n",
       " 'price_movement_5d': None,\n",
       " 'avg_volume_after': 8773112.0}"
      ]
     },
     "execution_count": 125,
     "metadata": {},
     "output_type": "execute_result"
    }
   ],
   "source": [
    "features"
   ]
  },
  {
   "cell_type": "code",
   "execution_count": null,
   "metadata": {},
   "outputs": [],
   "source": []
  },
  {
   "cell_type": "code",
   "execution_count": null,
   "metadata": {},
   "outputs": [],
   "source": []
  },
  {
   "cell_type": "code",
   "execution_count": null,
   "metadata": {},
   "outputs": [],
   "source": []
  },
  {
   "cell_type": "code",
   "execution_count": null,
   "metadata": {},
   "outputs": [],
   "source": []
  },
  {
   "cell_type": "code",
   "execution_count": 120,
   "metadata": {},
   "outputs": [],
   "source": [
    "# import yfinance as yf\n",
    "\n",
    "# # CREATE A TICKER INSTANCE PASSING TESLA AS THE TARGET COMPANY\n",
    "# tsla = yf.Ticker('TSLA')\n",
    "\n",
    "# # CALL THE MULTIPLE FUNCTIONS AVAILABLE AND STORE THEM IN VARIABLES.\n",
    "# actions = tsla.get_actions()\n",
    "# analysis = tsla.get_analysis()\n",
    "# balance = tsla.get_balance_sheet()\n",
    "# calendar = tsla.get_calendar()\n",
    "# cf = tsla.get_cashflow()\n",
    "# info = tsla.get_info()\n",
    "# inst_holders = tsla.get_institutional_holders()\n",
    "# news = tsla.get_news()\n",
    "# recommendations = tsla.get_recommendations()\n",
    "# sustainability = tsla.get_sustainability()\n",
    "\n",
    "# # PRINT THE RESULTS\n",
    "# print(actions)\n",
    "# print('*'*20)\n",
    "# print(analysis)\n",
    "# print('*'*20)\n",
    "# print(balance)\n",
    "# print('*'*20)\n",
    "# print(calendar)\n",
    "# print('*'*20)\n",
    "# print(cf)\n",
    "# print('*'*20)\n",
    "# print(info)\n",
    "# print('*'*20)\n",
    "# print(inst_holders)\n",
    "# print('*'*20)\n",
    "# print(news)\n",
    "# print('*'*20)\n",
    "# print(recommendations)\n",
    "# print('*'*20)\n",
    "# print(sustainability)\n",
    "# print('*'*20)"
   ]
  },
  {
   "cell_type": "code",
   "execution_count": null,
   "metadata": {},
   "outputs": [],
   "source": []
  }
 ],
 "metadata": {
  "kernelspec": {
   "display_name": "Python 3",
   "language": "python",
   "name": "python3"
  },
  "language_info": {
   "codemirror_mode": {
    "name": "ipython",
    "version": 3
   },
   "file_extension": ".py",
   "mimetype": "text/x-python",
   "name": "python",
   "nbconvert_exporter": "python",
   "pygments_lexer": "ipython3",
   "version": "3.12.3"
  }
 },
 "nbformat": 4,
 "nbformat_minor": 2
}
