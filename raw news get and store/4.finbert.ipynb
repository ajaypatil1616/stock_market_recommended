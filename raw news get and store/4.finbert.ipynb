{
 "cells": [
  {
   "cell_type": "code",
   "execution_count": 2,
   "metadata": {},
   "outputs": [],
   "source": [
    "import pymongo"
   ]
  },
  {
   "cell_type": "code",
   "execution_count": 3,
   "metadata": {},
   "outputs": [],
   "source": [
    "client = pymongo.MongoClient(\"mongodb://localhost:27017\")\n",
    "db = client['new_db']\n",
    "collection = db['processed_news']"
   ]
  },
  {
   "cell_type": "code",
   "execution_count": 4,
   "metadata": {},
   "outputs": [],
   "source": [
    "processed_data = list(collection.find())"
   ]
  },
  {
   "cell_type": "code",
   "execution_count": 5,
   "metadata": {},
   "outputs": [
    {
     "data": {
      "text/plain": [
       "218"
      ]
     },
     "execution_count": 5,
     "metadata": {},
     "output_type": "execute_result"
    }
   ],
   "source": [
    "len(processed_data)"
   ]
  },
  {
   "cell_type": "code",
   "execution_count": 6,
   "metadata": {},
   "outputs": [
    {
     "data": {
      "text/plain": [
       "{'_id': ObjectId('676e8cbb49f67e6ab04c1ed7'),\n",
       " 'processed_text': 'agri pick report december geojit financial service id objectidecbbfeabced title agri pick report december geojit financial service desc according geojit financial service national commodity derivative exchange monday said would live trading session feb account presentation union budget aprmar date december datetime december ist content geojit financial services report daily agri pick national commodity derivative exchange monday said would live trading session feb account presentation union budget aprmar farmer karnataka sown rabi crop million hectare saturday year million hectare sown corresponding period last year according report released state agriculture government chana acreage state rose nearly year million hectare hectare sown last year acreage horse gram kulthi dal hectare hectare last year report showed total area sown pulse million hectare million hectare year ago jowar wheat chana onion chilli key crop grown state rabi season according report state set target sowing rabi crop million hectare season covered acreage jowar saturday hectare hectare year ago according report area sown wheat hectare hectare sown last year maize rose hectare hectare last year total area sown oilseed hectare far hectare sown period last year according report oilseed acreage groundnut rose hectare hectare previous year sugarcane acreage state far hectare hectare sown year ago report showed saturday state received mm rainfall since oct northeast monsoon season normal rainfall mm report showeddesc geojit financial services report daily agri pick national commodity derivative exchange monday said would live trading session feb account presentation union budget aprmar farmer karnataka sown rabi crop million hectare saturday year million hectare sown corresponding period last year according report released state agriculture government chana acreage state rose nearly year million hectare hectare sown last year acreage horse gram kulthi dal hectare hectare last year report showed total area sown pulse million hectare million hectare year ago jowar wheat chana onion chilli key crop grown state rabi season according report state set target sowing rabi crop million hectare season covered acreage jowar saturday hectare hectare year ago according report area sown wheat hectare hectare sown last year maize rose hectare hectare last year total area sown oilseed hectare far hectare sown period last year according report oilseed acreage groundnut rose hectare hectare previous year sugarcane acreage state far hectare hectare sown year ago report showed saturday state received mm rainfall since oct northeast monsoon season normal rainfall mm report showed',\n",
       " 'date': 'December 27, 2024',\n",
       " 'datetime': 'December 27, 2024 / 09:27 IST',\n",
       " 'stock_name': ['Agri Picks Report', 'Geojit Financial Services']}"
      ]
     },
     "execution_count": 6,
     "metadata": {},
     "output_type": "execute_result"
    }
   ],
   "source": [
    "processed_data[1]"
   ]
  },
  {
   "cell_type": "code",
   "execution_count": 7,
   "metadata": {},
   "outputs": [],
   "source": [
    "from transformers import AutoTokenizer, AutoModelForSequenceClassification\n",
    "from transformers import pipeline"
   ]
  },
  {
   "cell_type": "code",
   "execution_count": 8,
   "metadata": {},
   "outputs": [],
   "source": [
    "tokenizer = AutoTokenizer.from_pretrained(\"yiyanghkust/finbert-tone\")\n",
    "model = AutoModelForSequenceClassification.from_pretrained(\"yiyanghkust/finbert-tone\")\n",
    "nlp_pipeline = pipeline(\"sentiment-analysis\", model=model, tokenizer=tokenizer)"
   ]
  },
  {
   "cell_type": "code",
   "execution_count": 9,
   "metadata": {},
   "outputs": [],
   "source": [
    "def split_text(text, max_length=500):\n",
    "    tokens = tokenizer.tokenize(text)\n",
    "    chunks = [tokens[i:i+max_length] for i in range(0, len(tokens), max_length)]\n",
    "    return [tokenizer.convert_tokens_to_string(chunk) for chunk in chunks]"
   ]
  },
  {
   "cell_type": "code",
   "execution_count": 90,
   "metadata": {},
   "outputs": [],
   "source": [
    "# for news in processed_data:\n",
    "#     text = news['processed_text']\n",
    "#     text_chunks = split_text(text)\n",
    "#     sentiment_results = []\n",
    "    \n",
    "#     for chunk in text_chunks:\n",
    "#         sentiment_result = nlp_pipeline(chunk)\n",
    "#         sentiment_results.append(sentiment_result)\n",
    "                        \n",
    "#     print(sentiment_results)"
   ]
  },
  {
   "cell_type": "code",
   "execution_count": 10,
   "metadata": {},
   "outputs": [],
   "source": [
    "for news in processed_data:\n",
    "    text = news['processed_text']\n",
    "    text_chunks = split_text(text)\n",
    "    sentiment_results = []\n",
    "    \n",
    "    for chunk in text_chunks:\n",
    "        sentiment_result = nlp_pipeline(chunk)\n",
    "        sentiment_results.extend(sentiment_result)\n",
    "\n",
    "    i = 0\n",
    "    while i < len(sentiment_results) - 1:\n",
    "        if sentiment_results[i]['label'] == sentiment_results[i + 1]['label']:\n",
    "            avg_score = (sentiment_results[i]['score'] + sentiment_results[i + 1]['score']) / 2\n",
    "            sentiment_results[i] = {\"label\": sentiment_results[i]['label'], \"score\": avg_score}\n",
    "            del sentiment_results[i + 1]  \n",
    "        else:\n",
    "            i += 1  \n",
    "    news.update({\"finbert_analysis\":sentiment_results})\n",
    " \n",
    "    # print(\"Updated Sentiment Results:\", sentiment_results)"
   ]
  },
  {
   "cell_type": "code",
   "execution_count": 29,
   "metadata": {},
   "outputs": [
    {
     "data": {
      "text/plain": [
       "{'_id': ObjectId('676e9d2849f67e6ab04c1f16'),\n",
       " 'processed_text': 'buy coal india target r sharekhan id objectidedfeabcf title buy coal india target r sharekhan desc sharekhan bullish coal india recommended buy rating stock target price r research report dated december date december datetime december ist content till ytdfy aprnov coal india reported offtake mn tonne yoy production mn tonne yoy volume growth weak strong monsoon affecting power demand however company strong growth lever volume picking rise power demand potential hike fsa coal realization valuation xx fyfy eps estimate attractive stock offer high dividend yield hence maintain buy unchanged pt rsdesc till ytdfy aprnov coal india reported offtake mn tonne yoy production mn tonne yoy volume growth weak strong monsoon affecting power demand however company strong growth lever volume picking rise power demand potential hike fsa coal realization valuation xx fyfy eps estimate attractive stock offer high dividend yield hence maintain buy unchanged pt r',\n",
       " 'date': 'December 18, 2024',\n",
       " 'datetime': 'December 18, 2024 / 14:12 IST',\n",
       " 'stock_name': [],\n",
       " 'finbert_analysis': [{'label': 'Positive', 'score': 1.0}]}"
      ]
     },
     "execution_count": 29,
     "metadata": {},
     "output_type": "execute_result"
    }
   ],
   "source": [
    "processed_data[56]"
   ]
  },
  {
   "cell_type": "code",
   "execution_count": 12,
   "metadata": {},
   "outputs": [],
   "source": [
    "from datetime import datetime, timedelta\n",
    "import yfinance as yf"
   ]
  },
  {
   "cell_type": "code",
   "execution_count": 13,
   "metadata": {},
   "outputs": [],
   "source": [
    "def get_stock_data(stock_ticker, date):\n",
    "    date_obj = datetime.strptime(date, \"%B %d, %Y\")\n",
    "    formatted_date = date_obj.strftime(\"%Y-%m-%d\")\n",
    "    stock = yf.Ticker(stock_ticker)\n",
    "    hist = stock.history(start=formatted_date, end=(date_obj + timedelta(days=2)).strftime(\"%Y-%m-%d\"))\n",
    "    if not hist.empty:\n",
    "        closest_date = hist.index[0]\n",
    "        open_price = hist.iloc[0][\"Open\"]\n",
    "        close_price = hist.iloc[0][\"Close\"]\n",
    "        volume = hist.iloc[0][\"Volume\"]\n",
    "        volume = hist.iloc[0][\"Prev_Close\"]\n",
    "        stock_movement = \"up\" if close_price > open_price else \"down\"\n",
    "        return {\n",
    "            \"stock_ticker\": stock_ticker,\n",
    "            \"date\": closest_date.strftime(\"%Y-%m-%d\"),\n",
    "            \"open_price\": open_price,\n",
    "            \"close_price\": close_price,\n",
    "            \"volume\": volume,\n",
    "            \"movement\": stock_movement,\n",
    "        }\n",
    "    else:\n",
    "        return {\"error\":f\"no data available\"}"
   ]
  },
  {
   "cell_type": "code",
   "execution_count": 36,
   "metadata": {},
   "outputs": [
    {
     "name": "stdout",
     "output_type": "stream",
     "text": [
      "Ticker for EPACK: EPACK.NS\n"
     ]
    }
   ],
   "source": [
    "from yahooquery import search\n",
    "\n",
    "def get_ticker_from_yahoo(company_name):\n",
    "    results = search(company_name)\n",
    "    if results and 'quotes' in results:\n",
    "        for quote in results['quotes']:\n",
    "            if 'symbol' in quote and 'longname' in quote and company_name.lower() in quote['longname'].lower():\n",
    "                return quote['symbol']\n",
    "    return None\n",
    "\n",
    "# Example Usage\n",
    "company_name = \"EPACK\"\n",
    "ticker = get_ticker_from_yahoo(company_name)\n",
    "print(f\"Ticker for {company_name}: {ticker}\")\n"
   ]
  },
  {
   "cell_type": "code",
   "execution_count": 34,
   "metadata": {},
   "outputs": [],
   "source": [
    "stock_ticker = \"SHRIDINE.BO\"\n",
    "date = \"January 02, 2025\"\n",
    "stock_data = get_stock_data(stock_ticker, date)"
   ]
  },
  {
   "cell_type": "code",
   "execution_count": 35,
   "metadata": {},
   "outputs": [
    {
     "data": {
      "text/plain": [
       "{'stock_ticker': 'SHRIDINE.BO',\n",
       " 'date': '2025-01-02',\n",
       " 'open_price': 399.8999938964844,\n",
       " 'close_price': 395.0,\n",
       " 'volume': 1687.0,\n",
       " 'movement': 'down'}"
      ]
     },
     "execution_count": 35,
     "metadata": {},
     "output_type": "execute_result"
    }
   ],
   "source": [
    "stock_data"
   ]
  },
  {
   "cell_type": "code",
   "execution_count": 19,
   "metadata": {},
   "outputs": [
    {
     "name": "stdout",
     "output_type": "stream",
     "text": [
      "Ticker for Mazagon Dock: MAZDOCK.NS\n"
     ]
    }
   ],
   "source": []
  },
  {
   "cell_type": "code",
   "execution_count": null,
   "metadata": {},
   "outputs": [],
   "source": []
  },
  {
   "cell_type": "code",
   "execution_count": null,
   "metadata": {},
   "outputs": [],
   "source": []
  }
 ],
 "metadata": {
  "kernelspec": {
   "display_name": "Python 3",
   "language": "python",
   "name": "python3"
  },
  "language_info": {
   "codemirror_mode": {
    "name": "ipython",
    "version": 3
   },
   "file_extension": ".py",
   "mimetype": "text/x-python",
   "name": "python",
   "nbconvert_exporter": "python",
   "pygments_lexer": "ipython3",
   "version": "3.12.3"
  }
 },
 "nbformat": 4,
 "nbformat_minor": 2
}
