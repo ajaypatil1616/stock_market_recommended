{
 "cells": [
  {
   "cell_type": "code",
   "execution_count": 85,
   "metadata": {},
   "outputs": [],
   "source": [
    "import pymongo"
   ]
  },
  {
   "cell_type": "code",
   "execution_count": 86,
   "metadata": {},
   "outputs": [],
   "source": [
    "client = pymongo.MongoClient(\"mongodb://localhost:27017/\")\n",
    "db = client['new_db']\n",
    "collection = db['raw_news']"
   ]
  },
  {
   "cell_type": "code",
   "execution_count": 87,
   "metadata": {},
   "outputs": [],
   "source": [
    "raw_data = list(collection.find())"
   ]
  },
  {
   "cell_type": "code",
   "execution_count": 88,
   "metadata": {},
   "outputs": [
    {
     "data": {
      "text/plain": [
       "227"
      ]
     },
     "execution_count": 88,
     "metadata": {},
     "output_type": "execute_result"
    }
   ],
   "source": [
    "len(raw_data)"
   ]
  },
  {
   "cell_type": "code",
   "execution_count": 89,
   "metadata": {},
   "outputs": [],
   "source": [
    "import re\n",
    "from nltk.corpus import stopwords\n",
    "from nltk.tokenize import word_tokenize\n",
    "from nltk.stem import WordNetLemmatizer\n",
    "import spacy\n"
   ]
  },
  {
   "cell_type": "code",
   "execution_count": 90,
   "metadata": {},
   "outputs": [
    {
     "name": "stderr",
     "output_type": "stream",
     "text": [
      "[nltk_data] Downloading package punkt to\n",
      "[nltk_data]     C:\\Users\\AjayPatil\\AppData\\Roaming\\nltk_data...\n",
      "[nltk_data]   Package punkt is already up-to-date!\n",
      "[nltk_data] Downloading package punkt_tab to\n",
      "[nltk_data]     C:\\Users\\AjayPatil\\AppData\\Roaming\\nltk_data...\n",
      "[nltk_data]   Package punkt_tab is already up-to-date!\n",
      "[nltk_data] Downloading package stopwords to\n",
      "[nltk_data]     C:\\Users\\AjayPatil\\AppData\\Roaming\\nltk_data...\n",
      "[nltk_data]   Package stopwords is already up-to-date!\n",
      "[nltk_data] Downloading package wordnet to\n",
      "[nltk_data]     C:\\Users\\AjayPatil\\AppData\\Roaming\\nltk_data...\n",
      "[nltk_data]   Package wordnet is already up-to-date!\n"
     ]
    },
    {
     "data": {
      "text/plain": [
       "True"
      ]
     },
     "execution_count": 90,
     "metadata": {},
     "output_type": "execute_result"
    }
   ],
   "source": [
    "import nltk\n",
    "nltk.download('punkt')\n",
    "nltk.download('punkt_tab')\n",
    "nltk.download('stopwords')\n",
    "nltk.download('wordnet')"
   ]
  },
  {
   "cell_type": "code",
   "execution_count": 91,
   "metadata": {},
   "outputs": [],
   "source": [
    "nlp = spacy.load(\"en_core_web_lg\")"
   ]
  },
  {
   "cell_type": "code",
   "execution_count": 92,
   "metadata": {},
   "outputs": [],
   "source": [
    "lemmatizer = WordNetLemmatizer()"
   ]
  },
  {
   "cell_type": "code",
   "execution_count": 93,
   "metadata": {},
   "outputs": [],
   "source": [
    "def preprocess_news(news):\n",
    "    text = f\"{news['title']} {news}['desc] {' '.join(news['content'])}\"\n",
    "    \n",
    "    text = re.sub(r\"[^a-zA-Z\\s]\", \"\", text)\n",
    "    text = re.sub(r\"\\s+\",\" \", text).strip()\n",
    "    \n",
    "    text = text.lower()\n",
    "    \n",
    "    tokens = word_tokenize(text)\n",
    "    \n",
    "    stop_words = set(stopwords.words('english'))\n",
    "    tokens = [word for word in tokens if word not in stop_words]\n",
    "    \n",
    "    lemmatized_token = [lemmatizer.lemmatize(token) for token in tokens]\n",
    "    return \" \".join(lemmatized_token)"
   ]
  },
  {
   "cell_type": "code",
   "execution_count": 94,
   "metadata": {},
   "outputs": [],
   "source": [
    "def extract_entities(text):\n",
    "    doc = nlp(text)\n",
    "    stock_names = [ent.text for ent in doc.ents if ent.label_ in {\"ORG\", \"PRODUCT\", \"GPE\"}]\n",
    "    return list(set(stock_names))\n"
   ]
  },
  {
   "cell_type": "code",
   "execution_count": 95,
   "metadata": {},
   "outputs": [],
   "source": [
    "processed_data = []"
   ]
  },
  {
   "cell_type": "code",
   "execution_count": 96,
   "metadata": {},
   "outputs": [],
   "source": [
    "for news in raw_data:\n",
    "    processed_text = preprocess_news(news)\n",
    "    stock_names = extract_entities(news['title'] + \" \" + processed_text)\n",
    "    \n",
    "    processed_data.append({\n",
    "        \"_id\": news[\"_id\"],\n",
    "        \"processed_text\": processed_text,\n",
    "        \"date\": news[\"date\"],\n",
    "        \"datetime\": news[\"datetime\"],\n",
    "        \"stock_name\":stock_names,\n",
    "        \n",
    "    })"
   ]
  },
  {
   "cell_type": "code",
   "execution_count": 97,
   "metadata": {},
   "outputs": [
    {
     "data": {
      "text/plain": [
       "{'_id': ObjectId('676e8cbb49f67e6ab04c1ed7'),\n",
       " 'processed_text': 'agri pick report december geojit financial service id objectidecbbfeabced title agri pick report december geojit financial service desc according geojit financial service national commodity derivative exchange monday said would live trading session feb account presentation union budget aprmar date december datetime december ist content geojit financial services report daily agri pick national commodity derivative exchange monday said would live trading session feb account presentation union budget aprmar farmer karnataka sown rabi crop million hectare saturday year million hectare sown corresponding period last year according report released state agriculture government chana acreage state rose nearly year million hectare hectare sown last year acreage horse gram kulthi dal hectare hectare last year report showed total area sown pulse million hectare million hectare year ago jowar wheat chana onion chilli key crop grown state rabi season according report state set target sowing rabi crop million hectare season covered acreage jowar saturday hectare hectare year ago according report area sown wheat hectare hectare sown last year maize rose hectare hectare last year total area sown oilseed hectare far hectare sown period last year according report oilseed acreage groundnut rose hectare hectare previous year sugarcane acreage state far hectare hectare sown year ago report showed saturday state received mm rainfall since oct northeast monsoon season normal rainfall mm report showeddesc geojit financial services report daily agri pick national commodity derivative exchange monday said would live trading session feb account presentation union budget aprmar farmer karnataka sown rabi crop million hectare saturday year million hectare sown corresponding period last year according report released state agriculture government chana acreage state rose nearly year million hectare hectare sown last year acreage horse gram kulthi dal hectare hectare last year report showed total area sown pulse million hectare million hectare year ago jowar wheat chana onion chilli key crop grown state rabi season according report state set target sowing rabi crop million hectare season covered acreage jowar saturday hectare hectare year ago according report area sown wheat hectare hectare sown last year maize rose hectare hectare last year total area sown oilseed hectare far hectare sown period last year according report oilseed acreage groundnut rose hectare hectare previous year sugarcane acreage state far hectare hectare sown year ago report showed saturday state received mm rainfall since oct northeast monsoon season normal rainfall mm report showed',\n",
       " 'date': 'December 27, 2024',\n",
       " 'datetime': 'December 27, 2024 / 09:27 IST',\n",
       " 'stock_name': ['Agri Picks Report',\n",
       "  'Geojit Financial Services',\n",
       "  'financial services report',\n",
       "  'national commodity derivative exchange',\n",
       "  'state agriculture government chana acreage state',\n",
       "  'agri',\n",
       "  'showeddesc geojit']}"
      ]
     },
     "execution_count": 97,
     "metadata": {},
     "output_type": "execute_result"
    }
   ],
   "source": [
    "processed_data[1]"
   ]
  },
  {
   "cell_type": "code",
   "execution_count": 98,
   "metadata": {},
   "outputs": [
    {
     "ename": "BulkWriteError",
     "evalue": "batch op errors occurred, full error: {'writeErrors': [{'index': 0, 'code': 11000, 'errmsg': \"E11000 duplicate key error collection: new_db.processed_news index: _id_ dup key: { _id: ObjectId('676e8cb149f67e6ab04c1ed6') }\", 'keyPattern': {'_id': 1}, 'keyValue': {'_id': ObjectId('676e8cb149f67e6ab04c1ed6')}, 'op': {'_id': ObjectId('676e8cb149f67e6ab04c1ed6'), 'processed_text': 'mazagon dock share trade percent lower following stock split id objectidecbfeabced title mazagon dock share trade percent lower following stock split desc fall stock price come following exdate stock split today date december datetime december ist content share mazagon dock shipbuilder focus higher usual today given tradeex split scheduled december stock witnessed decline percent trading r pm come company gear stock splitxaunder stock split existing share mazagon dock face value r divided two new share face value r per observation medium report certain trading application could showing unadjusted previous closing price giving impression percent fall stock opened today r indicating initial enthusiasm around split gain shortlived per settlement mechanism investor needed buy mazagon dock share today ensure name reflected list eligible shareholder record date receive split share accordingly per company expectationsxathis move aimed atxaenhancing liquidity pushing participation retail investor tenure past year mazagon dock share doubled return per cent q fy indian shipyard registered net sale worth r crore marking increase compared r crore q fy simultaneously net sale surged r crore q fy r crore q fy marking substantial yearonyear growth approximately desc share mazagon dock shipbuilder focus higher usual today given tradeex split scheduled december stock witnessed decline percent trading r pm come company gear stock split stock split existing share mazagon dock face value r divided two new share face value r per observation medium report certain trading application could showing unadjusted previous closing price giving impression percent fall stock opened today r indicating initial enthusiasm around split gain shortlived per settlement mechanism investor needed buy mazagon dock share today ensure name reflected list eligible shareholder record date receive split share accordingly per company expectation move aimed enhancing liquidity pushing participation retail investor tenure past year mazagon dock share doubled return per cent q fy indian shipyard registered net sale worth r crore marking increase compared r crore q fy simultaneously net sale surged r crore q fy r crore q fy marking substantial yearonyear growth approximately', 'date': 'December 27, 2024', 'datetime': 'December 27, 2024 / 12:04 IST', 'stock_name': ['Mazagon Dock']}}], 'writeConcernErrors': [], 'nInserted': 0, 'nUpserted': 0, 'nMatched': 0, 'nModified': 0, 'nRemoved': 0, 'upserted': []}",
     "output_type": "error",
     "traceback": [
      "\u001b[1;31m---------------------------------------------------------------------------\u001b[0m",
      "\u001b[1;31mBulkWriteError\u001b[0m                            Traceback (most recent call last)",
      "Cell \u001b[1;32mIn[98], line 2\u001b[0m\n\u001b[0;32m      1\u001b[0m collection \u001b[38;5;241m=\u001b[39m db[\u001b[38;5;124m'\u001b[39m\u001b[38;5;124mprocessed_news\u001b[39m\u001b[38;5;124m'\u001b[39m]\n\u001b[1;32m----> 2\u001b[0m x \u001b[38;5;241m=\u001b[39m \u001b[43mcollection\u001b[49m\u001b[38;5;241;43m.\u001b[39;49m\u001b[43minsert_many\u001b[49m\u001b[43m(\u001b[49m\u001b[43mprocessed_data\u001b[49m\u001b[43m)\u001b[49m\n",
      "File \u001b[1;32mc:\\Users\\AjayPatil\\AppData\\Local\\Programs\\Python\\Python312\\Lib\\site-packages\\pymongo\\_csot.py:119\u001b[0m, in \u001b[0;36mapply.<locals>.csot_wrapper\u001b[1;34m(self, *args, **kwargs)\u001b[0m\n\u001b[0;32m    117\u001b[0m         \u001b[38;5;28;01mwith\u001b[39;00m _TimeoutContext(timeout):\n\u001b[0;32m    118\u001b[0m             \u001b[38;5;28;01mreturn\u001b[39;00m func(\u001b[38;5;28mself\u001b[39m, \u001b[38;5;241m*\u001b[39margs, \u001b[38;5;241m*\u001b[39m\u001b[38;5;241m*\u001b[39mkwargs)\n\u001b[1;32m--> 119\u001b[0m \u001b[38;5;28;01mreturn\u001b[39;00m \u001b[43mfunc\u001b[49m\u001b[43m(\u001b[49m\u001b[38;5;28;43mself\u001b[39;49m\u001b[43m,\u001b[49m\u001b[43m \u001b[49m\u001b[38;5;241;43m*\u001b[39;49m\u001b[43margs\u001b[49m\u001b[43m,\u001b[49m\u001b[43m \u001b[49m\u001b[38;5;241;43m*\u001b[39;49m\u001b[38;5;241;43m*\u001b[39;49m\u001b[43mkwargs\u001b[49m\u001b[43m)\u001b[49m\n",
      "File \u001b[1;32mc:\\Users\\AjayPatil\\AppData\\Local\\Programs\\Python\\Python312\\Lib\\site-packages\\pymongo\\synchronous\\collection.py:975\u001b[0m, in \u001b[0;36mCollection.insert_many\u001b[1;34m(self, documents, ordered, bypass_document_validation, session, comment)\u001b[0m\n\u001b[0;32m    973\u001b[0m blk \u001b[38;5;241m=\u001b[39m _Bulk(\u001b[38;5;28mself\u001b[39m, ordered, bypass_document_validation, comment\u001b[38;5;241m=\u001b[39mcomment)\n\u001b[0;32m    974\u001b[0m blk\u001b[38;5;241m.\u001b[39mops \u001b[38;5;241m=\u001b[39m \u001b[38;5;28mlist\u001b[39m(gen())\n\u001b[1;32m--> 975\u001b[0m \u001b[43mblk\u001b[49m\u001b[38;5;241;43m.\u001b[39;49m\u001b[43mexecute\u001b[49m\u001b[43m(\u001b[49m\u001b[43mwrite_concern\u001b[49m\u001b[43m,\u001b[49m\u001b[43m \u001b[49m\u001b[43msession\u001b[49m\u001b[43m,\u001b[49m\u001b[43m \u001b[49m\u001b[43m_Op\u001b[49m\u001b[38;5;241;43m.\u001b[39;49m\u001b[43mINSERT\u001b[49m\u001b[43m)\u001b[49m\n\u001b[0;32m    976\u001b[0m \u001b[38;5;28;01mreturn\u001b[39;00m InsertManyResult(inserted_ids, write_concern\u001b[38;5;241m.\u001b[39macknowledged)\n",
      "File \u001b[1;32mc:\\Users\\AjayPatil\\AppData\\Local\\Programs\\Python\\Python312\\Lib\\site-packages\\pymongo\\synchronous\\bulk.py:736\u001b[0m, in \u001b[0;36m_Bulk.execute\u001b[1;34m(self, write_concern, session, operation)\u001b[0m\n\u001b[0;32m    734\u001b[0m         \u001b[38;5;28;01mreturn\u001b[39;00m \u001b[38;5;28;01mNone\u001b[39;00m\n\u001b[0;32m    735\u001b[0m \u001b[38;5;28;01melse\u001b[39;00m:\n\u001b[1;32m--> 736\u001b[0m     \u001b[38;5;28;01mreturn\u001b[39;00m \u001b[38;5;28;43mself\u001b[39;49m\u001b[38;5;241;43m.\u001b[39;49m\u001b[43mexecute_command\u001b[49m\u001b[43m(\u001b[49m\u001b[43mgenerator\u001b[49m\u001b[43m,\u001b[49m\u001b[43m \u001b[49m\u001b[43mwrite_concern\u001b[49m\u001b[43m,\u001b[49m\u001b[43m \u001b[49m\u001b[43msession\u001b[49m\u001b[43m,\u001b[49m\u001b[43m \u001b[49m\u001b[43moperation\u001b[49m\u001b[43m)\u001b[49m\n",
      "File \u001b[1;32mc:\\Users\\AjayPatil\\AppData\\Local\\Programs\\Python\\Python312\\Lib\\site-packages\\pymongo\\synchronous\\bulk.py:603\u001b[0m, in \u001b[0;36m_Bulk.execute_command\u001b[1;34m(self, generator, write_concern, session, operation)\u001b[0m\n\u001b[0;32m    593\u001b[0m _ \u001b[38;5;241m=\u001b[39m client\u001b[38;5;241m.\u001b[39m_retryable_write(\n\u001b[0;32m    594\u001b[0m     \u001b[38;5;28mself\u001b[39m\u001b[38;5;241m.\u001b[39mis_retryable,\n\u001b[0;32m    595\u001b[0m     retryable_bulk,\n\u001b[1;32m   (...)\u001b[0m\n\u001b[0;32m    599\u001b[0m     operation_id\u001b[38;5;241m=\u001b[39mop_id,\n\u001b[0;32m    600\u001b[0m )\n\u001b[0;32m    602\u001b[0m \u001b[38;5;28;01mif\u001b[39;00m full_result[\u001b[38;5;124m\"\u001b[39m\u001b[38;5;124mwriteErrors\u001b[39m\u001b[38;5;124m\"\u001b[39m] \u001b[38;5;129;01mor\u001b[39;00m full_result[\u001b[38;5;124m\"\u001b[39m\u001b[38;5;124mwriteConcernErrors\u001b[39m\u001b[38;5;124m\"\u001b[39m]:\n\u001b[1;32m--> 603\u001b[0m     \u001b[43m_raise_bulk_write_error\u001b[49m\u001b[43m(\u001b[49m\u001b[43mfull_result\u001b[49m\u001b[43m)\u001b[49m\n\u001b[0;32m    604\u001b[0m \u001b[38;5;28;01mreturn\u001b[39;00m full_result\n",
      "File \u001b[1;32mc:\\Users\\AjayPatil\\AppData\\Local\\Programs\\Python\\Python312\\Lib\\site-packages\\pymongo\\bulk_shared.py:131\u001b[0m, in \u001b[0;36m_raise_bulk_write_error\u001b[1;34m(full_result)\u001b[0m\n\u001b[0;32m    125\u001b[0m         errmsg \u001b[38;5;241m=\u001b[39m (\n\u001b[0;32m    126\u001b[0m             \u001b[38;5;124m\"\u001b[39m\u001b[38;5;124mThis MongoDB deployment does not support \u001b[39m\u001b[38;5;124m\"\u001b[39m\n\u001b[0;32m    127\u001b[0m             \u001b[38;5;124m\"\u001b[39m\u001b[38;5;124mretryable writes. Please add retryWrites=false \u001b[39m\u001b[38;5;124m\"\u001b[39m\n\u001b[0;32m    128\u001b[0m             \u001b[38;5;124m\"\u001b[39m\u001b[38;5;124mto your connection string.\u001b[39m\u001b[38;5;124m\"\u001b[39m\n\u001b[0;32m    129\u001b[0m         )\n\u001b[0;32m    130\u001b[0m         \u001b[38;5;28;01mraise\u001b[39;00m OperationFailure(errmsg, code, full_result)\n\u001b[1;32m--> 131\u001b[0m \u001b[38;5;28;01mraise\u001b[39;00m BulkWriteError(full_result)\n",
      "\u001b[1;31mBulkWriteError\u001b[0m: batch op errors occurred, full error: {'writeErrors': [{'index': 0, 'code': 11000, 'errmsg': \"E11000 duplicate key error collection: new_db.processed_news index: _id_ dup key: { _id: ObjectId('676e8cb149f67e6ab04c1ed6') }\", 'keyPattern': {'_id': 1}, 'keyValue': {'_id': ObjectId('676e8cb149f67e6ab04c1ed6')}, 'op': {'_id': ObjectId('676e8cb149f67e6ab04c1ed6'), 'processed_text': 'mazagon dock share trade percent lower following stock split id objectidecbfeabced title mazagon dock share trade percent lower following stock split desc fall stock price come following exdate stock split today date december datetime december ist content share mazagon dock shipbuilder focus higher usual today given tradeex split scheduled december stock witnessed decline percent trading r pm come company gear stock splitxaunder stock split existing share mazagon dock face value r divided two new share face value r per observation medium report certain trading application could showing unadjusted previous closing price giving impression percent fall stock opened today r indicating initial enthusiasm around split gain shortlived per settlement mechanism investor needed buy mazagon dock share today ensure name reflected list eligible shareholder record date receive split share accordingly per company expectationsxathis move aimed atxaenhancing liquidity pushing participation retail investor tenure past year mazagon dock share doubled return per cent q fy indian shipyard registered net sale worth r crore marking increase compared r crore q fy simultaneously net sale surged r crore q fy r crore q fy marking substantial yearonyear growth approximately desc share mazagon dock shipbuilder focus higher usual today given tradeex split scheduled december stock witnessed decline percent trading r pm come company gear stock split stock split existing share mazagon dock face value r divided two new share face value r per observation medium report certain trading application could showing unadjusted previous closing price giving impression percent fall stock opened today r indicating initial enthusiasm around split gain shortlived per settlement mechanism investor needed buy mazagon dock share today ensure name reflected list eligible shareholder record date receive split share accordingly per company expectation move aimed enhancing liquidity pushing participation retail investor tenure past year mazagon dock share doubled return per cent q fy indian shipyard registered net sale worth r crore marking increase compared r crore q fy simultaneously net sale surged r crore q fy r crore q fy marking substantial yearonyear growth approximately', 'date': 'December 27, 2024', 'datetime': 'December 27, 2024 / 12:04 IST', 'stock_name': ['Mazagon Dock']}}], 'writeConcernErrors': [], 'nInserted': 0, 'nUpserted': 0, 'nMatched': 0, 'nModified': 0, 'nRemoved': 0, 'upserted': []}"
     ]
    }
   ],
   "source": [
    "collection = db['processed_news']\n",
    "x = collection.insert_many(processed_data)"
   ]
  },
  {
   "cell_type": "code",
   "execution_count": 68,
   "metadata": {},
   "outputs": [],
   "source": [
    "# x.inserted_ids"
   ]
  },
  {
   "cell_type": "code",
   "execution_count": 69,
   "metadata": {},
   "outputs": [],
   "source": [
    "client.close()"
   ]
  },
  {
   "cell_type": "code",
   "execution_count": null,
   "metadata": {},
   "outputs": [],
   "source": []
  }
 ],
 "metadata": {
  "kernelspec": {
   "display_name": "Python 3",
   "language": "python",
   "name": "python3"
  },
  "language_info": {
   "codemirror_mode": {
    "name": "ipython",
    "version": 3
   },
   "file_extension": ".py",
   "mimetype": "text/x-python",
   "name": "python",
   "nbconvert_exporter": "python",
   "pygments_lexer": "ipython3",
   "version": "3.12.3"
  }
 },
 "nbformat": 4,
 "nbformat_minor": 2
}
