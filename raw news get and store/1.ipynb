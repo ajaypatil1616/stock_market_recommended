{
 "cells": [
  {
   "cell_type": "code",
   "execution_count": 1,
   "metadata": {
    "execution": {
     "iopub.execute_input": "2025-01-06T04:56:06.620835Z",
     "iopub.status.busy": "2025-01-06T04:56:06.619836Z",
     "iopub.status.idle": "2025-01-06T04:56:07.387544Z",
     "shell.execute_reply": "2025-01-06T04:56:07.387544Z"
    }
   },
   "outputs": [],
   "source": [
    "from selenium import webdriver\n",
    "from selenium.webdriver.chrome.service import Service\n",
    "from selenium.webdriver.chrome.options import Options\n",
    "from selenium.webdriver.common.by import By\n",
    "from selenium.webdriver.support.ui import WebDriverWait\n",
    "from selenium.webdriver.support import expected_conditions as EC\n",
    "from bs4 import BeautifulSoup\n",
    "import re\n",
    "import pymongo"
   ]
  },
  {
   "cell_type": "code",
   "execution_count": 2,
   "metadata": {
    "execution": {
     "iopub.execute_input": "2025-01-06T04:56:07.390905Z",
     "iopub.status.busy": "2025-01-06T04:56:07.390905Z",
     "iopub.status.idle": "2025-01-06T04:56:07.398352Z",
     "shell.execute_reply": "2025-01-06T04:56:07.397326Z"
    }
   },
   "outputs": [],
   "source": [
    "def finding_raw_urls_from_base(url):\n",
    "    service = Service(\"./chromedriver/chromedriver.exe\")\n",
    "    options = Options()\n",
    "    options.add_argument(\"--headless\")\n",
    "    options.add_argument(\"--disable-gpu\")\n",
    "    options.add_argument(\"user-agent=Mozilla/5.0 (Windows NT 10.0; Win64; x64) AppleWebKit/537.36 (KHTML, like Gecko) Chrome/91.0.4472.124 Safari/537.36\")\n",
    "    \n",
    "    driver = webdriver.Chrome(service=service, options=options)\n",
    "    driver.get(url)\n",
    "    \n",
    "    WebDriverWait(driver, 60).until(\n",
    "        EC.presence_of_all_elements_located((By.TAG_NAME, 'a'))\n",
    "    )\n",
    "    \n",
    "    html = driver.page_source\n",
    "    driver.quit()\n",
    "    \n",
    "    soup = BeautifulSoup(html, 'html.parser')\n",
    "    links = soup.find_all('a', href=True)\n",
    "    raw_urls = []\n",
    "    for link in links:\n",
    "        if link['href'].startswith(\"https://www.moneycontrol.com/news/business/\"):\n",
    "            raw_urls.append(link['href'])\n",
    "    return list(set(raw_urls))\n",
    "    "
   ]
  },
  {
   "cell_type": "code",
   "execution_count": 3,
   "metadata": {
    "execution": {
     "iopub.execute_input": "2025-01-06T04:56:07.401263Z",
     "iopub.status.busy": "2025-01-06T04:56:07.401263Z",
     "iopub.status.idle": "2025-01-06T04:56:21.101104Z",
     "shell.execute_reply": "2025-01-06T04:56:21.101104Z"
    }
   },
   "outputs": [],
   "source": [
    "raw_urls = finding_raw_urls_from_base(\"https://www.moneycontrol.com/news/business/stocks/\")\n",
    "# raw_urls = finding_raw_urls_from_base(\"https://www.moneycontrol.com/news/business/stocks/page-2\")"
   ]
  },
  {
   "cell_type": "code",
   "execution_count": 4,
   "metadata": {
    "execution": {
     "iopub.execute_input": "2025-01-06T04:56:21.104896Z",
     "iopub.status.busy": "2025-01-06T04:56:21.104896Z",
     "iopub.status.idle": "2025-01-06T04:56:21.111758Z",
     "shell.execute_reply": "2025-01-06T04:56:21.111215Z"
    }
   },
   "outputs": [
    {
     "data": {
      "text/plain": [
       "['https://www.moneycontrol.com/news/business/',\n",
       " 'https://www.moneycontrol.com/news/business/stocks/brigade-enterprises-shares-in-focus-on-acquiring-20-acres-land-in-bengaluru-12903404.html',\n",
       " 'https://www.moneycontrol.com/news/business/stocks/agri-picks-report-january-06-2025-geojit-financial-services-12903861.html',\n",
       " 'https://www.moneycontrol.com/news/business/markets/hdfc-bank-gets-rbi-nod-to-purchase-9-5-stake-in-au-small-finance-bank-12903242.html',\n",
       " 'https://www.moneycontrol.com/news/business/mutual-funds/',\n",
       " 'https://www.moneycontrol.com/news/business/stocks/page-6/',\n",
       " 'https://www.moneycontrol.com/news/business/markets/stocks-to-watch-today-itc-hdfc-bank-bajaj-finance-au-sfb-nykaa-hg-infra-brigade-enterprises-ntpc-green-marico-bank-of-baroda-in-focus-on-6-january-12903688.html',\n",
       " 'https://www.moneycontrol.com/news/business/markets/bajaj-finance-q3-biz-update-aum-rises-28-records-highest-ever-quarterly-customer-additions-12903288.html',\n",
       " 'https://www.moneycontrol.com/news/business/stocks/page-7/',\n",
       " 'https://www.moneycontrol.com/news/business/stocks/',\n",
       " 'https://www.moneycontrol.com/news/business/stocks/page-4/',\n",
       " 'https://www.moneycontrol.com/news/business/markets/chartist-talks-sbi-securities-sudeep-shah-picks-these-2-stocks-for-january-12903479.html',\n",
       " 'https://www.moneycontrol.com/news/business/companies/',\n",
       " 'https://www.moneycontrol.com/news/business/stocks/these-50-smallcaps-gain-between-10-40-as-broader-indices-outperform-12903245.html',\n",
       " 'https://www.moneycontrol.com/news/business/personal-finance/health-insurance-cover-for-five-years-here-s-what-you-should-know-about-multi-year-plans-12900429.html',\n",
       " 'https://www.moneycontrol.com/news/business/ipo/',\n",
       " 'https://www.moneycontrol.com/news/business/ipo/anya-polytech-fertilizers-share-price-stock-lists-at-22pc-premium-over-ipo-price-on-nse-sme-12901858.html',\n",
       " 'https://www.moneycontrol.com/news/business/economy/',\n",
       " 'https://www.moneycontrol.com/news/business/commodities/',\n",
       " 'https://www.moneycontrol.com/news/business/stocks/nykaa-shares-rise-over-4-as-firm-sees-q3-net-revenue-growth-higher-than-mid-20s-12903910.html',\n",
       " 'https://www.moneycontrol.com/news/business/markets/momentum-picks-2025-brijesh-bhatia-recommends-one-sector-two-stocks-12903480.html',\n",
       " 'https://www.moneycontrol.com/news/business/stocks/page-8/',\n",
       " 'https://www.moneycontrol.com/news/business/markets/trade-spotlight-how-should-you-trade-tata-motors-marico-sanstar-shanthi-gears-fortis-healthcare-aavas-financiers-and-others-on-january-6-12903707.html',\n",
       " 'https://www.moneycontrol.com/news/business/markets/vedanta-s-q3-aluminium-output-rises-3-achieves-record-mined-metal-production-12903248.html',\n",
       " 'https://www.moneycontrol.com/news/business/stocks/page-3/',\n",
       " 'https://www.moneycontrol.com/news/business/union-budget-2025-expectations-live-news-updates-fm-nirmala-sitharaman-suggestions-january-6-liveblog-12903843.html',\n",
       " 'https://www.moneycontrol.com/news/business/stocks/page-2/',\n",
       " 'https://www.moneycontrol.com/news/business/stocks/ntpc-green-energy-shares-in-focus-on-winning-1000-mw-power-project-12903403.html',\n",
       " 'https://www.moneycontrol.com/news/business/stocks/page-30/',\n",
       " 'https://www.moneycontrol.com/news/business/markets/bajaj-finance-surges-over-2-top-nifty-gainer-on-strong-q3-update-bajaj-finserv-follows-suit-12903884.html',\n",
       " 'https://www.moneycontrol.com/news/business/banks/',\n",
       " 'https://www.moneycontrol.com/news/business/stocks/page-10/',\n",
       " 'https://www.moneycontrol.com/news/business/stocks/ntpc-renewable-energy-bags-1-000-mw-solar-power-project-12903522.html',\n",
       " 'https://www.moneycontrol.com/news/business/markets/',\n",
       " 'https://www.moneycontrol.com/news/business/markets/angel-one-shares-gain-nearly-5-on-strong-q3-update-12903911.html',\n",
       " 'https://www.moneycontrol.com/news/business/stocks/markets-in-2025-bears-versus-bulls-who-will-have-the-last-laugh-12903868.html',\n",
       " 'https://www.moneycontrol.com/news/business/companies',\n",
       " 'https://www.moneycontrol.com/news/business/real-estate/',\n",
       " 'https://www.moneycontrol.com/news/business/ipo/investors-hit-the-jackpot-in-2024-with-unlisted-companies-as-shares-see-huge-surge-12903840.html',\n",
       " 'https://www.moneycontrol.com/news/business/stocks/page-5/',\n",
       " 'https://www.moneycontrol.com/news/business/markets/stock-market-live-sensex-nifty-50-share-price-gift-nifty-latest-updates-06-01-2025-liveblog-12903784.html',\n",
       " 'https://www.moneycontrol.com/news/business/markets/first-tick-here-are-the-top-global-cues-for-today-s-trade-18-12903122.html',\n",
       " 'https://www.moneycontrol.com/news/business/stocks/page-9/',\n",
       " 'https://www.moneycontrol.com/news/business/markets/brokerages-positive-on-hdfc-bank-on-improving-ldr-deposit-growth-in-q3-update-12903813.html',\n",
       " 'https://www.moneycontrol.com/news/business/economy/manufacturing-pmi-slips-to-a-12-month-low-of-56-4-in-dec-12901901.html',\n",
       " 'https://www.moneycontrol.com/news/business/personal-finance/income-tax-filing/',\n",
       " 'https://www.moneycontrol.com/news/business/stocks/itc-demerger-to-improve-return-profile-for-the-existing-business-12903827.html',\n",
       " 'https://www.moneycontrol.com/news/business/moneycontrol-research/fmcg-q3-preview-steady-execution-to-drive-volumes-amid-sticky-high-inflation-12903842.html',\n",
       " 'https://www.moneycontrol.com/news/business/markets/kotak-bank-in-focus-as-cto-coo-milind-nagnur-resigns-nomura-maintains-buy-rating-12903848.html',\n",
       " 'https://www.moneycontrol.com/news/business/startup/',\n",
       " 'https://www.moneycontrol.com/news/business/personal-finance/']"
      ]
     },
     "execution_count": 4,
     "metadata": {},
     "output_type": "execute_result"
    }
   ],
   "source": [
    "raw_urls"
   ]
  },
  {
   "cell_type": "code",
   "execution_count": null,
   "metadata": {},
   "outputs": [],
   "source": []
  },
  {
   "cell_type": "code",
   "execution_count": 5,
   "metadata": {
    "execution": {
     "iopub.execute_input": "2025-01-06T04:56:21.181796Z",
     "iopub.status.busy": "2025-01-06T04:56:21.181796Z",
     "iopub.status.idle": "2025-01-06T04:56:21.186413Z",
     "shell.execute_reply": "2025-01-06T04:56:21.185837Z"
    }
   },
   "outputs": [],
   "source": [
    "stock_urls =[]\n",
    "market_urls = []\n",
    "next_page_urls = []\n",
    "other_urls = []\n",
    "ipo_urls = []\n",
    "def extract_urls(all_urls):\n",
    "    for link in raw_urls:\n",
    "        if link.startswith(\"https://www.moneycontrol.com/news/business/stocks/page\"):\n",
    "            next_page_urls.append(link)\n",
    "        elif link.startswith(\"https://www.moneycontrol.com/news/business/stocks/\"):\n",
    "            stock_urls.append(link)\n",
    "        elif link.startswith(\"https://www.moneycontrol.com/news/business/markets/\"):\n",
    "            market_urls.append(link)\n",
    "        elif link.startswith(\"https://www.moneycontrol.com/news/business/ipo/\"):\n",
    "            ipo_urls.append(link)\n",
    "        else:\n",
    "            other_urls.append(link)"
   ]
  },
  {
   "cell_type": "code",
   "execution_count": 6,
   "metadata": {
    "execution": {
     "iopub.execute_input": "2025-01-06T04:56:21.188733Z",
     "iopub.status.busy": "2025-01-06T04:56:21.188733Z",
     "iopub.status.idle": "2025-01-06T04:56:21.191931Z",
     "shell.execute_reply": "2025-01-06T04:56:21.191931Z"
    }
   },
   "outputs": [],
   "source": [
    "extract_urls(raw_urls)"
   ]
  },
  {
   "cell_type": "code",
   "execution_count": 7,
   "metadata": {
    "execution": {
     "iopub.execute_input": "2025-01-06T04:56:21.195198Z",
     "iopub.status.busy": "2025-01-06T04:56:21.195198Z",
     "iopub.status.idle": "2025-01-06T04:56:21.201483Z",
     "shell.execute_reply": "2025-01-06T04:56:21.200977Z"
    }
   },
   "outputs": [
    {
     "data": {
      "text/plain": [
       "['https://www.moneycontrol.com/news/business/stocks/brigade-enterprises-shares-in-focus-on-acquiring-20-acres-land-in-bengaluru-12903404.html',\n",
       " 'https://www.moneycontrol.com/news/business/stocks/agri-picks-report-january-06-2025-geojit-financial-services-12903861.html',\n",
       " 'https://www.moneycontrol.com/news/business/stocks/',\n",
       " 'https://www.moneycontrol.com/news/business/stocks/these-50-smallcaps-gain-between-10-40-as-broader-indices-outperform-12903245.html',\n",
       " 'https://www.moneycontrol.com/news/business/stocks/nykaa-shares-rise-over-4-as-firm-sees-q3-net-revenue-growth-higher-than-mid-20s-12903910.html',\n",
       " 'https://www.moneycontrol.com/news/business/stocks/ntpc-green-energy-shares-in-focus-on-winning-1000-mw-power-project-12903403.html',\n",
       " 'https://www.moneycontrol.com/news/business/stocks/ntpc-renewable-energy-bags-1-000-mw-solar-power-project-12903522.html',\n",
       " 'https://www.moneycontrol.com/news/business/stocks/markets-in-2025-bears-versus-bulls-who-will-have-the-last-laugh-12903868.html',\n",
       " 'https://www.moneycontrol.com/news/business/stocks/itc-demerger-to-improve-return-profile-for-the-existing-business-12903827.html']"
      ]
     },
     "execution_count": 7,
     "metadata": {},
     "output_type": "execute_result"
    }
   ],
   "source": [
    "stock_urls"
   ]
  },
  {
   "cell_type": "code",
   "execution_count": 8,
   "metadata": {
    "execution": {
     "iopub.execute_input": "2025-01-06T04:56:21.203494Z",
     "iopub.status.busy": "2025-01-06T04:56:21.203494Z",
     "iopub.status.idle": "2025-01-06T04:56:21.207309Z",
     "shell.execute_reply": "2025-01-06T04:56:21.207309Z"
    }
   },
   "outputs": [],
   "source": [
    "\n",
    "regex = r'https:\\/\\/www\\.moneycontrol\\.com\\/news\\/business\\/stocks\\/[^\\/\\s]+(?:\\.[a-z]{2,6})(?:[\\/\\?].*)?'\n",
    "\n",
    "final_stocks_urls = [url for url in stock_urls if re.match(regex, url)]"
   ]
  },
  {
   "cell_type": "code",
   "execution_count": 9,
   "metadata": {
    "execution": {
     "iopub.execute_input": "2025-01-06T04:56:21.211328Z",
     "iopub.status.busy": "2025-01-06T04:56:21.210333Z",
     "iopub.status.idle": "2025-01-06T04:56:21.215102Z",
     "shell.execute_reply": "2025-01-06T04:56:21.214594Z"
    }
   },
   "outputs": [
    {
     "data": {
      "text/plain": [
       "['https://www.moneycontrol.com/news/business/stocks/brigade-enterprises-shares-in-focus-on-acquiring-20-acres-land-in-bengaluru-12903404.html',\n",
       " 'https://www.moneycontrol.com/news/business/stocks/agri-picks-report-january-06-2025-geojit-financial-services-12903861.html',\n",
       " 'https://www.moneycontrol.com/news/business/stocks/these-50-smallcaps-gain-between-10-40-as-broader-indices-outperform-12903245.html',\n",
       " 'https://www.moneycontrol.com/news/business/stocks/nykaa-shares-rise-over-4-as-firm-sees-q3-net-revenue-growth-higher-than-mid-20s-12903910.html',\n",
       " 'https://www.moneycontrol.com/news/business/stocks/ntpc-green-energy-shares-in-focus-on-winning-1000-mw-power-project-12903403.html',\n",
       " 'https://www.moneycontrol.com/news/business/stocks/ntpc-renewable-energy-bags-1-000-mw-solar-power-project-12903522.html',\n",
       " 'https://www.moneycontrol.com/news/business/stocks/markets-in-2025-bears-versus-bulls-who-will-have-the-last-laugh-12903868.html',\n",
       " 'https://www.moneycontrol.com/news/business/stocks/itc-demerger-to-improve-return-profile-for-the-existing-business-12903827.html']"
      ]
     },
     "execution_count": 9,
     "metadata": {},
     "output_type": "execute_result"
    }
   ],
   "source": [
    "final_stocks_urls"
   ]
  },
  {
   "cell_type": "code",
   "execution_count": 10,
   "metadata": {
    "execution": {
     "iopub.execute_input": "2025-01-06T04:56:21.217108Z",
     "iopub.status.busy": "2025-01-06T04:56:21.217108Z",
     "iopub.status.idle": "2025-01-06T04:56:21.313572Z",
     "shell.execute_reply": "2025-01-06T04:56:21.311047Z"
    }
   },
   "outputs": [],
   "source": [
    "myclient = pymongo.MongoClient(\"mongodb://localhost:27017/\")\n",
    "mydb = myclient[\"new_db\"]\n",
    "mycol = mydb['raw_news']"
   ]
  },
  {
   "cell_type": "code",
   "execution_count": 11,
   "metadata": {
    "execution": {
     "iopub.execute_input": "2025-01-06T04:56:21.316422Z",
     "iopub.status.busy": "2025-01-06T04:56:21.316422Z",
     "iopub.status.idle": "2025-01-06T04:56:22.910341Z",
     "shell.execute_reply": "2025-01-06T04:56:22.908449Z"
    }
   },
   "outputs": [],
   "source": [
    "service = Service(\"./chromedriver/chromedriver.exe\")\n",
    "options = Options()\n",
    "options.add_argument(\"--headless\")\n",
    "options.add_argument(\"--disable-gpu\")\n",
    "options.add_argument(\"user-agent=Mozilla/5.0 (Windows NT 10.0; Win64; x64) AppleWebKit/537.36 (KHTML, like Gecko) Chrome/114.0.5735.199 Safari/537.36\")\n",
    "\n",
    "driver = webdriver.Chrome(service=service, options= options)"
   ]
  },
  {
   "cell_type": "code",
   "execution_count": 12,
   "metadata": {
    "execution": {
     "iopub.execute_input": "2025-01-06T04:56:22.918147Z",
     "iopub.status.busy": "2025-01-06T04:56:22.918147Z",
     "iopub.status.idle": "2025-01-06T04:56:22.934895Z",
     "shell.execute_reply": "2025-01-06T04:56:22.933880Z"
    }
   },
   "outputs": [],
   "source": [
    "def extract_data(url):  \n",
    "    driver.get(url)\n",
    "    \n",
    "    WebDriverWait(driver, 60).until(\n",
    "        lambda d: d.execute_script(\"return document.readyState\") == \"complete\"\n",
    "    )\n",
    "    \n",
    "    html = driver.page_source\n",
    "    soup = BeautifulSoup(html, 'html.parser')    \n",
    "    news = {}\n",
    "    \n",
    "    title = soup.find('h1', class_ = \"article_title\")\n",
    "    news.update({\"title\":f\"{title.text.strip()}\"})\n",
    "    \n",
    "    desc = soup.find('h2', class_ = 'article_desc')\n",
    "    news.update({\"desc\":f\"{desc.text.strip()}\"})\n",
    "    \n",
    "    date_time_div = soup.find('div', class_=\"article_schedule\")\n",
    "    if date_time_div:\n",
    "        span_tag = date_time_div.find('span')\n",
    "        date = span_tag.text.strip()\n",
    "        news.update({\"date\":f\"{date}\"})\n",
    "    \n",
    "    datetime = date_time_div.text.strip()\n",
    "    news.update({\"datetime\":f\"{datetime}\"})\n",
    "    \n",
    "    paragraphs_list = []\n",
    "    paragrphs_div = soup.find('div', class_ =\"content_wrapper\")\n",
    "    if paragrphs_div:\n",
    "        paragraph_tags = paragrphs_div.find_all('p')\n",
    "        for p in paragraph_tags:\n",
    "            para_text = p.text.strip()            \n",
    "            if len(para_text) < 50 :\n",
    "                continue            \n",
    "            if re.search(r\"(click\\s+here|disclaimer|modal|window|advertisement|investment\\s+tips)\", para_text, re.IGNORECASE):\n",
    "                continue            \n",
    "            paragraphs_list.append(para_text)         \n",
    "            \n",
    "    news.update({\"content\": paragraphs_list})\n",
    "    \n",
    "    stock_name = soup.find('a', class_=\"stock-name\")\n",
    "    if stock_name:\n",
    "        news.update({\"stock_name\":f\"{stock_name.text.strip()}\"})\n",
    "            \n",
    "    # driver.quit()   \n",
    "    return news"
   ]
  },
  {
   "cell_type": "code",
   "execution_count": 13,
   "metadata": {
    "execution": {
     "iopub.execute_input": "2025-01-06T04:56:22.945893Z",
     "iopub.status.busy": "2025-01-06T04:56:22.943420Z",
     "iopub.status.idle": "2025-01-06T04:58:23.671457Z",
     "shell.execute_reply": "2025-01-06T04:58:23.671457Z"
    }
   },
   "outputs": [
    {
     "name": "stdout",
     "output_type": "stream",
     "text": [
      "677b62919229c97949479ea0\n"
     ]
    },
    {
     "name": "stdout",
     "output_type": "stream",
     "text": [
      "677b62b69229c97949479ea1\n"
     ]
    },
    {
     "name": "stdout",
     "output_type": "stream",
     "text": [
      "677b62bc9229c97949479ea2\n"
     ]
    },
    {
     "name": "stdout",
     "output_type": "stream",
     "text": [
      "677b62c29229c97949479ea3\n"
     ]
    },
    {
     "name": "stdout",
     "output_type": "stream",
     "text": [
      "677b62c79229c97949479ea4\n"
     ]
    },
    {
     "name": "stdout",
     "output_type": "stream",
     "text": [
      "677b62ea9229c97949479ea5\n"
     ]
    },
    {
     "name": "stdout",
     "output_type": "stream",
     "text": [
      "677b62ec9229c97949479ea6\n"
     ]
    },
    {
     "name": "stdout",
     "output_type": "stream",
     "text": [
      "677b62ef9229c97949479ea7\n"
     ]
    }
   ],
   "source": [
    "for url in final_stocks_urls :\n",
    "    data = extract_data(url)\n",
    "    x = mycol.insert_one(data)\n",
    "    print(x.inserted_id)"
   ]
  },
  {
   "cell_type": "code",
   "execution_count": 14,
   "metadata": {
    "execution": {
     "iopub.execute_input": "2025-01-06T04:58:23.674481Z",
     "iopub.status.busy": "2025-01-06T04:58:23.674481Z",
     "iopub.status.idle": "2025-01-06T04:58:26.173304Z",
     "shell.execute_reply": "2025-01-06T04:58:26.170339Z"
    }
   },
   "outputs": [],
   "source": [
    "driver.quit()   "
   ]
  },
  {
   "cell_type": "code",
   "execution_count": null,
   "metadata": {},
   "outputs": [],
   "source": []
  }
 ],
 "metadata": {
  "kernelspec": {
   "display_name": "Python 3",
   "language": "python",
   "name": "python3"
  },
  "language_info": {
   "codemirror_mode": {
    "name": "ipython",
    "version": 3
   },
   "file_extension": ".py",
   "mimetype": "text/x-python",
   "name": "python",
   "nbconvert_exporter": "python",
   "pygments_lexer": "ipython3",
   "version": "3.12.3"
  }
 },
 "nbformat": 4,
 "nbformat_minor": 2
}
