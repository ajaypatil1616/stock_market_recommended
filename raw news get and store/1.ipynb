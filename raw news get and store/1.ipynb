{
 "cells": [
  {
   "cell_type": "code",
   "execution_count": 346,
   "metadata": {},
   "outputs": [],
   "source": [
    "from selenium import webdriver\n",
    "from selenium.webdriver.chrome.service import Service\n",
    "from selenium.webdriver.chrome.options import Options\n",
    "from selenium.webdriver.common.by import By\n",
    "from selenium.webdriver.support.ui import WebDriverWait\n",
    "from selenium.webdriver.support import expected_conditions as EC\n",
    "from bs4 import BeautifulSoup\n",
    "import re\n",
    "import pymongo"
   ]
  },
  {
   "cell_type": "code",
   "execution_count": 347,
   "metadata": {},
   "outputs": [],
   "source": [
    "def finding_raw_urls_from_base(url):\n",
    "    service = Service(\"./chromedriver/chromedriver.exe\")\n",
    "    options = Options()\n",
    "    options.add_argument(\"--headless\")\n",
    "    options.add_argument(\"--disable-gpu\")\n",
    "    options.add_argument(\"user-agent=Mozilla/5.0 (Windows NT 10.0; Win64; x64) AppleWebKit/537.36 (KHTML, like Gecko) Chrome/91.0.4472.124 Safari/537.36\")\n",
    "    \n",
    "    driver = webdriver.Chrome(service=service, options=options)\n",
    "    driver.get(url)\n",
    "    \n",
    "    WebDriverWait(driver, 60).until(\n",
    "        EC.presence_of_all_elements_located((By.TAG_NAME, 'a'))\n",
    "    )\n",
    "    \n",
    "    html = driver.page_source\n",
    "    driver.quit()\n",
    "    \n",
    "    soup = BeautifulSoup(html, 'html.parser')\n",
    "    links = soup.find_all('a', href=True)\n",
    "    raw_urls = []\n",
    "    for link in links:\n",
    "        if link['href'].startswith(\"https://www.moneycontrol.com/news/business/\"):\n",
    "            raw_urls.append(link['href'])\n",
    "    return list(set(raw_urls))\n",
    "    "
   ]
  },
  {
   "cell_type": "code",
   "execution_count": 348,
   "metadata": {},
   "outputs": [],
   "source": [
    "# raw_urls = finding_raw_urls_from_base(\"https://www.moneycontrol.com/news/business/stocks/\")\n",
    "raw_urls = finding_raw_urls_from_base(\"https://www.moneycontrol.com/news/business/stocks/page-12\")"
   ]
  },
  {
   "cell_type": "code",
   "execution_count": 349,
   "metadata": {},
   "outputs": [
    {
     "data": {
      "text/plain": [
       "['https://www.moneycontrol.com/news/business/markets/taking-stock-friday-blockbuster-sensex-nifty-recover-more-than-2-from-day-s-low-12889373.html',\n",
       " 'https://www.moneycontrol.com/news/business/stocks/page-8/',\n",
       " 'https://www.moneycontrol.com/news/business/markets/stock-market-live-sensex-nifty-50-share-price-gift-nifty-latest-updates-27-12-2024-liveblog-12898541.html',\n",
       " 'https://www.moneycontrol.com/news/business/markets/indian-oil-shares-rise-3-as-jefferies-upgrades-to-buy-sees-31-upside-12889085.html',\n",
       " 'https://www.moneycontrol.com/news/business/markets/bharti-airtel-stock-surges-4-biggest-jump-in-7-weeks-12889278.html',\n",
       " 'https://www.moneycontrol.com/news/business/stocks/page-10/',\n",
       " 'https://www.moneycontrol.com/news/business/',\n",
       " 'https://www.moneycontrol.com/news/business/stocks/page-15/',\n",
       " 'https://www.moneycontrol.com/news/business/companies/',\n",
       " 'https://www.moneycontrol.com/news/business/markets/india-s-stock-market-growth-is-a-testament-to-investor-trust-in-indian-businesses-ashishkumar-chauhan-12889484.html',\n",
       " 'https://www.moneycontrol.com/news/business/stocks/subscribe-for-international-gemmological-institute-india-ltd-ipo-anand-rathi-12889293.html',\n",
       " 'https://www.moneycontrol.com/news/business/markets/jefferies-predicts-nifty-to-hit-26-600-by-2025-end-unveils-top-stock-picks-12889223.html',\n",
       " 'https://www.moneycontrol.com/news/business/stocks/broader-indices-underperform-but-these-smallcaps-gain-between-10-37-12889827.html',\n",
       " 'https://www.moneycontrol.com/news/business/ipo/mamata-machinery-stock-price-share-lists-at-147pc-premium-over-ipo-price-on-nse-12898591.html',\n",
       " 'https://www.moneycontrol.com/news/business/stocks/page-16/',\n",
       " 'https://www.moneycontrol.com/news/business/real-estate/',\n",
       " 'https://www.moneycontrol.com/news/business/stocks/page-14/',\n",
       " 'https://www.moneycontrol.com/news/business/markets/bajel-projects-stock-zooms-10-after-order-win-from-solapur-transmission-12889148.html',\n",
       " 'https://www.moneycontrol.com/news/business/startup/',\n",
       " 'https://www.moneycontrol.com/news/business/markets/tata-motors-shares-fall-for-third-straight-day-after-commercial-vehicle-price-hike-12889102.html',\n",
       " 'https://www.moneycontrol.com/news/business/stocks/page-7/',\n",
       " 'https://www.moneycontrol.com/news/business/stocks/buy-polycab-india-target-of-rs-8741-prabhudas-lilladher-12889399.html',\n",
       " 'https://www.moneycontrol.com/news/business/stocks/page-13/',\n",
       " 'https://www.moneycontrol.com/news/business/stocks/weekly-tactical-pick-why-this-niche-fmcg-stock-merits-attention-post-correction-12889091.html',\n",
       " 'https://www.moneycontrol.com/news/business/markets/quick-commerce-heats-up-can-zomato-s-blinkit-sustain-its-leadership-12889326.html',\n",
       " 'https://www.moneycontrol.com/news/business/ipo/',\n",
       " 'https://www.moneycontrol.com/news/business/markets/us-stocks-close-flat-as-nasdaq-extends-weekly-gains-s-p-500-and-dow-dip-12889825.html',\n",
       " 'https://www.moneycontrol.com/news/business/stocks/buy-bajaj-finserv-target-of-rs-2350-sharekhan-2-12889213.html',\n",
       " 'https://www.moneycontrol.com/news/business/ipo/dam-capital-ipo-listing-bonanza-shares-debut-at-robust-39-premium-on-bse-and-nse-12898673.html',\n",
       " 'https://www.moneycontrol.com/news/business/earnings/home-first-finance-scalability-with-profitability-led-by-solid-execution-12889092.html',\n",
       " 'https://www.moneycontrol.com/news/business/personal-finance/',\n",
       " 'https://www.moneycontrol.com/news/business/markets/',\n",
       " 'https://www.moneycontrol.com/news/business/ipo/mamata-machinery-share-price-live-mamata-machinery-ipo-listing-transarail-stock-price-today-december-27-liveblog-12898536.html',\n",
       " 'https://www.moneycontrol.com/news/business/ipo/unimech-aerospace-ipo-allotment-status-how-to-check-details-online-via-kfin-tech-nse-bse-check-latest-gmp-12898263.html',\n",
       " 'https://www.moneycontrol.com/news/business/stocks/page-17/',\n",
       " 'https://www.moneycontrol.com/news/business/markets/consumption-stocks-crowd-pessimism-list-in-november-asian-paints-titan-britannia-among-top-ten-12889445.html',\n",
       " 'https://www.moneycontrol.com/news/business/ipo/transrail-lighting-ipo-listing-bonanza-shares-debut-at-robust-37-premium-on-bse-and-nse-12898679.html',\n",
       " 'https://www.moneycontrol.com/news/business/markets/astra-microwave-products-stock-gains-6-after-jv-secures-rs-259-cr-defence-order-12889416.html',\n",
       " 'https://www.moneycontrol.com/news/business/stocks/buy-persistent-systems-target-of-rs-7280-sharekhan-12889262.html',\n",
       " 'https://www.moneycontrol.com/news/business/markets/metal-stocks-under-pressure-jsw-steel-tata-steel-nmdc-sail-drop-3-5-12889090.html',\n",
       " 'https://www.moneycontrol.com/news/business/stocks/page-11/',\n",
       " 'https://www.moneycontrol.com/news/business/commodities/',\n",
       " 'https://www.moneycontrol.com/news/business/stocks/page-9/',\n",
       " 'https://www.moneycontrol.com/news/business/stocks/page-30/',\n",
       " 'https://www.moneycontrol.com/news/business/economy/',\n",
       " 'https://www.moneycontrol.com/news/business/mutual-funds/',\n",
       " 'https://www.moneycontrol.com/news/business/stocks/',\n",
       " 'https://www.moneycontrol.com/news/business/markets/waaree-energies-stock-snaps-7-day-winning-run-drops-4-as-profit-booking-kicks-in-12889172.html',\n",
       " 'https://www.moneycontrol.com/news/business/personal-finance/income-tax-filing/',\n",
       " 'https://www.moneycontrol.com/news/business/ipo/dam-capital-advisors-share-price-live-dam-capital-ipo-listing-concord-enviro-sanathan-textiles-stock-price-today-december-27-liveblog-12898539.html',\n",
       " 'https://www.moneycontrol.com/news/business/banks/',\n",
       " 'https://www.moneycontrol.com/news/business/stocks/page-12/',\n",
       " 'https://www.moneycontrol.com/news/business/markets/mc-exclusive-expiry-day-volatility-sebi-s-ananth-narayan-says-watching-if-more-steps-need-to-be-taken-12889598.html',\n",
       " 'https://www.moneycontrol.com/news/business/companies']"
      ]
     },
     "execution_count": 349,
     "metadata": {},
     "output_type": "execute_result"
    }
   ],
   "source": [
    "raw_urls"
   ]
  },
  {
   "cell_type": "code",
   "execution_count": 350,
   "metadata": {},
   "outputs": [],
   "source": [
    "stock_urls =[]\n",
    "market_urls = []\n",
    "next_page_urls = []\n",
    "other_urls = []\n",
    "ipo_urls = []\n",
    "def extract_urls(all_urls):\n",
    "    for link in raw_urls:\n",
    "        if link.startswith(\"https://www.moneycontrol.com/news/business/stocks/page\"):\n",
    "            next_page_urls.append(link)\n",
    "        elif link.startswith(\"https://www.moneycontrol.com/news/business/stocks/\"):\n",
    "            stock_urls.append(link)\n",
    "        elif link.startswith(\"https://www.moneycontrol.com/news/business/markets/\"):\n",
    "            market_urls.append(link)\n",
    "        elif link.startswith(\"https://www.moneycontrol.com/news/business/ipo/\"):\n",
    "            ipo_urls.append(link)\n",
    "        else:\n",
    "            other_urls.append(link)"
   ]
  },
  {
   "cell_type": "code",
   "execution_count": 351,
   "metadata": {},
   "outputs": [],
   "source": [
    "extract_urls(raw_urls)"
   ]
  },
  {
   "cell_type": "code",
   "execution_count": 352,
   "metadata": {},
   "outputs": [
    {
     "data": {
      "text/plain": [
       "['https://www.moneycontrol.com/news/business/stocks/subscribe-for-international-gemmological-institute-india-ltd-ipo-anand-rathi-12889293.html',\n",
       " 'https://www.moneycontrol.com/news/business/stocks/broader-indices-underperform-but-these-smallcaps-gain-between-10-37-12889827.html',\n",
       " 'https://www.moneycontrol.com/news/business/stocks/buy-polycab-india-target-of-rs-8741-prabhudas-lilladher-12889399.html',\n",
       " 'https://www.moneycontrol.com/news/business/stocks/weekly-tactical-pick-why-this-niche-fmcg-stock-merits-attention-post-correction-12889091.html',\n",
       " 'https://www.moneycontrol.com/news/business/stocks/buy-bajaj-finserv-target-of-rs-2350-sharekhan-2-12889213.html',\n",
       " 'https://www.moneycontrol.com/news/business/stocks/buy-persistent-systems-target-of-rs-7280-sharekhan-12889262.html',\n",
       " 'https://www.moneycontrol.com/news/business/stocks/']"
      ]
     },
     "execution_count": 352,
     "metadata": {},
     "output_type": "execute_result"
    }
   ],
   "source": [
    "stock_urls"
   ]
  },
  {
   "cell_type": "code",
   "execution_count": 353,
   "metadata": {},
   "outputs": [],
   "source": [
    "\n",
    "regex = r'https:\\/\\/www\\.moneycontrol\\.com\\/news\\/business\\/stocks\\/[^\\/\\s]+(?:\\.[a-z]{2,6})(?:[\\/\\?].*)?'\n",
    "\n",
    "final_stocks_urls = [url for url in stock_urls if re.match(regex, url)]"
   ]
  },
  {
   "cell_type": "code",
   "execution_count": 354,
   "metadata": {},
   "outputs": [
    {
     "data": {
      "text/plain": [
       "['https://www.moneycontrol.com/news/business/stocks/subscribe-for-international-gemmological-institute-india-ltd-ipo-anand-rathi-12889293.html',\n",
       " 'https://www.moneycontrol.com/news/business/stocks/broader-indices-underperform-but-these-smallcaps-gain-between-10-37-12889827.html',\n",
       " 'https://www.moneycontrol.com/news/business/stocks/buy-polycab-india-target-of-rs-8741-prabhudas-lilladher-12889399.html',\n",
       " 'https://www.moneycontrol.com/news/business/stocks/weekly-tactical-pick-why-this-niche-fmcg-stock-merits-attention-post-correction-12889091.html',\n",
       " 'https://www.moneycontrol.com/news/business/stocks/buy-bajaj-finserv-target-of-rs-2350-sharekhan-2-12889213.html',\n",
       " 'https://www.moneycontrol.com/news/business/stocks/buy-persistent-systems-target-of-rs-7280-sharekhan-12889262.html']"
      ]
     },
     "execution_count": 354,
     "metadata": {},
     "output_type": "execute_result"
    }
   ],
   "source": [
    "final_stocks_urls"
   ]
  },
  {
   "cell_type": "code",
   "execution_count": 355,
   "metadata": {},
   "outputs": [],
   "source": [
    "myclient = pymongo.MongoClient(\"mongodb://localhost:27017/\")\n",
    "mydb = myclient[\"new_db\"]\n",
    "mycol = mydb['raw_news']"
   ]
  },
  {
   "cell_type": "code",
   "execution_count": 356,
   "metadata": {},
   "outputs": [],
   "source": [
    "service = Service(\"./chromedriver/chromedriver.exe\")\n",
    "options = Options()\n",
    "options.add_argument(\"--headless\")\n",
    "options.add_argument(\"--disable-gpu\")\n",
    "options.add_argument(\"user-agent=Mozilla/5.0 (Windows NT 10.0; Win64; x64) AppleWebKit/537.36 (KHTML, like Gecko) Chrome/114.0.5735.199 Safari/537.36\")\n",
    "\n",
    "driver = webdriver.Chrome(service=service, options= options)"
   ]
  },
  {
   "cell_type": "code",
   "execution_count": 357,
   "metadata": {},
   "outputs": [],
   "source": [
    "def extract_data(url):  \n",
    "    driver.get(url)\n",
    "    \n",
    "    WebDriverWait(driver, 60).until(\n",
    "        lambda d: d.execute_script(\"return document.readyState\") == \"complete\"\n",
    "    )\n",
    "    \n",
    "    html = driver.page_source\n",
    "    soup = BeautifulSoup(html, 'html.parser')    \n",
    "    news = {}\n",
    "    \n",
    "    title = soup.find('h1', class_ = \"article_title\")\n",
    "    news.update({\"title\":f\"{title.text.strip()}\"})\n",
    "    \n",
    "    desc = soup.find('h2', class_ = 'article_desc')\n",
    "    news.update({\"desc\":f\"{desc.text.strip()}\"})\n",
    "    \n",
    "    date_time_div = soup.find('div', class_=\"article_schedule\")\n",
    "    if date_time_div:\n",
    "        span_tag = date_time_div.find('span')\n",
    "        date = span_tag.text.strip()\n",
    "        news.update({\"date\":f\"{date}\"})\n",
    "    \n",
    "    datetime = date_time_div.text.strip()\n",
    "    news.update({\"datetime\":f\"{datetime}\"})\n",
    "    \n",
    "    paragraphs_list = []\n",
    "    paragrphs_div = soup.find('div', class_ =\"content_wrapper\")\n",
    "    if paragrphs_div:\n",
    "        paragraph_tags = paragrphs_div.find_all('p')\n",
    "        for p in paragraph_tags:\n",
    "            para_text = p.text.strip()            \n",
    "            if len(para_text) < 50 :\n",
    "                continue            \n",
    "            if re.search(r\"(click\\s+here|disclaimer|modal|window|advertisement|investment\\s+tips)\", para_text, re.IGNORECASE):\n",
    "                continue            \n",
    "            paragraphs_list.append(para_text)         \n",
    "            \n",
    "    news.update({\"content\": paragraphs_list})\n",
    "            \n",
    "    # driver.quit()   \n",
    "    return news"
   ]
  },
  {
   "cell_type": "code",
   "execution_count": 358,
   "metadata": {},
   "outputs": [
    {
     "name": "stdout",
     "output_type": "stream",
     "text": [
      "676ea06249f67e6ab04c1f2e\n",
      "676ea06a49f67e6ab04c1f2f\n",
      "676ea06f49f67e6ab04c1f30\n",
      "676ea07349f67e6ab04c1f31\n"
     ]
    }
   ],
   "source": [
    "for url in final_stocks_urls :\n",
    "    data = extract_data(url)\n",
    "    x = mycol.insert_one(data)\n",
    "    print(x.inserted_id)"
   ]
  },
  {
   "cell_type": "code",
   "execution_count": 345,
   "metadata": {},
   "outputs": [],
   "source": [
    "driver.quit()   "
   ]
  }
 ],
 "metadata": {
  "kernelspec": {
   "display_name": "Python 3",
   "language": "python",
   "name": "python3"
  },
  "language_info": {
   "codemirror_mode": {
    "name": "ipython",
    "version": 3
   },
   "file_extension": ".py",
   "mimetype": "text/x-python",
   "name": "python",
   "nbconvert_exporter": "python",
   "pygments_lexer": "ipython3",
   "version": "3.12.3"
  }
 },
 "nbformat": 4,
 "nbformat_minor": 2
}
