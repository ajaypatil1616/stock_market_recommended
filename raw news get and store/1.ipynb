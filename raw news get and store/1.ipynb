{
 "cells": [
  {
   "cell_type": "code",
   "execution_count": 1,
   "metadata": {
    "execution": {
     "iopub.execute_input": "2025-01-07T05:11:40.488723Z",
     "iopub.status.busy": "2025-01-07T05:11:40.486701Z",
     "iopub.status.idle": "2025-01-07T05:11:41.164976Z",
     "shell.execute_reply": "2025-01-07T05:11:41.164466Z"
    }
   },
   "outputs": [],
   "source": [
    "from selenium import webdriver\n",
    "from selenium.webdriver.chrome.service import Service\n",
    "from selenium.webdriver.chrome.options import Options\n",
    "from selenium.webdriver.common.by import By\n",
    "from selenium.webdriver.support.ui import WebDriverWait\n",
    "from selenium.webdriver.support import expected_conditions as EC\n",
    "from bs4 import BeautifulSoup\n",
    "import re\n",
    "import pymongo"
   ]
  },
  {
   "cell_type": "code",
   "execution_count": 2,
   "metadata": {
    "execution": {
     "iopub.execute_input": "2025-01-07T05:11:41.169024Z",
     "iopub.status.busy": "2025-01-07T05:11:41.169024Z",
     "iopub.status.idle": "2025-01-07T05:11:41.173570Z",
     "shell.execute_reply": "2025-01-07T05:11:41.173402Z"
    }
   },
   "outputs": [],
   "source": [
    "def finding_raw_urls_from_base(url):\n",
    "    service = Service(\"./chromedriver/chromedriver.exe\")\n",
    "    options = Options()\n",
    "    options.add_argument(\"--headless\")\n",
    "    options.add_argument(\"--disable-gpu\")\n",
    "    options.add_argument(\"user-agent=Mozilla/5.0 (Windows NT 10.0; Win64; x64) AppleWebKit/537.36 (KHTML, like Gecko) Chrome/91.0.4472.124 Safari/537.36\")\n",
    "    \n",
    "    driver = webdriver.Chrome(service=service, options=options)\n",
    "    driver.get(url)\n",
    "    \n",
    "    WebDriverWait(driver, 60).until(\n",
    "        EC.presence_of_all_elements_located((By.TAG_NAME, 'a'))\n",
    "    )\n",
    "    \n",
    "    html = driver.page_source\n",
    "    driver.quit()\n",
    "    \n",
    "    soup = BeautifulSoup(html, 'html.parser')\n",
    "    links = soup.find_all('a', href=True)\n",
    "    raw_urls = []\n",
    "    for link in links:\n",
    "        if link['href'].startswith(\"https://www.moneycontrol.com/news/business/\"):\n",
    "            raw_urls.append(link['href'])\n",
    "    return list(set(raw_urls))\n",
    "    "
   ]
  },
  {
   "cell_type": "code",
   "execution_count": 3,
   "metadata": {
    "execution": {
     "iopub.execute_input": "2025-01-07T05:11:41.175575Z",
     "iopub.status.busy": "2025-01-07T05:11:41.175575Z",
     "iopub.status.idle": "2025-01-07T05:11:58.245163Z",
     "shell.execute_reply": "2025-01-07T05:11:58.244147Z"
    }
   },
   "outputs": [],
   "source": [
    "# raw_urls = finding_raw_urls_from_base(\"https://www.moneycontrol.com/news/business/stocks/\")\n",
    "raw_urls = finding_raw_urls_from_base(\"https://www.moneycontrol.com/news/business/stocks/page-3\")"
   ]
  },
  {
   "cell_type": "code",
   "execution_count": 4,
   "metadata": {
    "execution": {
     "iopub.execute_input": "2025-01-07T05:11:58.252157Z",
     "iopub.status.busy": "2025-01-07T05:11:58.251157Z",
     "iopub.status.idle": "2025-01-07T05:11:58.264121Z",
     "shell.execute_reply": "2025-01-07T05:11:58.263076Z"
    }
   },
   "outputs": [
    {
     "data": {
      "text/plain": [
       "['https://www.moneycontrol.com/news/business/stocks/page-2/',\n",
       " 'https://www.moneycontrol.com/news/business/markets/chartist-talks-sbi-securities-sudeep-shah-picks-these-2-stocks-for-january-12903479.html',\n",
       " 'https://www.moneycontrol.com/news/business/companies',\n",
       " 'https://www.moneycontrol.com/news/business/mutual-funds/',\n",
       " 'https://www.moneycontrol.com/news/business/ipo/standard-glass-lining-ipo-sails-through-within-20-minutes-on-day-1-gmp-surges-to-nearly-70-12903966.html',\n",
       " 'https://www.moneycontrol.com/news/business/markets/jm-financial-gets-a-sebi-administrative-warning-for-non-compliance-during-western-carrier-ipo-12902755.html',\n",
       " 'https://www.moneycontrol.com/news/business/stocks/page-30/',\n",
       " 'https://www.moneycontrol.com/news/business/markets/bajaj-finance-q3-biz-update-aum-rises-28-records-highest-ever-quarterly-customer-additions-12903288.html',\n",
       " 'https://www.moneycontrol.com/news/business/markets/nishant-pitti-says-easy-trip-planners-share-sale-for-personal-reasons-no-plan-to-sell-further-stake-12902971.html',\n",
       " 'https://www.moneycontrol.com/news/business/ipo/',\n",
       " 'https://www.moneycontrol.com/news/business/ipo/indo-farm-equipment-share-price-live-standard-glass-lining-ipo-gmp-business-news-january-7-liveblog-12904612.html',\n",
       " 'https://www.moneycontrol.com/news/business/markets/citi-maintains-bullish-outlook-on-indraprastha-gas-as-subsidiary-maharashtra-natural-gas-prepares-to-list-12904625.html',\n",
       " 'https://www.moneycontrol.com/news/business/stocks/buy-radico-khaitan-target-of-rs-2996-sharekhan-12902869.html',\n",
       " 'https://www.moneycontrol.com/news/business/markets/marico-beats-slowdown-blues-with-steady-rural-demand-stable-urban-sentiment-in-q3fy25-12903008.html',\n",
       " 'https://www.moneycontrol.com/news/business/markets/vedanta-s-q3-aluminium-output-rises-3-achieves-record-mined-metal-production-12903248.html',\n",
       " 'https://www.moneycontrol.com/news/business/markets/first-tick-here-are-the-top-global-cues-for-today-s-trade-18-12903122.html',\n",
       " 'https://www.moneycontrol.com/news/business/markets/',\n",
       " 'https://www.moneycontrol.com/news/business/stocks/these-50-smallcaps-gain-between-10-40-as-broader-indices-outperform-12903245.html',\n",
       " 'https://www.moneycontrol.com/news/business/markets/defence-player-dcx-systems-offers-49-upside-pl-capital-bets-orders-set-to-rise-12902929.html',\n",
       " 'https://www.moneycontrol.com/news/business/real-estate/',\n",
       " 'https://www.moneycontrol.com/news/business/markets/brigade-enterprises-to-develop-20-acre-prime-land-parcel-on-bengaluru-s-whitefield-road-with-gdv-of-rs-2700-crore-12903114.html',\n",
       " 'https://www.moneycontrol.com/news/business/markets/major-exit-at-kotak-mahindra-bank-as-coo-and-cto-milind-nagnur-steps-down-12903068.html',\n",
       " 'https://www.moneycontrol.com/news/business/union-budget-2025-expectations-live-news-updates-fm-nirmala-sitharaman-suggestions-january-6-liveblog-12903843.html',\n",
       " 'https://www.moneycontrol.com/news/business/stocks/',\n",
       " 'https://www.moneycontrol.com/news/business/personal-finance/health-insurance-cover-for-five-years-here-s-what-you-should-know-about-multi-year-plans-12900429.html',\n",
       " 'https://www.moneycontrol.com/news/business/markets/stock-market-live-sensex-nifty-50-share-price-gift-nifty-latest-updates-06-01-2025-liveblog-12903784.html',\n",
       " 'https://www.moneycontrol.com/news/business/stocks/ntpc-renewable-energy-bags-1-000-mw-solar-power-project-12903522.html',\n",
       " 'https://www.moneycontrol.com/news/business/markets/taking-stock-bears-back-in-action-nifty-below-24-050-sensex-falls-700-pts-12902794.html',\n",
       " 'https://www.moneycontrol.com/news/business/stocks/iti-shares-hit-20-upper-circuit-amid-high-volumes-to-post-biggest-single-day-gain-in-9-months-12902808.html',\n",
       " 'https://www.moneycontrol.com/news/business/markets/momentum-picks-2025-brijesh-bhatia-recommends-one-sector-two-stocks-12903480.html',\n",
       " 'https://www.moneycontrol.com/news/business/stocks/page-7/',\n",
       " 'https://www.moneycontrol.com/news/business/personal-finance/',\n",
       " 'https://www.moneycontrol.com/news/business/markets/trade-spotlight-how-should-you-trade-tata-motors-marico-sanstar-shanthi-gears-fortis-healthcare-aavas-financiers-and-others-on-january-6-12903707.html',\n",
       " 'https://www.moneycontrol.com/news/business/markets/sensex-struggles-near-lows-nifty-at-24-000-as-banks-it-weigh-broader-markets-erase-gains-12902776.html',\n",
       " 'https://www.moneycontrol.com/news/business/economy/manufacturing-pmi-slips-to-a-12-month-low-of-56-4-in-dec-12901901.html',\n",
       " 'https://www.moneycontrol.com/news/business/markets/stocks-to-watch-today-itc-hdfc-bank-bajaj-finance-au-sfb-nykaa-hg-infra-brigade-enterprises-ntpc-green-marico-bank-of-baroda-in-focus-on-6-january-12903688.html',\n",
       " 'https://www.moneycontrol.com/news/business/personal-finance/income-tax-filing/',\n",
       " 'https://www.moneycontrol.com/news/business/stocks/page-4/',\n",
       " 'https://www.moneycontrol.com/news/business/stocks/page-9/',\n",
       " 'https://www.moneycontrol.com/news/business/markets/stock-market-live-sensex-nifty-50-share-price-gift-nifty-latest-updates-07-01-2025-liveblog-12904611.html',\n",
       " 'https://www.moneycontrol.com/news/business/companies/',\n",
       " 'https://www.moneycontrol.com/news/business/ipo/anya-polytech-fertilizers-share-price-stock-lists-at-22pc-premium-over-ipo-price-on-nse-sme-12901858.html',\n",
       " 'https://www.moneycontrol.com/news/business/commodities/',\n",
       " 'https://www.moneycontrol.com/news/business/',\n",
       " 'https://www.moneycontrol.com/news/business/banks/',\n",
       " 'https://www.moneycontrol.com/news/business/markets/wall-street-ends-sharply-higher-with-assist-from-tech-investors-eye-trump-policies-12903224.html',\n",
       " 'https://www.moneycontrol.com/news/business/stocks/page-10/',\n",
       " 'https://www.moneycontrol.com/news/business/stocks/page-8/',\n",
       " 'https://www.moneycontrol.com/news/business/markets/hdfc-bank-gets-rbi-nod-to-purchase-9-5-stake-in-au-small-finance-bank-12903242.html',\n",
       " 'https://www.moneycontrol.com/news/business/stocks/page-5/',\n",
       " 'https://www.moneycontrol.com/news/business/economy/',\n",
       " 'https://www.moneycontrol.com/news/business/stocks/page-3/',\n",
       " 'https://www.moneycontrol.com/news/business/stocks/page-6/',\n",
       " 'https://www.moneycontrol.com/news/business/startup/']"
      ]
     },
     "execution_count": 4,
     "metadata": {},
     "output_type": "execute_result"
    }
   ],
   "source": [
    "raw_urls"
   ]
  },
  {
   "cell_type": "code",
   "execution_count": null,
   "metadata": {},
   "outputs": [],
   "source": []
  },
  {
   "cell_type": "code",
   "execution_count": 5,
   "metadata": {
    "execution": {
     "iopub.execute_input": "2025-01-07T05:11:58.333993Z",
     "iopub.status.busy": "2025-01-07T05:11:58.332993Z",
     "iopub.status.idle": "2025-01-07T05:11:58.341228Z",
     "shell.execute_reply": "2025-01-07T05:11:58.340217Z"
    }
   },
   "outputs": [],
   "source": [
    "stock_urls =[]\n",
    "market_urls = []\n",
    "next_page_urls = []\n",
    "other_urls = []\n",
    "ipo_urls = []\n",
    "def extract_urls(all_urls):\n",
    "    for link in raw_urls:\n",
    "        if link.startswith(\"https://www.moneycontrol.com/news/business/stocks/page\"):\n",
    "            next_page_urls.append(link)\n",
    "        elif link.startswith(\"https://www.moneycontrol.com/news/business/stocks/\"):\n",
    "            stock_urls.append(link)\n",
    "        elif link.startswith(\"https://www.moneycontrol.com/news/business/markets/\"):\n",
    "            market_urls.append(link)\n",
    "        elif link.startswith(\"https://www.moneycontrol.com/news/business/ipo/\"):\n",
    "            ipo_urls.append(link)\n",
    "        else:\n",
    "            other_urls.append(link)"
   ]
  },
  {
   "cell_type": "code",
   "execution_count": 6,
   "metadata": {
    "execution": {
     "iopub.execute_input": "2025-01-07T05:11:58.346272Z",
     "iopub.status.busy": "2025-01-07T05:11:58.345248Z",
     "iopub.status.idle": "2025-01-07T05:11:58.352316Z",
     "shell.execute_reply": "2025-01-07T05:11:58.351299Z"
    }
   },
   "outputs": [],
   "source": [
    "extract_urls(raw_urls)"
   ]
  },
  {
   "cell_type": "code",
   "execution_count": 7,
   "metadata": {
    "execution": {
     "iopub.execute_input": "2025-01-07T05:11:58.357308Z",
     "iopub.status.busy": "2025-01-07T05:11:58.356308Z",
     "iopub.status.idle": "2025-01-07T05:11:58.364834Z",
     "shell.execute_reply": "2025-01-07T05:11:58.363820Z"
    }
   },
   "outputs": [
    {
     "data": {
      "text/plain": [
       "['https://www.moneycontrol.com/news/business/stocks/buy-radico-khaitan-target-of-rs-2996-sharekhan-12902869.html',\n",
       " 'https://www.moneycontrol.com/news/business/stocks/these-50-smallcaps-gain-between-10-40-as-broader-indices-outperform-12903245.html',\n",
       " 'https://www.moneycontrol.com/news/business/stocks/',\n",
       " 'https://www.moneycontrol.com/news/business/stocks/ntpc-renewable-energy-bags-1-000-mw-solar-power-project-12903522.html',\n",
       " 'https://www.moneycontrol.com/news/business/stocks/iti-shares-hit-20-upper-circuit-amid-high-volumes-to-post-biggest-single-day-gain-in-9-months-12902808.html']"
      ]
     },
     "execution_count": 7,
     "metadata": {},
     "output_type": "execute_result"
    }
   ],
   "source": [
    "stock_urls"
   ]
  },
  {
   "cell_type": "code",
   "execution_count": 8,
   "metadata": {
    "execution": {
     "iopub.execute_input": "2025-01-07T05:11:58.369829Z",
     "iopub.status.busy": "2025-01-07T05:11:58.369829Z",
     "iopub.status.idle": "2025-01-07T05:11:58.377047Z",
     "shell.execute_reply": "2025-01-07T05:11:58.376031Z"
    }
   },
   "outputs": [],
   "source": [
    "\n",
    "regex = r'https:\\/\\/www\\.moneycontrol\\.com\\/news\\/business\\/stocks\\/[^\\/\\s]+(?:\\.[a-z]{2,6})(?:[\\/\\?].*)?'\n",
    "\n",
    "final_stocks_urls = [url for url in stock_urls if re.match(regex, url)]"
   ]
  },
  {
   "cell_type": "code",
   "execution_count": 9,
   "metadata": {
    "execution": {
     "iopub.execute_input": "2025-01-07T05:11:58.383048Z",
     "iopub.status.busy": "2025-01-07T05:11:58.382039Z",
     "iopub.status.idle": "2025-01-07T05:11:58.390182Z",
     "shell.execute_reply": "2025-01-07T05:11:58.389166Z"
    }
   },
   "outputs": [
    {
     "data": {
      "text/plain": [
       "['https://www.moneycontrol.com/news/business/stocks/buy-radico-khaitan-target-of-rs-2996-sharekhan-12902869.html',\n",
       " 'https://www.moneycontrol.com/news/business/stocks/these-50-smallcaps-gain-between-10-40-as-broader-indices-outperform-12903245.html',\n",
       " 'https://www.moneycontrol.com/news/business/stocks/ntpc-renewable-energy-bags-1-000-mw-solar-power-project-12903522.html',\n",
       " 'https://www.moneycontrol.com/news/business/stocks/iti-shares-hit-20-upper-circuit-amid-high-volumes-to-post-biggest-single-day-gain-in-9-months-12902808.html']"
      ]
     },
     "execution_count": 9,
     "metadata": {},
     "output_type": "execute_result"
    }
   ],
   "source": [
    "final_stocks_urls"
   ]
  },
  {
   "cell_type": "code",
   "execution_count": 10,
   "metadata": {
    "execution": {
     "iopub.execute_input": "2025-01-07T05:11:58.395175Z",
     "iopub.status.busy": "2025-01-07T05:11:58.394180Z",
     "iopub.status.idle": "2025-01-07T05:11:58.437331Z",
     "shell.execute_reply": "2025-01-07T05:11:58.435325Z"
    }
   },
   "outputs": [],
   "source": [
    "myclient = pymongo.MongoClient(\"mongodb://localhost:27017/\")\n",
    "mydb = myclient[\"new_db\"]\n",
    "mycol = mydb['raw_news']"
   ]
  },
  {
   "cell_type": "code",
   "execution_count": 11,
   "metadata": {
    "execution": {
     "iopub.execute_input": "2025-01-07T05:11:58.441338Z",
     "iopub.status.busy": "2025-01-07T05:11:58.441338Z",
     "iopub.status.idle": "2025-01-07T05:11:59.713869Z",
     "shell.execute_reply": "2025-01-07T05:11:59.712860Z"
    }
   },
   "outputs": [],
   "source": [
    "service = Service(\"./chromedriver/chromedriver.exe\")\n",
    "options = Options()\n",
    "options.add_argument(\"--headless\")\n",
    "options.add_argument(\"--disable-gpu\")\n",
    "options.add_argument(\"user-agent=Mozilla/5.0 (Windows NT 10.0; Win64; x64) AppleWebKit/537.36 (KHTML, like Gecko) Chrome/114.0.5735.199 Safari/537.36\")\n",
    "\n",
    "driver = webdriver.Chrome(service=service, options= options)"
   ]
  },
  {
   "cell_type": "code",
   "execution_count": 12,
   "metadata": {
    "execution": {
     "iopub.execute_input": "2025-01-07T05:11:59.719188Z",
     "iopub.status.busy": "2025-01-07T05:11:59.719188Z",
     "iopub.status.idle": "2025-01-07T05:11:59.731881Z",
     "shell.execute_reply": "2025-01-07T05:11:59.731402Z"
    }
   },
   "outputs": [],
   "source": [
    "def extract_data(url):  \n",
    "    driver.get(url)\n",
    "    \n",
    "    WebDriverWait(driver, 60).until(\n",
    "        lambda d: d.execute_script(\"return document.readyState\") == \"complete\"\n",
    "    )\n",
    "    \n",
    "    html = driver.page_source\n",
    "    soup = BeautifulSoup(html, 'html.parser')    \n",
    "    news = {}\n",
    "    \n",
    "    title = soup.find('h1', class_ = \"article_title\")\n",
    "    news.update({\"title\":f\"{title.text.strip()}\"})\n",
    "    \n",
    "    desc = soup.find('h2', class_ = 'article_desc')\n",
    "    news.update({\"desc\":f\"{desc.text.strip()}\"})\n",
    "    \n",
    "    date_time_div = soup.find('div', class_=\"article_schedule\")\n",
    "    if date_time_div:\n",
    "        span_tag = date_time_div.find('span')\n",
    "        date = span_tag.text.strip()\n",
    "        news.update({\"date\":f\"{date}\"})\n",
    "    \n",
    "    datetime = date_time_div.text.strip()\n",
    "    news.update({\"datetime\":f\"{datetime}\"})\n",
    "    \n",
    "    paragraphs_list = []\n",
    "    paragrphs_div = soup.find('div', class_ =\"content_wrapper\")\n",
    "    if paragrphs_div:\n",
    "        paragraph_tags = paragrphs_div.find_all('p')\n",
    "        for p in paragraph_tags:\n",
    "            para_text = p.text.strip()            \n",
    "            if len(para_text) < 50 :\n",
    "                continue            \n",
    "            if re.search(r\"(click\\s+here|disclaimer|modal|window|advertisement|investment\\s+tips)\", para_text, re.IGNORECASE):\n",
    "                continue            \n",
    "            paragraphs_list.append(para_text)         \n",
    "            \n",
    "    news.update({\"content\": paragraphs_list})\n",
    "    \n",
    "    stock_name = soup.find('a', class_=\"stock-name\")\n",
    "    if stock_name:\n",
    "        news.update({\"stock_name\":f\"{stock_name.text.strip()}\"})\n",
    "            \n",
    "    # driver.quit()   \n",
    "    return news"
   ]
  },
  {
   "cell_type": "code",
   "execution_count": 13,
   "metadata": {
    "execution": {
     "iopub.execute_input": "2025-01-07T05:11:59.736903Z",
     "iopub.status.busy": "2025-01-07T05:11:59.736903Z",
     "iopub.status.idle": "2025-01-07T05:13:31.744743Z",
     "shell.execute_reply": "2025-01-07T05:13:31.744743Z"
    }
   },
   "outputs": [
    {
     "name": "stdout",
     "output_type": "stream",
     "text": [
      "677cb7bce75b8c80b424082e\n"
     ]
    },
    {
     "name": "stdout",
     "output_type": "stream",
     "text": [
      "677cb7e7e75b8c80b424082f\n"
     ]
    },
    {
     "name": "stdout",
     "output_type": "stream",
     "text": [
      "677cb7f5e75b8c80b4240830\n"
     ]
    },
    {
     "name": "stdout",
     "output_type": "stream",
     "text": [
      "677cb7fbe75b8c80b4240831\n"
     ]
    }
   ],
   "source": [
    "for url in final_stocks_urls :\n",
    "    data = extract_data(url)\n",
    "    x = mycol.insert_one(data)\n",
    "    print(x.inserted_id)"
   ]
  },
  {
   "cell_type": "code",
   "execution_count": 14,
   "metadata": {
    "execution": {
     "iopub.execute_input": "2025-01-07T05:13:31.750278Z",
     "iopub.status.busy": "2025-01-07T05:13:31.749265Z",
     "iopub.status.idle": "2025-01-07T05:13:34.142203Z",
     "shell.execute_reply": "2025-01-07T05:13:34.138813Z"
    }
   },
   "outputs": [],
   "source": [
    "driver.quit()   "
   ]
  },
  {
   "cell_type": "code",
   "execution_count": null,
   "metadata": {},
   "outputs": [],
   "source": []
  }
 ],
 "metadata": {
  "kernelspec": {
   "display_name": "Python 3",
   "language": "python",
   "name": "python3"
  },
  "language_info": {
   "codemirror_mode": {
    "name": "ipython",
    "version": 3
   },
   "file_extension": ".py",
   "mimetype": "text/x-python",
   "name": "python",
   "nbconvert_exporter": "python",
   "pygments_lexer": "ipython3",
   "version": "3.12.3"
  }
 },
 "nbformat": 4,
 "nbformat_minor": 2
}
