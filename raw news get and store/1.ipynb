{
 "cells": [
  {
   "cell_type": "code",
   "execution_count": 1,
   "metadata": {
    "execution": {
     "iopub.execute_input": "2025-01-02T05:58:10.619214Z",
     "iopub.status.busy": "2025-01-02T05:58:10.617638Z",
     "iopub.status.idle": "2025-01-02T05:58:13.005741Z",
     "shell.execute_reply": "2025-01-02T05:58:13.004267Z"
    }
   },
   "outputs": [],
   "source": [
    "from selenium import webdriver\n",
    "from selenium.webdriver.chrome.service import Service\n",
    "from selenium.webdriver.chrome.options import Options\n",
    "from selenium.webdriver.common.by import By\n",
    "from selenium.webdriver.support.ui import WebDriverWait\n",
    "from selenium.webdriver.support import expected_conditions as EC\n",
    "from bs4 import BeautifulSoup\n",
    "import re\n",
    "import pymongo"
   ]
  },
  {
   "cell_type": "code",
   "execution_count": 2,
   "metadata": {
    "execution": {
     "iopub.execute_input": "2025-01-02T05:58:13.014086Z",
     "iopub.status.busy": "2025-01-02T05:58:13.014086Z",
     "iopub.status.idle": "2025-01-02T05:58:13.027710Z",
     "shell.execute_reply": "2025-01-02T05:58:13.025697Z"
    }
   },
   "outputs": [],
   "source": [
    "def finding_raw_urls_from_base(url):\n",
    "    service = Service(\"./chromedriver/chromedriver.exe\")\n",
    "    options = Options()\n",
    "    options.add_argument(\"--headless\")\n",
    "    options.add_argument(\"--disable-gpu\")\n",
    "    options.add_argument(\"user-agent=Mozilla/5.0 (Windows NT 10.0; Win64; x64) AppleWebKit/537.36 (KHTML, like Gecko) Chrome/91.0.4472.124 Safari/537.36\")\n",
    "    \n",
    "    driver = webdriver.Chrome(service=service, options=options)\n",
    "    driver.get(url)\n",
    "    \n",
    "    WebDriverWait(driver, 60).until(\n",
    "        EC.presence_of_all_elements_located((By.TAG_NAME, 'a'))\n",
    "    )\n",
    "    \n",
    "    html = driver.page_source\n",
    "    driver.quit()\n",
    "    \n",
    "    soup = BeautifulSoup(html, 'html.parser')\n",
    "    links = soup.find_all('a', href=True)\n",
    "    raw_urls = []\n",
    "    for link in links:\n",
    "        if link['href'].startswith(\"https://www.moneycontrol.com/news/business/\"):\n",
    "            raw_urls.append(link['href'])\n",
    "    return list(set(raw_urls))\n",
    "    "
   ]
  },
  {
   "cell_type": "code",
   "execution_count": 3,
   "metadata": {
    "execution": {
     "iopub.execute_input": "2025-01-02T05:58:13.033756Z",
     "iopub.status.busy": "2025-01-02T05:58:13.033756Z",
     "iopub.status.idle": "2025-01-02T05:58:28.335793Z",
     "shell.execute_reply": "2025-01-02T05:58:28.334136Z"
    }
   },
   "outputs": [],
   "source": [
    "raw_urls = finding_raw_urls_from_base(\"https://www.moneycontrol.com/news/business/stocks/\")\n",
    "# raw_urls = finding_raw_urls_from_base(\"https://www.moneycontrol.com/news/business/stocks/page-30\")"
   ]
  },
  {
   "cell_type": "code",
   "execution_count": 4,
   "metadata": {
    "execution": {
     "iopub.execute_input": "2025-01-02T05:58:28.343873Z",
     "iopub.status.busy": "2025-01-02T05:58:28.342872Z",
     "iopub.status.idle": "2025-01-02T05:58:28.358884Z",
     "shell.execute_reply": "2025-01-02T05:58:28.356862Z"
    }
   },
   "outputs": [
    {
     "data": {
      "text/plain": [
       "['https://www.moneycontrol.com/news/business/uday-kotak-wants-india-inc-to-go-for-growth-to-fire-up-animal-spirits-in-year-end-musing-12899848.html',\n",
       " 'https://www.moneycontrol.com/news/business/companies',\n",
       " 'https://www.moneycontrol.com/news/business/stocks/agri-picks-report-january-02-2025-geojit-financial-services-12901949.html',\n",
       " 'https://www.moneycontrol.com/news/business/markets/top-25-stocks-to-bet-on-in-2025-12901545.html',\n",
       " 'https://www.moneycontrol.com/news/business/stocks/railtel-corporation-shares-in-focus-on-winning-order-worth-rs-78-43-crore-12901745.html',\n",
       " 'https://www.moneycontrol.com/news/business/banks/',\n",
       " 'https://www.moneycontrol.com/news/business/stocks/page-7/',\n",
       " 'https://www.moneycontrol.com/news/business/markets/taking-stock-sensex-gains-368-pts-nifty-above-23-700-autos-shine-realty-drags-12901594.html',\n",
       " 'https://www.moneycontrol.com/news/business/stocks/page-9/',\n",
       " 'https://www.moneycontrol.com/news/business/markets/here-are-the-top-global-cues-for-today-s-trade-first-tick-6-12901584.html',\n",
       " 'https://www.moneycontrol.com/news/business/markets/stocks-to-watch-today-tata-motors-maruti-suzuki-csb-bank-south-indian-bank-railtel-corp-nmdc-in-focus-on-2-january-12901819.html',\n",
       " 'https://www.moneycontrol.com/news/business/stocks/accumulate-larsen-and-toubro-ltd-target-of-rs-4565-asit-c-mehta-12901524.html',\n",
       " 'https://www.moneycontrol.com/news/business/stocks/page-4/',\n",
       " 'https://www.moneycontrol.com/news/business/stocks/page-30/',\n",
       " 'https://www.moneycontrol.com/news/business/stocks/page-2/',\n",
       " 'https://www.moneycontrol.com/news/business/markets/csb-bank-shares-3-higher-on-strong-deposit-growth-healthy-gold-loan-book-12901911.html',\n",
       " 'https://www.moneycontrol.com/news/business/stocks/buy-polycab-india-target-of-rs-8300-sharekhan-2-12901531.html',\n",
       " 'https://www.moneycontrol.com/news/business/stocks/',\n",
       " 'https://www.moneycontrol.com/news/business/stocks/why-will-water-infra-stocks-be-in-focus-in-2025-12901871.html',\n",
       " 'https://www.moneycontrol.com/news/business/commodities/',\n",
       " 'https://www.moneycontrol.com/news/business/personal-finance/',\n",
       " 'https://www.moneycontrol.com/news/business/stocks/page-5/',\n",
       " 'https://www.moneycontrol.com/news/business/stocks/page-10/',\n",
       " 'https://www.moneycontrol.com/news/business/markets/stock-market-live-sensex-nifty-50-share-price-gift-nifty-latest-updates-02-01-2025-liveblog-12901824.html',\n",
       " 'https://www.moneycontrol.com/news/business/ipo/unimech-aerospace-share-price-live-itr-filing-last-date-gst-return-deadline-business-news-december-31-liveblog-12900555.html',\n",
       " 'https://www.moneycontrol.com/news/business/stocks/buy-metro-brands-target-of-rs-1460-motilal-oswal-2-12901629.html',\n",
       " 'https://www.moneycontrol.com/news/business/muthoot-finance-how-long-will-it-shine-12901496.html',\n",
       " 'https://www.moneycontrol.com/news/business/stocks/page-6/',\n",
       " 'https://www.moneycontrol.com/news/business/stocks/sky-gold-shining-growth-prospects-12901885.html',\n",
       " 'https://www.moneycontrol.com/news/business/ipo/',\n",
       " 'https://www.moneycontrol.com/news/business/stocks/page-8/',\n",
       " 'https://www.moneycontrol.com/news/business/mutual-funds/',\n",
       " 'https://www.moneycontrol.com/news/business/personal-finance/deadline-for-filing-belated-revised-income-tax-returns-extended-to-january-15-2025-12900780.html',\n",
       " 'https://www.moneycontrol.com/news/business/markets/',\n",
       " 'https://www.moneycontrol.com/news/business/companies/',\n",
       " 'https://www.moneycontrol.com/news/business/startup/',\n",
       " 'https://www.moneycontrol.com/news/business/stocks/buy-apl-apollo-tubes-target-of-rs-1850-sharekhan-3-12901540.html',\n",
       " 'https://www.moneycontrol.com/news/business/personal-finance/income-tax-filing/',\n",
       " 'https://www.moneycontrol.com/news/business/',\n",
       " 'https://www.moneycontrol.com/news/business/stocks/page-3/',\n",
       " 'https://www.moneycontrol.com/news/business/stocks/goa-carbon-shares-rise-6-as-company-resumes-operations-at-bilaspur-12901904.html',\n",
       " 'https://www.moneycontrol.com/news/business/markets/trade-spotlight-how-should-you-trade-ongc-united-spirits-action-construction-equipment-gland-pharma-blue-star-and-others-on-january-2-12901809.html',\n",
       " 'https://www.moneycontrol.com/news/business/earnings/sensex-nifty-start-2025-on-a-positive-note-climb-0-5-amid-broad-based-rally-auto-stocks-gain-12901654.html',\n",
       " 'https://www.moneycontrol.com/news/business/markets/power-mech-stock-surges-5-after-rs-294-crore-order-from-adani-power-12901535.html',\n",
       " 'https://www.moneycontrol.com/news/business/markets/sensex-nudges-higher-nifty-above-23-800-on-auto-banking-shares-broader-markets-quiet-12901847.html',\n",
       " 'https://www.moneycontrol.com/news/business/real-estate/',\n",
       " 'https://www.moneycontrol.com/news/business/economy/',\n",
       " 'https://www.moneycontrol.com/news/business/markets/petronet-lng-shares-down-5-as-citi-note-mentions-critical-view-by-pngrb-on-tariffs-12901893.html']"
      ]
     },
     "execution_count": 4,
     "metadata": {},
     "output_type": "execute_result"
    }
   ],
   "source": [
    "raw_urls"
   ]
  },
  {
   "cell_type": "code",
   "execution_count": null,
   "metadata": {},
   "outputs": [],
   "source": []
  },
  {
   "cell_type": "code",
   "execution_count": 5,
   "metadata": {
    "execution": {
     "iopub.execute_input": "2025-01-02T05:58:28.486467Z",
     "iopub.status.busy": "2025-01-02T05:58:28.485475Z",
     "iopub.status.idle": "2025-01-02T05:58:28.497823Z",
     "shell.execute_reply": "2025-01-02T05:58:28.495755Z"
    }
   },
   "outputs": [],
   "source": [
    "stock_urls =[]\n",
    "market_urls = []\n",
    "next_page_urls = []\n",
    "other_urls = []\n",
    "ipo_urls = []\n",
    "def extract_urls(all_urls):\n",
    "    for link in raw_urls:\n",
    "        if link.startswith(\"https://www.moneycontrol.com/news/business/stocks/page\"):\n",
    "            next_page_urls.append(link)\n",
    "        elif link.startswith(\"https://www.moneycontrol.com/news/business/stocks/\"):\n",
    "            stock_urls.append(link)\n",
    "        elif link.startswith(\"https://www.moneycontrol.com/news/business/markets/\"):\n",
    "            market_urls.append(link)\n",
    "        elif link.startswith(\"https://www.moneycontrol.com/news/business/ipo/\"):\n",
    "            ipo_urls.append(link)\n",
    "        else:\n",
    "            other_urls.append(link)"
   ]
  },
  {
   "cell_type": "code",
   "execution_count": 6,
   "metadata": {
    "execution": {
     "iopub.execute_input": "2025-01-02T05:58:28.504451Z",
     "iopub.status.busy": "2025-01-02T05:58:28.503453Z",
     "iopub.status.idle": "2025-01-02T05:58:28.510643Z",
     "shell.execute_reply": "2025-01-02T05:58:28.509587Z"
    }
   },
   "outputs": [],
   "source": [
    "extract_urls(raw_urls)"
   ]
  },
  {
   "cell_type": "code",
   "execution_count": 7,
   "metadata": {
    "execution": {
     "iopub.execute_input": "2025-01-02T05:58:28.517653Z",
     "iopub.status.busy": "2025-01-02T05:58:28.516656Z",
     "iopub.status.idle": "2025-01-02T05:58:28.527413Z",
     "shell.execute_reply": "2025-01-02T05:58:28.526358Z"
    }
   },
   "outputs": [
    {
     "data": {
      "text/plain": [
       "['https://www.moneycontrol.com/news/business/stocks/agri-picks-report-january-02-2025-geojit-financial-services-12901949.html',\n",
       " 'https://www.moneycontrol.com/news/business/stocks/railtel-corporation-shares-in-focus-on-winning-order-worth-rs-78-43-crore-12901745.html',\n",
       " 'https://www.moneycontrol.com/news/business/stocks/accumulate-larsen-and-toubro-ltd-target-of-rs-4565-asit-c-mehta-12901524.html',\n",
       " 'https://www.moneycontrol.com/news/business/stocks/buy-polycab-india-target-of-rs-8300-sharekhan-2-12901531.html',\n",
       " 'https://www.moneycontrol.com/news/business/stocks/',\n",
       " 'https://www.moneycontrol.com/news/business/stocks/why-will-water-infra-stocks-be-in-focus-in-2025-12901871.html',\n",
       " 'https://www.moneycontrol.com/news/business/stocks/buy-metro-brands-target-of-rs-1460-motilal-oswal-2-12901629.html',\n",
       " 'https://www.moneycontrol.com/news/business/stocks/sky-gold-shining-growth-prospects-12901885.html',\n",
       " 'https://www.moneycontrol.com/news/business/stocks/buy-apl-apollo-tubes-target-of-rs-1850-sharekhan-3-12901540.html',\n",
       " 'https://www.moneycontrol.com/news/business/stocks/goa-carbon-shares-rise-6-as-company-resumes-operations-at-bilaspur-12901904.html']"
      ]
     },
     "execution_count": 7,
     "metadata": {},
     "output_type": "execute_result"
    }
   ],
   "source": [
    "stock_urls"
   ]
  },
  {
   "cell_type": "code",
   "execution_count": 8,
   "metadata": {
    "execution": {
     "iopub.execute_input": "2025-01-02T05:58:28.535422Z",
     "iopub.status.busy": "2025-01-02T05:58:28.534423Z",
     "iopub.status.idle": "2025-01-02T05:58:28.545445Z",
     "shell.execute_reply": "2025-01-02T05:58:28.543429Z"
    }
   },
   "outputs": [],
   "source": [
    "\n",
    "regex = r'https:\\/\\/www\\.moneycontrol\\.com\\/news\\/business\\/stocks\\/[^\\/\\s]+(?:\\.[a-z]{2,6})(?:[\\/\\?].*)?'\n",
    "\n",
    "final_stocks_urls = [url for url in stock_urls if re.match(regex, url)]"
   ]
  },
  {
   "cell_type": "code",
   "execution_count": 9,
   "metadata": {
    "execution": {
     "iopub.execute_input": "2025-01-02T05:58:28.554444Z",
     "iopub.status.busy": "2025-01-02T05:58:28.553458Z",
     "iopub.status.idle": "2025-01-02T05:58:28.567039Z",
     "shell.execute_reply": "2025-01-02T05:58:28.564975Z"
    }
   },
   "outputs": [
    {
     "data": {
      "text/plain": [
       "['https://www.moneycontrol.com/news/business/stocks/agri-picks-report-january-02-2025-geojit-financial-services-12901949.html',\n",
       " 'https://www.moneycontrol.com/news/business/stocks/railtel-corporation-shares-in-focus-on-winning-order-worth-rs-78-43-crore-12901745.html',\n",
       " 'https://www.moneycontrol.com/news/business/stocks/accumulate-larsen-and-toubro-ltd-target-of-rs-4565-asit-c-mehta-12901524.html',\n",
       " 'https://www.moneycontrol.com/news/business/stocks/buy-polycab-india-target-of-rs-8300-sharekhan-2-12901531.html',\n",
       " 'https://www.moneycontrol.com/news/business/stocks/why-will-water-infra-stocks-be-in-focus-in-2025-12901871.html',\n",
       " 'https://www.moneycontrol.com/news/business/stocks/buy-metro-brands-target-of-rs-1460-motilal-oswal-2-12901629.html',\n",
       " 'https://www.moneycontrol.com/news/business/stocks/sky-gold-shining-growth-prospects-12901885.html',\n",
       " 'https://www.moneycontrol.com/news/business/stocks/buy-apl-apollo-tubes-target-of-rs-1850-sharekhan-3-12901540.html',\n",
       " 'https://www.moneycontrol.com/news/business/stocks/goa-carbon-shares-rise-6-as-company-resumes-operations-at-bilaspur-12901904.html']"
      ]
     },
     "execution_count": 9,
     "metadata": {},
     "output_type": "execute_result"
    }
   ],
   "source": [
    "final_stocks_urls"
   ]
  },
  {
   "cell_type": "code",
   "execution_count": 10,
   "metadata": {
    "execution": {
     "iopub.execute_input": "2025-01-02T05:58:28.576060Z",
     "iopub.status.busy": "2025-01-02T05:58:28.575057Z",
     "iopub.status.idle": "2025-01-02T05:58:29.061122Z",
     "shell.execute_reply": "2025-01-02T05:58:29.060104Z"
    }
   },
   "outputs": [],
   "source": [
    "myclient = pymongo.MongoClient(\"mongodb://localhost:27017/\")\n",
    "mydb = myclient[\"new_db\"]\n",
    "mycol = mydb['raw_news']"
   ]
  },
  {
   "cell_type": "code",
   "execution_count": 11,
   "metadata": {
    "execution": {
     "iopub.execute_input": "2025-01-02T05:58:29.069116Z",
     "iopub.status.busy": "2025-01-02T05:58:29.068129Z",
     "iopub.status.idle": "2025-01-02T05:58:30.930589Z",
     "shell.execute_reply": "2025-01-02T05:58:30.929572Z"
    }
   },
   "outputs": [],
   "source": [
    "service = Service(\"./chromedriver/chromedriver.exe\")\n",
    "options = Options()\n",
    "options.add_argument(\"--headless\")\n",
    "options.add_argument(\"--disable-gpu\")\n",
    "options.add_argument(\"user-agent=Mozilla/5.0 (Windows NT 10.0; Win64; x64) AppleWebKit/537.36 (KHTML, like Gecko) Chrome/114.0.5735.199 Safari/537.36\")\n",
    "\n",
    "driver = webdriver.Chrome(service=service, options= options)"
   ]
  },
  {
   "cell_type": "code",
   "execution_count": 12,
   "metadata": {
    "execution": {
     "iopub.execute_input": "2025-01-02T05:58:30.939597Z",
     "iopub.status.busy": "2025-01-02T05:58:30.937589Z",
     "iopub.status.idle": "2025-01-02T05:58:30.962398Z",
     "shell.execute_reply": "2025-01-02T05:58:30.960383Z"
    }
   },
   "outputs": [],
   "source": [
    "def extract_data(url):  \n",
    "    driver.get(url)\n",
    "    \n",
    "    WebDriverWait(driver, 60).until(\n",
    "        lambda d: d.execute_script(\"return document.readyState\") == \"complete\"\n",
    "    )\n",
    "    \n",
    "    html = driver.page_source\n",
    "    soup = BeautifulSoup(html, 'html.parser')    \n",
    "    news = {}\n",
    "    \n",
    "    title = soup.find('h1', class_ = \"article_title\")\n",
    "    news.update({\"title\":f\"{title.text.strip()}\"})\n",
    "    \n",
    "    desc = soup.find('h2', class_ = 'article_desc')\n",
    "    news.update({\"desc\":f\"{desc.text.strip()}\"})\n",
    "    \n",
    "    date_time_div = soup.find('div', class_=\"article_schedule\")\n",
    "    if date_time_div:\n",
    "        span_tag = date_time_div.find('span')\n",
    "        date = span_tag.text.strip()\n",
    "        news.update({\"date\":f\"{date}\"})\n",
    "    \n",
    "    datetime = date_time_div.text.strip()\n",
    "    news.update({\"datetime\":f\"{datetime}\"})\n",
    "    \n",
    "    paragraphs_list = []\n",
    "    paragrphs_div = soup.find('div', class_ =\"content_wrapper\")\n",
    "    if paragrphs_div:\n",
    "        paragraph_tags = paragrphs_div.find_all('p')\n",
    "        for p in paragraph_tags:\n",
    "            para_text = p.text.strip()            \n",
    "            if len(para_text) < 50 :\n",
    "                continue            \n",
    "            if re.search(r\"(click\\s+here|disclaimer|modal|window|advertisement|investment\\s+tips)\", para_text, re.IGNORECASE):\n",
    "                continue            \n",
    "            paragraphs_list.append(para_text)         \n",
    "            \n",
    "    news.update({\"content\": paragraphs_list})\n",
    "            \n",
    "    # driver.quit()   \n",
    "    return news"
   ]
  },
  {
   "cell_type": "code",
   "execution_count": 13,
   "metadata": {
    "execution": {
     "iopub.execute_input": "2025-01-02T05:58:30.970402Z",
     "iopub.status.busy": "2025-01-02T05:58:30.969398Z",
     "iopub.status.idle": "2025-01-02T06:00:24.381389Z",
     "shell.execute_reply": "2025-01-02T06:00:24.380880Z"
    }
   },
   "outputs": [
    {
     "name": "stdout",
     "output_type": "stream",
     "text": [
      "67762b3c1c6d168c109f0dca\n"
     ]
    },
    {
     "name": "stdout",
     "output_type": "stream",
     "text": [
      "67762b431c6d168c109f0dcb\n"
     ]
    },
    {
     "name": "stdout",
     "output_type": "stream",
     "text": [
      "67762b651c6d168c109f0dcc\n"
     ]
    },
    {
     "name": "stdout",
     "output_type": "stream",
     "text": [
      "67762b681c6d168c109f0dcd\n"
     ]
    },
    {
     "name": "stdout",
     "output_type": "stream",
     "text": [
      "67762b6a1c6d168c109f0dce\n"
     ]
    },
    {
     "name": "stdout",
     "output_type": "stream",
     "text": [
      "67762b6d1c6d168c109f0dcf\n"
     ]
    },
    {
     "name": "stdout",
     "output_type": "stream",
     "text": [
      "67762b701c6d168c109f0dd0\n"
     ]
    },
    {
     "name": "stdout",
     "output_type": "stream",
     "text": [
      "67762b751c6d168c109f0dd1\n"
     ]
    },
    {
     "name": "stdout",
     "output_type": "stream",
     "text": [
      "67762b781c6d168c109f0dd2\n"
     ]
    }
   ],
   "source": [
    "for url in final_stocks_urls :\n",
    "    data = extract_data(url)\n",
    "    x = mycol.insert_one(data)\n",
    "    print(x.inserted_id)"
   ]
  },
  {
   "cell_type": "code",
   "execution_count": 14,
   "metadata": {
    "execution": {
     "iopub.execute_input": "2025-01-02T06:00:24.389490Z",
     "iopub.status.busy": "2025-01-02T06:00:24.388410Z",
     "iopub.status.idle": "2025-01-02T06:00:26.671365Z",
     "shell.execute_reply": "2025-01-02T06:00:26.668344Z"
    }
   },
   "outputs": [],
   "source": [
    "driver.quit()   "
   ]
  },
  {
   "cell_type": "code",
   "execution_count": null,
   "metadata": {},
   "outputs": [],
   "source": []
  }
 ],
 "metadata": {
  "kernelspec": {
   "display_name": "Python 3",
   "language": "python",
   "name": "python3"
  },
  "language_info": {
   "codemirror_mode": {
    "name": "ipython",
    "version": 3
   },
   "file_extension": ".py",
   "mimetype": "text/x-python",
   "name": "python",
   "nbconvert_exporter": "python",
   "pygments_lexer": "ipython3",
   "version": "3.12.3"
  }
 },
 "nbformat": 4,
 "nbformat_minor": 2
}
