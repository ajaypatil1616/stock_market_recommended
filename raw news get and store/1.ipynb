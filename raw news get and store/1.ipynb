{
 "cells": [
  {
   "cell_type": "code",
   "execution_count": 1,
   "metadata": {
    "execution": {
     "iopub.execute_input": "2025-01-06T05:12:53.547364Z",
     "iopub.status.busy": "2025-01-06T05:12:53.545788Z",
     "iopub.status.idle": "2025-01-06T05:12:54.556915Z",
     "shell.execute_reply": "2025-01-06T05:12:54.556403Z"
    }
   },
   "outputs": [],
   "source": [
    "from selenium import webdriver\n",
    "from selenium.webdriver.chrome.service import Service\n",
    "from selenium.webdriver.chrome.options import Options\n",
    "from selenium.webdriver.common.by import By\n",
    "from selenium.webdriver.support.ui import WebDriverWait\n",
    "from selenium.webdriver.support import expected_conditions as EC\n",
    "from bs4 import BeautifulSoup\n",
    "import re\n",
    "import pymongo"
   ]
  },
  {
   "cell_type": "code",
   "execution_count": 2,
   "metadata": {
    "execution": {
     "iopub.execute_input": "2025-01-06T05:12:54.562535Z",
     "iopub.status.busy": "2025-01-06T05:12:54.562535Z",
     "iopub.status.idle": "2025-01-06T05:12:54.571565Z",
     "shell.execute_reply": "2025-01-06T05:12:54.570240Z"
    }
   },
   "outputs": [],
   "source": [
    "def finding_raw_urls_from_base(url):\n",
    "    service = Service(\"./chromedriver/chromedriver.exe\")\n",
    "    options = Options()\n",
    "    options.add_argument(\"--headless\")\n",
    "    options.add_argument(\"--disable-gpu\")\n",
    "    options.add_argument(\"user-agent=Mozilla/5.0 (Windows NT 10.0; Win64; x64) AppleWebKit/537.36 (KHTML, like Gecko) Chrome/91.0.4472.124 Safari/537.36\")\n",
    "    \n",
    "    driver = webdriver.Chrome(service=service, options=options)\n",
    "    driver.get(url)\n",
    "    \n",
    "    WebDriverWait(driver, 60).until(\n",
    "        EC.presence_of_all_elements_located((By.TAG_NAME, 'a'))\n",
    "    )\n",
    "    \n",
    "    html = driver.page_source\n",
    "    driver.quit()\n",
    "    \n",
    "    soup = BeautifulSoup(html, 'html.parser')\n",
    "    links = soup.find_all('a', href=True)\n",
    "    raw_urls = []\n",
    "    for link in links:\n",
    "        if link['href'].startswith(\"https://www.moneycontrol.com/news/business/\"):\n",
    "            raw_urls.append(link['href'])\n",
    "    return list(set(raw_urls))\n",
    "    "
   ]
  },
  {
   "cell_type": "code",
   "execution_count": 3,
   "metadata": {
    "execution": {
     "iopub.execute_input": "2025-01-06T05:12:54.577044Z",
     "iopub.status.busy": "2025-01-06T05:12:54.575692Z",
     "iopub.status.idle": "2025-01-06T05:13:06.218909Z",
     "shell.execute_reply": "2025-01-06T05:13:06.217898Z"
    }
   },
   "outputs": [],
   "source": [
    "# raw_urls = finding_raw_urls_from_base(\"https://www.moneycontrol.com/news/business/stocks/\")\n",
    "raw_urls = finding_raw_urls_from_base(\"https://www.moneycontrol.com/news/business/stocks/page-3\")"
   ]
  },
  {
   "cell_type": "code",
   "execution_count": 4,
   "metadata": {
    "execution": {
     "iopub.execute_input": "2025-01-06T05:13:06.223855Z",
     "iopub.status.busy": "2025-01-06T05:13:06.223855Z",
     "iopub.status.idle": "2025-01-06T05:13:06.234710Z",
     "shell.execute_reply": "2025-01-06T05:13:06.233702Z"
    }
   },
   "outputs": [
    {
     "data": {
      "text/plain": [
       "['https://www.moneycontrol.com/news/business/real-estate/',\n",
       " 'https://www.moneycontrol.com/news/business/markets/',\n",
       " 'https://www.moneycontrol.com/news/business/markets/stock-market-live-sensex-nifty-50-share-price-gift-nifty-latest-updates-03-01-2025-liveblog-12902490.html',\n",
       " 'https://www.moneycontrol.com/news/business/companies/',\n",
       " 'https://www.moneycontrol.com/news/business/stocks/weekly-tactical-pick-cello-world-this-consumer-ware-player-is-set-to-clock-accelerated-growth-12902507.html',\n",
       " 'https://www.moneycontrol.com/news/business/stocks/page-30/',\n",
       " 'https://www.moneycontrol.com/news/business/stocks/agri-picks-report-january-02-2025-geojit-financial-services-12901949.html',\n",
       " 'https://www.moneycontrol.com/news/business/stocks/page-7/',\n",
       " 'https://www.moneycontrol.com/news/business/mutual-funds/',\n",
       " 'https://www.moneycontrol.com/news/business/markets/taking-stock-new-year-fireworks-continue-on-d-street-sensex-up-1-436-pts-nifty-near-24-200-12902081.html',\n",
       " 'https://www.moneycontrol.com/news/business/companies/leading-auto-companies-tata-motors-m-m-to-get-incentives-worth-rs-246-crore-under-pli-scheme-12902127.html',\n",
       " 'https://www.moneycontrol.com/news/business/banks/',\n",
       " 'https://www.moneycontrol.com/news/business/markets/passenger-vehicles-in-driving-seat-as-two-wheelers-hit-the-brakes-signature-global-eicher-motors-in-focus-12902499.html',\n",
       " 'https://www.moneycontrol.com/news/business/markets/dmart-battles-quick-commerce-grows-revenue-by-17-on-year-to-rs-15-565-crore-12902323.html',\n",
       " 'https://www.moneycontrol.com/news/business/stocks/page-4/',\n",
       " 'https://www.moneycontrol.com/news/business/personal-finance/income-tax-filing/',\n",
       " 'https://www.moneycontrol.com/news/business/markets/ashok-leyland-jumps-5-as-dec-auto-sales-beat-street-estimates-12901970.html',\n",
       " 'https://www.moneycontrol.com/news/business/stocks/page-2/',\n",
       " 'https://www.moneycontrol.com/news/business/markets/bajaj-finance-surges-over-2-top-nifty-gainer-on-strong-q3-update-bajaj-finserv-follows-suit-12903884.html',\n",
       " 'https://www.moneycontrol.com/news/business/markets/varun-beverages-flush-with-funds-after-qip-invests-rs-412-8-crore-in-south-african-subsidiary-bevco-12902331.html',\n",
       " 'https://www.moneycontrol.com/news/business/ipo/',\n",
       " 'https://www.moneycontrol.com/news/business/markets/auto-stocks-rev-up-as-december-sales-surge-drives-nifty-auto-to-a-6-month-high-12902019.html',\n",
       " 'https://www.moneycontrol.com/news/business/ipo/anya-polytech-fertilizers-share-price-stock-lists-at-22pc-premium-over-ipo-price-on-nse-sme-12901858.html',\n",
       " 'https://www.moneycontrol.com/news/business/markets/pms-managers-tweak-strategies-for-2025-say-chase-growth-avoid-macro-sensitive-sectors-12902254.html',\n",
       " 'https://www.moneycontrol.com/news/business/markets/trade-spotlight-how-should-you-trade-kotak-mahindra-bank-kalyan-jewellers-hcl-technologies-itc-pb-fintech-and-others-on-january-3-12902467.html',\n",
       " 'https://www.moneycontrol.com/news/business/stocks/buy-signature-global-target-of-rs-2000-motilal-oswal-2-12902009.html',\n",
       " 'https://www.moneycontrol.com/news/business/markets/south-indian-bank-sprints-3-on-healthy-q3fy25-business-update-12901937.html',\n",
       " 'https://www.moneycontrol.com/news/business/stocks/pricol-shares-in-focus-on-divestment-of-wiping-business-division-12902384.html',\n",
       " 'https://www.moneycontrol.com/news/business/stocks/page-3/',\n",
       " 'https://www.moneycontrol.com/news/business/startup/',\n",
       " 'https://www.moneycontrol.com/news/business/commodities/',\n",
       " 'https://www.moneycontrol.com/news/business/economy/manufacturing-pmi-slips-to-a-12-month-low-of-56-4-in-dec-12901901.html',\n",
       " 'https://www.moneycontrol.com/news/business/markets/bull-party-on-d-street-sensex-jumps-1-500-pts-to-reclaim-80-000-nifty-hits-24-200-as-it-auto-stocks-surge-12902116.html',\n",
       " 'https://www.moneycontrol.com/news/business/economy/',\n",
       " 'https://www.moneycontrol.com/news/business/markets/stocks-to-watch-today-bharti-airtel-hero-motocorp-biocon-wockhardt-rites-dmart-v2-retail-bank-of-maharashtra-in-focus-on-3-january-12902457.html',\n",
       " 'https://www.moneycontrol.com/news/business/companies',\n",
       " 'https://www.moneycontrol.com/news/business/stocks/page-5/',\n",
       " 'https://www.moneycontrol.com/news/business/stocks/page-10/',\n",
       " 'https://www.moneycontrol.com/news/business/stocks/',\n",
       " 'https://www.moneycontrol.com/news/business/union-budget-2025-expectations-live-news-updates-fm-nirmala-sitharaman-suggestions-january-6-liveblog-12903843.html',\n",
       " 'https://www.moneycontrol.com/news/business/markets/first-tick-here-are-the-top-global-cues-for-today-s-trade-17-12902049.html',\n",
       " 'https://www.moneycontrol.com/news/business/stocks/rites-shares-in-focus-on-order-win-worth-rs-69-78-crore-from-sail-12902383.html',\n",
       " 'https://www.moneycontrol.com/news/business/stocks/page-9/',\n",
       " 'https://www.moneycontrol.com/news/business/personal-finance/',\n",
       " 'https://www.moneycontrol.com/news/business/stocks/top-gainers-losers-today-stocks-that-moved-the-most-on-january-2-2025-12902170.html',\n",
       " 'https://www.moneycontrol.com/news/business/markets/stock-market-live-sensex-nifty-50-share-price-gift-nifty-latest-updates-06-01-2025-liveblog-12903784.html',\n",
       " 'https://www.moneycontrol.com/news/business/',\n",
       " 'https://www.moneycontrol.com/news/business/markets/angel-one-shares-gain-nearly-5-on-strong-q3-update-12903911.html',\n",
       " 'https://www.moneycontrol.com/news/business/stocks/page-6/',\n",
       " 'https://www.moneycontrol.com/news/business/markets/sensex-jumps-700-pts-nifty-near-24k-as-auto-it-stocks-bolster-bullish-sentiment-psu-banks-suffer-12901948.html',\n",
       " 'https://www.moneycontrol.com/news/business/personal-finance/health-insurance-cover-for-five-years-here-s-what-you-should-know-about-multi-year-plans-12900429.html',\n",
       " 'https://www.moneycontrol.com/news/business/stocks/page-8/']"
      ]
     },
     "execution_count": 4,
     "metadata": {},
     "output_type": "execute_result"
    }
   ],
   "source": [
    "raw_urls"
   ]
  },
  {
   "cell_type": "code",
   "execution_count": null,
   "metadata": {},
   "outputs": [],
   "source": []
  },
  {
   "cell_type": "code",
   "execution_count": 5,
   "metadata": {
    "execution": {
     "iopub.execute_input": "2025-01-06T05:13:06.323386Z",
     "iopub.status.busy": "2025-01-06T05:13:06.323386Z",
     "iopub.status.idle": "2025-01-06T05:13:06.334232Z",
     "shell.execute_reply": "2025-01-06T05:13:06.332864Z"
    }
   },
   "outputs": [],
   "source": [
    "stock_urls =[]\n",
    "market_urls = []\n",
    "next_page_urls = []\n",
    "other_urls = []\n",
    "ipo_urls = []\n",
    "def extract_urls(all_urls):\n",
    "    for link in raw_urls:\n",
    "        if link.startswith(\"https://www.moneycontrol.com/news/business/stocks/page\"):\n",
    "            next_page_urls.append(link)\n",
    "        elif link.startswith(\"https://www.moneycontrol.com/news/business/stocks/\"):\n",
    "            stock_urls.append(link)\n",
    "        elif link.startswith(\"https://www.moneycontrol.com/news/business/markets/\"):\n",
    "            market_urls.append(link)\n",
    "        elif link.startswith(\"https://www.moneycontrol.com/news/business/ipo/\"):\n",
    "            ipo_urls.append(link)\n",
    "        else:\n",
    "            other_urls.append(link)"
   ]
  },
  {
   "cell_type": "code",
   "execution_count": 6,
   "metadata": {
    "execution": {
     "iopub.execute_input": "2025-01-06T05:13:06.341269Z",
     "iopub.status.busy": "2025-01-06T05:13:06.340274Z",
     "iopub.status.idle": "2025-01-06T05:13:06.349623Z",
     "shell.execute_reply": "2025-01-06T05:13:06.347802Z"
    }
   },
   "outputs": [],
   "source": [
    "extract_urls(raw_urls)"
   ]
  },
  {
   "cell_type": "code",
   "execution_count": 7,
   "metadata": {
    "execution": {
     "iopub.execute_input": "2025-01-06T05:13:06.355363Z",
     "iopub.status.busy": "2025-01-06T05:13:06.355363Z",
     "iopub.status.idle": "2025-01-06T05:13:06.365053Z",
     "shell.execute_reply": "2025-01-06T05:13:06.363484Z"
    }
   },
   "outputs": [
    {
     "data": {
      "text/plain": [
       "['https://www.moneycontrol.com/news/business/stocks/weekly-tactical-pick-cello-world-this-consumer-ware-player-is-set-to-clock-accelerated-growth-12902507.html',\n",
       " 'https://www.moneycontrol.com/news/business/stocks/agri-picks-report-january-02-2025-geojit-financial-services-12901949.html',\n",
       " 'https://www.moneycontrol.com/news/business/stocks/buy-signature-global-target-of-rs-2000-motilal-oswal-2-12902009.html',\n",
       " 'https://www.moneycontrol.com/news/business/stocks/pricol-shares-in-focus-on-divestment-of-wiping-business-division-12902384.html',\n",
       " 'https://www.moneycontrol.com/news/business/stocks/',\n",
       " 'https://www.moneycontrol.com/news/business/stocks/rites-shares-in-focus-on-order-win-worth-rs-69-78-crore-from-sail-12902383.html',\n",
       " 'https://www.moneycontrol.com/news/business/stocks/top-gainers-losers-today-stocks-that-moved-the-most-on-january-2-2025-12902170.html']"
      ]
     },
     "execution_count": 7,
     "metadata": {},
     "output_type": "execute_result"
    }
   ],
   "source": [
    "stock_urls"
   ]
  },
  {
   "cell_type": "code",
   "execution_count": 8,
   "metadata": {
    "execution": {
     "iopub.execute_input": "2025-01-06T05:13:06.370612Z",
     "iopub.status.busy": "2025-01-06T05:13:06.370612Z",
     "iopub.status.idle": "2025-01-06T05:13:06.379293Z",
     "shell.execute_reply": "2025-01-06T05:13:06.377723Z"
    }
   },
   "outputs": [],
   "source": [
    "\n",
    "regex = r'https:\\/\\/www\\.moneycontrol\\.com\\/news\\/business\\/stocks\\/[^\\/\\s]+(?:\\.[a-z]{2,6})(?:[\\/\\?].*)?'\n",
    "\n",
    "final_stocks_urls = [url for url in stock_urls if re.match(regex, url)]"
   ]
  },
  {
   "cell_type": "code",
   "execution_count": 9,
   "metadata": {
    "execution": {
     "iopub.execute_input": "2025-01-06T05:13:06.385715Z",
     "iopub.status.busy": "2025-01-06T05:13:06.385715Z",
     "iopub.status.idle": "2025-01-06T05:13:06.396197Z",
     "shell.execute_reply": "2025-01-06T05:13:06.393662Z"
    }
   },
   "outputs": [
    {
     "data": {
      "text/plain": [
       "['https://www.moneycontrol.com/news/business/stocks/weekly-tactical-pick-cello-world-this-consumer-ware-player-is-set-to-clock-accelerated-growth-12902507.html',\n",
       " 'https://www.moneycontrol.com/news/business/stocks/agri-picks-report-january-02-2025-geojit-financial-services-12901949.html',\n",
       " 'https://www.moneycontrol.com/news/business/stocks/buy-signature-global-target-of-rs-2000-motilal-oswal-2-12902009.html',\n",
       " 'https://www.moneycontrol.com/news/business/stocks/pricol-shares-in-focus-on-divestment-of-wiping-business-division-12902384.html',\n",
       " 'https://www.moneycontrol.com/news/business/stocks/rites-shares-in-focus-on-order-win-worth-rs-69-78-crore-from-sail-12902383.html',\n",
       " 'https://www.moneycontrol.com/news/business/stocks/top-gainers-losers-today-stocks-that-moved-the-most-on-january-2-2025-12902170.html']"
      ]
     },
     "execution_count": 9,
     "metadata": {},
     "output_type": "execute_result"
    }
   ],
   "source": [
    "final_stocks_urls"
   ]
  },
  {
   "cell_type": "code",
   "execution_count": 10,
   "metadata": {
    "execution": {
     "iopub.execute_input": "2025-01-06T05:13:06.402196Z",
     "iopub.status.busy": "2025-01-06T05:13:06.402196Z",
     "iopub.status.idle": "2025-01-06T05:13:06.445486Z",
     "shell.execute_reply": "2025-01-06T05:13:06.442151Z"
    }
   },
   "outputs": [],
   "source": [
    "myclient = pymongo.MongoClient(\"mongodb://localhost:27017/\")\n",
    "mydb = myclient[\"new_db\"]\n",
    "mycol = mydb['raw_news']"
   ]
  },
  {
   "cell_type": "code",
   "execution_count": 11,
   "metadata": {
    "execution": {
     "iopub.execute_input": "2025-01-06T05:13:06.452500Z",
     "iopub.status.busy": "2025-01-06T05:13:06.451499Z",
     "iopub.status.idle": "2025-01-06T05:13:08.124098Z",
     "shell.execute_reply": "2025-01-06T05:13:08.123084Z"
    }
   },
   "outputs": [],
   "source": [
    "service = Service(\"./chromedriver/chromedriver.exe\")\n",
    "options = Options()\n",
    "options.add_argument(\"--headless\")\n",
    "options.add_argument(\"--disable-gpu\")\n",
    "options.add_argument(\"user-agent=Mozilla/5.0 (Windows NT 10.0; Win64; x64) AppleWebKit/537.36 (KHTML, like Gecko) Chrome/114.0.5735.199 Safari/537.36\")\n",
    "\n",
    "driver = webdriver.Chrome(service=service, options= options)"
   ]
  },
  {
   "cell_type": "code",
   "execution_count": 12,
   "metadata": {
    "execution": {
     "iopub.execute_input": "2025-01-06T05:13:08.133752Z",
     "iopub.status.busy": "2025-01-06T05:13:08.132416Z",
     "iopub.status.idle": "2025-01-06T05:13:08.154523Z",
     "shell.execute_reply": "2025-01-06T05:13:08.154523Z"
    }
   },
   "outputs": [],
   "source": [
    "def extract_data(url):  \n",
    "    driver.get(url)\n",
    "    \n",
    "    WebDriverWait(driver, 60).until(\n",
    "        lambda d: d.execute_script(\"return document.readyState\") == \"complete\"\n",
    "    )\n",
    "    \n",
    "    html = driver.page_source\n",
    "    soup = BeautifulSoup(html, 'html.parser')    \n",
    "    news = {}\n",
    "    \n",
    "    title = soup.find('h1', class_ = \"article_title\")\n",
    "    news.update({\"title\":f\"{title.text.strip()}\"})\n",
    "    \n",
    "    desc = soup.find('h2', class_ = 'article_desc')\n",
    "    news.update({\"desc\":f\"{desc.text.strip()}\"})\n",
    "    \n",
    "    date_time_div = soup.find('div', class_=\"article_schedule\")\n",
    "    if date_time_div:\n",
    "        span_tag = date_time_div.find('span')\n",
    "        date = span_tag.text.strip()\n",
    "        news.update({\"date\":f\"{date}\"})\n",
    "    \n",
    "    datetime = date_time_div.text.strip()\n",
    "    news.update({\"datetime\":f\"{datetime}\"})\n",
    "    \n",
    "    paragraphs_list = []\n",
    "    paragrphs_div = soup.find('div', class_ =\"content_wrapper\")\n",
    "    if paragrphs_div:\n",
    "        paragraph_tags = paragrphs_div.find_all('p')\n",
    "        for p in paragraph_tags:\n",
    "            para_text = p.text.strip()            \n",
    "            if len(para_text) < 50 :\n",
    "                continue            \n",
    "            if re.search(r\"(click\\s+here|disclaimer|modal|window|advertisement|investment\\s+tips)\", para_text, re.IGNORECASE):\n",
    "                continue            \n",
    "            paragraphs_list.append(para_text)         \n",
    "            \n",
    "    news.update({\"content\": paragraphs_list})\n",
    "    \n",
    "    stock_name = soup.find('a', class_=\"stock-name\")\n",
    "    if stock_name:\n",
    "        news.update({\"stock_name\":f\"{stock_name.text.strip()}\"})\n",
    "            \n",
    "    # driver.quit()   \n",
    "    return news"
   ]
  },
  {
   "cell_type": "code",
   "execution_count": 13,
   "metadata": {
    "execution": {
     "iopub.execute_input": "2025-01-06T05:13:08.165011Z",
     "iopub.status.busy": "2025-01-06T05:13:08.163971Z",
     "iopub.status.idle": "2025-01-06T05:15:12.321372Z",
     "shell.execute_reply": "2025-01-06T05:15:12.320846Z"
    }
   },
   "outputs": [
    {
     "name": "stdout",
     "output_type": "stream",
     "text": [
      "677b66775bfa351eeb3ea868\n"
     ]
    },
    {
     "name": "stdout",
     "output_type": "stream",
     "text": [
      "677b66aa5bfa351eeb3ea869\n"
     ]
    },
    {
     "name": "stdout",
     "output_type": "stream",
     "text": [
      "677b66b15bfa351eeb3ea86a\n"
     ]
    },
    {
     "name": "stdout",
     "output_type": "stream",
     "text": [
      "677b66d55bfa351eeb3ea86b\n"
     ]
    },
    {
     "name": "stdout",
     "output_type": "stream",
     "text": [
      "677b66da5bfa351eeb3ea86c\n"
     ]
    },
    {
     "name": "stdout",
     "output_type": "stream",
     "text": [
      "677b66e05bfa351eeb3ea86d\n"
     ]
    }
   ],
   "source": [
    "for url in final_stocks_urls :\n",
    "    data = extract_data(url)\n",
    "    x = mycol.insert_one(data)\n",
    "    print(x.inserted_id)"
   ]
  },
  {
   "cell_type": "code",
   "execution_count": 14,
   "metadata": {
    "execution": {
     "iopub.execute_input": "2025-01-06T05:15:12.332959Z",
     "iopub.status.busy": "2025-01-06T05:15:12.331444Z",
     "iopub.status.idle": "2025-01-06T05:15:14.765435Z",
     "shell.execute_reply": "2025-01-06T05:15:14.761714Z"
    }
   },
   "outputs": [],
   "source": [
    "driver.quit()   "
   ]
  },
  {
   "cell_type": "code",
   "execution_count": null,
   "metadata": {},
   "outputs": [],
   "source": []
  }
 ],
 "metadata": {
  "kernelspec": {
   "display_name": "Python 3",
   "language": "python",
   "name": "python3"
  },
  "language_info": {
   "codemirror_mode": {
    "name": "ipython",
    "version": 3
   },
   "file_extension": ".py",
   "mimetype": "text/x-python",
   "name": "python",
   "nbconvert_exporter": "python",
   "pygments_lexer": "ipython3",
   "version": "3.12.3"
  }
 },
 "nbformat": 4,
 "nbformat_minor": 2
}
