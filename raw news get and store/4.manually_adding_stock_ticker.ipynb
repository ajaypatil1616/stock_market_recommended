{
 "cells": [
  {
   "cell_type": "code",
   "execution_count": 1,
   "metadata": {},
   "outputs": [],
   "source": [
    "import pymongo"
   ]
  },
  {
   "cell_type": "code",
   "execution_count": 2,
   "metadata": {},
   "outputs": [],
   "source": [
    "client = pymongo.MongoClient(\"mongodb://localhost:27017/\")\n",
    "db = client['new_db']\n",
    "processed_collection = db['processed_news']"
   ]
  },
  {
   "cell_type": "code",
   "execution_count": 3,
   "metadata": {},
   "outputs": [],
   "source": [
    "processed_news_list = list(processed_collection.find())"
   ]
  },
  {
   "cell_type": "code",
   "execution_count": 4,
   "metadata": {},
   "outputs": [
    {
     "data": {
      "text/plain": [
       "40"
      ]
     },
     "execution_count": 4,
     "metadata": {},
     "output_type": "execute_result"
    }
   ],
   "source": [
    "len(processed_news_list)"
   ]
  },
  {
   "cell_type": "code",
   "execution_count": 5,
   "metadata": {},
   "outputs": [],
   "source": [
    "query_to_retrieve_bad_records = { \"$or\":[{\"stock_name\":None}, {\"ticker_name\":None}]}\n",
    "\n",
    "bad_records = processed_collection.find(query_to_retrieve_bad_records)"
   ]
  },
  {
   "cell_type": "code",
   "execution_count": 6,
   "metadata": {},
   "outputs": [],
   "source": [
    "for record in bad_records:\n",
    "    # print(f\"{record['stock_name']} {record['ticker_name']}\")\n",
    "    # print(f\"{record['processed_text']}\")\n",
    "    \n",
    "    stock_name = input(f\"stock_name : {record['stock_name']}\\n ticker_name: {record['ticker_name']} \\n processed_text:{record['processed_text']}\")\n",
    "    ticker_name = input(f\"stock_name : {record['stock_name']}\\n ticker_name: {record['ticker_name']} \\n processed_text:{record['processed_text']}\")\n",
    "    \n",
    "    document = {\"_id\": record[\"_id\"]}\n",
    "    updated_document = { \"$set\" : {\"stock_name\": f\"{stock_name}\", \"ticker_name\": f\"{ticker_name}\"}}\n",
    "    processed_collection.update_one(document, updated_document)\n",
    "    "
   ]
  },
  {
   "cell_type": "code",
   "execution_count": null,
   "metadata": {},
   "outputs": [],
   "source": []
  },
  {
   "cell_type": "code",
   "execution_count": null,
   "metadata": {},
   "outputs": [],
   "source": []
  }
 ],
 "metadata": {
  "kernelspec": {
   "display_name": "Python 3",
   "language": "python",
   "name": "python3"
  },
  "language_info": {
   "codemirror_mode": {
    "name": "ipython",
    "version": 3
   },
   "file_extension": ".py",
   "mimetype": "text/x-python",
   "name": "python",
   "nbconvert_exporter": "python",
   "pygments_lexer": "ipython3",
   "version": "3.12.3"
  }
 },
 "nbformat": 4,
 "nbformat_minor": 2
}
