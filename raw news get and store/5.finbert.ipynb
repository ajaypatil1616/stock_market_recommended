{
 "cells": [
  {
   "cell_type": "code",
   "execution_count": 36,
   "metadata": {},
   "outputs": [],
   "source": [
    "import pymongo\n",
    "from datetime import datetime, timedelta\n",
    "import yfinance as yf"
   ]
  },
  {
   "cell_type": "code",
   "execution_count": 37,
   "metadata": {},
   "outputs": [],
   "source": [
    "client = pymongo.MongoClient(\"mongodb://localhost:27017\")\n",
    "db = client['new_db']\n",
    "processed_collection = db['processed_news']\n",
    "raw_collection = db['raw_news']"
   ]
  },
  {
   "cell_type": "code",
   "execution_count": 38,
   "metadata": {},
   "outputs": [],
   "source": [
    "processed_data_list = list(processed_collection.find())"
   ]
  },
  {
   "cell_type": "code",
   "execution_count": 39,
   "metadata": {},
   "outputs": [],
   "source": [
    "raw_data_list = list(raw_collection.find())"
   ]
  },
  {
   "cell_type": "code",
   "execution_count": null,
   "metadata": {},
   "outputs": [],
   "source": [
    "len(processed_data_list)"
   ]
  },
  {
   "cell_type": "code",
   "execution_count": null,
   "metadata": {},
   "outputs": [],
   "source": [
    "processed_data_list[1]"
   ]
  },
  {
   "cell_type": "code",
   "execution_count": 42,
   "metadata": {},
   "outputs": [],
   "source": [
    "from transformers import AutoTokenizer, AutoModelForSequenceClassification\n",
    "from transformers import pipeline"
   ]
  },
  {
   "cell_type": "code",
   "execution_count": 43,
   "metadata": {},
   "outputs": [],
   "source": [
    "tokenizer = AutoTokenizer.from_pretrained(\"yiyanghkust/finbert-tone\")\n",
    "model = AutoModelForSequenceClassification.from_pretrained(\"yiyanghkust/finbert-tone\")\n",
    "nlp_pipeline = pipeline(\"sentiment-analysis\", model=model, tokenizer=tokenizer)"
   ]
  },
  {
   "cell_type": "code",
   "execution_count": 44,
   "metadata": {},
   "outputs": [],
   "source": [
    "def split_text(text, max_length=500):\n",
    "    tokens = tokenizer.tokenize(text)\n",
    "    chunks = [tokens[i:i+max_length] for i in range(0, len(tokens), max_length)]\n",
    "    return [tokenizer.convert_tokens_to_string(chunk) for chunk in chunks]"
   ]
  },
  {
   "cell_type": "code",
   "execution_count": 45,
   "metadata": {},
   "outputs": [],
   "source": [
    "# for news in processed_data:\n",
    "#     text = news['processed_text']\n",
    "#     text_chunks = split_text(text)\n",
    "#     sentiment_results = []\n",
    "    \n",
    "#     for chunk in text_chunks:\n",
    "#         sentiment_result = nlp_pipeline(chunk)\n",
    "#         sentiment_results.append(sentiment_result)\n",
    "                        \n",
    "#     print(sentiment_results)"
   ]
  },
  {
   "cell_type": "code",
   "execution_count": 46,
   "metadata": {},
   "outputs": [],
   "source": [
    "for news in processed_data_list:\n",
    "    \n",
    "    text = news['raw_news']\n",
    "    \n",
    "    text_chunks = split_text(text)\n",
    "    sentiment_results = []\n",
    "    \n",
    "    for chunk in text_chunks:\n",
    "        sentiment_result = nlp_pipeline(chunk)\n",
    "        sentiment_results.extend(sentiment_result)\n",
    "\n",
    "    i = 0\n",
    "    while i < len(sentiment_results) - 1:\n",
    "        if sentiment_results[i]['label'] == sentiment_results[i + 1]['label']:\n",
    "            avg_score = (sentiment_results[i]['score'] + sentiment_results[i + 1]['score']) / 2\n",
    "            sentiment_results[i] = {\"label\": sentiment_results[i]['label'], \"score\": avg_score}\n",
    "            del sentiment_results[i + 1]  \n",
    "        else:\n",
    "            i += 1  \n",
    "    news.update({\"finbert_analysis\":sentiment_results})\n",
    " \n",
    "    # print(\"Updated Sentiment Results:\", sentiment_results)"
   ]
  },
  {
   "cell_type": "code",
   "execution_count": null,
   "metadata": {},
   "outputs": [],
   "source": [
    "processed_data_list[39]"
   ]
  },
  {
   "cell_type": "code",
   "execution_count": 48,
   "metadata": {},
   "outputs": [],
   "source": [
    "finbert_list = []"
   ]
  },
  {
   "cell_type": "code",
   "execution_count": 49,
   "metadata": {},
   "outputs": [],
   "source": [
    "for data in processed_data_list:\n",
    "    if len(data['finbert_analysis']) == 1:\n",
    "        if data['stock_name'] and data['ticker_name']:\n",
    "            finbert_list.append(data)\n"
   ]
  },
  {
   "cell_type": "code",
   "execution_count": null,
   "metadata": {},
   "outputs": [],
   "source": [
    "# for data in finbert_list:\n",
    "#     print(data['ticker_name'])"
   ]
  },
  {
   "cell_type": "code",
   "execution_count": 55,
   "metadata": {},
   "outputs": [
    {
     "data": {
      "text/plain": [
       "{'_id': ObjectId('6777a0d08581574bb8d03acb'),\n",
       " 'raw_news': \"Buy Coal India; target of Rs 525: Emkay Global Financial Emkay Global Financial is bullish on Coal India has recommended buy rating on the stock with a target price of Rs 525 in its research report dated January 02, 2025. Emkay Global Financial's research report on Coal India Over the past 12-18 months, investors were enthused by a large-cap stock delivering volumes growth CAGR of 7-8%, alongside an improving demand outlook resulting in solid earnings momentum. We were also subscribed to this narrative for COAL; however, the growth air-pocket in recent months has weakened that thesis. We see the company missing its FY25 guidance by 35- 40mt (4.5%), and therefore, we reduce our estimate to 800mt. In addition, there has been news flow around progress on captive coal mines that could displace e-auction volumes. In our assessment, these captive mines could produce 26mt in FY28E, displacing a third of the e-auction offtake. All that said, we think the concerns are broadly in the price, whereas the medium-term demand growth outlook and project delivery catalysts are well-placed. We, therefore, reiterate our BUY rating, albeit at a reduced TP of Rs525.\",\n",
       " 'processed_text': 'buy coal india target r emkay global financial emkay global financial bullish coal india recommended buy rating stock target price r research report dated january emkay global financials research report coal india past month investor enthused largecap stock delivering volume growth cagr alongside improving demand outlook resulting solid earnings momentum also subscribed narrative coal however growth airpocket recent month weakened thesis see company missing fy guidance mt therefore reduce estimate mt addition news flow around progress captive coal mine could displace eauction volume assessment captive mine could produce mt fye displacing third eauction offtake said think concern broadly price whereas mediumterm demand growth outlook project delivery catalyst wellplaced therefore reiterate buy rating albeit reduced tp r',\n",
       " 'date': '2025-01-03',\n",
       " 'datetime': '2025-01-03 12:26',\n",
       " 'stock_name': 'Coal India',\n",
       " 'ticker_name': 'COALINDIA.NS',\n",
       " 'finbert_analysis': [{'label': 'Positive', 'score': 0.9907084703445435}]}"
      ]
     },
     "execution_count": 55,
     "metadata": {},
     "output_type": "execute_result"
    }
   ],
   "source": [
    "finbert_list[0]"
   ]
  },
  {
   "cell_type": "code",
   "execution_count": 56,
   "metadata": {},
   "outputs": [],
   "source": [
    "import yfinance as yf\n",
    "\n",
    "def get_stock_data(ticker, date):\n",
    "    stock = yf.Ticker(ticker)\n",
    "    historical_data = stock.history(start=date, end=date)\n",
    "    if not historical_data.empty:\n",
    "        opening_price = historical_data['Open'].values[0]\n",
    "        closing_price = historical_data['Close'].values[0]\n",
    "        volume = historical_data['Volume'].values[0]\n",
    "        price_movement = ((closing_price - opening_price) / opening_price) * 100\n",
    "        return {\n",
    "            \"opening_price\": opening_price,\n",
    "            \"closing_price\": closing_price,\n",
    "            \"volume\": volume,\n",
    "            \"price_movement\": price_movement,\n",
    "        }\n",
    "    return None\n"
   ]
  },
  {
   "cell_type": "code",
   "execution_count": 58,
   "metadata": {},
   "outputs": [
    {
     "name": "stderr",
     "output_type": "stream",
     "text": [
      "COALINDIA.NS: No price data found, symbol may be delisted (1d 2025-01-03 -> 2025-01-03)\n"
     ]
    }
   ],
   "source": [
    "data = get_stock_data(finbert_list[0]['ticker_name'], finbert_list[0]['date'])"
   ]
  },
  {
   "cell_type": "code",
   "execution_count": 59,
   "metadata": {},
   "outputs": [
    {
     "name": "stdout",
     "output_type": "stream",
     "text": [
      "None\n"
     ]
    }
   ],
   "source": [
    "print(data)"
   ]
  },
  {
   "cell_type": "code",
   "execution_count": null,
   "metadata": {},
   "outputs": [],
   "source": []
  },
  {
   "cell_type": "code",
   "execution_count": 51,
   "metadata": {},
   "outputs": [],
   "source": [
    "def get_stock_data(stock_ticker, date):\n",
    "    date_obj = datetime.strptime(date, \"%B %d, %Y\")\n",
    "    formatted_date = date_obj.strftime(\"%Y-%m-%d\")\n",
    "    stock = yf.Ticker(stock_ticker)\n",
    "    hist = stock.history(start=formatted_date, end=(date_obj + timedelta(days=2)).strftime(\"%Y-%m-%d\"))\n",
    "    if not hist.empty:\n",
    "        closest_date = hist.index[0]\n",
    "        open_price = hist.iloc[0][\"Open\"]\n",
    "        close_price = hist.iloc[0][\"Close\"]\n",
    "        volume = hist.iloc[0][\"Volume\"]\n",
    "        volume = hist.iloc[0][\"Prev_Close\"]\n",
    "        stock_movement = \"up\" if close_price > open_price else \"down\"\n",
    "        return {\n",
    "            \"stock_ticker\": stock_ticker,\n",
    "            \"date\": closest_date.strftime(\"%Y-%m-%d\"),\n",
    "            \"open_price\": open_price,\n",
    "            \"close_price\": close_price,\n",
    "            \"volume\": volume,\n",
    "            \"movement\": stock_movement,\n",
    "        }\n",
    "    else:\n",
    "        return {\"error\":f\"no data available\"}"
   ]
  },
  {
   "cell_type": "code",
   "execution_count": null,
   "metadata": {},
   "outputs": [],
   "source": []
  },
  {
   "cell_type": "code",
   "execution_count": null,
   "metadata": {},
   "outputs": [],
   "source": []
  }
 ],
 "metadata": {
  "kernelspec": {
   "display_name": "Python 3",
   "language": "python",
   "name": "python3"
  },
  "language_info": {
   "codemirror_mode": {
    "name": "ipython",
    "version": 3
   },
   "file_extension": ".py",
   "mimetype": "text/x-python",
   "name": "python",
   "nbconvert_exporter": "python",
   "pygments_lexer": "ipython3",
   "version": "3.12.3"
  }
 },
 "nbformat": 4,
 "nbformat_minor": 2
}
