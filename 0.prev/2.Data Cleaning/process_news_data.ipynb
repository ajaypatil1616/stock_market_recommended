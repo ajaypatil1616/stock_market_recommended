{
 "cells": [
  {
   "cell_type": "code",
   "execution_count": 2,
   "metadata": {},
   "outputs": [
    {
     "name": "stdout",
     "output_type": "stream",
     "text": [
      "Cleaned data saved to:\n"
     ]
    }
   ],
   "source": [
    "import pandas as pd\n",
    "from datetime import datetime\n",
    "\n",
    "def process_news_data(file_path):\n",
    "    # Load the data\n",
    "    df = pd.read_csv(file_path, parse_dates=['PublishedAt'])\n",
    "\n",
    "    # Drop duplicates if any\n",
    "    df.drop_duplicates(inplace=True)\n",
    "\n",
    "    # Handle missing values, here we can choose to fill with a method or drop them\n",
    "    df.fillna('', inplace=True)\n",
    "\n",
    "    # Convert 'PublishedAt' to datetime if not already in datetime format\n",
    "    df['PublishedAt'] = pd.to_datetime(df['PublishedAt'], errors='coerce')\n",
    "\n",
    "    # Remove rows with invalid dates\n",
    "    df = df.dropna(subset=['PublishedAt'])\n",
    "\n",
    "    # Save the cleaned data to a new CSV\n",
    "    # cleaned_file_path = file_path.replace('.csv', '_cleaned.csv')\n",
    "    df.to_csv('cleaned_news.csv', index=False)\n",
    "\n",
    "    \n",
    "\n",
    "# Example usage\n",
    "file_path = '../1.Data Collection/news/bharat_electronics_news.csv'\n",
    "cleaned_file = process_news_data(file_path)\n",
    "print(f'Cleaned data saved to:')\n"
   ]
  },
  {
   "cell_type": "code",
   "execution_count": null,
   "metadata": {},
   "outputs": [],
   "source": []
  }
 ],
 "metadata": {
  "kernelspec": {
   "display_name": "Python 3",
   "language": "python",
   "name": "python3"
  },
  "language_info": {
   "codemirror_mode": {
    "name": "ipython",
    "version": 3
   },
   "file_extension": ".py",
   "mimetype": "text/x-python",
   "name": "python",
   "nbconvert_exporter": "python",
   "pygments_lexer": "ipython3",
   "version": "3.12.3"
  }
 },
 "nbformat": 4,
 "nbformat_minor": 2
}
