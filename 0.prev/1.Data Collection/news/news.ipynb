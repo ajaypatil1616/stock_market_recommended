{
 "cells": [
  {
   "cell_type": "code",
   "execution_count": 1,
   "metadata": {},
   "outputs": [],
   "source": [
    "import requests\n",
    "import pandas as pd\n",
    "\n",
    "#  NewsAPI key\n",
    "api_key = '7a2f53eed78b43469d067a00817ae8ec'\n",
    "query = 'Bharat Electronics' \n",
    "url = f'https://newsapi.org/v2/everything?q={query}&sortBy=publishedAt&apiKey={api_key}'\n",
    "\n",
    "\n",
    "response = requests.get(url)\n",
    "articles = response.json().get('articles', [])\n",
    "\n",
    "\n",
    "news_data = []\n",
    "for article in articles:\n",
    "    news_data.append({\n",
    "        'Title': article['title'],\n",
    "        'PublishedAt': article['publishedAt'],\n",
    "        'Description': article.get('description', ''),\n",
    "        'URL': article.get('url', '')\n",
    "    })\n",
    "\n",
    "\n",
    "df = pd.DataFrame(news_data)\n",
    "\n",
    "\n",
    "csv_filename = 'bharat_electronics_news.csv'\n",
    "df.to_csv(csv_filename, index=False)\n",
    "\n",
    "\n"
   ]
  },
  {
   "cell_type": "code",
   "execution_count": null,
   "metadata": {},
   "outputs": [],
   "source": []
  }
 ],
 "metadata": {
  "kernelspec": {
   "display_name": "Python 3",
   "language": "python",
   "name": "python3"
  },
  "language_info": {
   "codemirror_mode": {
    "name": "ipython",
    "version": 3
   },
   "file_extension": ".py",
   "mimetype": "text/x-python",
   "name": "python",
   "nbconvert_exporter": "python",
   "pygments_lexer": "ipython3",
   "version": "3.12.3"
  }
 },
 "nbformat": 4,
 "nbformat_minor": 2
}
