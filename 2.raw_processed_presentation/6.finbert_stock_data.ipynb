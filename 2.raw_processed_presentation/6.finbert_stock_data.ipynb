{
 "cells": [
  {
   "cell_type": "code",
   "execution_count": 21,
   "metadata": {},
   "outputs": [],
   "source": [
    "import pymongo\n",
    "from datetime import datetime, timedelta\n",
    "import yfinance as yf"
   ]
  },
  {
   "cell_type": "code",
   "execution_count": 22,
   "metadata": {},
   "outputs": [],
   "source": [
    "client = pymongo.MongoClient(\"mongodb://localhost:27017\")\n",
    "db = client['new_db']\n",
    "processed_collection = db['processed_news']\n",
    "raw_collection = db['raw_news']"
   ]
  },
  {
   "cell_type": "code",
   "execution_count": 23,
   "metadata": {},
   "outputs": [],
   "source": [
    "processed_data_list = list(processed_collection.find())"
   ]
  },
  {
   "cell_type": "code",
   "execution_count": 24,
   "metadata": {},
   "outputs": [],
   "source": [
    "raw_data_list = list(raw_collection.find())"
   ]
  },
  {
   "cell_type": "code",
   "execution_count": 25,
   "metadata": {},
   "outputs": [
    {
     "data": {
      "text/plain": [
       "252"
      ]
     },
     "execution_count": 25,
     "metadata": {},
     "output_type": "execute_result"
    }
   ],
   "source": [
    "len(processed_data_list)"
   ]
  },
  {
   "cell_type": "code",
   "execution_count": 26,
   "metadata": {},
   "outputs": [
    {
     "data": {
      "text/plain": [
       "{'_id': ObjectId('6777a0a68581574bb8d03aca'),\n",
       " 'raw_news': 'Weekly Tactical Pick | Cello World: This consumer ware player is set to clock accelerated growth The company is diversifying distribution reach and scaling up launches as demand is expected to improve going forward Consumer demand, which was muted in the past few quarters, is expected to revive from Q3FY25. Hence, Cello World Limited (CWL; CMP: Rs 765; Nifty level: 24,189), India’s leading consumer houseware brand, is our tactical pick for this week. After a subdued H1FY25, CWL saw strong growth momentum in October 2024. With the wedding and festive season, demand',\n",
       " 'processed_text': 'weekly tactical pick cello world consumer ware player set clock accelerated growth company diversifying distribution reach scaling launch demand expected improve going forward consumer demand muted past quarter expected revive qfy hence cello world limited cwl cmp r nifty level india leading consumer houseware brand tactical pick week subdued hfy cwl saw strong growth momentum october wedding festive season demand',\n",
       " 'date': '2025-01-03',\n",
       " 'datetime': '2025-01-03 09:26',\n",
       " 'stock_name': 'CELLO',\n",
       " 'ticker_name': 'CELLO.NS'}"
      ]
     },
     "execution_count": 26,
     "metadata": {},
     "output_type": "execute_result"
    }
   ],
   "source": [
    "processed_data_list[1]"
   ]
  },
  {
   "cell_type": "code",
   "execution_count": 27,
   "metadata": {},
   "outputs": [],
   "source": [
    "from transformers import AutoTokenizer, AutoModelForSequenceClassification\n",
    "from transformers import pipeline"
   ]
  },
  {
   "cell_type": "code",
   "execution_count": 28,
   "metadata": {},
   "outputs": [],
   "source": [
    "tokenizer = AutoTokenizer.from_pretrained(\"yiyanghkust/finbert-tone\")\n",
    "model = AutoModelForSequenceClassification.from_pretrained(\"yiyanghkust/finbert-tone\")\n",
    "nlp_pipeline = pipeline(\"sentiment-analysis\", model=model, tokenizer=tokenizer)"
   ]
  },
  {
   "cell_type": "code",
   "execution_count": 29,
   "metadata": {},
   "outputs": [],
   "source": [
    "def split_text(text, max_length=500):\n",
    "    tokens = tokenizer.tokenize(text)\n",
    "    chunks = [tokens[i:i+max_length] for i in range(0, len(tokens), max_length)]\n",
    "    return [tokenizer.convert_tokens_to_string(chunk) for chunk in chunks]"
   ]
  },
  {
   "cell_type": "code",
   "execution_count": 30,
   "metadata": {},
   "outputs": [],
   "source": [
    "# for news in processed_data:\n",
    "#     text = news['processed_text']\n",
    "#     text_chunks = split_text(text)\n",
    "#     sentiment_results = []\n",
    "    \n",
    "#     for chunk in text_chunks:\n",
    "#         sentiment_result = nlp_pipeline(chunk)\n",
    "#         sentiment_results.append(sentiment_result)\n",
    "                        \n",
    "#     print(sentiment_results)"
   ]
  },
  {
   "cell_type": "code",
   "execution_count": 31,
   "metadata": {},
   "outputs": [],
   "source": [
    "for news in processed_data_list:\n",
    "    \n",
    "    text = news['raw_news']\n",
    "    \n",
    "    text_chunks = split_text(text)\n",
    "    sentiment_results = []\n",
    "    \n",
    "    for chunk in text_chunks:\n",
    "        sentiment_result = nlp_pipeline(chunk)\n",
    "        sentiment_results.extend(sentiment_result)\n",
    "\n",
    "    i = 0\n",
    "    while i < len(sentiment_results) - 1:\n",
    "        if sentiment_results[i]['label'] == sentiment_results[i + 1]['label']:\n",
    "            avg_score = (sentiment_results[i]['score'] + sentiment_results[i + 1]['score']) / 2\n",
    "            sentiment_results[i] = {\"label\": sentiment_results[i]['label'], \"score\": avg_score}\n",
    "            del sentiment_results[i + 1]  \n",
    "        else:\n",
    "            i += 1  \n",
    "    news.update({\"finbert_analysis\":sentiment_results})\n",
    " \n",
    "    # print(\"Updated Sentiment Results:\", sentiment_results)"
   ]
  },
  {
   "cell_type": "code",
   "execution_count": 32,
   "metadata": {},
   "outputs": [
    {
     "data": {
      "text/plain": [
       "{'_id': ObjectId('6777a5fe8581574bb8d03af5'),\n",
       " 'raw_news': \"Buy JSW Infrastructure; target of Rs 375: Motilal Oswal Motilal Oswal is bullish on JSW Infrastructure recommended buy rating on the stock with a target price of Rs 375 in its research report dated December 26, 2024. Motilal Oswal's research report on JSW Infrastructure Second-largest private port operator with improving market share: JSW Infrastructure (JSWINFRA), with an aggregate capacity of 170MMT as of Sep’24, is the second-largest private port operator in India after Adani Ports (having a capacity of ~633MMT). The company has reported a 22% cargo volume CAGR over FY18-24 (13% YoY growth in 1HFY25), far outpacing the industry growth rate of ~4% over the same period. Focused on ramping up capacity to 400MMT by 2030: JSWINFRA has embarked on a massive capex plan of INR300b (INR150b over FY25-28) towards expanding the total cargo handling capacity from 170mtpa currently to 288mtpa by FY28 and eventually to 400mtpa by FY30, banking on the rise of India’s cargo movement. In line with its capex program, the company has undertaken brownfield expansions at its Jaigarh and Dharamtar ports (two of its largest ports in terms of capacity and volumes), adding a combined 36MT with an estimated capex of INR23.6b, which is targeted for completion by Mar’27. We estimate a volume/revenue/EBITDA/APAT CAGR of 14%/19%/20%/19% over FY24-27. Reiterate BUY with a revised TP of INR375 (premised on 25x Sep’26 EV/EBITDA).\",\n",
       " 'processed_text': 'buy jsw infrastructure target r motilal oswal motilal oswal bullish jsw infrastructure recommended buy rating stock target price r research report dated december motilal oswals research report jsw infrastructure secondlargest private port operator improving market share jsw infrastructure jswinfra aggregate capacity mmt sep secondlargest private port operator india adani port capacity mmt company reported cargo volume cagr fy yoy growth hfy far outpacing industry growth rate period focused ramping capacity mmt jswinfra embarked massive capex plan inrb inrb fy towards expanding total cargo handling capacity mtpa currently mtpa fy eventually mtpa fy banking rise india cargo movement line capex program company undertaken brownfield expansion jaigarh dharamtar port two largest port term capacity volume adding combined mt estimated capex inrb targeted completion mar estimate volumerevenueebitdaapat cagr fy reiterate buy revised tp inr premised x sep evebitda',\n",
       " 'date': '2024-12-27',\n",
       " 'datetime': '2024-12-27 15:07',\n",
       " 'stock_name': 'JSW Infra',\n",
       " 'ticker_name': 'JSWINFRA.BO',\n",
       " 'finbert_analysis': [{'label': 'Positive', 'score': 0.9999896287918091}]}"
      ]
     },
     "execution_count": 32,
     "metadata": {},
     "output_type": "execute_result"
    }
   ],
   "source": [
    "processed_data_list[39]"
   ]
  },
  {
   "cell_type": "code",
   "execution_count": 33,
   "metadata": {},
   "outputs": [],
   "source": [
    "finbert_list = []"
   ]
  },
  {
   "cell_type": "code",
   "execution_count": 34,
   "metadata": {},
   "outputs": [],
   "source": [
    "for data in processed_data_list:\n",
    "    if len(data['finbert_analysis']) == 1:\n",
    "        if data['stock_name'] and data['ticker_name']:\n",
    "            finbert_list.append(data)\n"
   ]
  },
  {
   "cell_type": "code",
   "execution_count": 35,
   "metadata": {},
   "outputs": [],
   "source": [
    "# for data in finbert_list:\n",
    "#     print(data['ticker_name'])"
   ]
  },
  {
   "cell_type": "code",
   "execution_count": 36,
   "metadata": {},
   "outputs": [
    {
     "data": {
      "text/plain": [
       "{'_id': ObjectId('6777a09f8581574bb8d03ac9'),\n",
       " 'raw_news': \"Western Carriers stock zooms 13% after securing Rs 139-crore contract from Vedanta The four year-long agreement involves the handling of import, finished goods (FG) domestic, and export materials at Vedanta's JSG Plant The stock of Western Carriers (India) Ltd rose as high as 13.5 percent intraday on\\xa0January 3, after the company secured a significant contract worth Rs 139 crore from Vedanta Ltd. The agreement involves the handling of import, finished goods (FG) domestic, and export materials at Vedanta's JSG Plant and will span a period of four years. At 11:43 am\\xa0on January 3, the stock was trading at Rs 123.86, up by\\xa06.87 percent The company clarified in a stock exchange filing that this contract was awarded by Vedanta, an unrelated party, and was negotiated at arm's length, aligning with Western Carriers' corporate objectives. In\\xa0Q2FY2025, Western Carriers (India) Ltd reported a modest increase in net profit. Net profit rose by 3.6 percent to Rs 18.96 crore compared to Rs 18.30 crore in the corresponding quarter of the previous year. Revenue from operations also saw a slight growth of 1.3 percent year-on-year, reaching Rs 431.43 crore. EBITDA (excluding other income) grew by 7.68 percent to Rs 361.41 million, driven by an improvement in EBITDA margins, which expanded by 50 basis points to 8.38 percent in Q2 FY25. Its client roster includes major players such as Tata Steel, Hindalco Industries, Vedanta, BALCO, HUL, Coca-Cola India, Tata Consumer Products, Wagh Bakri, Cipla, Haldia Petrochemicals, and Gujarat Heavy Chemicals, among others.\",\n",
       " 'processed_text': 'western carrier stock zoom securing r crore contract vedanta four yearlong agreement involves handling import finished good fg domestic export material vedanta jsg plant stock western carrier india ltd rose high percent intraday january company secured significant contract worth r crore vedanta ltd agreement involves handling import finished good fg domestic export material vedanta jsg plant span period four year january stock trading r percent company clarified stock exchange filing contract awarded vedanta unrelated party negotiated arm length aligning western carrier corporate objective qfy western carrier india ltd reported modest increase net profit net profit rose percent r crore compared r crore corresponding quarter previous year revenue operation also saw slight growth percent yearonyear reaching r crore ebitda excluding income grew percent r million driven improvement ebitda margin expanded basis point percent q fy client roster includes major player tata steel hindalco industry vedanta balco hul cocacola india tata consumer product wagh bakri cipla haldia petrochemical gujarat heavy chemical among others',\n",
       " 'date': '2025-01-03',\n",
       " 'datetime': '2025-01-03 12:21',\n",
       " 'stock_name': 'Western Carrier',\n",
       " 'ticker_name': 'WCIL.NS',\n",
       " 'finbert_analysis': [{'label': 'Positive', 'score': 0.9996926784515381}]}"
      ]
     },
     "execution_count": 36,
     "metadata": {},
     "output_type": "execute_result"
    }
   ],
   "source": [
    "finbert_list[0]"
   ]
  },
  {
   "cell_type": "code",
   "execution_count": 37,
   "metadata": {},
   "outputs": [],
   "source": [
    "import pandas as pd\n",
    "import yfinance as yf\n",
    "from datetime import datetime, timedelta\n",
    "\n",
    "def get_stock_features(ticker, news_date):\n",
    "    \n",
    "    try:\n",
    "        news_date = datetime.strptime(news_date, \"%Y-%m-%d\")\n",
    "        before_start = (news_date - timedelta(days=5)).strftime(\"%Y-%m-%d\")\n",
    "        after_end = (news_date + timedelta(days=5)).strftime(\"%Y-%m-%d\")\n",
    "        \n",
    "        \n",
    "        stock = yf.Ticker(ticker)\n",
    "        try:\n",
    "            historical_data = stock.history(start=before_start, end=after_end)  \n",
    "            historical_data.index = historical_data.index.tz_localize(None)\n",
    "        except Exception as e:\n",
    "            print(f\"Error fetching data for ticker {ticker}: {e}\")\n",
    "            return None\n",
    "            \n",
    "            \n",
    "        if historical_data.empty:\n",
    "            return None\n",
    "        \n",
    "        #before news stock data\n",
    "        before_news = historical_data.loc[:news_date - timedelta(days=1)]\n",
    "        avg_price_5d = before_news['Close'].mean()\n",
    "        vol_5d = before_news['Close'].std()\n",
    "        avg_volume_5d = before_news['Volume'].mean()\n",
    "        \n",
    "        # news day stock data\n",
    "        if news_date.strftime(\"%Y-%m-%d\") in historical_data.index:\n",
    "            news_day = historical_data.loc[news_date.strftime(\"%Y-%m-%d\")]\n",
    "            open_price = news_day['Open']\n",
    "            close_price = news_day['Close']\n",
    "            volume_news_day = news_day['Volume']\n",
    "            stock_movement = \"up\" if close_price > open_price else \"down\"\n",
    "        else:\n",
    "            open_price = close_price = volume_news_day = None\n",
    "        \n",
    "        # gap\n",
    "        prev_day_idx = historical_data.index.get_loc(news_date) - 1\n",
    "        if prev_day_idx >= 0:\n",
    "            prev_close = historical_data.iloc[prev_day_idx]['Close']\n",
    "            gap = open_price - prev_close if open_price is not None else None\n",
    "        else:\n",
    "            prev_close = None\n",
    "            gap = None\n",
    "        \n",
    "        # after news stock data \n",
    "        after_news = historical_data.loc[news_date + timedelta(days=1):]\n",
    "        price_movement_1d = ((after_news['Close'].iloc[0] - open_price) / open_price) * 100 if len(after_news) > 0 and open_price else None\n",
    "        price_movement_3d = ((after_news['Close'].iloc[2] - open_price) / open_price) * 100 if len(after_news) > 2 and open_price else None\n",
    "        price_movement_5d = ((after_news['Close'].iloc[4] - open_price) / open_price) * 100 if len(after_news) > 4 and open_price else None\n",
    "        # avg_volume_after = after_news['Volume'].mean() if len(after_news) > 0 else None\n",
    "        \n",
    "        return {\n",
    "            \"avg_price_5d\": avg_price_5d,\n",
    "            \"volatility_5d\": vol_5d,\n",
    "            \"avg_volume_5d\": avg_volume_5d,\n",
    "            \"open_price_news_day\": open_price,\n",
    "            \"close_price_news_day\": close_price,\n",
    "            \"volume_news_day\": volume_news_day,\n",
    "            \"price_movement_1d\": price_movement_1d,\n",
    "            \"price_movement_3d\": price_movement_3d,\n",
    "            # \"price_movement_5d\": price_movement_5d,\n",
    "            # \"avg_volume_after\": avg_volume_after,\n",
    "            \"gap\":gap,\n",
    "            \"stock_movement_on_news_day\":stock_movement,\n",
    "        }\n",
    "    except Exception as e :\n",
    "        return None\n"
   ]
  },
  {
   "cell_type": "code",
   "execution_count": 38,
   "metadata": {},
   "outputs": [],
   "source": [
    "# news_date = \"2025-01-03\"\n",
    "# ticker = \"SBIN.NS\"\n",
    "# features = get_stock_features(ticker, news_date)"
   ]
  },
  {
   "cell_type": "code",
   "execution_count": 39,
   "metadata": {},
   "outputs": [],
   "source": [
    "# features"
   ]
  },
  {
   "cell_type": "code",
   "execution_count": 40,
   "metadata": {},
   "outputs": [
    {
     "name": "stdout",
     "output_type": "stream",
     "text": [
      "0\n",
      "1\n",
      "2\n",
      "3\n",
      "4\n",
      "5\n",
      "6\n",
      "7\n",
      "8\n",
      "9\n",
      "10\n",
      "11\n",
      "12\n",
      "13\n",
      "14\n",
      "15\n",
      "16\n",
      "17\n",
      "18\n",
      "19\n",
      "20\n",
      "21\n",
      "22\n",
      "23\n",
      "24\n",
      "25\n",
      "26\n",
      "27\n",
      "28\n",
      "29\n",
      "30\n",
      "31\n",
      "32\n",
      "33\n",
      "34\n",
      "35\n",
      "36\n",
      "37\n",
      "38\n",
      "39\n",
      "40\n",
      "41\n",
      "42\n",
      "43\n",
      "44\n",
      "45\n",
      "46\n",
      "47\n",
      "48\n",
      "49\n",
      "50\n",
      "51\n",
      "52\n",
      "53\n",
      "54\n",
      "55\n",
      "56\n",
      "57\n",
      "58\n",
      "59\n",
      "60\n",
      "61\n",
      "62\n",
      "63\n",
      "64\n",
      "65\n",
      "66\n",
      "67\n",
      "68\n",
      "69\n",
      "70\n",
      "71\n",
      "72\n",
      "73\n",
      "74\n",
      "75\n",
      "76\n",
      "77\n",
      "78\n",
      "79\n",
      "80\n",
      "81\n",
      "82\n",
      "83\n",
      "84\n",
      "85\n",
      "86\n",
      "87\n",
      "88\n",
      "89\n",
      "90\n",
      "91\n",
      "92\n",
      "93\n",
      "94\n",
      "95\n",
      "96\n",
      "97\n",
      "98\n",
      "99\n",
      "100\n",
      "101\n",
      "102\n",
      "103\n",
      "104\n",
      "105\n",
      "106\n",
      "107\n",
      "108\n",
      "109\n",
      "110\n",
      "111\n",
      "112\n",
      "113\n",
      "114\n",
      "115\n",
      "116\n",
      "117\n",
      "118\n",
      "119\n",
      "120\n",
      "121\n",
      "122\n",
      "123\n",
      "124\n",
      "125\n",
      "126\n",
      "127\n",
      "128\n",
      "129\n",
      "130\n",
      "131\n",
      "132\n",
      "133\n",
      "134\n",
      "135\n",
      "136\n",
      "137\n",
      "138\n",
      "139\n",
      "140\n",
      "141\n",
      "142\n",
      "143\n",
      "144\n",
      "145\n",
      "146\n",
      "147\n",
      "148\n",
      "149\n",
      "150\n",
      "151\n",
      "152\n",
      "153\n",
      "154\n",
      "155\n",
      "156\n",
      "157\n",
      "158\n",
      "159\n",
      "160\n",
      "161\n",
      "162\n",
      "163\n",
      "164\n",
      "165\n",
      "166\n",
      "167\n",
      "168\n",
      "169\n",
      "170\n",
      "171\n",
      "172\n",
      "173\n",
      "174\n",
      "175\n",
      "176\n",
      "177\n",
      "178\n",
      "179\n",
      "180\n",
      "181\n",
      "182\n",
      "183\n"
     ]
    }
   ],
   "source": [
    "count = 0 \n",
    "for finbert_added_data in finbert_list:\n",
    "    ticker = finbert_added_data['ticker_name'].strip()\n",
    "    date = finbert_added_data['date'].strip()\n",
    "    \n",
    "    data = get_stock_features(ticker, date)\n",
    "    print(count)\n",
    "    finbert_added_data.update({\"stock_data\": data})\n",
    "    count += 1"
   ]
  },
  {
   "cell_type": "code",
   "execution_count": 41,
   "metadata": {},
   "outputs": [
    {
     "data": {
      "text/plain": [
       "{'_id': ObjectId('677b62ea9229c97949479ea5'),\n",
       " 'raw_news': 'NTPC Renewable Energy bags 1,000-MW solar power project NTPC Renewable Energy has secured a capacity of 1000 MW at a tariff of Rs 2.56/kWh and is currently awaiting the Letter of Award (LOA) from UPPCL. NTPC Renewable Energy Limited has won the bid for a\\xa0 1000-MW in Uttar Pradesh. According to a filing on BSE on January 4,\\xa0the renewable energy company\\xa0emerged as a successful bidder in the e-reverse auction conducted by Uttar Pradesh Power Corporation Limited (UPPCL). The tender was\\xa0 aimed at the \"Selection of Solar Power Developers for Setting up 2000 MW ISTS-connected Solar PV Power Projects in India under Tariff-Based Competitive Bidding\" and was conducted on January 3. According to the release, NTPC Renewable Energy has secured a capacity of 1000 MW at a tariff of Rs 2.56/kWh and is currently awaiting the Letter of Award (LOA) from UPPCL. NTPC Renewable Energy is a wholly-owned (unlisted) subsidiary of NTPC Green Energy. The stock for NTPC Green Energy closed at Rs\\xa0128.10 on January 5, around 0.12 percent higher. The stock has gained around 5 percent since listing on November 27. Also read:\\xa0NTPC stock correction offers buying opportunity, see 26% upside: Investec NTPC Renewable Energy was set up as a wholly-owned subsidiary of NTPC Green in 2020. According to the company website,\\xa0the company\\xa0is focussed on \"taking up large Solar, Wind and Hybrid Projects all over the country and developing Gigawatt scale Renewable Energy Parks and Projects in different states under UMREPP (Ultra Mega Renewable Energy Power Park) scheme of Government of India.\" It is also working on Green Hydrogen based Mobility and ESG projects. NTPC Green Energy recently also announced that it has signed an MoU with\\xa0the Department of Industries, Government of Bihar. According to an exchange filing, the MoU was for investments in Bihar to establish renewable energy projects, including Ground-mounted and floating solar installations, Battery energy storage systems, and Green hydrogen mobility initiatives etc. The Government of Bihar will facilitate the necessary permissions, registrations, approvals, and clearances from concerned departments, agencies, and authorities to support the projects.',\n",
       " 'processed_text': 'ntpc renewable energy bag mw solar power project ntpc renewable energy secured capacity mw tariff r kwh currently awaiting letter award loa uppcl ntpc renewable energy limited bid mw uttar pradesh according filing bse january renewable energy company emerged successful bidder ereverse auction conducted uttar pradesh power corporation limited uppcl tender aimed selection solar power developer setting mw istsconnected solar pv power project india tariffbased competitive bidding conducted january according release ntpc renewable energy secured capacity mw tariff r kwh currently awaiting letter award loa uppcl ntpc renewable energy whollyowned unlisted subsidiary ntpc green energy stock ntpc green energy closed r january around percent higher stock gained around percent since listing november also read ntpc stock correction offer buying opportunity see upside investec ntpc renewable energy set whollyowned subsidiary ntpc green according company website company focussed taking large solar wind hybrid project country developing gigawatt scale renewable energy park project different state umrepp ultra mega renewable energy power park scheme government india also working green hydrogen based mobility esg project ntpc green energy recently also announced signed mou department industry government bihar according exchange filing mou investment bihar establish renewable energy project including groundmounted floating solar installation battery energy storage system green hydrogen mobility initiative etc government bihar facilitate necessary permission registration approval clearance concerned department agency authority support project',\n",
       " 'date': '2025-01-05',\n",
       " 'datetime': '2025-01-05 11:14',\n",
       " 'stock_name': 'NTPC Green Ener',\n",
       " 'ticker_name': 'NTPCGREEN.BO',\n",
       " 'finbert_analysis': [{'label': 'Neutral', 'score': 0.9938613176345825}],\n",
       " 'stock_data': None}"
      ]
     },
     "execution_count": 41,
     "metadata": {},
     "output_type": "execute_result"
    }
   ],
   "source": [
    "finbert_list[169]"
   ]
  },
  {
   "cell_type": "code",
   "execution_count": 42,
   "metadata": {},
   "outputs": [
    {
     "data": {
      "text/plain": [
       "{'_id': ObjectId('6777a17b8581574bb8d03ad5'),\n",
       " 'raw_news': \"Buy Signature Global; target of Rs 2000: Motilal Oswal Motilal Oswal is bullish on Signature Global recommended buy rating on the stock with a target price of Rs 2000 in its research report dated January 01, 2025. Motilal Oswal's research report on Signature Global Signature Global (SIGNATUR), with its strong presence in strategic locations in Gurugram, is on track to capitalize on the ongoing demand, guided by a strong project pipeline of 24.3msf. With a projected 35% CAGR growth in pre-sales over FY24-27, the company is set to cumulatively collect INR285b. Its strategic shift from the affordable to mid/mid-premium segment is expected to drive a strong cumulative OCF of INR95b. This will enable the company to turn net cash positive and reinvest in land to fuel future growth. We reiterate our BUY rating with a TP of INR2,000/share, indicating a 50% upside potential.\",\n",
       " 'processed_text': 'buy signature global target r motilal oswal motilal oswal bullish signature global recommended buy rating stock target price r research report dated january motilal oswals research report signature global signature global signatur strong presence strategic location gurugram track capitalize ongoing demand guided strong project pipeline msf projected cagr growth presales fy company set cumulatively collect inrb strategic shift affordable midmidpremium segment expected drive strong cumulative ocf inrb enable company turn net cash positive reinvest land fuel future growth reiterate buy rating tp inrshare indicating upside potential',\n",
       " 'date': '2025-01-02',\n",
       " 'datetime': '2025-01-02 13:07',\n",
       " 'stock_name': 'SignatureGlobal',\n",
       " 'ticker_name': 'SIGNATURE.NS',\n",
       " 'finbert_analysis': [{'label': 'Positive', 'score': 1.0}],\n",
       " 'stock_data': {'avg_price_5d': 1350.4666748046875,\n",
       "  'volatility_5d': 15.734877541878145,\n",
       "  'avg_volume_5d': 661255.0,\n",
       "  'open_price_news_day': 1362.0,\n",
       "  'close_price_news_day': 1393.25,\n",
       "  'volume_news_day': 810882.0,\n",
       "  'price_movement_1d': 2.5991207352468795,\n",
       "  'price_movement_3d': None,\n",
       "  'gap': 8.949951171875,\n",
       "  'stock_movement_on_news_day': 'up'}}"
      ]
     },
     "execution_count": 42,
     "metadata": {},
     "output_type": "execute_result"
    }
   ],
   "source": [
    "finbert_list[9]"
   ]
  },
  {
   "cell_type": "code",
   "execution_count": 43,
   "metadata": {},
   "outputs": [],
   "source": [
    "presentation_collection = db['presentation_news']"
   ]
  },
  {
   "cell_type": "code",
   "execution_count": 46,
   "metadata": {},
   "outputs": [
    {
     "data": {
      "text/plain": [
       "184"
      ]
     },
     "execution_count": 46,
     "metadata": {},
     "output_type": "execute_result"
    }
   ],
   "source": [
    "len(finbert_list)"
   ]
  },
  {
   "cell_type": "code",
   "execution_count": 48,
   "metadata": {},
   "outputs": [],
   "source": [
    "ids = presentation_collection.insert_many(finbert_list)"
   ]
  },
  {
   "cell_type": "code",
   "execution_count": 49,
   "metadata": {},
   "outputs": [
    {
     "data": {
      "text/plain": [
       "InsertManyResult([ObjectId('6777a09f8581574bb8d03ac9'), ObjectId('6777a0a68581574bb8d03aca'), ObjectId('6777a0d08581574bb8d03acb'), ObjectId('6777a0d38581574bb8d03acc'), ObjectId('6777a0d78581574bb8d03acd'), ObjectId('6777a0db8581574bb8d03acf'), ObjectId('6777a0e78581574bb8d03ad0'), ObjectId('6777a1448581574bb8d03ad2'), ObjectId('6777a1498581574bb8d03ad3'), ObjectId('6777a17b8581574bb8d03ad5'), ObjectId('6777a17d8581574bb8d03ad6'), ObjectId('6777a17f8581574bb8d03ad7'), ObjectId('6777a1d68581574bb8d03ad9'), ObjectId('6777a1d98581574bb8d03ada'), ObjectId('6777a1dc8581574bb8d03adb'), ObjectId('6777a1df8581574bb8d03adc'), ObjectId('6777a1e68581574bb8d03add'), ObjectId('6777a1e98581574bb8d03ade'), ObjectId('6777a2148581574bb8d03adf'), ObjectId('6777a2738581574bb8d03ae2'), ObjectId('6777a2a58581574bb8d03ae4'), ObjectId('6777a2af8581574bb8d03ae7'), ObjectId('6777a2b28581574bb8d03ae8'), ObjectId('6777a2be8581574bb8d03ae9'), ObjectId('6777a3298581574bb8d03aeb'), ObjectId('6777a34f8581574bb8d03aed'), ObjectId('6777a3708581574bb8d03aee'), ObjectId('6777a3738581574bb8d03aef'), ObjectId('6777a3758581574bb8d03af0'), ObjectId('6777a3788581574bb8d03af1'), ObjectId('6777a5ce8581574bb8d03af3'), ObjectId('6777a5ef8581574bb8d03af4'), ObjectId('6777a5fe8581574bb8d03af5'), ObjectId('6777a6018581574bb8d03af6'), ObjectId('6777a6048581574bb8d03af7'), ObjectId('6777a68d8581574bb8d03afa'), ObjectId('6777a6908581574bb8d03afb'), ObjectId('6777a6978581574bb8d03afe'), ObjectId('6777a6998581574bb8d03aff'), ObjectId('6777a6ee8581574bb8d03b01'), ObjectId('6777a6f78581574bb8d03b02'), ObjectId('6777a7228581574bb8d03b04'), ObjectId('6777a7278581574bb8d03b06'), ObjectId('6777a80a8581574bb8d03b09'), ObjectId('6777a81b8581574bb8d03b0a'), ObjectId('6777a81f8581574bb8d03b0b'), ObjectId('6777a8218581574bb8d03b0c'), ObjectId('6777a8238581574bb8d03b0d'), ObjectId('6777a8978581574bb8d03b0f'), ObjectId('6777a8a08581574bb8d03b10'), ObjectId('6777a8cf8581574bb8d03b12'), ObjectId('6777a8d48581574bb8d03b13'), ObjectId('6777a8d78581574bb8d03b14'), ObjectId('6777a96c8581574bb8d03b18'), ObjectId('6777a9788581574bb8d03b19'), ObjectId('6777a9aa8581574bb8d03b1a'), ObjectId('6777a9af8581574bb8d03b1c'), ObjectId('6777aa3b8581574bb8d03b1f'), ObjectId('6777aa3f8581574bb8d03b20'), ObjectId('6777aa6f8581574bb8d03b21'), ObjectId('6777aa7b8581574bb8d03b22'), ObjectId('6777abc38581574bb8d03b24'), ObjectId('6777abd18581574bb8d03b25'), ObjectId('6777abf28581574bb8d03b26'), ObjectId('6777abf78581574bb8d03b27'), ObjectId('6777abfb8581574bb8d03b28'), ObjectId('6777ac078581574bb8d03b2b'), ObjectId('6777ac188581574bb8d03b2c'), ObjectId('6777ac688581574bb8d03b2e'), ObjectId('6777ac948581574bb8d03b30'), ObjectId('6777acc98581574bb8d03b36'), ObjectId('6777ad228581574bb8d03b38'), ObjectId('6777ad498581574bb8d03b3a'), ObjectId('6777ad508581574bb8d03b3b'), ObjectId('6777ad578581574bb8d03b3c'), ObjectId('6777ada18581574bb8d03b40'), ObjectId('6777add48581574bb8d03b41'), ObjectId('6777af058581574bb8d03b44'), ObjectId('6777af178581574bb8d03b45'), ObjectId('6777af1a8581574bb8d03b46'), ObjectId('6777b09e8581574bb8d03b49'), ObjectId('6777b0a38581574bb8d03b4a'), ObjectId('6777b0a78581574bb8d03b4b'), ObjectId('6777b1608581574bb8d03b4f'), ObjectId('6777b1648581574bb8d03b50'), ObjectId('6777b16a8581574bb8d03b52'), ObjectId('6777b16e8581574bb8d03b53'), ObjectId('6777b1728581574bb8d03b54'), ObjectId('6777b2018581574bb8d03b56'), ObjectId('6777b22c8581574bb8d03b57'), ObjectId('6777b24f8581574bb8d03b59'), ObjectId('6777b3aa8581574bb8d03b5d'), ObjectId('6777b3af8581574bb8d03b5e'), ObjectId('6777b3c08581574bb8d03b5f'), ObjectId('6777b3c98581574bb8d03b60'), ObjectId('6777b3d88581574bb8d03b63'), ObjectId('6777b3dc8581574bb8d03b64'), ObjectId('6777b3e18581574bb8d03b65'), ObjectId('6777b3e88581574bb8d03b66'), ObjectId('6777b5188581574bb8d03b69'), ObjectId('6777b53f8581574bb8d03b6a'), ObjectId('6777b5798581574bb8d03b6b'), ObjectId('6777b5ae8581574bb8d03b6c'), ObjectId('6777b5ba8581574bb8d03b6d'), ObjectId('6777b5d18581574bb8d03b6e'), ObjectId('6777b5f78581574bb8d03b6f'), ObjectId('6777b61c8581574bb8d03b71'), ObjectId('6777b6238581574bb8d03b72'), ObjectId('6777b64c8581574bb8d03b73'), ObjectId('6777b6fa8581574bb8d03b77'), ObjectId('6777b7168581574bb8d03b79'), ObjectId('6777b7768581574bb8d03b7b'), ObjectId('6777b7908581574bb8d03b7c'), ObjectId('6777b7b18581574bb8d03b7f'), ObjectId('6777be5ab5e5e6aaf29f78f7'), ObjectId('6777bf3fb5e5e6aaf29f78fc'), ObjectId('6777bf57b5e5e6aaf29f78fd'), ObjectId('6777bf5cb5e5e6aaf29f78fe'), ObjectId('6777bf62b5e5e6aaf29f78ff'), ObjectId('6777bf6bb5e5e6aaf29f7900'), ObjectId('6777bf71b5e5e6aaf29f7901'), ObjectId('6777bf77b5e5e6aaf29f7902'), ObjectId('6777bf7cb5e5e6aaf29f7903'), ObjectId('6777bfcbb5e5e6aaf29f7905'), ObjectId('6777bffeb5e5e6aaf29f7906'), ObjectId('6777c00ab5e5e6aaf29f7908'), ObjectId('6777c078b5e5e6aaf29f790c'), ObjectId('6777c08fb5e5e6aaf29f790e'), ObjectId('6777c5033c87f456d0e4535d'), ObjectId('6777c50b3c87f456d0e4535e'), ObjectId('6777c5393c87f456d0e4535f'), ObjectId('6777c53f3c87f456d0e45360'), ObjectId('6777c5793c87f456d0e45362'), ObjectId('6777c65d3c87f456d0e45365'), ObjectId('6777c6633c87f456d0e45366'), ObjectId('6777c66e3c87f456d0e45367'), ObjectId('6777c6843c87f456d0e45368'), ObjectId('6777c68a3c87f456d0e45369'), ObjectId('6777c78c3c87f456d0e4536b'), ObjectId('6777c7cf3c87f456d0e4536c'), ObjectId('6777c7d83c87f456d0e4536d'), ObjectId('6777c7e03c87f456d0e4536e'), ObjectId('6777c7e53c87f456d0e4536f'), ObjectId('6777c7f13c87f456d0e45370'), ObjectId('6777c8bc611a1954b20d2a09'), ObjectId('6777c8e7611a1954b20d2a0a'), ObjectId('6777c8ee611a1954b20d2a0b'), ObjectId('6777c8fc611a1954b20d2a0d'), ObjectId('6777c901611a1954b20d2a0e'), ObjectId('6777c90a611a1954b20d2a0f'), ObjectId('6777c983611a1954b20d2a11'), ObjectId('6777c98a611a1954b20d2a12'), ObjectId('6777c9af611a1954b20d2a13'), ObjectId('6777c9b6611a1954b20d2a14'), ObjectId('6777c9c2611a1954b20d2a16'), ObjectId('6777c9c9611a1954b20d2a17'), ObjectId('6777c9da611a1954b20d2a18'), ObjectId('6777ca44611a1954b20d2a1a'), ObjectId('6777caa0611a1954b20d2a1c'), ObjectId('6777caaa611a1954b20d2a1d'), ObjectId('6777cab4611a1954b20d2a1e'), ObjectId('6777cabc611a1954b20d2a1f'), ObjectId('6777caf3611a1954b20d2a20'), ObjectId('6777caf9611a1954b20d2a21'), ObjectId('6777cb01611a1954b20d2a22'), ObjectId('6777cb08611a1954b20d2a23'), ObjectId('677b62919229c97949479ea0'), ObjectId('677b62c29229c97949479ea3'), ObjectId('677b62c79229c97949479ea4'), ObjectId('677b62ea9229c97949479ea5'), ObjectId('677b62ef9229c97949479ea7'), ObjectId('677b64911f97af387130821e'), ObjectId('677b649e1f97af387130821f'), ObjectId('677b64a31f97af3871308220'), ObjectId('677b64ad1f97af3871308221'), ObjectId('677b64e21f97af3871308223'), ObjectId('677b66775bfa351eeb3ea868'), ObjectId('677b66b15bfa351eeb3ea86a'), ObjectId('677b66d55bfa351eeb3ea86b'), ObjectId('677b66da5bfa351eeb3ea86c'), ObjectId('677b66e05bfa351eeb3ea86d'), ObjectId('677cb7bce75b8c80b424082e'), ObjectId('677cb7f5e75b8c80b4240830'), ObjectId('677cb7fbe75b8c80b4240831')], acknowledged=True)"
      ]
     },
     "execution_count": 49,
     "metadata": {},
     "output_type": "execute_result"
    }
   ],
   "source": [
    "ids"
   ]
  },
  {
   "cell_type": "code",
   "execution_count": null,
   "metadata": {},
   "outputs": [],
   "source": []
  }
 ],
 "metadata": {
  "kernelspec": {
   "display_name": "Python 3",
   "language": "python",
   "name": "python3"
  },
  "language_info": {
   "codemirror_mode": {
    "name": "ipython",
    "version": 3
   },
   "file_extension": ".py",
   "mimetype": "text/x-python",
   "name": "python",
   "nbconvert_exporter": "python",
   "pygments_lexer": "ipython3",
   "version": "3.12.3"
  }
 },
 "nbformat": 4,
 "nbformat_minor": 2
}
