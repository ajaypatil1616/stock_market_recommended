{
 "cells": [
  {
   "cell_type": "code",
   "execution_count": 1,
   "metadata": {},
   "outputs": [],
   "source": [
    "from selenium import webdriver\n",
    "from selenium.webdriver.chrome.service import Service\n",
    "from selenium.webdriver.chrome.options import Options\n",
    "from selenium.webdriver.common.by import By\n",
    "from selenium.webdriver.support.ui import WebDriverWait\n",
    "from selenium.webdriver.support import expected_conditions as EC\n",
    "from bs4 import BeautifulSoup\n",
    "import re"
   ]
  },
  {
   "cell_type": "code",
   "execution_count": 2,
   "metadata": {},
   "outputs": [],
   "source": [
    "def finding_raw_urls_from_base(url):\n",
    "    service = Service(\"./chromedriver/chromedriver.exe\")\n",
    "    options = Options()\n",
    "    options.add_argument(\"--headless\")\n",
    "    options.add_argument(\"--disable-gpu\")\n",
    "    options.add_argument(\"user-agent=Mozilla/5.0 (Windows NT 10.0; Win64; x64) AppleWebKit/537.36 (KHTML, like Gecko) Chrome/91.0.4472.124 Safari/537.36\")\n",
    "    \n",
    "    driver = webdriver.Chrome(service=service, options=options)\n",
    "    driver.get(url)\n",
    "    \n",
    "    WebDriverWait(driver, 60).until(\n",
    "        EC.presence_of_all_elements_located((By.TAG_NAME, 'a'))\n",
    "    )\n",
    "    \n",
    "    html = driver.page_source\n",
    "    driver.quit()\n",
    "    \n",
    "    soup = BeautifulSoup(html, 'html.parser')\n",
    "    links = soup.find_all('a', href=True)\n",
    "    raw_urls = []\n",
    "    for link in links:\n",
    "        if link['href'].startswith(\"https://www.moneycontrol.com/news/business/\"):\n",
    "            raw_urls.append(link['href'])\n",
    "    return list(set(raw_urls))\n",
    "    "
   ]
  },
  {
   "cell_type": "code",
   "execution_count": 3,
   "metadata": {},
   "outputs": [],
   "source": [
    "raw_urls = finding_raw_urls_from_base(\"https://www.moneycontrol.com/news/business/stocks/\")\n",
    "# raw_urls = finding_raw_urls_from_base(\"https://www.moneycontrol.com/news/business/stocks/page-3\")"
   ]
  },
  {
   "cell_type": "code",
   "execution_count": 4,
   "metadata": {},
   "outputs": [
    {
     "data": {
      "text/plain": [
       "['https://www.moneycontrol.com/news/business/markets/sensex-jumps-800-pts-from-day-s-low-as-ril-leads-recovery-it-pares-losses-ahead-of-tcs-results-12905761.html',\n",
       " 'https://www.moneycontrol.com/news/business/markets/sobha-stock-drops-3-on-weak-quarterly-sales-12905444.html',\n",
       " 'https://www.moneycontrol.com/news/business/standard-glass-lining-ipo-gmp-live-capital-infra-trust-quadrant-future-tek-ipo-gmp-business-news-january-8-liveblog-12905363.html',\n",
       " 'https://www.moneycontrol.com/news/business/commodities/',\n",
       " 'https://www.moneycontrol.com/news/business/markets/bls-international-says-december-travels-underwhelming-but-confident-of-maintaining-margins-12905754.html',\n",
       " 'https://www.moneycontrol.com/news/business/real-estate/',\n",
       " 'https://www.moneycontrol.com/news/business/markets/premier-waaree-energies-share-slide-2-as-kotak-institutional-equities-initiates-with-sell-12905535.html',\n",
       " 'https://www.moneycontrol.com/news/business/companies/',\n",
       " 'https://www.moneycontrol.com/news/business/mutual-funds/',\n",
       " 'https://www.moneycontrol.com/news/business/economy/',\n",
       " 'https://www.moneycontrol.com/news/business/stocks/suven-life-shares-rise-11-on-progress-in-clinical-trial-of-cognitive-disorder-drug-12905778.html',\n",
       " 'https://www.moneycontrol.com/news/business/stocks/page-2/',\n",
       " 'https://www.moneycontrol.com/news/business/markets/electronics-makers-dixon-tech-kaynes-tech-amber-ent-slump-upto-8-on-weak-global-cues-12905581.html',\n",
       " 'https://www.moneycontrol.com/news/business/stocks/',\n",
       " 'https://www.moneycontrol.com/news/business/stocks/page-6/',\n",
       " 'https://www.moneycontrol.com/news/business/stocks/page-4/',\n",
       " 'https://www.moneycontrol.com/news/business/stocks/page-8/',\n",
       " 'https://www.moneycontrol.com/news/business/markets/brokerages-bullish-on-reliance-industries-amid-cheap-valuations-shares-could-rally-36-12905362.html',\n",
       " 'https://www.moneycontrol.com/news/business/stocks/page-3/',\n",
       " 'https://www.moneycontrol.com/news/business/stocks/page-30/',\n",
       " 'https://www.moneycontrol.com/news/business/markets/nse-announces-6-new-stocks-to-join-f-o-segment-from-january-31-check-list-here-12905370.html',\n",
       " 'https://www.moneycontrol.com/news/business/',\n",
       " 'https://www.moneycontrol.com/news/business/startup/',\n",
       " 'https://www.moneycontrol.com/news/business/markets/',\n",
       " 'https://www.moneycontrol.com/news/business/stocks/signatureglobal-india-shares-gain-after-firm-reports-strong-fy25-pre-sales-12905442.html',\n",
       " 'https://www.moneycontrol.com/news/business/markets/paytm-shares-fall-over-7-after-npci-data-shows-no-upi-market-share-gains-in-december-12905780.html',\n",
       " 'https://www.moneycontrol.com/news/business/stocks/page-10/',\n",
       " 'https://www.moneycontrol.com/news/business/stocks/page-7/',\n",
       " 'https://www.moneycontrol.com/news/business/stocks/tata-steel-shares-trade-marginally-lower-post-december-quarter-business-update-12905775.html',\n",
       " 'https://www.moneycontrol.com/news/business/markets/spandana-sphoorty-stock-skyrockets-15-amid-heavy-volumes-12905456.html',\n",
       " 'https://www.moneycontrol.com/news/business/stocks/top-gainers-and-losers-today-stocks-that-moved-the-most-on-january-8-12905881.html',\n",
       " 'https://www.moneycontrol.com/news/business/personal-finance/income-tax-filing/',\n",
       " 'https://www.moneycontrol.com/news/business/stocks/page-5/',\n",
       " 'https://www.moneycontrol.com/news/business/markets/stock-market-live-sensex-nifty-50-share-price-gift-nifty-latest-updates-08-01-2025-liveblog-12905356.html',\n",
       " 'https://www.moneycontrol.com/news/business/markets/kalyan-jewellers-stock-tanks-15-5-in-four-days-as-profit-booking-takes-over-12905644.html',\n",
       " 'https://www.moneycontrol.com/news/business/oil-prices-rise-on-tighter-opec-supply-us-jobs-data-12905372.html',\n",
       " 'https://www.moneycontrol.com/news/business/ipo/',\n",
       " 'https://www.moneycontrol.com/news/business/markets/technical-view-nifty-ends-flat-amid-smart-recovery-upside-bounce-likely-as-long-as-it-holds-23-496-12905905.html',\n",
       " 'https://www.moneycontrol.com/news/business/markets/citi-sees-10-percent-upside-for-nifty-50-year-end-target-26000-12905904.html',\n",
       " 'https://www.moneycontrol.com/news/business/markets/tata-technologies-jumps-3-as-it-inks-pact-with-telechips-to-make-software-defined-vehicles-12905397.html',\n",
       " 'https://www.moneycontrol.com/news/business/markets/ashiana-housing-extends-gain-to-2nd-day-jumps-8-on-strong-q3-business-update-12905470.html',\n",
       " 'https://www.moneycontrol.com/news/business/banks/',\n",
       " 'https://www.moneycontrol.com/news/business/markets/ongc-picks-bp-arm-to-help-ramp-up-mumbai-high-production-sees-60-more-output-12905534.html',\n",
       " 'https://www.moneycontrol.com/news/business/companies',\n",
       " 'https://www.moneycontrol.com/news/business/personal-finance/',\n",
       " 'https://www.moneycontrol.com/news/business/stocks/page-9/',\n",
       " 'https://www.moneycontrol.com/news/business/markets/sensex-down-270-pts-nifty-below-23-700-as-metals-it-dampen-mood-broader-markets-see-sharper-fall-12905376.html',\n",
       " 'https://www.moneycontrol.com/news/business/markets/exicom-tele-systems-hits-5-upper-circuit-on-mou-with-mufin-green-to-boost-ev-charging-infra-12905429.html',\n",
       " 'https://www.moneycontrol.com/news/business/new-rbi-chief-faces-calls-to-unshackle-rupee-amid-surging-dollar-12905359.html',\n",
       " 'https://www.moneycontrol.com/news/business/markets/taking-stock-sensex-nifty-end-flat-after-posting-sharp-recovery-from-day-s-lows-12905777.html',\n",
       " 'https://www.moneycontrol.com/news/business/markets/borosil-renewables-stock-in-5-upper-circuit-for-2nd-day-after-promoter-ups-stake-12905490.html',\n",
       " 'https://www.moneycontrol.com/news/business/markets/sensex-plunges-700-pts-nifty-below-23-550-ahead-of-q3-results-season-smallcap-index-nosedives-2-12905618.html',\n",
       " 'https://www.moneycontrol.com/news/business/stocks/buy-jnk-india-target-of-rs-815-lkp-research-12905515.html']"
      ]
     },
     "execution_count": 4,
     "metadata": {},
     "output_type": "execute_result"
    }
   ],
   "source": [
    "raw_urls"
   ]
  },
  {
   "cell_type": "code",
   "execution_count": null,
   "metadata": {},
   "outputs": [],
   "source": []
  },
  {
   "cell_type": "code",
   "execution_count": 5,
   "metadata": {},
   "outputs": [],
   "source": [
    "stock_urls =[]\n",
    "market_urls = []\n",
    "next_page_urls = []\n",
    "other_urls = []\n",
    "ipo_urls = []\n",
    "def extract_urls(all_urls):\n",
    "    for link in raw_urls:\n",
    "        if link.startswith(\"https://www.moneycontrol.com/news/business/stocks/page\"):\n",
    "            next_page_urls.append(link)\n",
    "        elif link.startswith(\"https://www.moneycontrol.com/news/business/stocks/\"):\n",
    "            stock_urls.append(link)\n",
    "        elif link.startswith(\"https://www.moneycontrol.com/news/business/markets/\"):\n",
    "            market_urls.append(link)\n",
    "        elif link.startswith(\"https://www.moneycontrol.com/news/business/ipo/\"):\n",
    "            ipo_urls.append(link)\n",
    "        else:\n",
    "            other_urls.append(link)"
   ]
  },
  {
   "cell_type": "code",
   "execution_count": 6,
   "metadata": {},
   "outputs": [],
   "source": [
    "extract_urls(raw_urls)"
   ]
  },
  {
   "cell_type": "code",
   "execution_count": 7,
   "metadata": {},
   "outputs": [
    {
     "data": {
      "text/plain": [
       "['https://www.moneycontrol.com/news/business/markets/sensex-jumps-800-pts-from-day-s-low-as-ril-leads-recovery-it-pares-losses-ahead-of-tcs-results-12905761.html',\n",
       " 'https://www.moneycontrol.com/news/business/markets/sobha-stock-drops-3-on-weak-quarterly-sales-12905444.html',\n",
       " 'https://www.moneycontrol.com/news/business/markets/bls-international-says-december-travels-underwhelming-but-confident-of-maintaining-margins-12905754.html',\n",
       " 'https://www.moneycontrol.com/news/business/markets/premier-waaree-energies-share-slide-2-as-kotak-institutional-equities-initiates-with-sell-12905535.html',\n",
       " 'https://www.moneycontrol.com/news/business/markets/electronics-makers-dixon-tech-kaynes-tech-amber-ent-slump-upto-8-on-weak-global-cues-12905581.html',\n",
       " 'https://www.moneycontrol.com/news/business/markets/brokerages-bullish-on-reliance-industries-amid-cheap-valuations-shares-could-rally-36-12905362.html',\n",
       " 'https://www.moneycontrol.com/news/business/markets/nse-announces-6-new-stocks-to-join-f-o-segment-from-january-31-check-list-here-12905370.html',\n",
       " 'https://www.moneycontrol.com/news/business/markets/',\n",
       " 'https://www.moneycontrol.com/news/business/markets/paytm-shares-fall-over-7-after-npci-data-shows-no-upi-market-share-gains-in-december-12905780.html',\n",
       " 'https://www.moneycontrol.com/news/business/markets/spandana-sphoorty-stock-skyrockets-15-amid-heavy-volumes-12905456.html',\n",
       " 'https://www.moneycontrol.com/news/business/markets/stock-market-live-sensex-nifty-50-share-price-gift-nifty-latest-updates-08-01-2025-liveblog-12905356.html',\n",
       " 'https://www.moneycontrol.com/news/business/markets/kalyan-jewellers-stock-tanks-15-5-in-four-days-as-profit-booking-takes-over-12905644.html',\n",
       " 'https://www.moneycontrol.com/news/business/markets/technical-view-nifty-ends-flat-amid-smart-recovery-upside-bounce-likely-as-long-as-it-holds-23-496-12905905.html',\n",
       " 'https://www.moneycontrol.com/news/business/markets/citi-sees-10-percent-upside-for-nifty-50-year-end-target-26000-12905904.html',\n",
       " 'https://www.moneycontrol.com/news/business/markets/tata-technologies-jumps-3-as-it-inks-pact-with-telechips-to-make-software-defined-vehicles-12905397.html',\n",
       " 'https://www.moneycontrol.com/news/business/markets/ashiana-housing-extends-gain-to-2nd-day-jumps-8-on-strong-q3-business-update-12905470.html',\n",
       " 'https://www.moneycontrol.com/news/business/markets/ongc-picks-bp-arm-to-help-ramp-up-mumbai-high-production-sees-60-more-output-12905534.html',\n",
       " 'https://www.moneycontrol.com/news/business/markets/sensex-down-270-pts-nifty-below-23-700-as-metals-it-dampen-mood-broader-markets-see-sharper-fall-12905376.html',\n",
       " 'https://www.moneycontrol.com/news/business/markets/exicom-tele-systems-hits-5-upper-circuit-on-mou-with-mufin-green-to-boost-ev-charging-infra-12905429.html',\n",
       " 'https://www.moneycontrol.com/news/business/markets/taking-stock-sensex-nifty-end-flat-after-posting-sharp-recovery-from-day-s-lows-12905777.html',\n",
       " 'https://www.moneycontrol.com/news/business/markets/borosil-renewables-stock-in-5-upper-circuit-for-2nd-day-after-promoter-ups-stake-12905490.html',\n",
       " 'https://www.moneycontrol.com/news/business/markets/sensex-plunges-700-pts-nifty-below-23-550-ahead-of-q3-results-season-smallcap-index-nosedives-2-12905618.html']"
      ]
     },
     "execution_count": 7,
     "metadata": {},
     "output_type": "execute_result"
    }
   ],
   "source": [
    "market_urls"
   ]
  },
  {
   "cell_type": "code",
   "execution_count": 8,
   "metadata": {},
   "outputs": [
    {
     "data": {
      "text/plain": [
       "['https://www.moneycontrol.com/news/business/stocks/suven-life-shares-rise-11-on-progress-in-clinical-trial-of-cognitive-disorder-drug-12905778.html',\n",
       " 'https://www.moneycontrol.com/news/business/stocks/',\n",
       " 'https://www.moneycontrol.com/news/business/stocks/signatureglobal-india-shares-gain-after-firm-reports-strong-fy25-pre-sales-12905442.html',\n",
       " 'https://www.moneycontrol.com/news/business/stocks/tata-steel-shares-trade-marginally-lower-post-december-quarter-business-update-12905775.html',\n",
       " 'https://www.moneycontrol.com/news/business/stocks/top-gainers-and-losers-today-stocks-that-moved-the-most-on-january-8-12905881.html',\n",
       " 'https://www.moneycontrol.com/news/business/stocks/buy-jnk-india-target-of-rs-815-lkp-research-12905515.html']"
      ]
     },
     "execution_count": 8,
     "metadata": {},
     "output_type": "execute_result"
    }
   ],
   "source": [
    "stock_urls"
   ]
  },
  {
   "cell_type": "code",
   "execution_count": 9,
   "metadata": {},
   "outputs": [],
   "source": [
    "\n",
    "regex = r'https:\\/\\/www\\.moneycontrol\\.com\\/news\\/business\\/stocks\\/[^\\/\\s]+(?:\\.[a-z]{2,6})(?:[\\/\\?].*)?'\n",
    "\n",
    "final_stocks_urls = [url for url in stock_urls if re.match(regex, url)]"
   ]
  },
  {
   "cell_type": "code",
   "execution_count": 10,
   "metadata": {},
   "outputs": [
    {
     "data": {
      "text/plain": [
       "['https://www.moneycontrol.com/news/business/stocks/suven-life-shares-rise-11-on-progress-in-clinical-trial-of-cognitive-disorder-drug-12905778.html',\n",
       " 'https://www.moneycontrol.com/news/business/stocks/signatureglobal-india-shares-gain-after-firm-reports-strong-fy25-pre-sales-12905442.html',\n",
       " 'https://www.moneycontrol.com/news/business/stocks/tata-steel-shares-trade-marginally-lower-post-december-quarter-business-update-12905775.html',\n",
       " 'https://www.moneycontrol.com/news/business/stocks/top-gainers-and-losers-today-stocks-that-moved-the-most-on-january-8-12905881.html',\n",
       " 'https://www.moneycontrol.com/news/business/stocks/buy-jnk-india-target-of-rs-815-lkp-research-12905515.html']"
      ]
     },
     "execution_count": 10,
     "metadata": {},
     "output_type": "execute_result"
    }
   ],
   "source": [
    "final_stocks_urls"
   ]
  },
  {
   "cell_type": "code",
   "execution_count": 11,
   "metadata": {},
   "outputs": [],
   "source": [
    "service = Service(\"./chromedriver/chromedriver.exe\")\n",
    "options = Options()\n",
    "options.add_argument(\"--headless\")\n",
    "options.add_argument(\"--disable-gpu\")\n",
    "options.add_argument(\"user-agent=Mozilla/5.0 (Windows NT 10.0; Win64; x64) AppleWebKit/537.36 (KHTML, like Gecko) Chrome/114.0.5735.199 Safari/537.36\")\n",
    "\n",
    "driver = webdriver.Chrome(service=service, options= options)"
   ]
  },
  {
   "cell_type": "code",
   "execution_count": 12,
   "metadata": {},
   "outputs": [],
   "source": [
    "def extract_data(url):  \n",
    "    driver.get(url)\n",
    "    \n",
    "    WebDriverWait(driver, 60).until(\n",
    "        lambda d: d.execute_script(\"return document.readyState\") == \"complete\"\n",
    "    )\n",
    "    \n",
    "    html = driver.page_source\n",
    "    soup = BeautifulSoup(html, 'html.parser')    \n",
    "    news = {}\n",
    "    \n",
    "    title = soup.find('h1', class_ = \"article_title\")\n",
    "    news.update({\"title\":f\"{title.text.strip()}\"})\n",
    "    \n",
    "    desc = soup.find('h2', class_ = 'article_desc')\n",
    "    news.update({\"desc\":f\"{desc.text.strip()}\"})\n",
    "    \n",
    "    date_time_div = soup.find('div', class_=\"article_schedule\")\n",
    "    if date_time_div:\n",
    "        span_tag = date_time_div.find('span')\n",
    "        date = span_tag.text.strip()\n",
    "        news.update({\"date\":f\"{date}\"})\n",
    "    \n",
    "    datetime = date_time_div.text.strip()\n",
    "    news.update({\"datetime\":f\"{datetime}\"})\n",
    "    \n",
    "    paragraphs_list = []\n",
    "    paragrphs_div = soup.find('div', class_ =\"content_wrapper\")\n",
    "    if paragrphs_div:\n",
    "        paragraph_tags = paragrphs_div.find_all('p')\n",
    "        for p in paragraph_tags:\n",
    "            para_text = p.text.strip()            \n",
    "            if len(para_text) < 50 :\n",
    "                continue            \n",
    "            if re.search(r\"(click\\s+here|disclaimer|modal|window|advertisement|investment\\s+tips)\", para_text, re.IGNORECASE):\n",
    "                continue            \n",
    "            paragraphs_list.append(para_text)         \n",
    "            \n",
    "    news.update({\"content\": paragraphs_list})\n",
    "    \n",
    "    stock_name = soup.find('a', class_=\"stock-name\")\n",
    "    if stock_name:\n",
    "        news.update({\"stock_name\":f\"{stock_name.text.strip()}\"})\n",
    "            \n",
    "    # driver.quit()   \n",
    "    return news"
   ]
  },
  {
   "cell_type": "code",
   "execution_count": 13,
   "metadata": {},
   "outputs": [],
   "source": [
    "raw_news_data = []"
   ]
  },
  {
   "cell_type": "code",
   "execution_count": 14,
   "metadata": {},
   "outputs": [],
   "source": [
    "for url in final_stocks_urls :\n",
    "    data = extract_data(url)\n",
    "    raw_news_data.append(data)"
   ]
  },
  {
   "cell_type": "code",
   "execution_count": 15,
   "metadata": {},
   "outputs": [],
   "source": [
    "driver.quit()   "
   ]
  },
  {
   "cell_type": "code",
   "execution_count": 16,
   "metadata": {},
   "outputs": [],
   "source": [
    "# raw_news_data"
   ]
  },
  {
   "cell_type": "markdown",
   "metadata": {},
   "source": [
    "Processed data"
   ]
  },
  {
   "cell_type": "code",
   "execution_count": 17,
   "metadata": {},
   "outputs": [],
   "source": [
    "from datetime import datetime"
   ]
  },
  {
   "cell_type": "code",
   "execution_count": 18,
   "metadata": {},
   "outputs": [],
   "source": [
    "import re\n",
    "from nltk.corpus import stopwords\n",
    "from nltk.tokenize import word_tokenize\n",
    "from nltk.stem import WordNetLemmatizer\n",
    "# import spacy\n"
   ]
  },
  {
   "cell_type": "code",
   "execution_count": 19,
   "metadata": {},
   "outputs": [
    {
     "name": "stderr",
     "output_type": "stream",
     "text": [
      "[nltk_data] Downloading package punkt to\n",
      "[nltk_data]     C:\\Users\\AjayPatil\\AppData\\Roaming\\nltk_data...\n",
      "[nltk_data]   Package punkt is already up-to-date!\n",
      "[nltk_data] Downloading package punkt_tab to\n",
      "[nltk_data]     C:\\Users\\AjayPatil\\AppData\\Roaming\\nltk_data...\n",
      "[nltk_data]   Package punkt_tab is already up-to-date!\n",
      "[nltk_data] Downloading package stopwords to\n",
      "[nltk_data]     C:\\Users\\AjayPatil\\AppData\\Roaming\\nltk_data...\n",
      "[nltk_data]   Package stopwords is already up-to-date!\n",
      "[nltk_data] Downloading package wordnet to\n",
      "[nltk_data]     C:\\Users\\AjayPatil\\AppData\\Roaming\\nltk_data...\n",
      "[nltk_data]   Package wordnet is already up-to-date!\n"
     ]
    },
    {
     "data": {
      "text/plain": [
       "True"
      ]
     },
     "execution_count": 19,
     "metadata": {},
     "output_type": "execute_result"
    }
   ],
   "source": [
    "import nltk\n",
    "nltk.download('punkt')\n",
    "nltk.download('punkt_tab')\n",
    "nltk.download('stopwords')\n",
    "nltk.download('wordnet')"
   ]
  },
  {
   "cell_type": "code",
   "execution_count": 20,
   "metadata": {},
   "outputs": [],
   "source": [
    "lemmatizer = WordNetLemmatizer()"
   ]
  },
  {
   "cell_type": "code",
   "execution_count": 21,
   "metadata": {},
   "outputs": [],
   "source": [
    "def preprocess_news(news):\n",
    "    text = f\"{news['title']} {news['desc']} {' '.join(news['content'])}\"\n",
    "    \n",
    "    text = re.sub(r\"[^a-zA-Z\\s]\", \"\", text)\n",
    "    text = re.sub(r\"\\s+\",\" \", text).strip()\n",
    "    \n",
    "    text = text.lower()\n",
    "    \n",
    "    tokens = word_tokenize(text)\n",
    "    \n",
    "    stop_words = set(stopwords.words('english'))\n",
    "    tokens = [word for word in tokens if word not in stop_words]\n",
    "    \n",
    "    lemmatized_token = [lemmatizer.lemmatize(token) for token in tokens]\n",
    "    return \" \".join(lemmatized_token)"
   ]
  },
  {
   "cell_type": "code",
   "execution_count": 22,
   "metadata": {},
   "outputs": [],
   "source": [
    "def preprocess_date(date):\n",
    "    date_obj = datetime.strptime(date, \"%B %d, %Y\") # strptime str -> datetime obj\n",
    "    formatted_date = date_obj.strftime(\"%Y-%m-%d\")  # strftime  datetime obj -> formatted str\n",
    "    return formatted_date"
   ]
  },
  {
   "cell_type": "code",
   "execution_count": 23,
   "metadata": {},
   "outputs": [],
   "source": [
    "def preprocess_datetime(raw_datetime):\n",
    "    raw_datetime_split = raw_datetime.split(\"/\")\n",
    "    date_obj = datetime.strptime(raw_datetime_split[0].strip(), \"%B %d, %Y\")\n",
    "    formatted_date = date_obj.strftime(\"%Y-%m-%d\")\n",
    "    time_obj =  raw_datetime_split[1].strip().replace(\"IST\",\"\")\n",
    "    formatted_datetime = formatted_date + \" \" + time_obj\n",
    "    return formatted_datetime.strip()\n",
    "\n",
    "# print(preprocess_datetime(\"January 02, 2025 / 17:53 IST\"))"
   ]
  },
  {
   "cell_type": "code",
   "execution_count": 24,
   "metadata": {},
   "outputs": [],
   "source": [
    "from yahooquery import search\n",
    "\n",
    "def extract_ticker_name(company_name):\n",
    "    company_name = company_name.strip()\n",
    "    ticker_name = None       \n",
    "    if company_name:\n",
    "        results = search(company_name)        \n",
    "        if results and 'quotes' in results:\n",
    "            for quote in results['quotes']:\n",
    "                if 'symbol' in quote and 'longname' in quote:\n",
    "                    if company_name.lower() in quote['longname'].lower():\n",
    "                        ticker_name = quote['symbol']\n",
    "                        break      \n",
    "    return ticker_name"
   ]
  },
  {
   "cell_type": "code",
   "execution_count": 25,
   "metadata": {},
   "outputs": [],
   "source": [
    "def get_complete_raw_news(news):\n",
    "    text = f\"{news['title']} {news['desc']} {' '.join(news['content'])}\"\n",
    "    return text"
   ]
  },
  {
   "cell_type": "code",
   "execution_count": 26,
   "metadata": {},
   "outputs": [],
   "source": [
    "processed_data = []"
   ]
  },
  {
   "cell_type": "code",
   "execution_count": 27,
   "metadata": {},
   "outputs": [],
   "source": [
    "for news in raw_news_data:\n",
    "    processed_text = preprocess_news(news)\n",
    "    formatted_date = preprocess_date(news['date'])\n",
    "    formatted_datetime = preprocess_datetime(news['datetime'])\n",
    "    raw_news = get_complete_raw_news(news)\n",
    "    if \"stock_name\" in news:\n",
    "        ticker_name = extract_ticker_name(news[\"stock_name\"]) \n",
    "    \n",
    "        processed_data.append({\n",
    "            # \"_id\": news[\"_id\"],\n",
    "            \"raw_news\":raw_news,\n",
    "            \"processed_text\": processed_text,\n",
    "            \"date\": formatted_date,\n",
    "            \"datetime\": formatted_datetime,\n",
    "            \"stock_name\": news.get(\"stock_name\"),\n",
    "            \"ticker_name\":ticker_name,        \n",
    "        })\n",
    "    else:\n",
    "        processed_data.append({\n",
    "                # \"_id\": news[\"_id\"],\n",
    "                \"raw_news\":raw_news,\n",
    "                \"processed_text\": processed_text,\n",
    "                \"date\": formatted_date,\n",
    "                \"datetime\": formatted_datetime,\n",
    "                \"stock_name\": news.get(\"stock_name\"),      \n",
    "                \"ticker_name\": None,      \n",
    "            })"
   ]
  },
  {
   "cell_type": "code",
   "execution_count": 28,
   "metadata": {},
   "outputs": [],
   "source": [
    "# processed_data"
   ]
  },
  {
   "cell_type": "markdown",
   "metadata": {},
   "source": [
    "Manually updating bad records "
   ]
  },
  {
   "cell_type": "code",
   "execution_count": 29,
   "metadata": {},
   "outputs": [],
   "source": [
    "for processed_news in processed_data:\n",
    "    if not processed_news['stock_name']:\n",
    "        stock_name = input(f\"Enter stock name {processed_news['raw_news']}\")\n",
    "        processed_news.update({\"stock_name\":f\"{stock_name}\"})\n",
    "    if not processed_news['ticker_name']:\n",
    "        ticker_name = input(f\"Enter ticker name for {processed_news['raw_news']}\")\n",
    "        processed_news.update({\"ticker_name\":f\"{ticker_name}\"})\n",
    "        "
   ]
  },
  {
   "cell_type": "code",
   "execution_count": 30,
   "metadata": {},
   "outputs": [
    {
     "data": {
      "text/plain": [
       "[{'raw_news': 'Suven Life shares rise 11% on progress in clinical trial of cognitive disorder drug The company announced that the first subjects have been dosed in a Phase-1 clinical trial of SUVN-I6107 in the USA. Shares of Suven Life Sciences are higher by more than 11% after the company on January 8 shared progress about the Phase-1 clinical trial for a drug used in cognitive disorders. Suven informed that the first subjects have been dosed in a Phase-1 clinical trial of SUVN-I6107 in America, as part of a trial.\\xa0\"...the first subjects have been dosed in a Phase-1 clinical trial of SUVN-I6107 being conducted in USA under FDA acceptance of Investigational New Drug (IND) and issue of Study May Proceed letter,\" said the\\xa0statement in a company filing. The primary objective of the study is to assess the safety and tolerability of SUVN-I6107, and monitor adverse events. The past month has seen the share prices of Suven Life Sciences fall by 7.15 percent, as compared to a 4.83 percent decline in the Sensex. Follow Moneycontrol for live market updates, and more. SUVN-I6107\\xa0- a novel True Muscarinic M1 Positive Allosteric Modulator (M1 PAM)\\xa0- represents the fifth, internally discovered compound from Suven to enter clinical trials. In the month of September 2024, the company had announced strong results from its Phase-2a trials, aimed at assessing the safety and efficacy of Ropanicant, a drug developed to treat acute depression. Suven Life Sciences reported a net loss of Rs. 49.64 crore during the September quarter, significantly higher from Rs. 12.68 crore loss reported in the same period a year ago. EBITDA for the quarter stood at a negative Rs. 48.17 crore, a substantial decrease from the negative Rs. 18.36 crore reported\\xa0a year ago.',\n",
       "  'processed_text': 'suven life share rise progress clinical trial cognitive disorder drug company announced first subject dosed phase clinical trial suvni usa share suven life science higher company january shared progress phase clinical trial drug used cognitive disorder suven informed first subject dosed phase clinical trial suvni america part trial first subject dosed phase clinical trial suvni conducted usa fda acceptance investigational new drug ind issue study may proceed letter said statement company filing primary objective study assess safety tolerability suvni monitor adverse event past month seen share price suven life science fall percent compared percent decline sensex follow moneycontrol live market update suvni novel true muscarinic positive allosteric modulator pam represents fifth internally discovered compound suven enter clinical trial month september company announced strong result phasea trial aimed assessing safety efficacy ropanicant drug developed treat acute depression suven life science reported net loss r crore september quarter significantly higher r crore loss reported period year ago ebitda quarter stood negative r crore substantial decrease negative r crore reported year ago',\n",
       "  'date': '2025-01-08',\n",
       "  'datetime': '2025-01-08 14:39',\n",
       "  'stock_name': 'suven life ',\n",
       "  'ticker_name': 'SUVEN.NS'},\n",
       " {'raw_news': 'Signatureglobal (India) shares gain after firm reports strong FY25 pre-sales The company reported pre-sales for the first nine months of FY25 are 178 percent higher than same period last year Signatureglobal (India) Ltd shares gained 1.69 percent on\\xa0January 8 following their announcement of achieving\\xa0strong nine-months\\' FY25 pre-sales. The company reported pre-sales of Rs 8,670 crore for the first nine months of FY25, a 178 percent increase compared to the same period last year. This represents 87 percent of the company\\'s sales guidance of Rs 10,000 crore for FY25. Key contributors to these pre-sales include \\'Daxin Vistas\\' in Sohna, \\'Titanium SPR\\' and \\'Twin Tower DXP\\' in Gurugram, and \\'City of Colors\\' on NH-48. Collections for the first nine months of FY25 reached Rs 3,210 crore, a 54 percent increase compared to the same period last year. Q3FY25 saw collections of Rs 1,080 crore. Net debt decreased from Rs\\xa01,160 crore at the end of FY24 to Rs\\xa0720 crore in the first nine months of FY25, reflecting strong operating performance and improved liquidity. Pradeep Kumar Aggarwal, Chairman and\\xa0Whole- Time Director, said in the exchange filing \"This performance reflects the consistent efforts of our team and\\xa0the trust of our customers. By aligning our strategy with market trends and focusing on\\xa0delivering value through premium and mid-range housing, we have reached another important\\xa0milestone.\\xa0The strong demand during the festive season underscores the appeal of our carefully designedprojects. Moving forward, we remain committed to refining our offerings to meet the evolving\\xa0 needs of homebuyers. With this momentum, Signature Global is well-positioned to seize new\\xa0 opportunities, reinforce its market presence, and continue creating lasting value for our\\xa0stakeholders”',\n",
       "  'processed_text': 'signatureglobal india share gain firm report strong fy presales company reported presales first nine month fy percent higher period last year signatureglobal india ltd share gained percent january following announcement achieving strong ninemonths fy presales company reported presales r crore first nine month fy percent increase compared period last year represents percent company sale guidance r crore fy key contributor presales include daxin vista sohna titanium spr twin tower dxp gurugram city color nh collection first nine month fy reached r crore percent increase compared period last year qfy saw collection r crore net debt decreased r crore end fy r crore first nine month fy reflecting strong operating performance improved liquidity pradeep kumar aggarwal chairman whole time director said exchange filing performance reflects consistent effort team trust customer aligning strategy market trend focusing delivering value premium midrange housing reached another important milestone strong demand festive season underscore appeal carefully designedprojects moving forward remain committed refining offering meet evolving need homebuyers momentum signature global wellpositioned seize new opportunity reinforce market presence continue creating lasting value stakeholder',\n",
       "  'date': '2025-01-08',\n",
       "  'datetime': '2025-01-08 10:20',\n",
       "  'stock_name': 'SignatureGlobal',\n",
       "  'ticker_name': 'SIGNATURE.NS'},\n",
       " {'raw_news': \"Tata Steel shares trade marginally lower post-December quarter business update Tata Steel's Q3FY25 report shows India crude steel production up 8% QoQ and 6% YoY, with deliveries rising 4% QoQ and 8% YoY Tata Steel Ltd shares were trading marginally lower on January 8 after\\xa0 the company reported\\xa0increased volume of India steel production at 5.68 million tons, 7.58 percent higher than the previous quarter and 6.17 percent higher than the corresponding quarter of last year. At 3:25 pm on January, Tata Steel shares were trading 0.65% lower at Rs 132.49 apiece. The production volume at 16.2 million tonnes is the highest-ever in first nine months of FY25, marking a 5 percent YoY increase. The growth reflected in the provisional production volume figures is aided by the commissioning of the 5 MTPA blast furnace at Kalinganagar in September, Tata Steel said in an exchange filing.\\xa0Deliveries in India surged to a record 5.29 MT, up 8.4 percent YoY, supported by robust domestic sales and a strategic focus on exports. Automotive and special products deliveries increased by 3 percent YoY, while branded products and retail deliveries saw a 6 percent YoY rise. There was a 20 percent YoY growth in Tata Tiscon and a 7 percent increase in Tata Steelium. Industrial products and projects deliveries remained stable, with value-added segments experiencing double-digit growth. Tata Steel Aashiyana, the company's e-commerce platform, recorded a significant 37 percent YoY revenue increase, reaching Rs. 2,154 crore. European operations were impacted by the closure of blast furnaces at Tata Steel UK in the second quarter. Consequently, production in the Netherlands stood at 1.76 MT for the quarter, with deliveries reaching 1.53 MT, marking a 16 percent YoY growth for the nine-month period.\",\n",
       "  'processed_text': 'tata steel share trade marginally lower postdecember quarter business update tata steel qfy report show india crude steel production qoq yoy delivery rising qoq yoy tata steel ltd share trading marginally lower january company reported increased volume india steel production million ton percent higher previous quarter percent higher corresponding quarter last year pm january tata steel share trading lower r apiece production volume million tonne highestever first nine month fy marking percent yoy increase growth reflected provisional production volume figure aided commissioning mtpa blast furnace kalinganagar september tata steel said exchange filing delivery india surged record mt percent yoy supported robust domestic sale strategic focus export automotive special product delivery increased percent yoy branded product retail delivery saw percent yoy rise percent yoy growth tata tiscon percent increase tata steelium industrial product project delivery remained stable valueadded segment experiencing doubledigit growth tata steel aashiyana company ecommerce platform recorded significant percent yoy revenue increase reaching r crore european operation impacted closure blast furnace tata steel uk second quarter consequently production netherlands stood mt quarter delivery reaching mt marking percent yoy growth ninemonth period',\n",
       "  'date': '2025-01-08',\n",
       "  'datetime': '2025-01-08 15:30',\n",
       "  'stock_name': 'tata steel',\n",
       "  'ticker_name': 'TATASTEEL.NS'},\n",
       " {'raw_news': \"Top gainers and losers today: Stocks that moved the most on January 8 Reliance Industries, Paytm, Ola Electric were among the top gainers and losers in trade on January 8 Benchmark indices Nifty and Sensex staged a recovery on January 8, turning mildly positive as a rebound in IT stocks lent support. The closing figures for Sensex stood at 78,144.82, lower by 54.29 points or 0.069 percent, while Nifty was at 23,675.50, down by 32.40 points or 0.14 percent. Gains in Reliance Industries propelled the oil and gas sector higher, helping offset the dampening effect of weak global cues that had weighed on sentiment earlier in the day. Here’s a look at the top gainers and losers in trade today. ONGC (CMP: Rs 271.39, up by 3 percent)ONGC shares extended gains for a second session in a row after the oil marketing major bagged an upgrade from Hong Kong-based brokerage CLSA. The brokerage upgraded this stock to 'High Conviction Outperform' from 'Outperform' earlier. Reliance Industries (CMP: Rs 1265.30, up by 1.97 percent)International brokerages Jefferies and Bernstein reiterated their bullishness on chemicals-to-retail conglomerate Reliance Industries Ltd, leading to a 2 percent bump in its share price. Reliance Industries' stock price has seen a 22 percent correction from its 52-week high. As a result, RIL's valuations have become the cheapest since the COVID-19 shock seen in March 2020, making for a great buying opportunity as the risk-reward ratio turns attractive. Spandana Sphoorty Financial (CMP: Rs 476.75, up by 19.05 percent)Shares of Spandana Sphoorty Financial skyrocketed 15 percent to a 10-week high driven by an influx of heavy trading volumes in the counter. As many as 55 lakh shares changed hands on the exchanges so far, already exceeding the one-month daily average of seven lakh shares. Borosil Renewables (CMP: Rs 574.40, up by five percent)Shares of Borosil Renewables were locked in the 5 percent upper circuit for a second consecutive session after the company's promoter recently increased their holding. Promoter increasing stake in a company is generally seen as a positive sign, reflecting confidence over its growth prospects. Jindal Worldwide (CMP: Rs 442.45, lower by 0.57 percent)Jindal Worldwide shares surged five percent to hit a record high in the morning session on January 8, after the firm announced a bonus share issuance in a 4:1 ratio. Investors that hold one share of Jindal Worldwide shares by the record date will be eligible to receive four new shares. United Breweries (CMP: Rs 2011.65, down by 3.19 percent)Shares of United Breweries dropped after the company announced that it is suspending the supply of its beer to Telangana Beverages Corporation Limited with immediate effect. The maker of Kingfisher beer said it took this decision because TGBCL has not revised the basic price of its beer since 2019-2020, resulting in huge losses. Ola Electric Mobility (CMP: Rs 79.35, up by 0.24 percent)Ola Electric Mobility stock traded 4 percent lower, a day after the Securities and Exchange Board of India (SEBI) issued an administrative warning to the EV player for violation of disclosure norms. Bhavish Aggarwal had shared details of Ola Electric's plans for a four-fold expansion on social media platform X, before the disclosure was shared with the exchanges. One97 Communications (CMP: Rs 902.05, down by 8.25 percent)Shares of One97 Communications, the parent company of payments aggregator Paytm, dropped by up to 8 percent following UBS's report that Paytm did not gain any UPI market share in December, according to NPCI data. Dixon Technologies (CMP: Rs 16,900, down by 8.34 percent)Shares of electronics manufacturing firms--Dixon Technologies, Kaynes Technology and Amber Enterprises -- suffered sharp losses, falling up to 8 percent on January 8. The selloff in electronics manufacturing service (EMS) providers follows a nearly 2 percent drop in Wall Street's tech-heavy Nasdaq Composite index, driven by sharp declines in Big Tech stocks. Premier Energies (CMP: Rs 1255, down by 3.84 percent)Premier Energies shares tanked 5 percent after Kotak Institutional Equities initiated coverage on the renewable energy company. Despite forecasting a strong Compounded Annual Growth Rate (CAGR) of 44 percent for Premier Energies between FY24 and FY30, Kotak cited the stock's high valuations as a concern, driving its bearish stance.\",\n",
       "  'processed_text': 'top gainer loser today stock moved january reliance industry paytm ola electric among top gainer loser trade january benchmark index nifty sensex staged recovery january turning mildly positive rebound stock lent support closing figure sensex stood lower point percent nifty point percent gain reliance industry propelled oil gas sector higher helping offset dampening effect weak global cue weighed sentiment earlier day here look top gainer loser trade today ongc cmp r percentongc share extended gain second session row oil marketing major bagged upgrade hong kongbased brokerage clsa brokerage upgraded stock high conviction outperform outperform earlier reliance industry cmp r percentinternational brokerage jefferies bernstein reiterated bullishness chemicalstoretail conglomerate reliance industry ltd leading percent bump share price reliance industry stock price seen percent correction week high result rils valuation become cheapest since covid shock seen march making great buying opportunity riskreward ratio turn attractive spandana sphoorty financial cmp r percentshares spandana sphoorty financial skyrocketed percent week high driven influx heavy trading volume counter many lakh share changed hand exchange far already exceeding onemonth daily average seven lakh share borosil renewables cmp r five percentshares borosil renewables locked percent upper circuit second consecutive session company promoter recently increased holding promoter increasing stake company generally seen positive sign reflecting confidence growth prospect jindal worldwide cmp r lower percentjindal worldwide share surged five percent hit record high morning session january firm announced bonus share issuance ratio investor hold one share jindal worldwide share record date eligible receive four new share united brewery cmp r percentshares united brewery dropped company announced suspending supply beer telangana beverage corporation limited immediate effect maker kingfisher beer said took decision tgbcl revised basic price beer since resulting huge loss ola electric mobility cmp r percentola electric mobility stock traded percent lower day security exchange board india sebi issued administrative warning ev player violation disclosure norm bhavish aggarwal shared detail ola electric plan fourfold expansion social medium platform x disclosure shared exchange one communication cmp r percentshares one communication parent company payment aggregator paytm dropped percent following ubss report paytm gain upi market share december according npci data dixon technology cmp r percentshares electronics manufacturing firmsdixon technology kaynes technology amber enterprise suffered sharp loss falling percent january selloff electronics manufacturing service em provider follows nearly percent drop wall street techheavy nasdaq composite index driven sharp decline big tech stock premier energy cmp r percentpremier energy share tanked percent kotak institutional equity initiated coverage renewable energy company despite forecasting strong compounded annual growth rate cagr percent premier energy fy fy kotak cited stock high valuation concern driving bearish stance',\n",
       "  'date': '2025-01-08',\n",
       "  'datetime': '2025-01-08 16:04',\n",
       "  'stock_name': '',\n",
       "  'ticker_name': ''},\n",
       " {'raw_news': 'Buy JNK India; target of Rs 815: LKP Research LKP Research is bullish on JNK India has recommended buy rating on the stock with a target price of Rs 815 in its research report dated January 08, 2025. JNK India Ltd (JNK) is a leading player in India’s heating equipment sector, holding a market share of ~ 27% and serving diverse industries, including oil & gas refineries, petrochemicals, and fertilizers. With capabilities in thermal design, engineering, manufacturing and commissioning of process-fired heaters, reformers and cracking furnaces, JNK enjoys a competitive advantage due to high entry barriers and strong support from JNK Global. The company is well-positioned to capitalize on India’s growing energy demand, which is set to increase 3.5x by 2047E, with a substantial contribution from oil and natural gas. The country’s refining capacity is expected to nearly double by 2030E, offering significant growth opportunities. Additionally, renewable energy initiatives like the ₹197 bn Green Hydrogen Mission and 500 GW non-fossil targets by 2030E further drive low-carbon goals, creating new avenues for JNK. With a strong order book of ₹13.1 bn as of H1FY25, up nearly 9x since FY21, and a robust revenue growth of ~4x over the same period. We expect the company to deliver sales/PAT CAGR of 25%/23% over FY24-27E. JNK’s expanding client base and higher Total Addressable Market (TAM) in both India and international markets ensure continued revenue visibility and growth potential. Hence we initiate coverage on JNK with a BUY rating and TP of ₹815.',\n",
       "  'processed_text': 'buy jnk india target r lkp research lkp research bullish jnk india recommended buy rating stock target price r research report dated january jnk india ltd jnk leading player india heating equipment sector holding market share serving diverse industry including oil gas refinery petrochemical fertilizer capability thermal design engineering manufacturing commissioning processfired heater reformer cracking furnace jnk enjoys competitive advantage due high entry barrier strong support jnk global company wellpositioned capitalize india growing energy demand set increase x e substantial contribution oil natural gas country refining capacity expected nearly double e offering significant growth opportunity additionally renewable energy initiative like bn green hydrogen mission gw nonfossil target e drive lowcarbon goal creating new avenue jnk strong order book bn hfy nearly x since fy robust revenue growth x period expect company deliver salespat cagr fye jnks expanding client base higher total addressable market tam india international market ensure continued revenue visibility growth potential hence initiate coverage jnk buy rating tp',\n",
       "  'date': '2025-01-08',\n",
       "  'datetime': '2025-01-08 10:56',\n",
       "  'stock_name': 'JNK India',\n",
       "  'ticker_name': 'JNKINDIA.NS'}]"
      ]
     },
     "execution_count": 30,
     "metadata": {},
     "output_type": "execute_result"
    }
   ],
   "source": [
    "processed_data"
   ]
  },
  {
   "cell_type": "code",
   "execution_count": 31,
   "metadata": {},
   "outputs": [],
   "source": [
    "from transformers import AutoTokenizer, AutoModelForSequenceClassification\n",
    "from transformers import pipeline"
   ]
  },
  {
   "cell_type": "code",
   "execution_count": 32,
   "metadata": {},
   "outputs": [],
   "source": [
    "tokenizer = AutoTokenizer.from_pretrained(\"yiyanghkust/finbert-tone\")\n",
    "model = AutoModelForSequenceClassification.from_pretrained(\"yiyanghkust/finbert-tone\")\n",
    "nlp_pipeline = pipeline(\"sentiment-analysis\", model=model, tokenizer=tokenizer)"
   ]
  },
  {
   "cell_type": "code",
   "execution_count": 33,
   "metadata": {},
   "outputs": [],
   "source": [
    "def split_text(text, max_length=500):\n",
    "    tokens = tokenizer.tokenize(text)\n",
    "    chunks = [tokens[i:i+max_length] for i in range(0, len(tokens), max_length)]\n",
    "    return [tokenizer.convert_tokens_to_string(chunk) for chunk in chunks]"
   ]
  },
  {
   "cell_type": "code",
   "execution_count": 34,
   "metadata": {},
   "outputs": [],
   "source": [
    "for news in processed_data:\n",
    "    \n",
    "    text = news['raw_news']\n",
    "    \n",
    "    text_chunks = split_text(text)\n",
    "    sentiment_results = []\n",
    "    \n",
    "    for chunk in text_chunks:\n",
    "        sentiment_result = nlp_pipeline(chunk)\n",
    "        sentiment_results.extend(sentiment_result)\n",
    "\n",
    "    i = 0\n",
    "    while i < len(sentiment_results) - 1:\n",
    "        if sentiment_results[i]['label'] == sentiment_results[i + 1]['label']:\n",
    "            avg_score = (sentiment_results[i]['score'] + sentiment_results[i + 1]['score']) / 2\n",
    "            sentiment_results[i] = {\"label\": sentiment_results[i]['label'], \"score\": avg_score}\n",
    "            del sentiment_results[i + 1]  \n",
    "        else:\n",
    "            i += 1  \n",
    "    news.update({\"finbert_analysis\":sentiment_results})\n",
    " \n",
    "    # print(\"Updated Sentiment Results:\", sentiment_results)"
   ]
  },
  {
   "cell_type": "code",
   "execution_count": 35,
   "metadata": {},
   "outputs": [
    {
     "data": {
      "text/plain": [
       "[{'raw_news': 'Suven Life shares rise 11% on progress in clinical trial of cognitive disorder drug The company announced that the first subjects have been dosed in a Phase-1 clinical trial of SUVN-I6107 in the USA. Shares of Suven Life Sciences are higher by more than 11% after the company on January 8 shared progress about the Phase-1 clinical trial for a drug used in cognitive disorders. Suven informed that the first subjects have been dosed in a Phase-1 clinical trial of SUVN-I6107 in America, as part of a trial.\\xa0\"...the first subjects have been dosed in a Phase-1 clinical trial of SUVN-I6107 being conducted in USA under FDA acceptance of Investigational New Drug (IND) and issue of Study May Proceed letter,\" said the\\xa0statement in a company filing. The primary objective of the study is to assess the safety and tolerability of SUVN-I6107, and monitor adverse events. The past month has seen the share prices of Suven Life Sciences fall by 7.15 percent, as compared to a 4.83 percent decline in the Sensex. Follow Moneycontrol for live market updates, and more. SUVN-I6107\\xa0- a novel True Muscarinic M1 Positive Allosteric Modulator (M1 PAM)\\xa0- represents the fifth, internally discovered compound from Suven to enter clinical trials. In the month of September 2024, the company had announced strong results from its Phase-2a trials, aimed at assessing the safety and efficacy of Ropanicant, a drug developed to treat acute depression. Suven Life Sciences reported a net loss of Rs. 49.64 crore during the September quarter, significantly higher from Rs. 12.68 crore loss reported in the same period a year ago. EBITDA for the quarter stood at a negative Rs. 48.17 crore, a substantial decrease from the negative Rs. 18.36 crore reported\\xa0a year ago.',\n",
       "  'processed_text': 'suven life share rise progress clinical trial cognitive disorder drug company announced first subject dosed phase clinical trial suvni usa share suven life science higher company january shared progress phase clinical trial drug used cognitive disorder suven informed first subject dosed phase clinical trial suvni america part trial first subject dosed phase clinical trial suvni conducted usa fda acceptance investigational new drug ind issue study may proceed letter said statement company filing primary objective study assess safety tolerability suvni monitor adverse event past month seen share price suven life science fall percent compared percent decline sensex follow moneycontrol live market update suvni novel true muscarinic positive allosteric modulator pam represents fifth internally discovered compound suven enter clinical trial month september company announced strong result phasea trial aimed assessing safety efficacy ropanicant drug developed treat acute depression suven life science reported net loss r crore september quarter significantly higher r crore loss reported period year ago ebitda quarter stood negative r crore substantial decrease negative r crore reported year ago',\n",
       "  'date': '2025-01-08',\n",
       "  'datetime': '2025-01-08 14:39',\n",
       "  'stock_name': 'suven life ',\n",
       "  'ticker_name': 'SUVEN.NS',\n",
       "  'finbert_analysis': [{'label': 'Positive', 'score': 0.8908411860466003}]},\n",
       " {'raw_news': 'Signatureglobal (India) shares gain after firm reports strong FY25 pre-sales The company reported pre-sales for the first nine months of FY25 are 178 percent higher than same period last year Signatureglobal (India) Ltd shares gained 1.69 percent on\\xa0January 8 following their announcement of achieving\\xa0strong nine-months\\' FY25 pre-sales. The company reported pre-sales of Rs 8,670 crore for the first nine months of FY25, a 178 percent increase compared to the same period last year. This represents 87 percent of the company\\'s sales guidance of Rs 10,000 crore for FY25. Key contributors to these pre-sales include \\'Daxin Vistas\\' in Sohna, \\'Titanium SPR\\' and \\'Twin Tower DXP\\' in Gurugram, and \\'City of Colors\\' on NH-48. Collections for the first nine months of FY25 reached Rs 3,210 crore, a 54 percent increase compared to the same period last year. Q3FY25 saw collections of Rs 1,080 crore. Net debt decreased from Rs\\xa01,160 crore at the end of FY24 to Rs\\xa0720 crore in the first nine months of FY25, reflecting strong operating performance and improved liquidity. Pradeep Kumar Aggarwal, Chairman and\\xa0Whole- Time Director, said in the exchange filing \"This performance reflects the consistent efforts of our team and\\xa0the trust of our customers. By aligning our strategy with market trends and focusing on\\xa0delivering value through premium and mid-range housing, we have reached another important\\xa0milestone.\\xa0The strong demand during the festive season underscores the appeal of our carefully designedprojects. Moving forward, we remain committed to refining our offerings to meet the evolving\\xa0 needs of homebuyers. With this momentum, Signature Global is well-positioned to seize new\\xa0 opportunities, reinforce its market presence, and continue creating lasting value for our\\xa0stakeholders”',\n",
       "  'processed_text': 'signatureglobal india share gain firm report strong fy presales company reported presales first nine month fy percent higher period last year signatureglobal india ltd share gained percent january following announcement achieving strong ninemonths fy presales company reported presales r crore first nine month fy percent increase compared period last year represents percent company sale guidance r crore fy key contributor presales include daxin vista sohna titanium spr twin tower dxp gurugram city color nh collection first nine month fy reached r crore percent increase compared period last year qfy saw collection r crore net debt decreased r crore end fy r crore first nine month fy reflecting strong operating performance improved liquidity pradeep kumar aggarwal chairman whole time director said exchange filing performance reflects consistent effort team trust customer aligning strategy market trend focusing delivering value premium midrange housing reached another important milestone strong demand festive season underscore appeal carefully designedprojects moving forward remain committed refining offering meet evolving need homebuyers momentum signature global wellpositioned seize new opportunity reinforce market presence continue creating lasting value stakeholder',\n",
       "  'date': '2025-01-08',\n",
       "  'datetime': '2025-01-08 10:20',\n",
       "  'stock_name': 'SignatureGlobal',\n",
       "  'ticker_name': 'SIGNATURE.NS',\n",
       "  'finbert_analysis': [{'label': 'Positive', 'score': 1.0}]},\n",
       " {'raw_news': \"Tata Steel shares trade marginally lower post-December quarter business update Tata Steel's Q3FY25 report shows India crude steel production up 8% QoQ and 6% YoY, with deliveries rising 4% QoQ and 8% YoY Tata Steel Ltd shares were trading marginally lower on January 8 after\\xa0 the company reported\\xa0increased volume of India steel production at 5.68 million tons, 7.58 percent higher than the previous quarter and 6.17 percent higher than the corresponding quarter of last year. At 3:25 pm on January, Tata Steel shares were trading 0.65% lower at Rs 132.49 apiece. The production volume at 16.2 million tonnes is the highest-ever in first nine months of FY25, marking a 5 percent YoY increase. The growth reflected in the provisional production volume figures is aided by the commissioning of the 5 MTPA blast furnace at Kalinganagar in September, Tata Steel said in an exchange filing.\\xa0Deliveries in India surged to a record 5.29 MT, up 8.4 percent YoY, supported by robust domestic sales and a strategic focus on exports. Automotive and special products deliveries increased by 3 percent YoY, while branded products and retail deliveries saw a 6 percent YoY rise. There was a 20 percent YoY growth in Tata Tiscon and a 7 percent increase in Tata Steelium. Industrial products and projects deliveries remained stable, with value-added segments experiencing double-digit growth. Tata Steel Aashiyana, the company's e-commerce platform, recorded a significant 37 percent YoY revenue increase, reaching Rs. 2,154 crore. European operations were impacted by the closure of blast furnaces at Tata Steel UK in the second quarter. Consequently, production in the Netherlands stood at 1.76 MT for the quarter, with deliveries reaching 1.53 MT, marking a 16 percent YoY growth for the nine-month period.\",\n",
       "  'processed_text': 'tata steel share trade marginally lower postdecember quarter business update tata steel qfy report show india crude steel production qoq yoy delivery rising qoq yoy tata steel ltd share trading marginally lower january company reported increased volume india steel production million ton percent higher previous quarter percent higher corresponding quarter last year pm january tata steel share trading lower r apiece production volume million tonne highestever first nine month fy marking percent yoy increase growth reflected provisional production volume figure aided commissioning mtpa blast furnace kalinganagar september tata steel said exchange filing delivery india surged record mt percent yoy supported robust domestic sale strategic focus export automotive special product delivery increased percent yoy branded product retail delivery saw percent yoy rise percent yoy growth tata tiscon percent increase tata steelium industrial product project delivery remained stable valueadded segment experiencing doubledigit growth tata steel aashiyana company ecommerce platform recorded significant percent yoy revenue increase reaching r crore european operation impacted closure blast furnace tata steel uk second quarter consequently production netherlands stood mt quarter delivery reaching mt marking percent yoy growth ninemonth period',\n",
       "  'date': '2025-01-08',\n",
       "  'datetime': '2025-01-08 15:30',\n",
       "  'stock_name': 'tata steel',\n",
       "  'ticker_name': 'TATASTEEL.NS',\n",
       "  'finbert_analysis': [{'label': 'Positive', 'score': 0.9999994039535522}]},\n",
       " {'raw_news': \"Top gainers and losers today: Stocks that moved the most on January 8 Reliance Industries, Paytm, Ola Electric were among the top gainers and losers in trade on January 8 Benchmark indices Nifty and Sensex staged a recovery on January 8, turning mildly positive as a rebound in IT stocks lent support. The closing figures for Sensex stood at 78,144.82, lower by 54.29 points or 0.069 percent, while Nifty was at 23,675.50, down by 32.40 points or 0.14 percent. Gains in Reliance Industries propelled the oil and gas sector higher, helping offset the dampening effect of weak global cues that had weighed on sentiment earlier in the day. Here’s a look at the top gainers and losers in trade today. ONGC (CMP: Rs 271.39, up by 3 percent)ONGC shares extended gains for a second session in a row after the oil marketing major bagged an upgrade from Hong Kong-based brokerage CLSA. The brokerage upgraded this stock to 'High Conviction Outperform' from 'Outperform' earlier. Reliance Industries (CMP: Rs 1265.30, up by 1.97 percent)International brokerages Jefferies and Bernstein reiterated their bullishness on chemicals-to-retail conglomerate Reliance Industries Ltd, leading to a 2 percent bump in its share price. Reliance Industries' stock price has seen a 22 percent correction from its 52-week high. As a result, RIL's valuations have become the cheapest since the COVID-19 shock seen in March 2020, making for a great buying opportunity as the risk-reward ratio turns attractive. Spandana Sphoorty Financial (CMP: Rs 476.75, up by 19.05 percent)Shares of Spandana Sphoorty Financial skyrocketed 15 percent to a 10-week high driven by an influx of heavy trading volumes in the counter. As many as 55 lakh shares changed hands on the exchanges so far, already exceeding the one-month daily average of seven lakh shares. Borosil Renewables (CMP: Rs 574.40, up by five percent)Shares of Borosil Renewables were locked in the 5 percent upper circuit for a second consecutive session after the company's promoter recently increased their holding. Promoter increasing stake in a company is generally seen as a positive sign, reflecting confidence over its growth prospects. Jindal Worldwide (CMP: Rs 442.45, lower by 0.57 percent)Jindal Worldwide shares surged five percent to hit a record high in the morning session on January 8, after the firm announced a bonus share issuance in a 4:1 ratio. Investors that hold one share of Jindal Worldwide shares by the record date will be eligible to receive four new shares. United Breweries (CMP: Rs 2011.65, down by 3.19 percent)Shares of United Breweries dropped after the company announced that it is suspending the supply of its beer to Telangana Beverages Corporation Limited with immediate effect. The maker of Kingfisher beer said it took this decision because TGBCL has not revised the basic price of its beer since 2019-2020, resulting in huge losses. Ola Electric Mobility (CMP: Rs 79.35, up by 0.24 percent)Ola Electric Mobility stock traded 4 percent lower, a day after the Securities and Exchange Board of India (SEBI) issued an administrative warning to the EV player for violation of disclosure norms. Bhavish Aggarwal had shared details of Ola Electric's plans for a four-fold expansion on social media platform X, before the disclosure was shared with the exchanges. One97 Communications (CMP: Rs 902.05, down by 8.25 percent)Shares of One97 Communications, the parent company of payments aggregator Paytm, dropped by up to 8 percent following UBS's report that Paytm did not gain any UPI market share in December, according to NPCI data. Dixon Technologies (CMP: Rs 16,900, down by 8.34 percent)Shares of electronics manufacturing firms--Dixon Technologies, Kaynes Technology and Amber Enterprises -- suffered sharp losses, falling up to 8 percent on January 8. The selloff in electronics manufacturing service (EMS) providers follows a nearly 2 percent drop in Wall Street's tech-heavy Nasdaq Composite index, driven by sharp declines in Big Tech stocks. Premier Energies (CMP: Rs 1255, down by 3.84 percent)Premier Energies shares tanked 5 percent after Kotak Institutional Equities initiated coverage on the renewable energy company. Despite forecasting a strong Compounded Annual Growth Rate (CAGR) of 44 percent for Premier Energies between FY24 and FY30, Kotak cited the stock's high valuations as a concern, driving its bearish stance.\",\n",
       "  'processed_text': 'top gainer loser today stock moved january reliance industry paytm ola electric among top gainer loser trade january benchmark index nifty sensex staged recovery january turning mildly positive rebound stock lent support closing figure sensex stood lower point percent nifty point percent gain reliance industry propelled oil gas sector higher helping offset dampening effect weak global cue weighed sentiment earlier day here look top gainer loser trade today ongc cmp r percentongc share extended gain second session row oil marketing major bagged upgrade hong kongbased brokerage clsa brokerage upgraded stock high conviction outperform outperform earlier reliance industry cmp r percentinternational brokerage jefferies bernstein reiterated bullishness chemicalstoretail conglomerate reliance industry ltd leading percent bump share price reliance industry stock price seen percent correction week high result rils valuation become cheapest since covid shock seen march making great buying opportunity riskreward ratio turn attractive spandana sphoorty financial cmp r percentshares spandana sphoorty financial skyrocketed percent week high driven influx heavy trading volume counter many lakh share changed hand exchange far already exceeding onemonth daily average seven lakh share borosil renewables cmp r five percentshares borosil renewables locked percent upper circuit second consecutive session company promoter recently increased holding promoter increasing stake company generally seen positive sign reflecting confidence growth prospect jindal worldwide cmp r lower percentjindal worldwide share surged five percent hit record high morning session january firm announced bonus share issuance ratio investor hold one share jindal worldwide share record date eligible receive four new share united brewery cmp r percentshares united brewery dropped company announced suspending supply beer telangana beverage corporation limited immediate effect maker kingfisher beer said took decision tgbcl revised basic price beer since resulting huge loss ola electric mobility cmp r percentola electric mobility stock traded percent lower day security exchange board india sebi issued administrative warning ev player violation disclosure norm bhavish aggarwal shared detail ola electric plan fourfold expansion social medium platform x disclosure shared exchange one communication cmp r percentshares one communication parent company payment aggregator paytm dropped percent following ubss report paytm gain upi market share december according npci data dixon technology cmp r percentshares electronics manufacturing firmsdixon technology kaynes technology amber enterprise suffered sharp loss falling percent january selloff electronics manufacturing service em provider follows nearly percent drop wall street techheavy nasdaq composite index driven sharp decline big tech stock premier energy cmp r percentpremier energy share tanked percent kotak institutional equity initiated coverage renewable energy company despite forecasting strong compounded annual growth rate cagr percent premier energy fy fy kotak cited stock high valuation concern driving bearish stance',\n",
       "  'date': '2025-01-08',\n",
       "  'datetime': '2025-01-08 16:04',\n",
       "  'stock_name': '',\n",
       "  'ticker_name': '',\n",
       "  'finbert_analysis': [{'label': 'Positive', 'score': 0.9999817609786987},\n",
       "   {'label': 'Neutral', 'score': 0.9524372220039368}]},\n",
       " {'raw_news': 'Buy JNK India; target of Rs 815: LKP Research LKP Research is bullish on JNK India has recommended buy rating on the stock with a target price of Rs 815 in its research report dated January 08, 2025. JNK India Ltd (JNK) is a leading player in India’s heating equipment sector, holding a market share of ~ 27% and serving diverse industries, including oil & gas refineries, petrochemicals, and fertilizers. With capabilities in thermal design, engineering, manufacturing and commissioning of process-fired heaters, reformers and cracking furnaces, JNK enjoys a competitive advantage due to high entry barriers and strong support from JNK Global. The company is well-positioned to capitalize on India’s growing energy demand, which is set to increase 3.5x by 2047E, with a substantial contribution from oil and natural gas. The country’s refining capacity is expected to nearly double by 2030E, offering significant growth opportunities. Additionally, renewable energy initiatives like the ₹197 bn Green Hydrogen Mission and 500 GW non-fossil targets by 2030E further drive low-carbon goals, creating new avenues for JNK. With a strong order book of ₹13.1 bn as of H1FY25, up nearly 9x since FY21, and a robust revenue growth of ~4x over the same period. We expect the company to deliver sales/PAT CAGR of 25%/23% over FY24-27E. JNK’s expanding client base and higher Total Addressable Market (TAM) in both India and international markets ensure continued revenue visibility and growth potential. Hence we initiate coverage on JNK with a BUY rating and TP of ₹815.',\n",
       "  'processed_text': 'buy jnk india target r lkp research lkp research bullish jnk india recommended buy rating stock target price r research report dated january jnk india ltd jnk leading player india heating equipment sector holding market share serving diverse industry including oil gas refinery petrochemical fertilizer capability thermal design engineering manufacturing commissioning processfired heater reformer cracking furnace jnk enjoys competitive advantage due high entry barrier strong support jnk global company wellpositioned capitalize india growing energy demand set increase x e substantial contribution oil natural gas country refining capacity expected nearly double e offering significant growth opportunity additionally renewable energy initiative like bn green hydrogen mission gw nonfossil target e drive lowcarbon goal creating new avenue jnk strong order book bn hfy nearly x since fy robust revenue growth x period expect company deliver salespat cagr fye jnks expanding client base higher total addressable market tam india international market ensure continued revenue visibility growth potential hence initiate coverage jnk buy rating tp',\n",
       "  'date': '2025-01-08',\n",
       "  'datetime': '2025-01-08 10:56',\n",
       "  'stock_name': 'JNK India',\n",
       "  'ticker_name': 'JNKINDIA.NS',\n",
       "  'finbert_analysis': [{'label': 'Positive', 'score': 1.0}]}]"
      ]
     },
     "execution_count": 35,
     "metadata": {},
     "output_type": "execute_result"
    }
   ],
   "source": [
    "processed_data"
   ]
  },
  {
   "cell_type": "code",
   "execution_count": 36,
   "metadata": {},
   "outputs": [],
   "source": [
    "finbert_list = []"
   ]
  },
  {
   "cell_type": "code",
   "execution_count": 37,
   "metadata": {},
   "outputs": [],
   "source": [
    "for data in processed_data:\n",
    "    if len(data['finbert_analysis']) == 1:\n",
    "        if data['stock_name'] and data['ticker_name']:\n",
    "            finbert_list.append(data)\n"
   ]
  },
  {
   "cell_type": "code",
   "execution_count": 38,
   "metadata": {},
   "outputs": [
    {
     "data": {
      "text/plain": [
       "[{'raw_news': 'Suven Life shares rise 11% on progress in clinical trial of cognitive disorder drug The company announced that the first subjects have been dosed in a Phase-1 clinical trial of SUVN-I6107 in the USA. Shares of Suven Life Sciences are higher by more than 11% after the company on January 8 shared progress about the Phase-1 clinical trial for a drug used in cognitive disorders. Suven informed that the first subjects have been dosed in a Phase-1 clinical trial of SUVN-I6107 in America, as part of a trial.\\xa0\"...the first subjects have been dosed in a Phase-1 clinical trial of SUVN-I6107 being conducted in USA under FDA acceptance of Investigational New Drug (IND) and issue of Study May Proceed letter,\" said the\\xa0statement in a company filing. The primary objective of the study is to assess the safety and tolerability of SUVN-I6107, and monitor adverse events. The past month has seen the share prices of Suven Life Sciences fall by 7.15 percent, as compared to a 4.83 percent decline in the Sensex. Follow Moneycontrol for live market updates, and more. SUVN-I6107\\xa0- a novel True Muscarinic M1 Positive Allosteric Modulator (M1 PAM)\\xa0- represents the fifth, internally discovered compound from Suven to enter clinical trials. In the month of September 2024, the company had announced strong results from its Phase-2a trials, aimed at assessing the safety and efficacy of Ropanicant, a drug developed to treat acute depression. Suven Life Sciences reported a net loss of Rs. 49.64 crore during the September quarter, significantly higher from Rs. 12.68 crore loss reported in the same period a year ago. EBITDA for the quarter stood at a negative Rs. 48.17 crore, a substantial decrease from the negative Rs. 18.36 crore reported\\xa0a year ago.',\n",
       "  'processed_text': 'suven life share rise progress clinical trial cognitive disorder drug company announced first subject dosed phase clinical trial suvni usa share suven life science higher company january shared progress phase clinical trial drug used cognitive disorder suven informed first subject dosed phase clinical trial suvni america part trial first subject dosed phase clinical trial suvni conducted usa fda acceptance investigational new drug ind issue study may proceed letter said statement company filing primary objective study assess safety tolerability suvni monitor adverse event past month seen share price suven life science fall percent compared percent decline sensex follow moneycontrol live market update suvni novel true muscarinic positive allosteric modulator pam represents fifth internally discovered compound suven enter clinical trial month september company announced strong result phasea trial aimed assessing safety efficacy ropanicant drug developed treat acute depression suven life science reported net loss r crore september quarter significantly higher r crore loss reported period year ago ebitda quarter stood negative r crore substantial decrease negative r crore reported year ago',\n",
       "  'date': '2025-01-08',\n",
       "  'datetime': '2025-01-08 14:39',\n",
       "  'stock_name': 'suven life ',\n",
       "  'ticker_name': 'SUVEN.NS',\n",
       "  'finbert_analysis': [{'label': 'Positive', 'score': 0.8908411860466003}]},\n",
       " {'raw_news': 'Signatureglobal (India) shares gain after firm reports strong FY25 pre-sales The company reported pre-sales for the first nine months of FY25 are 178 percent higher than same period last year Signatureglobal (India) Ltd shares gained 1.69 percent on\\xa0January 8 following their announcement of achieving\\xa0strong nine-months\\' FY25 pre-sales. The company reported pre-sales of Rs 8,670 crore for the first nine months of FY25, a 178 percent increase compared to the same period last year. This represents 87 percent of the company\\'s sales guidance of Rs 10,000 crore for FY25. Key contributors to these pre-sales include \\'Daxin Vistas\\' in Sohna, \\'Titanium SPR\\' and \\'Twin Tower DXP\\' in Gurugram, and \\'City of Colors\\' on NH-48. Collections for the first nine months of FY25 reached Rs 3,210 crore, a 54 percent increase compared to the same period last year. Q3FY25 saw collections of Rs 1,080 crore. Net debt decreased from Rs\\xa01,160 crore at the end of FY24 to Rs\\xa0720 crore in the first nine months of FY25, reflecting strong operating performance and improved liquidity. Pradeep Kumar Aggarwal, Chairman and\\xa0Whole- Time Director, said in the exchange filing \"This performance reflects the consistent efforts of our team and\\xa0the trust of our customers. By aligning our strategy with market trends and focusing on\\xa0delivering value through premium and mid-range housing, we have reached another important\\xa0milestone.\\xa0The strong demand during the festive season underscores the appeal of our carefully designedprojects. Moving forward, we remain committed to refining our offerings to meet the evolving\\xa0 needs of homebuyers. With this momentum, Signature Global is well-positioned to seize new\\xa0 opportunities, reinforce its market presence, and continue creating lasting value for our\\xa0stakeholders”',\n",
       "  'processed_text': 'signatureglobal india share gain firm report strong fy presales company reported presales first nine month fy percent higher period last year signatureglobal india ltd share gained percent january following announcement achieving strong ninemonths fy presales company reported presales r crore first nine month fy percent increase compared period last year represents percent company sale guidance r crore fy key contributor presales include daxin vista sohna titanium spr twin tower dxp gurugram city color nh collection first nine month fy reached r crore percent increase compared period last year qfy saw collection r crore net debt decreased r crore end fy r crore first nine month fy reflecting strong operating performance improved liquidity pradeep kumar aggarwal chairman whole time director said exchange filing performance reflects consistent effort team trust customer aligning strategy market trend focusing delivering value premium midrange housing reached another important milestone strong demand festive season underscore appeal carefully designedprojects moving forward remain committed refining offering meet evolving need homebuyers momentum signature global wellpositioned seize new opportunity reinforce market presence continue creating lasting value stakeholder',\n",
       "  'date': '2025-01-08',\n",
       "  'datetime': '2025-01-08 10:20',\n",
       "  'stock_name': 'SignatureGlobal',\n",
       "  'ticker_name': 'SIGNATURE.NS',\n",
       "  'finbert_analysis': [{'label': 'Positive', 'score': 1.0}]},\n",
       " {'raw_news': \"Tata Steel shares trade marginally lower post-December quarter business update Tata Steel's Q3FY25 report shows India crude steel production up 8% QoQ and 6% YoY, with deliveries rising 4% QoQ and 8% YoY Tata Steel Ltd shares were trading marginally lower on January 8 after\\xa0 the company reported\\xa0increased volume of India steel production at 5.68 million tons, 7.58 percent higher than the previous quarter and 6.17 percent higher than the corresponding quarter of last year. At 3:25 pm on January, Tata Steel shares were trading 0.65% lower at Rs 132.49 apiece. The production volume at 16.2 million tonnes is the highest-ever in first nine months of FY25, marking a 5 percent YoY increase. The growth reflected in the provisional production volume figures is aided by the commissioning of the 5 MTPA blast furnace at Kalinganagar in September, Tata Steel said in an exchange filing.\\xa0Deliveries in India surged to a record 5.29 MT, up 8.4 percent YoY, supported by robust domestic sales and a strategic focus on exports. Automotive and special products deliveries increased by 3 percent YoY, while branded products and retail deliveries saw a 6 percent YoY rise. There was a 20 percent YoY growth in Tata Tiscon and a 7 percent increase in Tata Steelium. Industrial products and projects deliveries remained stable, with value-added segments experiencing double-digit growth. Tata Steel Aashiyana, the company's e-commerce platform, recorded a significant 37 percent YoY revenue increase, reaching Rs. 2,154 crore. European operations were impacted by the closure of blast furnaces at Tata Steel UK in the second quarter. Consequently, production in the Netherlands stood at 1.76 MT for the quarter, with deliveries reaching 1.53 MT, marking a 16 percent YoY growth for the nine-month period.\",\n",
       "  'processed_text': 'tata steel share trade marginally lower postdecember quarter business update tata steel qfy report show india crude steel production qoq yoy delivery rising qoq yoy tata steel ltd share trading marginally lower january company reported increased volume india steel production million ton percent higher previous quarter percent higher corresponding quarter last year pm january tata steel share trading lower r apiece production volume million tonne highestever first nine month fy marking percent yoy increase growth reflected provisional production volume figure aided commissioning mtpa blast furnace kalinganagar september tata steel said exchange filing delivery india surged record mt percent yoy supported robust domestic sale strategic focus export automotive special product delivery increased percent yoy branded product retail delivery saw percent yoy rise percent yoy growth tata tiscon percent increase tata steelium industrial product project delivery remained stable valueadded segment experiencing doubledigit growth tata steel aashiyana company ecommerce platform recorded significant percent yoy revenue increase reaching r crore european operation impacted closure blast furnace tata steel uk second quarter consequently production netherlands stood mt quarter delivery reaching mt marking percent yoy growth ninemonth period',\n",
       "  'date': '2025-01-08',\n",
       "  'datetime': '2025-01-08 15:30',\n",
       "  'stock_name': 'tata steel',\n",
       "  'ticker_name': 'TATASTEEL.NS',\n",
       "  'finbert_analysis': [{'label': 'Positive', 'score': 0.9999994039535522}]},\n",
       " {'raw_news': 'Buy JNK India; target of Rs 815: LKP Research LKP Research is bullish on JNK India has recommended buy rating on the stock with a target price of Rs 815 in its research report dated January 08, 2025. JNK India Ltd (JNK) is a leading player in India’s heating equipment sector, holding a market share of ~ 27% and serving diverse industries, including oil & gas refineries, petrochemicals, and fertilizers. With capabilities in thermal design, engineering, manufacturing and commissioning of process-fired heaters, reformers and cracking furnaces, JNK enjoys a competitive advantage due to high entry barriers and strong support from JNK Global. The company is well-positioned to capitalize on India’s growing energy demand, which is set to increase 3.5x by 2047E, with a substantial contribution from oil and natural gas. The country’s refining capacity is expected to nearly double by 2030E, offering significant growth opportunities. Additionally, renewable energy initiatives like the ₹197 bn Green Hydrogen Mission and 500 GW non-fossil targets by 2030E further drive low-carbon goals, creating new avenues for JNK. With a strong order book of ₹13.1 bn as of H1FY25, up nearly 9x since FY21, and a robust revenue growth of ~4x over the same period. We expect the company to deliver sales/PAT CAGR of 25%/23% over FY24-27E. JNK’s expanding client base and higher Total Addressable Market (TAM) in both India and international markets ensure continued revenue visibility and growth potential. Hence we initiate coverage on JNK with a BUY rating and TP of ₹815.',\n",
       "  'processed_text': 'buy jnk india target r lkp research lkp research bullish jnk india recommended buy rating stock target price r research report dated january jnk india ltd jnk leading player india heating equipment sector holding market share serving diverse industry including oil gas refinery petrochemical fertilizer capability thermal design engineering manufacturing commissioning processfired heater reformer cracking furnace jnk enjoys competitive advantage due high entry barrier strong support jnk global company wellpositioned capitalize india growing energy demand set increase x e substantial contribution oil natural gas country refining capacity expected nearly double e offering significant growth opportunity additionally renewable energy initiative like bn green hydrogen mission gw nonfossil target e drive lowcarbon goal creating new avenue jnk strong order book bn hfy nearly x since fy robust revenue growth x period expect company deliver salespat cagr fye jnks expanding client base higher total addressable market tam india international market ensure continued revenue visibility growth potential hence initiate coverage jnk buy rating tp',\n",
       "  'date': '2025-01-08',\n",
       "  'datetime': '2025-01-08 10:56',\n",
       "  'stock_name': 'JNK India',\n",
       "  'ticker_name': 'JNKINDIA.NS',\n",
       "  'finbert_analysis': [{'label': 'Positive', 'score': 1.0}]}]"
      ]
     },
     "execution_count": 38,
     "metadata": {},
     "output_type": "execute_result"
    }
   ],
   "source": [
    "finbert_list"
   ]
  },
  {
   "cell_type": "code",
   "execution_count": 39,
   "metadata": {},
   "outputs": [],
   "source": [
    "import pandas as pd\n",
    "import yfinance as yf\n",
    "from datetime import datetime, timedelta\n",
    "\n",
    "def get_stock_features(ticker, news_date):\n",
    "    \n",
    "    try:\n",
    "        news_date = datetime.strptime(news_date, \"%Y-%m-%d\")\n",
    "        before_start = (news_date - timedelta(days=5)).strftime(\"%Y-%m-%d\")\n",
    "        after_end = (news_date + timedelta(days=5)).strftime(\"%Y-%m-%d\")\n",
    "        \n",
    "        \n",
    "        stock = yf.Ticker(ticker)\n",
    "        try:\n",
    "            historical_data = stock.history(start=before_start, end=after_end)  \n",
    "            historical_data.index = historical_data.index.tz_localize(None)\n",
    "        except Exception as e:\n",
    "            print(f\"Error fetching data for ticker {ticker}: {e}\")\n",
    "            return None\n",
    "            \n",
    "            \n",
    "        if historical_data.empty:\n",
    "            return None\n",
    "        \n",
    "        #before news stock data\n",
    "        before_news = historical_data.loc[:news_date - timedelta(days=1)]\n",
    "        avg_price_5d = before_news['Close'].mean()\n",
    "        vol_5d = before_news['Close'].std()\n",
    "        avg_volume_5d = before_news['Volume'].mean()\n",
    "        \n",
    "        # news day stock data\n",
    "        if news_date.strftime(\"%Y-%m-%d\") in historical_data.index:\n",
    "            news_day = historical_data.loc[news_date.strftime(\"%Y-%m-%d\")]\n",
    "            open_price = news_day['Open']\n",
    "            close_price = news_day['Close']\n",
    "            volume_news_day = news_day['Volume']\n",
    "            stock_movement = \"up\" if close_price > open_price else \"down\"\n",
    "        else:\n",
    "            open_price = close_price = volume_news_day = None\n",
    "        \n",
    "        # gap\n",
    "        prev_day_idx = historical_data.index.get_loc(news_date) - 1\n",
    "        if prev_day_idx >= 0:\n",
    "            prev_close = historical_data.iloc[prev_day_idx]['Close']\n",
    "            gap = open_price - prev_close if open_price is not None else None\n",
    "        else:\n",
    "            prev_close = None\n",
    "            gap = None\n",
    "        \n",
    "        # after news stock data \n",
    "        after_news = historical_data.loc[news_date + timedelta(days=1):]\n",
    "        price_movement_1d = ((after_news['Close'].iloc[0] - open_price) / open_price) * 100 if len(after_news) > 0 and open_price else None\n",
    "        price_movement_3d = ((after_news['Close'].iloc[2] - open_price) / open_price) * 100 if len(after_news) > 2 and open_price else None\n",
    "        price_movement_5d = ((after_news['Close'].iloc[4] - open_price) / open_price) * 100 if len(after_news) > 4 and open_price else None\n",
    "        # avg_volume_after = after_news['Volume'].mean() if len(after_news) > 0 else None\n",
    "        \n",
    "        return {\n",
    "            \"avg_price_5d\": avg_price_5d,\n",
    "            \"volatility_5d\": vol_5d,\n",
    "            \"avg_volume_5d\": avg_volume_5d,\n",
    "            \"open_price_news_day\": open_price,\n",
    "            \"close_price_news_day\": close_price,\n",
    "            \"volume_news_day\": volume_news_day,\n",
    "            \"price_movement_1d\": price_movement_1d,\n",
    "            \"price_movement_3d\": price_movement_3d,\n",
    "            # \"price_movement_5d\": price_movement_5d,\n",
    "            # \"avg_volume_after\": avg_volume_after,\n",
    "            \"gap\":gap,\n",
    "            # \"stock_movement_on_news_day\":stock_movement,\n",
    "        }\n",
    "    except Exception as e :\n",
    "        return None\n"
   ]
  },
  {
   "cell_type": "code",
   "execution_count": 40,
   "metadata": {},
   "outputs": [
    {
     "name": "stdout",
     "output_type": "stream",
     "text": [
      "0\n",
      "1\n",
      "2\n",
      "3\n"
     ]
    }
   ],
   "source": [
    "count = 0 \n",
    "for finbert_added_data in finbert_list:\n",
    "    ticker = finbert_added_data['ticker_name'].strip()\n",
    "    date = finbert_added_data['date'].strip()\n",
    "    \n",
    "    data = get_stock_features(ticker, date)\n",
    "    print(count)\n",
    "    finbert_added_data.update({\"stock_data\": data})\n",
    "    count += 1"
   ]
  },
  {
   "cell_type": "code",
   "execution_count": 41,
   "metadata": {},
   "outputs": [
    {
     "data": {
      "text/plain": [
       "[{'raw_news': 'Suven Life shares rise 11% on progress in clinical trial of cognitive disorder drug The company announced that the first subjects have been dosed in a Phase-1 clinical trial of SUVN-I6107 in the USA. Shares of Suven Life Sciences are higher by more than 11% after the company on January 8 shared progress about the Phase-1 clinical trial for a drug used in cognitive disorders. Suven informed that the first subjects have been dosed in a Phase-1 clinical trial of SUVN-I6107 in America, as part of a trial.\\xa0\"...the first subjects have been dosed in a Phase-1 clinical trial of SUVN-I6107 being conducted in USA under FDA acceptance of Investigational New Drug (IND) and issue of Study May Proceed letter,\" said the\\xa0statement in a company filing. The primary objective of the study is to assess the safety and tolerability of SUVN-I6107, and monitor adverse events. The past month has seen the share prices of Suven Life Sciences fall by 7.15 percent, as compared to a 4.83 percent decline in the Sensex. Follow Moneycontrol for live market updates, and more. SUVN-I6107\\xa0- a novel True Muscarinic M1 Positive Allosteric Modulator (M1 PAM)\\xa0- represents the fifth, internally discovered compound from Suven to enter clinical trials. In the month of September 2024, the company had announced strong results from its Phase-2a trials, aimed at assessing the safety and efficacy of Ropanicant, a drug developed to treat acute depression. Suven Life Sciences reported a net loss of Rs. 49.64 crore during the September quarter, significantly higher from Rs. 12.68 crore loss reported in the same period a year ago. EBITDA for the quarter stood at a negative Rs. 48.17 crore, a substantial decrease from the negative Rs. 18.36 crore reported\\xa0a year ago.',\n",
       "  'processed_text': 'suven life share rise progress clinical trial cognitive disorder drug company announced first subject dosed phase clinical trial suvni usa share suven life science higher company january shared progress phase clinical trial drug used cognitive disorder suven informed first subject dosed phase clinical trial suvni america part trial first subject dosed phase clinical trial suvni conducted usa fda acceptance investigational new drug ind issue study may proceed letter said statement company filing primary objective study assess safety tolerability suvni monitor adverse event past month seen share price suven life science fall percent compared percent decline sensex follow moneycontrol live market update suvni novel true muscarinic positive allosteric modulator pam represents fifth internally discovered compound suven enter clinical trial month september company announced strong result phasea trial aimed assessing safety efficacy ropanicant drug developed treat acute depression suven life science reported net loss r crore september quarter significantly higher r crore loss reported period year ago ebitda quarter stood negative r crore substantial decrease negative r crore reported year ago',\n",
       "  'date': '2025-01-08',\n",
       "  'datetime': '2025-01-08 14:39',\n",
       "  'stock_name': 'suven life ',\n",
       "  'ticker_name': 'SUVEN.NS',\n",
       "  'finbert_analysis': [{'label': 'Positive', 'score': 0.8908411860466003}],\n",
       "  'stock_data': {'avg_price_5d': 125.9066670735677,\n",
       "   'volatility_5d': 3.23607010230729,\n",
       "   'avg_volume_5d': 203556.66666666666,\n",
       "   'open_price_news_day': 125.0,\n",
       "   'close_price_news_day': 140.94000244140625,\n",
       "   'volume_news_day': 2869487.0,\n",
       "   'price_movement_1d': None,\n",
       "   'price_movement_3d': None,\n",
       "   'gap': -1.3799972534179688}},\n",
       " {'raw_news': 'Signatureglobal (India) shares gain after firm reports strong FY25 pre-sales The company reported pre-sales for the first nine months of FY25 are 178 percent higher than same period last year Signatureglobal (India) Ltd shares gained 1.69 percent on\\xa0January 8 following their announcement of achieving\\xa0strong nine-months\\' FY25 pre-sales. The company reported pre-sales of Rs 8,670 crore for the first nine months of FY25, a 178 percent increase compared to the same period last year. This represents 87 percent of the company\\'s sales guidance of Rs 10,000 crore for FY25. Key contributors to these pre-sales include \\'Daxin Vistas\\' in Sohna, \\'Titanium SPR\\' and \\'Twin Tower DXP\\' in Gurugram, and \\'City of Colors\\' on NH-48. Collections for the first nine months of FY25 reached Rs 3,210 crore, a 54 percent increase compared to the same period last year. Q3FY25 saw collections of Rs 1,080 crore. Net debt decreased from Rs\\xa01,160 crore at the end of FY24 to Rs\\xa0720 crore in the first nine months of FY25, reflecting strong operating performance and improved liquidity. Pradeep Kumar Aggarwal, Chairman and\\xa0Whole- Time Director, said in the exchange filing \"This performance reflects the consistent efforts of our team and\\xa0the trust of our customers. By aligning our strategy with market trends and focusing on\\xa0delivering value through premium and mid-range housing, we have reached another important\\xa0milestone.\\xa0The strong demand during the festive season underscores the appeal of our carefully designedprojects. Moving forward, we remain committed to refining our offerings to meet the evolving\\xa0 needs of homebuyers. With this momentum, Signature Global is well-positioned to seize new\\xa0 opportunities, reinforce its market presence, and continue creating lasting value for our\\xa0stakeholders”',\n",
       "  'processed_text': 'signatureglobal india share gain firm report strong fy presales company reported presales first nine month fy percent higher period last year signatureglobal india ltd share gained percent january following announcement achieving strong ninemonths fy presales company reported presales r crore first nine month fy percent increase compared period last year represents percent company sale guidance r crore fy key contributor presales include daxin vista sohna titanium spr twin tower dxp gurugram city color nh collection first nine month fy reached r crore percent increase compared period last year qfy saw collection r crore net debt decreased r crore end fy r crore first nine month fy reflecting strong operating performance improved liquidity pradeep kumar aggarwal chairman whole time director said exchange filing performance reflects consistent effort team trust customer aligning strategy market trend focusing delivering value premium midrange housing reached another important milestone strong demand festive season underscore appeal carefully designedprojects moving forward remain committed refining offering meet evolving need homebuyers momentum signature global wellpositioned seize new opportunity reinforce market presence continue creating lasting value stakeholder',\n",
       "  'date': '2025-01-08',\n",
       "  'datetime': '2025-01-08 10:20',\n",
       "  'stock_name': 'SignatureGlobal',\n",
       "  'ticker_name': 'SIGNATURE.NS',\n",
       "  'finbert_analysis': [{'label': 'Positive', 'score': 1.0}],\n",
       "  'stock_data': {'avg_price_5d': 1366.11669921875,\n",
       "   'volatility_5d': 27.179319313704646,\n",
       "   'avg_volume_5d': 565353.3333333334,\n",
       "   'open_price_news_day': 1389.0,\n",
       "   'close_price_news_day': 1362.75,\n",
       "   'volume_news_day': 842812.0,\n",
       "   'price_movement_1d': None,\n",
       "   'price_movement_3d': None,\n",
       "   'gap': 36.3499755859375}},\n",
       " {'raw_news': \"Tata Steel shares trade marginally lower post-December quarter business update Tata Steel's Q3FY25 report shows India crude steel production up 8% QoQ and 6% YoY, with deliveries rising 4% QoQ and 8% YoY Tata Steel Ltd shares were trading marginally lower on January 8 after\\xa0 the company reported\\xa0increased volume of India steel production at 5.68 million tons, 7.58 percent higher than the previous quarter and 6.17 percent higher than the corresponding quarter of last year. At 3:25 pm on January, Tata Steel shares were trading 0.65% lower at Rs 132.49 apiece. The production volume at 16.2 million tonnes is the highest-ever in first nine months of FY25, marking a 5 percent YoY increase. The growth reflected in the provisional production volume figures is aided by the commissioning of the 5 MTPA blast furnace at Kalinganagar in September, Tata Steel said in an exchange filing.\\xa0Deliveries in India surged to a record 5.29 MT, up 8.4 percent YoY, supported by robust domestic sales and a strategic focus on exports. Automotive and special products deliveries increased by 3 percent YoY, while branded products and retail deliveries saw a 6 percent YoY rise. There was a 20 percent YoY growth in Tata Tiscon and a 7 percent increase in Tata Steelium. Industrial products and projects deliveries remained stable, with value-added segments experiencing double-digit growth. Tata Steel Aashiyana, the company's e-commerce platform, recorded a significant 37 percent YoY revenue increase, reaching Rs. 2,154 crore. European operations were impacted by the closure of blast furnaces at Tata Steel UK in the second quarter. Consequently, production in the Netherlands stood at 1.76 MT for the quarter, with deliveries reaching 1.53 MT, marking a 16 percent YoY growth for the nine-month period.\",\n",
       "  'processed_text': 'tata steel share trade marginally lower postdecember quarter business update tata steel qfy report show india crude steel production qoq yoy delivery rising qoq yoy tata steel ltd share trading marginally lower january company reported increased volume india steel production million ton percent higher previous quarter percent higher corresponding quarter last year pm january tata steel share trading lower r apiece production volume million tonne highestever first nine month fy marking percent yoy increase growth reflected provisional production volume figure aided commissioning mtpa blast furnace kalinganagar september tata steel said exchange filing delivery india surged record mt percent yoy supported robust domestic sale strategic focus export automotive special product delivery increased percent yoy branded product retail delivery saw percent yoy rise percent yoy growth tata tiscon percent increase tata steelium industrial product project delivery remained stable valueadded segment experiencing doubledigit growth tata steel aashiyana company ecommerce platform recorded significant percent yoy revenue increase reaching r crore european operation impacted closure blast furnace tata steel uk second quarter consequently production netherlands stood mt quarter delivery reaching mt marking percent yoy growth ninemonth period',\n",
       "  'date': '2025-01-08',\n",
       "  'datetime': '2025-01-08 15:30',\n",
       "  'stock_name': 'tata steel',\n",
       "  'ticker_name': 'TATASTEEL.NS',\n",
       "  'finbert_analysis': [{'label': 'Positive', 'score': 0.9999994039535522}],\n",
       "  'stock_data': {'avg_price_5d': 134.63999938964844,\n",
       "   'volatility_5d': 3.277012989870586,\n",
       "   'avg_volume_5d': 30737264.0,\n",
       "   'open_price_news_day': 133.92999267578125,\n",
       "   'close_price_news_day': 132.63999938964844,\n",
       "   'volume_news_day': 31559167.0,\n",
       "   'price_movement_1d': None,\n",
       "   'price_movement_3d': None,\n",
       "   'gap': 0.54998779296875}},\n",
       " {'raw_news': 'Buy JNK India; target of Rs 815: LKP Research LKP Research is bullish on JNK India has recommended buy rating on the stock with a target price of Rs 815 in its research report dated January 08, 2025. JNK India Ltd (JNK) is a leading player in India’s heating equipment sector, holding a market share of ~ 27% and serving diverse industries, including oil & gas refineries, petrochemicals, and fertilizers. With capabilities in thermal design, engineering, manufacturing and commissioning of process-fired heaters, reformers and cracking furnaces, JNK enjoys a competitive advantage due to high entry barriers and strong support from JNK Global. The company is well-positioned to capitalize on India’s growing energy demand, which is set to increase 3.5x by 2047E, with a substantial contribution from oil and natural gas. The country’s refining capacity is expected to nearly double by 2030E, offering significant growth opportunities. Additionally, renewable energy initiatives like the ₹197 bn Green Hydrogen Mission and 500 GW non-fossil targets by 2030E further drive low-carbon goals, creating new avenues for JNK. With a strong order book of ₹13.1 bn as of H1FY25, up nearly 9x since FY21, and a robust revenue growth of ~4x over the same period. We expect the company to deliver sales/PAT CAGR of 25%/23% over FY24-27E. JNK’s expanding client base and higher Total Addressable Market (TAM) in both India and international markets ensure continued revenue visibility and growth potential. Hence we initiate coverage on JNK with a BUY rating and TP of ₹815.',\n",
       "  'processed_text': 'buy jnk india target r lkp research lkp research bullish jnk india recommended buy rating stock target price r research report dated january jnk india ltd jnk leading player india heating equipment sector holding market share serving diverse industry including oil gas refinery petrochemical fertilizer capability thermal design engineering manufacturing commissioning processfired heater reformer cracking furnace jnk enjoys competitive advantage due high entry barrier strong support jnk global company wellpositioned capitalize india growing energy demand set increase x e substantial contribution oil natural gas country refining capacity expected nearly double e offering significant growth opportunity additionally renewable energy initiative like bn green hydrogen mission gw nonfossil target e drive lowcarbon goal creating new avenue jnk strong order book bn hfy nearly x since fy robust revenue growth x period expect company deliver salespat cagr fye jnks expanding client base higher total addressable market tam india international market ensure continued revenue visibility growth potential hence initiate coverage jnk buy rating tp',\n",
       "  'date': '2025-01-08',\n",
       "  'datetime': '2025-01-08 10:56',\n",
       "  'stock_name': 'JNK India',\n",
       "  'ticker_name': 'JNKINDIA.NS',\n",
       "  'finbert_analysis': [{'label': 'Positive', 'score': 1.0}],\n",
       "  'stock_data': {'avg_price_5d': 630.2166748046875,\n",
       "   'volatility_5d': 17.371137716860897,\n",
       "   'avg_volume_5d': 19424.666666666668,\n",
       "   'open_price_news_day': 640.0,\n",
       "   'close_price_news_day': 620.7999877929688,\n",
       "   'volume_news_day': 26910.0,\n",
       "   'price_movement_1d': None,\n",
       "   'price_movement_3d': None,\n",
       "   'gap': 14.29998779296875}}]"
      ]
     },
     "execution_count": 41,
     "metadata": {},
     "output_type": "execute_result"
    }
   ],
   "source": [
    "finbert_list"
   ]
  },
  {
   "cell_type": "code",
   "execution_count": 42,
   "metadata": {},
   "outputs": [],
   "source": [
    "presentation_data_df = pd.DataFrame(finbert_list)\n"
   ]
  },
  {
   "cell_type": "code",
   "execution_count": 43,
   "metadata": {},
   "outputs": [],
   "source": [
    "selected_column_df = presentation_data_df[['finbert_analysis','stock_data']]"
   ]
  },
  {
   "cell_type": "code",
   "execution_count": 44,
   "metadata": {},
   "outputs": [],
   "source": [
    "def extraction_finbert_data(finbert_list_dict):\n",
    "    label = finbert_list_dict[0].get('label')    \n",
    "    score = finbert_list_dict[0].get('score')\n",
    "    return label, score"
   ]
  },
  {
   "cell_type": "code",
   "execution_count": 45,
   "metadata": {},
   "outputs": [
    {
     "name": "stderr",
     "output_type": "stream",
     "text": [
      "C:\\Users\\AjayPatil\\AppData\\Local\\Temp\\ipykernel_25232\\2151535678.py:1: SettingWithCopyWarning: \n",
      "A value is trying to be set on a copy of a slice from a DataFrame.\n",
      "Try using .loc[row_indexer,col_indexer] = value instead\n",
      "\n",
      "See the caveats in the documentation: https://pandas.pydata.org/pandas-docs/stable/user_guide/indexing.html#returning-a-view-versus-a-copy\n",
      "  selected_column_df[['finbert_label', 'finbert_score']] = selected_column_df['finbert_analysis'].apply(extraction_finbert_data).apply(pd.Series)\n",
      "C:\\Users\\AjayPatil\\AppData\\Local\\Temp\\ipykernel_25232\\2151535678.py:1: SettingWithCopyWarning: \n",
      "A value is trying to be set on a copy of a slice from a DataFrame.\n",
      "Try using .loc[row_indexer,col_indexer] = value instead\n",
      "\n",
      "See the caveats in the documentation: https://pandas.pydata.org/pandas-docs/stable/user_guide/indexing.html#returning-a-view-versus-a-copy\n",
      "  selected_column_df[['finbert_label', 'finbert_score']] = selected_column_df['finbert_analysis'].apply(extraction_finbert_data).apply(pd.Series)\n"
     ]
    }
   ],
   "source": [
    "selected_column_df[['finbert_label', 'finbert_score']] = selected_column_df['finbert_analysis'].apply(extraction_finbert_data).apply(pd.Series)"
   ]
  },
  {
   "cell_type": "code",
   "execution_count": 46,
   "metadata": {},
   "outputs": [],
   "source": [
    "def extract_stock_data(stock_data):\n",
    "    avg_price_5d = stock_data.get('avg_price_5d')\n",
    "    volatility_5d = stock_data.get('volatility_5d')\n",
    "    avg_volume_5d = stock_data.get('avg_volume_5d')\n",
    "    open_price_news_day = stock_data.get('open_price_news_day')\n",
    "    close_price_news_day = stock_data.get('close_price_news_day')\n",
    "    volume_news_day = stock_data.get('volume_news_day')\n",
    "    price_movement_1d = stock_data.get('price_movement_1d')\n",
    "    gap = stock_data.get('gap')\n",
    "    stock_movement_on_news_day = stock_data.get('stock_movement_on_news_day')\n",
    "    return avg_price_5d,volatility_5d, avg_volume_5d, open_price_news_day, close_price_news_day, volume_news_day, price_movement_1d,gap, stock_movement_on_news_day"
   ]
  },
  {
   "cell_type": "code",
   "execution_count": 47,
   "metadata": {},
   "outputs": [
    {
     "name": "stderr",
     "output_type": "stream",
     "text": [
      "C:\\Users\\AjayPatil\\AppData\\Local\\Temp\\ipykernel_25232\\235103632.py:1: SettingWithCopyWarning: \n",
      "A value is trying to be set on a copy of a slice from a DataFrame.\n",
      "Try using .loc[row_indexer,col_indexer] = value instead\n",
      "\n",
      "See the caveats in the documentation: https://pandas.pydata.org/pandas-docs/stable/user_guide/indexing.html#returning-a-view-versus-a-copy\n",
      "  selected_column_df[['avg_price_5d','volatility_5d','avg_volume_5d','open_price_news_day','close_price_news_day','volume_news_day','price_movement_1d','gap','stock_movement_on_news_day']] =selected_column_df['stock_data'].apply(extract_stock_data).apply(pd.Series)\n",
      "C:\\Users\\AjayPatil\\AppData\\Local\\Temp\\ipykernel_25232\\235103632.py:1: SettingWithCopyWarning: \n",
      "A value is trying to be set on a copy of a slice from a DataFrame.\n",
      "Try using .loc[row_indexer,col_indexer] = value instead\n",
      "\n",
      "See the caveats in the documentation: https://pandas.pydata.org/pandas-docs/stable/user_guide/indexing.html#returning-a-view-versus-a-copy\n",
      "  selected_column_df[['avg_price_5d','volatility_5d','avg_volume_5d','open_price_news_day','close_price_news_day','volume_news_day','price_movement_1d','gap','stock_movement_on_news_day']] =selected_column_df['stock_data'].apply(extract_stock_data).apply(pd.Series)\n",
      "C:\\Users\\AjayPatil\\AppData\\Local\\Temp\\ipykernel_25232\\235103632.py:1: SettingWithCopyWarning: \n",
      "A value is trying to be set on a copy of a slice from a DataFrame.\n",
      "Try using .loc[row_indexer,col_indexer] = value instead\n",
      "\n",
      "See the caveats in the documentation: https://pandas.pydata.org/pandas-docs/stable/user_guide/indexing.html#returning-a-view-versus-a-copy\n",
      "  selected_column_df[['avg_price_5d','volatility_5d','avg_volume_5d','open_price_news_day','close_price_news_day','volume_news_day','price_movement_1d','gap','stock_movement_on_news_day']] =selected_column_df['stock_data'].apply(extract_stock_data).apply(pd.Series)\n"
     ]
    }
   ],
   "source": [
    "selected_column_df[['avg_price_5d','volatility_5d','avg_volume_5d','open_price_news_day','close_price_news_day','volume_news_day','price_movement_1d','gap','stock_movement_on_news_day']] =selected_column_df['stock_data'].apply(extract_stock_data).apply(pd.Series)"
   ]
  },
  {
   "cell_type": "code",
   "execution_count": 48,
   "metadata": {},
   "outputs": [],
   "source": [
    "dropped_column_df = selected_column_df.drop(columns=['finbert_analysis','stock_data'])"
   ]
  },
  {
   "cell_type": "code",
   "execution_count": 49,
   "metadata": {},
   "outputs": [],
   "source": [
    "def convert_label_to_numeric(label):\n",
    "    if label.strip() == 'Positive':\n",
    "        return 1\n",
    "    elif label.strip() == \"Neutral\":\n",
    "        return 0\n",
    "    elif label.strip() == \"Negative\":\n",
    "        return -1"
   ]
  },
  {
   "cell_type": "code",
   "execution_count": 50,
   "metadata": {},
   "outputs": [],
   "source": [
    "dropped_column_df['finbert_label'] = dropped_column_df['finbert_label'].apply(convert_label_to_numeric)"
   ]
  },
  {
   "cell_type": "code",
   "execution_count": 51,
   "metadata": {},
   "outputs": [],
   "source": [
    "def convert_target_varible(output):\n",
    "    if output.strip() == \"up\":\n",
    "        return 1\n",
    "    elif output.strip() == \"down\":\n",
    "        return 0"
   ]
  },
  {
   "cell_type": "code",
   "execution_count": 52,
   "metadata": {},
   "outputs": [],
   "source": [
    "# dropped_column_df['stock_movement_on_news_day'] = dropped_column_df['stock_movement_on_news_day'].apply(convert_target_varible)"
   ]
  },
  {
   "cell_type": "code",
   "execution_count": 53,
   "metadata": {},
   "outputs": [],
   "source": [
    "def round_out_value(value):\n",
    "    try:\n",
    "        return round(value, 3)\n",
    "    except:\n",
    "        return 0"
   ]
  },
  {
   "cell_type": "code",
   "execution_count": 54,
   "metadata": {},
   "outputs": [],
   "source": [
    "dropped_column_df['finbert_score'] = dropped_column_df['finbert_score'].apply(round_out_value)\n",
    "dropped_column_df['avg_price_5d'] = dropped_column_df['avg_price_5d'].apply(round_out_value)\n",
    "dropped_column_df['volatility_5d'] = dropped_column_df['volatility_5d'].apply(round_out_value)\n",
    "dropped_column_df['avg_volume_5d'] = dropped_column_df['avg_volume_5d'].apply(round_out_value)\n",
    "dropped_column_df['open_price_news_day'] = dropped_column_df['open_price_news_day'].apply(round_out_value)\n",
    "dropped_column_df['close_price_news_day'] = dropped_column_df['close_price_news_day'].apply(round_out_value)\n",
    "dropped_column_df['volume_news_day'] = dropped_column_df['volume_news_day'].apply(round_out_value)\n",
    "dropped_column_df['price_movement_1d'] = dropped_column_df['price_movement_1d'].apply(round_out_value)\n",
    "dropped_column_df['gap'] = dropped_column_df['gap'].apply(round_out_value)"
   ]
  },
  {
   "cell_type": "code",
   "execution_count": 55,
   "metadata": {},
   "outputs": [],
   "source": [
    "dropped_column_df = dropped_column_df.fillna(0)\n"
   ]
  },
  {
   "cell_type": "code",
   "execution_count": 56,
   "metadata": {},
   "outputs": [],
   "source": [
    "\n",
    "dropped_column_df =dropped_column_df.drop(columns=['stock_movement_on_news_day','gap','price_movement_1d','volume_news_day','close_price_news_day','open_price_news_day'])"
   ]
  },
  {
   "cell_type": "code",
   "execution_count": null,
   "metadata": {},
   "outputs": [],
   "source": []
  },
  {
   "cell_type": "markdown",
   "metadata": {},
   "source": [
    "Prediction"
   ]
  },
  {
   "cell_type": "code",
   "execution_count": 57,
   "metadata": {},
   "outputs": [],
   "source": [
    "import dill\n",
    "with open(\"./random_regressor.pkl\", \"rb\") as file:\n",
    "    loaded_model = dill.load(file)\n"
   ]
  },
  {
   "cell_type": "code",
   "execution_count": 61,
   "metadata": {},
   "outputs": [
    {
     "name": "stdout",
     "output_type": "stream",
     "text": [
      "Predicted Stock Movement: [441.164]\n",
      "Predicted Stock Movement: [1490.456]\n",
      "Predicted Stock Movement: [227.3679]\n",
      "Predicted Stock Movement: [836.0599]\n"
     ]
    }
   ],
   "source": [
    "for i in range(len(dropped_column_df)):\n",
    "    row_dict = dropped_column_df.iloc[i].to_dict()\n",
    "    new_data_df = pd.DataFrame([row_dict])\n",
    "    predicted_movement = loaded_model.predict(new_data_df)\n",
    "    print(f\"Predicted Stock Movement: {predicted_movement}\")"
   ]
  },
  {
   "cell_type": "code",
   "execution_count": null,
   "metadata": {},
   "outputs": [],
   "source": []
  },
  {
   "cell_type": "code",
   "execution_count": null,
   "metadata": {},
   "outputs": [],
   "source": []
  }
 ],
 "metadata": {
  "kernelspec": {
   "display_name": "Python 3",
   "language": "python",
   "name": "python3"
  },
  "language_info": {
   "codemirror_mode": {
    "name": "ipython",
    "version": 3
   },
   "file_extension": ".py",
   "mimetype": "text/x-python",
   "name": "python",
   "nbconvert_exporter": "python",
   "pygments_lexer": "ipython3",
   "version": "3.12.3"
  }
 },
 "nbformat": 4,
 "nbformat_minor": 2
}
