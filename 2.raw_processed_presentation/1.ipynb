{
 "cells": [
  {
   "cell_type": "code",
   "execution_count": 1,
   "metadata": {
    "execution": {
     "iopub.execute_input": "2025-01-09T05:26:25.182458Z",
     "iopub.status.busy": "2025-01-09T05:26:25.180396Z",
     "iopub.status.idle": "2025-01-09T05:26:26.687317Z",
     "shell.execute_reply": "2025-01-09T05:26:26.686300Z"
    }
   },
   "outputs": [],
   "source": [
    "from selenium import webdriver\n",
    "from selenium.webdriver.chrome.service import Service\n",
    "from selenium.webdriver.chrome.options import Options\n",
    "from selenium.webdriver.common.by import By\n",
    "from selenium.webdriver.support.ui import WebDriverWait\n",
    "from selenium.webdriver.support import expected_conditions as EC\n",
    "from bs4 import BeautifulSoup\n",
    "import re\n",
    "import pymongo"
   ]
  },
  {
   "cell_type": "code",
   "execution_count": 2,
   "metadata": {
    "execution": {
     "iopub.execute_input": "2025-01-09T05:26:26.694915Z",
     "iopub.status.busy": "2025-01-09T05:26:26.693918Z",
     "iopub.status.idle": "2025-01-09T05:26:26.705355Z",
     "shell.execute_reply": "2025-01-09T05:26:26.704338Z"
    }
   },
   "outputs": [],
   "source": [
    "def finding_raw_urls_from_base(url):\n",
    "    service = Service(\"./chromedriver/chromedriver.exe\")\n",
    "    options = Options()\n",
    "    options.add_argument(\"--headless\")\n",
    "    options.add_argument(\"--disable-gpu\")\n",
    "    options.add_argument(\"user-agent=Mozilla/5.0 (Windows NT 10.0; Win64; x64) AppleWebKit/537.36 (KHTML, like Gecko) Chrome/91.0.4472.124 Safari/537.36\")\n",
    "    \n",
    "    driver = webdriver.Chrome(service=service, options=options)\n",
    "    driver.get(url)\n",
    "    \n",
    "    WebDriverWait(driver, 60).until(\n",
    "        EC.presence_of_all_elements_located((By.TAG_NAME, 'a'))\n",
    "    )\n",
    "    \n",
    "    html = driver.page_source\n",
    "    driver.quit()\n",
    "    \n",
    "    soup = BeautifulSoup(html, 'html.parser')\n",
    "    links = soup.find_all('a', href=True)\n",
    "    raw_urls = []\n",
    "    for link in links:\n",
    "        if link['href'].startswith(\"https://www.moneycontrol.com/news/business/\"):\n",
    "            raw_urls.append(link['href'])\n",
    "    return list(set(raw_urls))\n",
    "    "
   ]
  },
  {
   "cell_type": "code",
   "execution_count": 3,
   "metadata": {
    "execution": {
     "iopub.execute_input": "2025-01-09T05:26:26.710356Z",
     "iopub.status.busy": "2025-01-09T05:26:26.710356Z",
     "iopub.status.idle": "2025-01-09T05:26:51.634175Z",
     "shell.execute_reply": "2025-01-09T05:26:51.633666Z"
    }
   },
   "outputs": [],
   "source": [
    "# raw_urls = finding_raw_urls_from_base(\"https://www.moneycontrol.com/news/business/stocks/\")\n",
    "raw_urls = finding_raw_urls_from_base(\"https://www.moneycontrol.com/news/business/stocks/page-2\")"
   ]
  },
  {
   "cell_type": "code",
   "execution_count": 4,
   "metadata": {
    "execution": {
     "iopub.execute_input": "2025-01-09T05:26:51.638382Z",
     "iopub.status.busy": "2025-01-09T05:26:51.638382Z",
     "iopub.status.idle": "2025-01-09T05:26:51.648840Z",
     "shell.execute_reply": "2025-01-09T05:26:51.648330Z"
    }
   },
   "outputs": [
    {
     "data": {
      "text/plain": [
       "['https://www.moneycontrol.com/news/business/stocks/page-2/',\n",
       " 'https://www.moneycontrol.com/news/business/markets/unhappy-with-cybersecurity-rules-pms-players-say-sebi-should-focus-on-outcome-not-methods-12906299.html',\n",
       " 'https://www.moneycontrol.com/news/business/stocks/ok-play-india-shares-gain-nearly-5-ahead-of-jan-14-board-meeting-on-fundraise-12906442.html',\n",
       " 'https://www.moneycontrol.com/news/business/stocks/page-6/',\n",
       " 'https://www.moneycontrol.com/news/business/markets/tata-motors-stock-falls-3-despite-nomura-morgan-stanley-s-positive-jlr-outlook-12906230.html',\n",
       " 'https://www.moneycontrol.com/news/business/stocks/',\n",
       " 'https://www.moneycontrol.com/news/business/markets/borosil-renewables-hits-5-upper-circuit-for-3rd-day-announces-50-capacity-expansion-plans-12906286.html',\n",
       " 'https://www.moneycontrol.com/news/business/stocks/page-4/',\n",
       " 'https://www.moneycontrol.com/news/business/markets/religare-open-offer-mp-high-court-disposes-off-investor-petition-against-rbi-sebi-agm-can-now-be-conducted-12906477.html',\n",
       " 'https://www.moneycontrol.com/news/business/earnings/tcs-q3-results-2025-live-updates-tata-consultancy-services-quarterly-q3-results-dividend-record-date-share-price-today-liveblog-12906431.html',\n",
       " 'https://www.moneycontrol.com/news/business/markets/bajaj-auto-shares-rise-2-after-clsa-upgrade-to-outperform-post-recent-correction-12906354.html',\n",
       " 'https://www.moneycontrol.com/news/business/stocks/page-8/',\n",
       " 'https://www.moneycontrol.com/news/business/stocks/gtpl-hathway-rises-up-to-17-ahead-of-q3-results-12906393.html',\n",
       " 'https://www.moneycontrol.com/news/business/stocks/puravankara-stock-in-focus-as-firm-expands-land-portfolio-with-new-acquisition-in-bengaluru-12906483.html',\n",
       " 'https://www.moneycontrol.com/news/business/mutual-funds/',\n",
       " 'https://www.moneycontrol.com/news/business/markets/kotak-institutional-initiates-add-rating-on-praj-industries-on-strong-decarbonsation-play-12906300.html',\n",
       " 'https://www.moneycontrol.com/news/business/markets/nse-announces-6-new-stocks-to-join-f-o-segment-from-january-31-check-list-here-12905370.html',\n",
       " 'https://www.moneycontrol.com/news/business/companies',\n",
       " 'https://www.moneycontrol.com/news/business/stocks/neutral-manappuram-finance-target-of-rs-205-motilal-oswal-12906518.html',\n",
       " 'https://www.moneycontrol.com/news/business/stocks/axis-bank-can-the-stock-reverse-underperformance-12906441.html',\n",
       " 'https://www.moneycontrol.com/news/business/stocks/tcs-shares-fall-nearly-2-ahead-of-q3-results-12906508.html',\n",
       " 'https://www.moneycontrol.com/news/business/stocks/agri-picks-report-january-09-2025-geojit-financial-services-12906340.html',\n",
       " 'https://www.moneycontrol.com/news/business/real-estate/',\n",
       " 'https://www.moneycontrol.com/news/business/stocks/page-3/',\n",
       " 'https://www.moneycontrol.com/news/business/markets/sensex-declines-over-300-pts-nifty-below-23-600-as-energy-psu-bank-stocks-tumble-fmcg-shines-all-eyes-on-tcs-q3-12906410.html',\n",
       " 'https://www.moneycontrol.com/news/business/stocks/page-5/',\n",
       " 'https://www.moneycontrol.com/news/business/quadrant-future-tek-ipo-gmp-live-capital-infra-trust-ipo-standard-glass-lining-ipo-allotment-status-business-news-january-9-liveblog-12906218.html',\n",
       " 'https://www.moneycontrol.com/news/business/oil-prices-rise-on-tighter-opec-supply-us-jobs-data-12905372.html',\n",
       " 'https://www.moneycontrol.com/news/business/markets/brokerages-bullish-on-reliance-industries-amid-cheap-valuations-shares-could-rally-36-12905362.html',\n",
       " 'https://www.moneycontrol.com/news/business/startup/',\n",
       " 'https://www.moneycontrol.com/news/business/companies/',\n",
       " 'https://www.moneycontrol.com/news/business/ipo/quadrant-future-tek-ipo-allotment-status-how-to-check-details-online-via-link-intime-nse-bse-check-latest-gmp-12906637.html',\n",
       " 'https://www.moneycontrol.com/news/business/earnings/dmart-q3-preview-store-additions-demand-uptick-to-boost-earnings-pat-could-see-19-jump-12906683.html',\n",
       " 'https://www.moneycontrol.com/news/business/stocks/page-10/',\n",
       " 'https://www.moneycontrol.com/news/business/stocks/page-30/',\n",
       " 'https://www.moneycontrol.com/news/business/markets/nomura-suggests-to-stick-with-cement-industry-leaders-downgrades-acc-shree-cement-and-nuvoco-vistas-12906257.html',\n",
       " 'https://www.moneycontrol.com/news/business/stocks/kalyan-jewellers-shares-extend-fall-on-fifth-day-12906328.html',\n",
       " 'https://www.moneycontrol.com/news/business/stocks/sell-hindalco-target-of-rs-550-emkay-global-financial-12906485.html',\n",
       " 'https://www.moneycontrol.com/news/business/markets/stock-market-live-sensex-nifty-50-share-price-gift-nifty-latest-updates-10-01-2025-liveblog-12907052.html',\n",
       " 'https://www.moneycontrol.com/news/business/banks/',\n",
       " 'https://www.moneycontrol.com/news/business/stocks/page-7/',\n",
       " 'https://www.moneycontrol.com/news/business/ipo/',\n",
       " 'https://www.moneycontrol.com/news/business/personal-finance/',\n",
       " 'https://www.moneycontrol.com/news/business/stocks/buy-hindustan-unilever-target-of-rs-2675-emkay-global-financial-12906465.html',\n",
       " 'https://www.moneycontrol.com/news/business/markets/sensex-falls-300-pts-nifty-below-23-650-as-realty-psu-banks-dampen-mood-it-index-falls-ahead-of-tcs-q3-12906259.html',\n",
       " 'https://www.moneycontrol.com/news/business/stocks/richa-info-systems-ltd-share-prices-gain-5-early-on-trade-12906366.html',\n",
       " 'https://www.moneycontrol.com/news/business/commodities/',\n",
       " 'https://www.moneycontrol.com/news/business/markets/hindalco-shares-gain-despite-us-arm-novelis-weak-q3-business-update-clsa-maintains-outperform-12906252.html',\n",
       " 'https://www.moneycontrol.com/news/business/stocks/page-9/',\n",
       " 'https://www.moneycontrol.com/news/business/markets/short-call-new-year-new-earnings-season-but-same-old-story-premier-energies-kalyan-jewellers-in-focus-12906270.html',\n",
       " 'https://www.moneycontrol.com/news/business/markets/srf-navin-fluorine-stocks-shoot-12-on-price-hike-for-refrigerant-gases-12906293.html',\n",
       " 'https://www.moneycontrol.com/news/business/personal-finance/income-tax-filing/',\n",
       " 'https://www.moneycontrol.com/news/business/markets/',\n",
       " 'https://www.moneycontrol.com/news/business/',\n",
       " 'https://www.moneycontrol.com/news/business/economy/',\n",
       " 'https://www.moneycontrol.com/news/business/stocks/buy-page-industries-target-of-rs-57-500-motilal-oswal-12906496.html']"
      ]
     },
     "execution_count": 4,
     "metadata": {},
     "output_type": "execute_result"
    }
   ],
   "source": [
    "raw_urls"
   ]
  },
  {
   "cell_type": "code",
   "execution_count": null,
   "metadata": {},
   "outputs": [],
   "source": []
  },
  {
   "cell_type": "code",
   "execution_count": 5,
   "metadata": {
    "execution": {
     "iopub.execute_input": "2025-01-09T05:26:51.710152Z",
     "iopub.status.busy": "2025-01-09T05:26:51.710152Z",
     "iopub.status.idle": "2025-01-09T05:26:51.717372Z",
     "shell.execute_reply": "2025-01-09T05:26:51.716359Z"
    }
   },
   "outputs": [],
   "source": [
    "stock_urls =[]\n",
    "market_urls = []\n",
    "next_page_urls = []\n",
    "other_urls = []\n",
    "ipo_urls = []\n",
    "def extract_urls(all_urls):\n",
    "    for link in raw_urls:\n",
    "        if link.startswith(\"https://www.moneycontrol.com/news/business/stocks/page\"):\n",
    "            next_page_urls.append(link)\n",
    "        elif link.startswith(\"https://www.moneycontrol.com/news/business/stocks/\"):\n",
    "            stock_urls.append(link)\n",
    "        elif link.startswith(\"https://www.moneycontrol.com/news/business/markets/\"):\n",
    "            market_urls.append(link)\n",
    "        elif link.startswith(\"https://www.moneycontrol.com/news/business/ipo/\"):\n",
    "            ipo_urls.append(link)\n",
    "        else:\n",
    "            other_urls.append(link)"
   ]
  },
  {
   "cell_type": "code",
   "execution_count": 6,
   "metadata": {
    "execution": {
     "iopub.execute_input": "2025-01-09T05:26:51.721441Z",
     "iopub.status.busy": "2025-01-09T05:26:51.721441Z",
     "iopub.status.idle": "2025-01-09T05:26:51.726820Z",
     "shell.execute_reply": "2025-01-09T05:26:51.726281Z"
    }
   },
   "outputs": [],
   "source": [
    "extract_urls(raw_urls)"
   ]
  },
  {
   "cell_type": "code",
   "execution_count": 7,
   "metadata": {
    "execution": {
     "iopub.execute_input": "2025-01-09T05:26:51.731390Z",
     "iopub.status.busy": "2025-01-09T05:26:51.731390Z",
     "iopub.status.idle": "2025-01-09T05:26:51.738126Z",
     "shell.execute_reply": "2025-01-09T05:26:51.737619Z"
    }
   },
   "outputs": [
    {
     "data": {
      "text/plain": [
       "['https://www.moneycontrol.com/news/business/stocks/ok-play-india-shares-gain-nearly-5-ahead-of-jan-14-board-meeting-on-fundraise-12906442.html',\n",
       " 'https://www.moneycontrol.com/news/business/stocks/',\n",
       " 'https://www.moneycontrol.com/news/business/stocks/gtpl-hathway-rises-up-to-17-ahead-of-q3-results-12906393.html',\n",
       " 'https://www.moneycontrol.com/news/business/stocks/puravankara-stock-in-focus-as-firm-expands-land-portfolio-with-new-acquisition-in-bengaluru-12906483.html',\n",
       " 'https://www.moneycontrol.com/news/business/stocks/neutral-manappuram-finance-target-of-rs-205-motilal-oswal-12906518.html',\n",
       " 'https://www.moneycontrol.com/news/business/stocks/axis-bank-can-the-stock-reverse-underperformance-12906441.html',\n",
       " 'https://www.moneycontrol.com/news/business/stocks/tcs-shares-fall-nearly-2-ahead-of-q3-results-12906508.html',\n",
       " 'https://www.moneycontrol.com/news/business/stocks/agri-picks-report-january-09-2025-geojit-financial-services-12906340.html',\n",
       " 'https://www.moneycontrol.com/news/business/stocks/kalyan-jewellers-shares-extend-fall-on-fifth-day-12906328.html',\n",
       " 'https://www.moneycontrol.com/news/business/stocks/sell-hindalco-target-of-rs-550-emkay-global-financial-12906485.html',\n",
       " 'https://www.moneycontrol.com/news/business/stocks/buy-hindustan-unilever-target-of-rs-2675-emkay-global-financial-12906465.html',\n",
       " 'https://www.moneycontrol.com/news/business/stocks/richa-info-systems-ltd-share-prices-gain-5-early-on-trade-12906366.html',\n",
       " 'https://www.moneycontrol.com/news/business/stocks/buy-page-industries-target-of-rs-57-500-motilal-oswal-12906496.html']"
      ]
     },
     "execution_count": 7,
     "metadata": {},
     "output_type": "execute_result"
    }
   ],
   "source": [
    "stock_urls"
   ]
  },
  {
   "cell_type": "code",
   "execution_count": 8,
   "metadata": {
    "execution": {
     "iopub.execute_input": "2025-01-09T05:26:51.742714Z",
     "iopub.status.busy": "2025-01-09T05:26:51.742714Z",
     "iopub.status.idle": "2025-01-09T05:26:51.748765Z",
     "shell.execute_reply": "2025-01-09T05:26:51.748215Z"
    }
   },
   "outputs": [],
   "source": [
    "\n",
    "regex = r'https:\\/\\/www\\.moneycontrol\\.com\\/news\\/business\\/stocks\\/[^\\/\\s]+(?:\\.[a-z]{2,6})(?:[\\/\\?].*)?'\n",
    "\n",
    "final_stocks_urls = [url for url in stock_urls if re.match(regex, url)]"
   ]
  },
  {
   "cell_type": "code",
   "execution_count": 9,
   "metadata": {
    "execution": {
     "iopub.execute_input": "2025-01-09T05:26:51.753822Z",
     "iopub.status.busy": "2025-01-09T05:26:51.753822Z",
     "iopub.status.idle": "2025-01-09T05:26:51.761592Z",
     "shell.execute_reply": "2025-01-09T05:26:51.761076Z"
    }
   },
   "outputs": [
    {
     "data": {
      "text/plain": [
       "['https://www.moneycontrol.com/news/business/stocks/ok-play-india-shares-gain-nearly-5-ahead-of-jan-14-board-meeting-on-fundraise-12906442.html',\n",
       " 'https://www.moneycontrol.com/news/business/stocks/gtpl-hathway-rises-up-to-17-ahead-of-q3-results-12906393.html',\n",
       " 'https://www.moneycontrol.com/news/business/stocks/puravankara-stock-in-focus-as-firm-expands-land-portfolio-with-new-acquisition-in-bengaluru-12906483.html',\n",
       " 'https://www.moneycontrol.com/news/business/stocks/neutral-manappuram-finance-target-of-rs-205-motilal-oswal-12906518.html',\n",
       " 'https://www.moneycontrol.com/news/business/stocks/axis-bank-can-the-stock-reverse-underperformance-12906441.html',\n",
       " 'https://www.moneycontrol.com/news/business/stocks/tcs-shares-fall-nearly-2-ahead-of-q3-results-12906508.html',\n",
       " 'https://www.moneycontrol.com/news/business/stocks/agri-picks-report-january-09-2025-geojit-financial-services-12906340.html',\n",
       " 'https://www.moneycontrol.com/news/business/stocks/kalyan-jewellers-shares-extend-fall-on-fifth-day-12906328.html',\n",
       " 'https://www.moneycontrol.com/news/business/stocks/sell-hindalco-target-of-rs-550-emkay-global-financial-12906485.html',\n",
       " 'https://www.moneycontrol.com/news/business/stocks/buy-hindustan-unilever-target-of-rs-2675-emkay-global-financial-12906465.html',\n",
       " 'https://www.moneycontrol.com/news/business/stocks/richa-info-systems-ltd-share-prices-gain-5-early-on-trade-12906366.html',\n",
       " 'https://www.moneycontrol.com/news/business/stocks/buy-page-industries-target-of-rs-57-500-motilal-oswal-12906496.html']"
      ]
     },
     "execution_count": 9,
     "metadata": {},
     "output_type": "execute_result"
    }
   ],
   "source": [
    "final_stocks_urls"
   ]
  },
  {
   "cell_type": "code",
   "execution_count": 10,
   "metadata": {
    "execution": {
     "iopub.execute_input": "2025-01-09T05:26:51.766676Z",
     "iopub.status.busy": "2025-01-09T05:26:51.766676Z",
     "iopub.status.idle": "2025-01-09T05:26:51.819085Z",
     "shell.execute_reply": "2025-01-09T05:26:51.816772Z"
    }
   },
   "outputs": [],
   "source": [
    "myclient = pymongo.MongoClient(\"mongodb://localhost:27017/\")\n",
    "mydb = myclient[\"new_db\"]\n",
    "mycol = mydb['raw_news']"
   ]
  },
  {
   "cell_type": "code",
   "execution_count": 11,
   "metadata": {
    "execution": {
     "iopub.execute_input": "2025-01-09T05:26:51.826284Z",
     "iopub.status.busy": "2025-01-09T05:26:51.825280Z",
     "iopub.status.idle": "2025-01-09T05:26:53.517626Z",
     "shell.execute_reply": "2025-01-09T05:26:53.517626Z"
    }
   },
   "outputs": [],
   "source": [
    "service = Service(\"./chromedriver/chromedriver.exe\")\n",
    "options = Options()\n",
    "options.add_argument(\"--headless\")\n",
    "options.add_argument(\"--disable-gpu\")\n",
    "options.add_argument(\"user-agent=Mozilla/5.0 (Windows NT 10.0; Win64; x64) AppleWebKit/537.36 (KHTML, like Gecko) Chrome/114.0.5735.199 Safari/537.36\")\n",
    "\n",
    "driver = webdriver.Chrome(service=service, options= options)"
   ]
  },
  {
   "cell_type": "code",
   "execution_count": 12,
   "metadata": {
    "execution": {
     "iopub.execute_input": "2025-01-09T05:26:53.522639Z",
     "iopub.status.busy": "2025-01-09T05:26:53.521635Z",
     "iopub.status.idle": "2025-01-09T05:26:53.535900Z",
     "shell.execute_reply": "2025-01-09T05:26:53.535390Z"
    }
   },
   "outputs": [],
   "source": [
    "def extract_data(url):  \n",
    "    driver.get(url)\n",
    "    \n",
    "    WebDriverWait(driver, 60).until(\n",
    "        lambda d: d.execute_script(\"return document.readyState\") == \"complete\"\n",
    "    )\n",
    "    \n",
    "    html = driver.page_source\n",
    "    soup = BeautifulSoup(html, 'html.parser')    \n",
    "    news = {}\n",
    "    \n",
    "    title = soup.find('h1', class_ = \"article_title\")\n",
    "    news.update({\"title\":f\"{title.text.strip()}\"})\n",
    "    \n",
    "    desc = soup.find('h2', class_ = 'article_desc')\n",
    "    news.update({\"desc\":f\"{desc.text.strip()}\"})\n",
    "    \n",
    "    date_time_div = soup.find('div', class_=\"article_schedule\")\n",
    "    if date_time_div:\n",
    "        span_tag = date_time_div.find('span')\n",
    "        date = span_tag.text.strip()\n",
    "        news.update({\"date\":f\"{date}\"})\n",
    "    \n",
    "    datetime = date_time_div.text.strip()\n",
    "    news.update({\"datetime\":f\"{datetime}\"})\n",
    "    \n",
    "    paragraphs_list = []\n",
    "    paragrphs_div = soup.find('div', class_ =\"content_wrapper\")\n",
    "    if paragrphs_div:\n",
    "        paragraph_tags = paragrphs_div.find_all('p')\n",
    "        for p in paragraph_tags:\n",
    "            para_text = p.text.strip()            \n",
    "            if len(para_text) < 50 :\n",
    "                continue            \n",
    "            if re.search(r\"(click\\s+here|disclaimer|modal|window|advertisement|investment\\s+tips)\", para_text, re.IGNORECASE):\n",
    "                continue            \n",
    "            paragraphs_list.append(para_text)         \n",
    "            \n",
    "    news.update({\"content\": paragraphs_list})\n",
    "    \n",
    "    stock_name = soup.find('a', class_=\"stock-name\")\n",
    "    if stock_name:\n",
    "        news.update({\"stock_name\":f\"{stock_name.text.strip()}\"})\n",
    "            \n",
    "    # driver.quit()   \n",
    "    return news"
   ]
  },
  {
   "cell_type": "code",
   "execution_count": 13,
   "metadata": {
    "execution": {
     "iopub.execute_input": "2025-01-09T05:26:53.543954Z",
     "iopub.status.busy": "2025-01-09T05:26:53.542583Z",
     "iopub.status.idle": "2025-01-09T05:28:21.684290Z",
     "shell.execute_reply": "2025-01-09T05:28:21.683203Z"
    }
   },
   "outputs": [
    {
     "name": "stdout",
     "output_type": "stream",
     "text": [
      "6780ad2ec0ae801b14265326\n",
      "6780ad4dc0ae801b14265327\n",
      "6780ad52c0ae801b14265328\n",
      "6780ad57c0ae801b14265329\n",
      "6780ad5ac0ae801b1426532a\n",
      "6780ad5ec0ae801b1426532b\n",
      "6780ad67c0ae801b1426532c\n",
      "6780ad70c0ae801b1426532d\n",
      "6780ad75c0ae801b1426532e\n",
      "6780ad7bc0ae801b1426532f\n",
      "6780ad8fc0ae801b14265330\n",
      "6780ad95c0ae801b14265331\n"
     ]
    }
   ],
   "source": [
    "for url in final_stocks_urls :\n",
    "    data = extract_data(url)\n",
    "    x = mycol.insert_one(data)\n",
    "    print(x.inserted_id)"
   ]
  },
  {
   "cell_type": "code",
   "execution_count": 14,
   "metadata": {
    "execution": {
     "iopub.execute_input": "2025-01-09T05:28:21.694526Z",
     "iopub.status.busy": "2025-01-09T05:28:21.692498Z",
     "iopub.status.idle": "2025-01-09T05:28:24.272284Z",
     "shell.execute_reply": "2025-01-09T05:28:24.270264Z"
    }
   },
   "outputs": [],
   "source": [
    "driver.quit()   "
   ]
  },
  {
   "cell_type": "code",
   "execution_count": null,
   "metadata": {},
   "outputs": [],
   "source": []
  }
 ],
 "metadata": {
  "kernelspec": {
   "display_name": "Python 3",
   "language": "python",
   "name": "python3"
  },
  "language_info": {
   "codemirror_mode": {
    "name": "ipython",
    "version": 3
   },
   "file_extension": ".py",
   "mimetype": "text/x-python",
   "name": "python",
   "nbconvert_exporter": "python",
   "pygments_lexer": "ipython3",
   "version": "3.12.3"
  }
 },
 "nbformat": 4,
 "nbformat_minor": 2
}
