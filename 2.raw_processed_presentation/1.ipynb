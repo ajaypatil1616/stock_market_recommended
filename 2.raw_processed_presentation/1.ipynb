{
 "cells": [
  {
   "cell_type": "code",
   "execution_count": 1,
   "metadata": {
    "execution": {
     "iopub.execute_input": "2025-01-09T05:26:25.182458Z",
     "iopub.status.busy": "2025-01-09T05:26:25.180396Z",
     "iopub.status.idle": "2025-01-09T05:26:26.687317Z",
     "shell.execute_reply": "2025-01-09T05:26:26.686300Z"
    }
   },
   "outputs": [],
   "source": [
    "from selenium import webdriver\n",
    "from selenium.webdriver.chrome.service import Service\n",
    "from selenium.webdriver.chrome.options import Options\n",
    "from selenium.webdriver.common.by import By\n",
    "from selenium.webdriver.support.ui import WebDriverWait\n",
    "from selenium.webdriver.support import expected_conditions as EC\n",
    "from bs4 import BeautifulSoup\n",
    "import re\n",
    "import pymongo"
   ]
  },
  {
   "cell_type": "code",
   "execution_count": 2,
   "metadata": {
    "execution": {
     "iopub.execute_input": "2025-01-09T05:26:26.694915Z",
     "iopub.status.busy": "2025-01-09T05:26:26.693918Z",
     "iopub.status.idle": "2025-01-09T05:26:26.705355Z",
     "shell.execute_reply": "2025-01-09T05:26:26.704338Z"
    }
   },
   "outputs": [],
   "source": [
    "def finding_raw_urls_from_base(url):\n",
    "    service = Service(\"./chromedriver/chromedriver.exe\")\n",
    "    options = Options()\n",
    "    options.add_argument(\"--headless\")\n",
    "    options.add_argument(\"--disable-gpu\")\n",
    "    options.add_argument(\"user-agent=Mozilla/5.0 (Windows NT 10.0; Win64; x64) AppleWebKit/537.36 (KHTML, like Gecko) Chrome/91.0.4472.124 Safari/537.36\")\n",
    "    \n",
    "    driver = webdriver.Chrome(service=service, options=options)\n",
    "    driver.get(url)\n",
    "    \n",
    "    WebDriverWait(driver, 60).until(\n",
    "        EC.presence_of_all_elements_located((By.TAG_NAME, 'a'))\n",
    "    )\n",
    "    \n",
    "    html = driver.page_source\n",
    "    driver.quit()\n",
    "    \n",
    "    soup = BeautifulSoup(html, 'html.parser')\n",
    "    links = soup.find_all('a', href=True)\n",
    "    raw_urls = []\n",
    "    for link in links:\n",
    "        if link['href'].startswith(\"https://www.moneycontrol.com/news/business/\"):\n",
    "            raw_urls.append(link['href'])\n",
    "    return list(set(raw_urls))\n",
    "    "
   ]
  },
  {
   "cell_type": "code",
   "execution_count": 3,
   "metadata": {
    "execution": {
     "iopub.execute_input": "2025-01-09T05:26:26.710356Z",
     "iopub.status.busy": "2025-01-09T05:26:26.710356Z",
     "iopub.status.idle": "2025-01-09T05:26:51.634175Z",
     "shell.execute_reply": "2025-01-09T05:26:51.633666Z"
    }
   },
   "outputs": [],
   "source": [
    "# raw_urls = finding_raw_urls_from_base(\"https://www.moneycontrol.com/news/business/stocks/\")\n",
    "raw_urls = finding_raw_urls_from_base(\"https://www.moneycontrol.com/news/business/stocks/page-2\")"
   ]
  },
  {
   "cell_type": "code",
   "execution_count": 4,
   "metadata": {
    "execution": {
     "iopub.execute_input": "2025-01-09T05:26:51.638382Z",
     "iopub.status.busy": "2025-01-09T05:26:51.638382Z",
     "iopub.status.idle": "2025-01-09T05:26:51.648840Z",
     "shell.execute_reply": "2025-01-09T05:26:51.648330Z"
    }
   },
   "outputs": [
    {
     "data": {
      "text/plain": [
       "['https://www.moneycontrol.com/news/business/commodities/',\n",
       " 'https://www.moneycontrol.com/news/business/standard-glass-lining-ipo-gmp-live-capital-infra-trust-quadrant-future-tek-ipo-gmp-business-news-january-8-liveblog-12905363.html',\n",
       " 'https://www.moneycontrol.com/news/business/ipo/',\n",
       " 'https://www.moneycontrol.com/news/business/markets/bls-international-says-december-travels-underwhelming-but-confident-of-maintaining-margins-12905754.html',\n",
       " 'https://www.moneycontrol.com/news/business/personal-finance/income-tax-filing/',\n",
       " 'https://www.moneycontrol.com/news/business/banks/',\n",
       " 'https://www.moneycontrol.com/news/business/markets/premier-waaree-energies-share-slide-2-as-kotak-institutional-equities-initiates-with-sell-12905535.html',\n",
       " 'https://www.moneycontrol.com/news/business/markets/ongc-picks-bp-arm-to-help-ramp-up-mumbai-high-production-sees-60-more-output-12905534.html',\n",
       " 'https://www.moneycontrol.com/news/business/markets/stock-market-live-sensex-nifty-50-share-price-gift-nifty-latest-updates-09-01-2025-liveblog-12906208.html',\n",
       " 'https://www.moneycontrol.com/news/business/markets/borosil-renewables-stock-in-5-upper-circuit-for-2nd-day-after-promoter-ups-stake-12905490.html',\n",
       " 'https://www.moneycontrol.com/news/business/stocks/page-5/',\n",
       " 'https://www.moneycontrol.com/news/business/markets/brokerages-bullish-on-reliance-industries-amid-cheap-valuations-shares-could-rally-36-12905362.html',\n",
       " 'https://www.moneycontrol.com/news/business/markets/nse-announces-6-new-stocks-to-join-f-o-segment-from-january-31-check-list-here-12905370.html',\n",
       " 'https://www.moneycontrol.com/news/business/markets/sobha-stock-drops-3-on-weak-quarterly-sales-12905444.html',\n",
       " 'https://www.moneycontrol.com/news/business/markets/sensex-jumps-800-pts-from-day-s-low-as-ril-leads-recovery-it-pares-losses-ahead-of-tcs-results-12905761.html',\n",
       " 'https://www.moneycontrol.com/news/business/personal-finance/',\n",
       " 'https://www.moneycontrol.com/news/business/markets/sensex-plunges-700-pts-nifty-below-23-550-ahead-of-q3-results-season-smallcap-index-nosedives-2-12905618.html',\n",
       " 'https://www.moneycontrol.com/news/business/markets/ashiana-housing-extends-gain-to-2nd-day-jumps-8-on-strong-q3-business-update-12905470.html',\n",
       " 'https://www.moneycontrol.com/news/business/stocks/top-gainers-and-losers-today-stocks-that-moved-the-most-on-january-8-12905881.html',\n",
       " 'https://www.moneycontrol.com/news/business/oil-prices-rise-on-tighter-opec-supply-us-jobs-data-12905372.html',\n",
       " 'https://www.moneycontrol.com/news/business/stocks/suven-life-shares-rise-11-on-progress-in-clinical-trial-of-cognitive-disorder-drug-12905778.html',\n",
       " 'https://www.moneycontrol.com/news/business/stocks/page-3/',\n",
       " 'https://www.moneycontrol.com/news/business/stocks/page-4/',\n",
       " 'https://www.moneycontrol.com/news/business/stocks/page-8/',\n",
       " 'https://www.moneycontrol.com/news/business/mutual-funds/',\n",
       " 'https://www.moneycontrol.com/news/business/stocks/agri-picks-report-january-08-2025-geojit-financial-services-12905424.html',\n",
       " 'https://www.moneycontrol.com/news/business/markets/paytm-shares-fall-over-7-after-npci-data-shows-no-upi-market-share-gains-in-december-12905780.html',\n",
       " 'https://www.moneycontrol.com/news/business/markets/taking-stock-sensex-nifty-end-flat-after-posting-sharp-recovery-from-day-s-lows-12905777.html',\n",
       " 'https://www.moneycontrol.com/news/business/stocks/page-7/',\n",
       " 'https://www.moneycontrol.com/news/business/companies',\n",
       " 'https://www.moneycontrol.com/news/business/stocks/buy-jnk-india-target-of-rs-815-lkp-research-12905515.html',\n",
       " 'https://www.moneycontrol.com/news/business/markets/sensex-down-270-pts-nifty-below-23-700-as-metals-it-dampen-mood-broader-markets-see-sharper-fall-12905376.html',\n",
       " 'https://www.moneycontrol.com/news/business/stocks/signatureglobal-india-shares-gain-after-firm-reports-strong-fy25-pre-sales-12905442.html',\n",
       " 'https://www.moneycontrol.com/news/business/markets/spandana-sphoorty-stock-skyrockets-15-amid-heavy-volumes-12905456.html',\n",
       " 'https://www.moneycontrol.com/news/business/markets/',\n",
       " 'https://www.moneycontrol.com/news/business/quadrant-future-tek-ipo-gmp-live-capital-infra-trust-ipo-standard-glass-lining-ipo-allotment-status-business-news-january-9-liveblog-12906218.html',\n",
       " 'https://www.moneycontrol.com/news/business/markets/tata-technologies-jumps-3-as-it-inks-pact-with-telechips-to-make-software-defined-vehicles-12905397.html',\n",
       " 'https://www.moneycontrol.com/news/business/companies/',\n",
       " 'https://www.moneycontrol.com/news/business/markets/electronics-makers-dixon-tech-kaynes-tech-amber-ent-slump-upto-8-on-weak-global-cues-12905581.html',\n",
       " 'https://www.moneycontrol.com/news/business/stocks/page-9/',\n",
       " 'https://www.moneycontrol.com/news/business/real-estate/',\n",
       " 'https://www.moneycontrol.com/news/business/stocks/page-30/',\n",
       " 'https://www.moneycontrol.com/news/business/',\n",
       " 'https://www.moneycontrol.com/news/business/startup/',\n",
       " 'https://www.moneycontrol.com/news/business/stocks/page-6/',\n",
       " 'https://www.moneycontrol.com/news/business/markets/kalyan-jewellers-stock-tanks-15-5-in-four-days-as-profit-booking-takes-over-12905644.html',\n",
       " 'https://www.moneycontrol.com/news/business/economy/',\n",
       " 'https://www.moneycontrol.com/news/business/stocks/page-10/',\n",
       " 'https://www.moneycontrol.com/news/business/new-rbi-chief-faces-calls-to-unshackle-rupee-amid-surging-dollar-12905359.html',\n",
       " 'https://www.moneycontrol.com/news/business/stocks/',\n",
       " 'https://www.moneycontrol.com/news/business/stocks/tata-steel-shares-trade-marginally-lower-post-december-quarter-business-update-12905775.html',\n",
       " 'https://www.moneycontrol.com/news/business/markets/exicom-tele-systems-hits-5-upper-circuit-on-mou-with-mufin-green-to-boost-ev-charging-infra-12905429.html',\n",
       " 'https://www.moneycontrol.com/news/business/markets/nuvama-upgrades-dr-reddy-s-to-buy-bullish-on-efforts-to-mitigate-revlimid-expiry-impact-12905404.html',\n",
       " 'https://www.moneycontrol.com/news/business/stocks/page-2/']"
      ]
     },
     "execution_count": 4,
     "metadata": {},
     "output_type": "execute_result"
    }
   ],
   "source": [
    "raw_urls"
   ]
  },
  {
   "cell_type": "code",
   "execution_count": null,
   "metadata": {},
   "outputs": [],
   "source": []
  },
  {
   "cell_type": "code",
   "execution_count": 5,
   "metadata": {
    "execution": {
     "iopub.execute_input": "2025-01-09T05:26:51.710152Z",
     "iopub.status.busy": "2025-01-09T05:26:51.710152Z",
     "iopub.status.idle": "2025-01-09T05:26:51.717372Z",
     "shell.execute_reply": "2025-01-09T05:26:51.716359Z"
    }
   },
   "outputs": [],
   "source": [
    "stock_urls =[]\n",
    "market_urls = []\n",
    "next_page_urls = []\n",
    "other_urls = []\n",
    "ipo_urls = []\n",
    "def extract_urls(all_urls):\n",
    "    for link in raw_urls:\n",
    "        if link.startswith(\"https://www.moneycontrol.com/news/business/stocks/page\"):\n",
    "            next_page_urls.append(link)\n",
    "        elif link.startswith(\"https://www.moneycontrol.com/news/business/stocks/\"):\n",
    "            stock_urls.append(link)\n",
    "        elif link.startswith(\"https://www.moneycontrol.com/news/business/markets/\"):\n",
    "            market_urls.append(link)\n",
    "        elif link.startswith(\"https://www.moneycontrol.com/news/business/ipo/\"):\n",
    "            ipo_urls.append(link)\n",
    "        else:\n",
    "            other_urls.append(link)"
   ]
  },
  {
   "cell_type": "code",
   "execution_count": 6,
   "metadata": {
    "execution": {
     "iopub.execute_input": "2025-01-09T05:26:51.721441Z",
     "iopub.status.busy": "2025-01-09T05:26:51.721441Z",
     "iopub.status.idle": "2025-01-09T05:26:51.726820Z",
     "shell.execute_reply": "2025-01-09T05:26:51.726281Z"
    }
   },
   "outputs": [],
   "source": [
    "extract_urls(raw_urls)"
   ]
  },
  {
   "cell_type": "code",
   "execution_count": 7,
   "metadata": {
    "execution": {
     "iopub.execute_input": "2025-01-09T05:26:51.731390Z",
     "iopub.status.busy": "2025-01-09T05:26:51.731390Z",
     "iopub.status.idle": "2025-01-09T05:26:51.738126Z",
     "shell.execute_reply": "2025-01-09T05:26:51.737619Z"
    }
   },
   "outputs": [
    {
     "data": {
      "text/plain": [
       "['https://www.moneycontrol.com/news/business/stocks/top-gainers-and-losers-today-stocks-that-moved-the-most-on-january-8-12905881.html',\n",
       " 'https://www.moneycontrol.com/news/business/stocks/suven-life-shares-rise-11-on-progress-in-clinical-trial-of-cognitive-disorder-drug-12905778.html',\n",
       " 'https://www.moneycontrol.com/news/business/stocks/agri-picks-report-january-08-2025-geojit-financial-services-12905424.html',\n",
       " 'https://www.moneycontrol.com/news/business/stocks/buy-jnk-india-target-of-rs-815-lkp-research-12905515.html',\n",
       " 'https://www.moneycontrol.com/news/business/stocks/signatureglobal-india-shares-gain-after-firm-reports-strong-fy25-pre-sales-12905442.html',\n",
       " 'https://www.moneycontrol.com/news/business/stocks/',\n",
       " 'https://www.moneycontrol.com/news/business/stocks/tata-steel-shares-trade-marginally-lower-post-december-quarter-business-update-12905775.html']"
      ]
     },
     "execution_count": 7,
     "metadata": {},
     "output_type": "execute_result"
    }
   ],
   "source": [
    "stock_urls"
   ]
  },
  {
   "cell_type": "code",
   "execution_count": 8,
   "metadata": {
    "execution": {
     "iopub.execute_input": "2025-01-09T05:26:51.742714Z",
     "iopub.status.busy": "2025-01-09T05:26:51.742714Z",
     "iopub.status.idle": "2025-01-09T05:26:51.748765Z",
     "shell.execute_reply": "2025-01-09T05:26:51.748215Z"
    }
   },
   "outputs": [],
   "source": [
    "\n",
    "regex = r'https:\\/\\/www\\.moneycontrol\\.com\\/news\\/business\\/stocks\\/[^\\/\\s]+(?:\\.[a-z]{2,6})(?:[\\/\\?].*)?'\n",
    "\n",
    "final_stocks_urls = [url for url in stock_urls if re.match(regex, url)]"
   ]
  },
  {
   "cell_type": "code",
   "execution_count": 9,
   "metadata": {
    "execution": {
     "iopub.execute_input": "2025-01-09T05:26:51.753822Z",
     "iopub.status.busy": "2025-01-09T05:26:51.753822Z",
     "iopub.status.idle": "2025-01-09T05:26:51.761592Z",
     "shell.execute_reply": "2025-01-09T05:26:51.761076Z"
    }
   },
   "outputs": [
    {
     "data": {
      "text/plain": [
       "['https://www.moneycontrol.com/news/business/stocks/top-gainers-and-losers-today-stocks-that-moved-the-most-on-january-8-12905881.html',\n",
       " 'https://www.moneycontrol.com/news/business/stocks/suven-life-shares-rise-11-on-progress-in-clinical-trial-of-cognitive-disorder-drug-12905778.html',\n",
       " 'https://www.moneycontrol.com/news/business/stocks/agri-picks-report-january-08-2025-geojit-financial-services-12905424.html',\n",
       " 'https://www.moneycontrol.com/news/business/stocks/buy-jnk-india-target-of-rs-815-lkp-research-12905515.html',\n",
       " 'https://www.moneycontrol.com/news/business/stocks/signatureglobal-india-shares-gain-after-firm-reports-strong-fy25-pre-sales-12905442.html',\n",
       " 'https://www.moneycontrol.com/news/business/stocks/tata-steel-shares-trade-marginally-lower-post-december-quarter-business-update-12905775.html']"
      ]
     },
     "execution_count": 9,
     "metadata": {},
     "output_type": "execute_result"
    }
   ],
   "source": [
    "final_stocks_urls"
   ]
  },
  {
   "cell_type": "code",
   "execution_count": 10,
   "metadata": {
    "execution": {
     "iopub.execute_input": "2025-01-09T05:26:51.766676Z",
     "iopub.status.busy": "2025-01-09T05:26:51.766676Z",
     "iopub.status.idle": "2025-01-09T05:26:51.819085Z",
     "shell.execute_reply": "2025-01-09T05:26:51.816772Z"
    }
   },
   "outputs": [],
   "source": [
    "myclient = pymongo.MongoClient(\"mongodb://localhost:27017/\")\n",
    "mydb = myclient[\"new_db\"]\n",
    "mycol = mydb['raw_news']"
   ]
  },
  {
   "cell_type": "code",
   "execution_count": 11,
   "metadata": {
    "execution": {
     "iopub.execute_input": "2025-01-09T05:26:51.826284Z",
     "iopub.status.busy": "2025-01-09T05:26:51.825280Z",
     "iopub.status.idle": "2025-01-09T05:26:53.517626Z",
     "shell.execute_reply": "2025-01-09T05:26:53.517626Z"
    }
   },
   "outputs": [],
   "source": [
    "service = Service(\"./chromedriver/chromedriver.exe\")\n",
    "options = Options()\n",
    "options.add_argument(\"--headless\")\n",
    "options.add_argument(\"--disable-gpu\")\n",
    "options.add_argument(\"user-agent=Mozilla/5.0 (Windows NT 10.0; Win64; x64) AppleWebKit/537.36 (KHTML, like Gecko) Chrome/114.0.5735.199 Safari/537.36\")\n",
    "\n",
    "driver = webdriver.Chrome(service=service, options= options)"
   ]
  },
  {
   "cell_type": "code",
   "execution_count": 12,
   "metadata": {
    "execution": {
     "iopub.execute_input": "2025-01-09T05:26:53.522639Z",
     "iopub.status.busy": "2025-01-09T05:26:53.521635Z",
     "iopub.status.idle": "2025-01-09T05:26:53.535900Z",
     "shell.execute_reply": "2025-01-09T05:26:53.535390Z"
    }
   },
   "outputs": [],
   "source": [
    "def extract_data(url):  \n",
    "    driver.get(url)\n",
    "    \n",
    "    WebDriverWait(driver, 60).until(\n",
    "        lambda d: d.execute_script(\"return document.readyState\") == \"complete\"\n",
    "    )\n",
    "    \n",
    "    html = driver.page_source\n",
    "    soup = BeautifulSoup(html, 'html.parser')    \n",
    "    news = {}\n",
    "    \n",
    "    title = soup.find('h1', class_ = \"article_title\")\n",
    "    news.update({\"title\":f\"{title.text.strip()}\"})\n",
    "    \n",
    "    desc = soup.find('h2', class_ = 'article_desc')\n",
    "    news.update({\"desc\":f\"{desc.text.strip()}\"})\n",
    "    \n",
    "    date_time_div = soup.find('div', class_=\"article_schedule\")\n",
    "    if date_time_div:\n",
    "        span_tag = date_time_div.find('span')\n",
    "        date = span_tag.text.strip()\n",
    "        news.update({\"date\":f\"{date}\"})\n",
    "    \n",
    "    datetime = date_time_div.text.strip()\n",
    "    news.update({\"datetime\":f\"{datetime}\"})\n",
    "    \n",
    "    paragraphs_list = []\n",
    "    paragrphs_div = soup.find('div', class_ =\"content_wrapper\")\n",
    "    if paragrphs_div:\n",
    "        paragraph_tags = paragrphs_div.find_all('p')\n",
    "        for p in paragraph_tags:\n",
    "            para_text = p.text.strip()            \n",
    "            if len(para_text) < 50 :\n",
    "                continue            \n",
    "            if re.search(r\"(click\\s+here|disclaimer|modal|window|advertisement|investment\\s+tips)\", para_text, re.IGNORECASE):\n",
    "                continue            \n",
    "            paragraphs_list.append(para_text)         \n",
    "            \n",
    "    news.update({\"content\": paragraphs_list})\n",
    "    \n",
    "    stock_name = soup.find('a', class_=\"stock-name\")\n",
    "    if stock_name:\n",
    "        news.update({\"stock_name\":f\"{stock_name.text.strip()}\"})\n",
    "            \n",
    "    # driver.quit()   \n",
    "    return news"
   ]
  },
  {
   "cell_type": "code",
   "execution_count": 13,
   "metadata": {
    "execution": {
     "iopub.execute_input": "2025-01-09T05:26:53.543954Z",
     "iopub.status.busy": "2025-01-09T05:26:53.542583Z",
     "iopub.status.idle": "2025-01-09T05:28:21.684290Z",
     "shell.execute_reply": "2025-01-09T05:28:21.683203Z"
    }
   },
   "outputs": [
    {
     "name": "stdout",
     "output_type": "stream",
     "text": [
      "677f5e35445f7dea037d72df\n"
     ]
    },
    {
     "name": "stdout",
     "output_type": "stream",
     "text": [
      "677f5e56445f7dea037d72e0\n"
     ]
    },
    {
     "name": "stdout",
     "output_type": "stream",
     "text": [
      "677f5e60445f7dea037d72e1\n"
     ]
    },
    {
     "name": "stdout",
     "output_type": "stream",
     "text": [
      "677f5e66445f7dea037d72e2\n"
     ]
    },
    {
     "name": "stdout",
     "output_type": "stream",
     "text": [
      "677f5e6a445f7dea037d72e3\n"
     ]
    },
    {
     "name": "stdout",
     "output_type": "stream",
     "text": [
      "677f5e75445f7dea037d72e4\n"
     ]
    }
   ],
   "source": [
    "for url in final_stocks_urls :\n",
    "    data = extract_data(url)\n",
    "    x = mycol.insert_one(data)\n",
    "    print(x.inserted_id)"
   ]
  },
  {
   "cell_type": "code",
   "execution_count": 14,
   "metadata": {
    "execution": {
     "iopub.execute_input": "2025-01-09T05:28:21.694526Z",
     "iopub.status.busy": "2025-01-09T05:28:21.692498Z",
     "iopub.status.idle": "2025-01-09T05:28:24.272284Z",
     "shell.execute_reply": "2025-01-09T05:28:24.270264Z"
    }
   },
   "outputs": [],
   "source": [
    "driver.quit()   "
   ]
  },
  {
   "cell_type": "code",
   "execution_count": null,
   "metadata": {},
   "outputs": [],
   "source": []
  }
 ],
 "metadata": {
  "kernelspec": {
   "display_name": "Python 3",
   "language": "python",
   "name": "python3"
  },
  "language_info": {
   "codemirror_mode": {
    "name": "ipython",
    "version": 3
   },
   "file_extension": ".py",
   "mimetype": "text/x-python",
   "name": "python",
   "nbconvert_exporter": "python",
   "pygments_lexer": "ipython3",
   "version": "3.12.3"
  }
 },
 "nbformat": 4,
 "nbformat_minor": 2
}
