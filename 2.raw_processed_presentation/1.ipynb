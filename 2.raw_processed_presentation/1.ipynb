{
 "cells": [
  {
   "cell_type": "code",
   "execution_count": 50,
   "metadata": {
    "execution": {
     "iopub.execute_input": "2025-01-09T05:26:25.182458Z",
     "iopub.status.busy": "2025-01-09T05:26:25.180396Z",
     "iopub.status.idle": "2025-01-09T05:26:26.687317Z",
     "shell.execute_reply": "2025-01-09T05:26:26.686300Z"
    }
   },
   "outputs": [],
   "source": [
    "from selenium import webdriver\n",
    "from selenium.webdriver.chrome.service import Service\n",
    "from selenium.webdriver.chrome.options import Options\n",
    "from selenium.webdriver.common.by import By\n",
    "from selenium.webdriver.support.ui import WebDriverWait\n",
    "from selenium.webdriver.support import expected_conditions as EC\n",
    "from bs4 import BeautifulSoup\n",
    "import re\n",
    "import pymongo"
   ]
  },
  {
   "cell_type": "code",
   "execution_count": 51,
   "metadata": {
    "execution": {
     "iopub.execute_input": "2025-01-09T05:26:26.694915Z",
     "iopub.status.busy": "2025-01-09T05:26:26.693918Z",
     "iopub.status.idle": "2025-01-09T05:26:26.705355Z",
     "shell.execute_reply": "2025-01-09T05:26:26.704338Z"
    }
   },
   "outputs": [],
   "source": [
    "def finding_raw_urls_from_base(url):\n",
    "    service = Service(\"./chromedriver/chromedriver.exe\")\n",
    "    options = Options()\n",
    "    options.add_argument(\"--headless\")\n",
    "    options.add_argument(\"--disable-gpu\")\n",
    "    options.add_argument(\"user-agent=Mozilla/5.0 (Windows NT 10.0; Win64; x64) AppleWebKit/537.36 (KHTML, like Gecko) Chrome/91.0.4472.124 Safari/537.36\")\n",
    "    \n",
    "    driver = webdriver.Chrome(service=service, options=options)\n",
    "    driver.get(url)\n",
    "    \n",
    "    WebDriverWait(driver, 60).until(\n",
    "        EC.presence_of_all_elements_located((By.TAG_NAME, 'a'))\n",
    "    )\n",
    "    \n",
    "    html = driver.page_source\n",
    "    driver.quit()\n",
    "    \n",
    "    soup = BeautifulSoup(html, 'html.parser')\n",
    "    links = soup.find_all('a', href=True)\n",
    "    raw_urls = []\n",
    "    for link in links:\n",
    "        if link['href'].startswith(\"https://www.moneycontrol.com/news/business/\"):\n",
    "            raw_urls.append(link['href'])\n",
    "    return list(set(raw_urls))\n",
    "    "
   ]
  },
  {
   "cell_type": "code",
   "execution_count": 52,
   "metadata": {
    "execution": {
     "iopub.execute_input": "2025-01-09T05:26:26.710356Z",
     "iopub.status.busy": "2025-01-09T05:26:26.710356Z",
     "iopub.status.idle": "2025-01-09T05:26:51.634175Z",
     "shell.execute_reply": "2025-01-09T05:26:51.633666Z"
    }
   },
   "outputs": [],
   "source": [
    "raw_urls = finding_raw_urls_from_base(\"https://www.moneycontrol.com/news/business/stocks/\")\n",
    "# raw_urls = finding_raw_urls_from_base(\"https://www.moneycontrol.com/news/business/stocks/page-2\")"
   ]
  },
  {
   "cell_type": "code",
   "execution_count": 53,
   "metadata": {
    "execution": {
     "iopub.execute_input": "2025-01-09T05:26:51.638382Z",
     "iopub.status.busy": "2025-01-09T05:26:51.638382Z",
     "iopub.status.idle": "2025-01-09T05:26:51.648840Z",
     "shell.execute_reply": "2025-01-09T05:26:51.648330Z"
    }
   },
   "outputs": [
    {
     "data": {
      "text/plain": [
       "['https://www.moneycontrol.com/news/business/banks/',\n",
       " 'https://www.moneycontrol.com/news/business/stocks/subscribe-for-stallion-india-fluorochemicals-ltd-ipo-anand-rathi-12911972.html',\n",
       " 'https://www.moneycontrol.com/news/business/stocks/page-2/',\n",
       " 'https://www.moneycontrol.com/news/business/markets/rvnl-shares-jump-9-after-winning-rs-3-622-crore-order-from-bsnl-12911961.html',\n",
       " 'https://www.moneycontrol.com/news/business/markets/trade-spotlight-how-should-you-trade-biocon-equitas-small-finance-bank-minda-corporation-kfin-technologies-blue-star-and-others-on-january-16-12911774.html',\n",
       " 'https://www.moneycontrol.com/news/business/stocks/page-4/',\n",
       " 'https://www.moneycontrol.com/news/business/stocks/page-7/',\n",
       " 'https://www.moneycontrol.com/news/business/oil-little-changed-as-falling-us-stockpiles-outweigh-soft-demand-outlook-12910813.html',\n",
       " 'https://www.moneycontrol.com/news/business/personal-finance/income-tax-filing/',\n",
       " 'https://www.moneycontrol.com/news/business/companies/ixigo-are-you-ready-to-embark-on-this-journey-12911880.html',\n",
       " 'https://www.moneycontrol.com/news/business/companies/',\n",
       " 'https://www.moneycontrol.com/news/business/markets/l-t-tech-stock-skyrockets-10-after-strong-q3-earnings-record-large-deal-bookings-12911919.html',\n",
       " 'https://www.moneycontrol.com/news/business/',\n",
       " 'https://www.moneycontrol.com/news/business/stocks/',\n",
       " 'https://www.moneycontrol.com/news/business/markets/analyst-call-tracker-why-tata-motors-punch-s-record-2024-not-enough-for-brokerages-12911039.html',\n",
       " 'https://www.moneycontrol.com/news/business/stocks/page-5/',\n",
       " 'https://www.moneycontrol.com/news/business/stocks/page-10/',\n",
       " 'https://www.moneycontrol.com/news/business/markets/fii-inflows-crucial-for-big-market-rally-motilal-oswal-cio-12911506.html',\n",
       " 'https://www.moneycontrol.com/news/business/markets/stock-market-live-sensex-nifty-50-share-price-gift-nifty-latest-updates-16-01-2025-liveblog-12911791.html',\n",
       " 'https://www.moneycontrol.com/news/business/markets/sensex-jumps-600-pts-nifty-above-23-300-on-global-cues-psu-banks-metals-rally-broader-markets-outshine-12911804.html',\n",
       " 'https://www.moneycontrol.com/news/business/stocks/page-30/',\n",
       " 'https://www.moneycontrol.com/news/business/markets/taking-stock-market-extends-gain-sensex-up-225-pts-nifty-above-23-200-12911176.html',\n",
       " 'https://www.moneycontrol.com/news/business/indian-rupee-opens-marginally-down-at-86-42-against-us-dollar-12911881.html',\n",
       " 'https://www.moneycontrol.com/news/business/companies',\n",
       " 'https://www.moneycontrol.com/news/business/markets/azad-engineering-shares-soar-9-on-rs-960-cr-order-from-us-based-ge-vernova-12911929.html',\n",
       " 'https://www.moneycontrol.com/news/business/stocks/page-6/',\n",
       " 'https://www.moneycontrol.com/news/business/markets/irfc-shares-gain-4-on-emerging-as-lowest-bidder-for-rs-3-167-cr-financing-12910775.html',\n",
       " 'https://www.moneycontrol.com/news/business/startup/',\n",
       " 'https://www.moneycontrol.com/news/business/startup/zepto-receives-nclt-approval-to-reverse-flip-to-india-ahead-of-ipo-this-year-12908651.html',\n",
       " 'https://www.moneycontrol.com/news/business/stocks/top-gainers-and-losers-today-stocks-that-moved-the-most-on-january-15-12911359.html',\n",
       " 'https://www.moneycontrol.com/news/business/markets/',\n",
       " 'https://www.moneycontrol.com/news/business/infosys-q3-results-live-axis-bank-ltimindtree-havells-india-db-corp-q3-earnings-laxmi-dental-ipo-allotment-business-news-january-16-liveblog-12911797.html',\n",
       " 'https://www.moneycontrol.com/news/business/ipo/standard-glass-lining-ipo-share-price-stock-lists-at-23pc-premium-over-issue-price-on-nse-12908598.html',\n",
       " 'https://www.moneycontrol.com/news/business/real-estate/',\n",
       " 'https://www.moneycontrol.com/news/business/stocks/page-3/',\n",
       " 'https://www.moneycontrol.com/news/business/markets/first-tick-here-are-the-top-global-cues-for-today-s-trade-26-12911146.html',\n",
       " 'https://www.moneycontrol.com/news/business/commodities/',\n",
       " 'https://www.moneycontrol.com/news/business/ipo/',\n",
       " 'https://www.moneycontrol.com/news/business/stocks/agri-picks-report-january-16-2025-geojit-financial-services-12911862.html',\n",
       " 'https://www.moneycontrol.com/news/business/markets/stocks-to-watch-today-gail-hdfc-life-rvnl-azad-engineering-happiest-minds-punjab-sind-bank-rashi-peripherals-ceat-in-focus-on-16-january-12911785.html',\n",
       " 'https://www.moneycontrol.com/news/business/markets/sensex-tumbles-300-pts-from-day-s-high-nifty-below-23-200-ahead-of-us-cpi-data-pharma-auto-stocks-fall-12911229.html',\n",
       " 'https://www.moneycontrol.com/news/business/personal-finance/',\n",
       " 'https://www.moneycontrol.com/news/business/stocks/asian-stocks-gain-after-us-core-inflation-cools-12911792.html',\n",
       " 'https://www.moneycontrol.com/news/business/stocks/page-8/',\n",
       " 'https://www.moneycontrol.com/news/business/economy/',\n",
       " 'https://www.moneycontrol.com/news/business/stocks/page-9/',\n",
       " 'https://www.moneycontrol.com/news/business/markets/adani-group-stocks-surge-upto-7-after-us-short-seller-hindenburg-shuts-shop-12911877.html',\n",
       " 'https://www.moneycontrol.com/news/business/mutual-funds/',\n",
       " 'https://www.moneycontrol.com/news/business/markets/ceat-shares-crash-over-7-as-q3-leaves-investors-disappointed-12911841.html',\n",
       " 'https://www.moneycontrol.com/news/business/stocks/buy-angel-one-target-of-rs-3200-motilal-oswal-12911362.html',\n",
       " 'https://www.moneycontrol.com/news/business/markets/transrail-lighting-stock-zooms-11-on-solid-earnings-show-capex-plan-12911976.html',\n",
       " 'https://www.moneycontrol.com/news/business/stocks/buy-hdfc-amc-target-of-rs-5200-motilal-oswal-12911351.html',\n",
       " 'https://www.moneycontrol.com/news/business/stocks/trent-shares-rise-nearly-5-after-elara-securities-gives-buy-rating-12911167.html']"
      ]
     },
     "execution_count": 53,
     "metadata": {},
     "output_type": "execute_result"
    }
   ],
   "source": [
    "raw_urls"
   ]
  },
  {
   "cell_type": "code",
   "execution_count": null,
   "metadata": {},
   "outputs": [],
   "source": []
  },
  {
   "cell_type": "code",
   "execution_count": 54,
   "metadata": {
    "execution": {
     "iopub.execute_input": "2025-01-09T05:26:51.710152Z",
     "iopub.status.busy": "2025-01-09T05:26:51.710152Z",
     "iopub.status.idle": "2025-01-09T05:26:51.717372Z",
     "shell.execute_reply": "2025-01-09T05:26:51.716359Z"
    }
   },
   "outputs": [],
   "source": [
    "stock_urls =[]\n",
    "market_urls = []\n",
    "next_page_urls = []\n",
    "other_urls = []\n",
    "ipo_urls = []\n",
    "def extract_urls(all_urls):\n",
    "    for link in raw_urls:\n",
    "        if link.startswith(\"https://www.moneycontrol.com/news/business/stocks/page\"):\n",
    "            next_page_urls.append(link)\n",
    "        elif link.startswith(\"https://www.moneycontrol.com/news/business/stocks/\"):\n",
    "            stock_urls.append(link)\n",
    "        elif link.startswith(\"https://www.moneycontrol.com/news/business/markets/\"):\n",
    "            market_urls.append(link)\n",
    "        elif link.startswith(\"https://www.moneycontrol.com/news/business/ipo/\"):\n",
    "            ipo_urls.append(link)\n",
    "        else:\n",
    "            other_urls.append(link)"
   ]
  },
  {
   "cell_type": "code",
   "execution_count": 55,
   "metadata": {
    "execution": {
     "iopub.execute_input": "2025-01-09T05:26:51.721441Z",
     "iopub.status.busy": "2025-01-09T05:26:51.721441Z",
     "iopub.status.idle": "2025-01-09T05:26:51.726820Z",
     "shell.execute_reply": "2025-01-09T05:26:51.726281Z"
    }
   },
   "outputs": [],
   "source": [
    "extract_urls(raw_urls)"
   ]
  },
  {
   "cell_type": "code",
   "execution_count": 56,
   "metadata": {
    "execution": {
     "iopub.execute_input": "2025-01-09T05:26:51.731390Z",
     "iopub.status.busy": "2025-01-09T05:26:51.731390Z",
     "iopub.status.idle": "2025-01-09T05:26:51.738126Z",
     "shell.execute_reply": "2025-01-09T05:26:51.737619Z"
    }
   },
   "outputs": [
    {
     "data": {
      "text/plain": [
       "['https://www.moneycontrol.com/news/business/stocks/subscribe-for-stallion-india-fluorochemicals-ltd-ipo-anand-rathi-12911972.html',\n",
       " 'https://www.moneycontrol.com/news/business/stocks/',\n",
       " 'https://www.moneycontrol.com/news/business/stocks/top-gainers-and-losers-today-stocks-that-moved-the-most-on-january-15-12911359.html',\n",
       " 'https://www.moneycontrol.com/news/business/stocks/agri-picks-report-january-16-2025-geojit-financial-services-12911862.html',\n",
       " 'https://www.moneycontrol.com/news/business/stocks/asian-stocks-gain-after-us-core-inflation-cools-12911792.html',\n",
       " 'https://www.moneycontrol.com/news/business/stocks/buy-angel-one-target-of-rs-3200-motilal-oswal-12911362.html',\n",
       " 'https://www.moneycontrol.com/news/business/stocks/buy-hdfc-amc-target-of-rs-5200-motilal-oswal-12911351.html',\n",
       " 'https://www.moneycontrol.com/news/business/stocks/trent-shares-rise-nearly-5-after-elara-securities-gives-buy-rating-12911167.html']"
      ]
     },
     "execution_count": 56,
     "metadata": {},
     "output_type": "execute_result"
    }
   ],
   "source": [
    "stock_urls"
   ]
  },
  {
   "cell_type": "code",
   "execution_count": 57,
   "metadata": {
    "execution": {
     "iopub.execute_input": "2025-01-09T05:26:51.742714Z",
     "iopub.status.busy": "2025-01-09T05:26:51.742714Z",
     "iopub.status.idle": "2025-01-09T05:26:51.748765Z",
     "shell.execute_reply": "2025-01-09T05:26:51.748215Z"
    }
   },
   "outputs": [],
   "source": [
    "\n",
    "regex = r'https:\\/\\/www\\.moneycontrol\\.com\\/news\\/business\\/stocks\\/[^\\/\\s]+(?:\\.[a-z]{2,6})(?:[\\/\\?].*)?'\n",
    "\n",
    "final_stocks_urls = [url for url in stock_urls if re.match(regex, url)]"
   ]
  },
  {
   "cell_type": "code",
   "execution_count": 58,
   "metadata": {
    "execution": {
     "iopub.execute_input": "2025-01-09T05:26:51.753822Z",
     "iopub.status.busy": "2025-01-09T05:26:51.753822Z",
     "iopub.status.idle": "2025-01-09T05:26:51.761592Z",
     "shell.execute_reply": "2025-01-09T05:26:51.761076Z"
    }
   },
   "outputs": [
    {
     "data": {
      "text/plain": [
       "['https://www.moneycontrol.com/news/business/stocks/subscribe-for-stallion-india-fluorochemicals-ltd-ipo-anand-rathi-12911972.html',\n",
       " 'https://www.moneycontrol.com/news/business/stocks/top-gainers-and-losers-today-stocks-that-moved-the-most-on-january-15-12911359.html',\n",
       " 'https://www.moneycontrol.com/news/business/stocks/agri-picks-report-january-16-2025-geojit-financial-services-12911862.html',\n",
       " 'https://www.moneycontrol.com/news/business/stocks/asian-stocks-gain-after-us-core-inflation-cools-12911792.html',\n",
       " 'https://www.moneycontrol.com/news/business/stocks/buy-angel-one-target-of-rs-3200-motilal-oswal-12911362.html',\n",
       " 'https://www.moneycontrol.com/news/business/stocks/buy-hdfc-amc-target-of-rs-5200-motilal-oswal-12911351.html',\n",
       " 'https://www.moneycontrol.com/news/business/stocks/trent-shares-rise-nearly-5-after-elara-securities-gives-buy-rating-12911167.html']"
      ]
     },
     "execution_count": 58,
     "metadata": {},
     "output_type": "execute_result"
    }
   ],
   "source": [
    "final_stocks_urls"
   ]
  },
  {
   "cell_type": "code",
   "execution_count": 59,
   "metadata": {
    "execution": {
     "iopub.execute_input": "2025-01-09T05:26:51.766676Z",
     "iopub.status.busy": "2025-01-09T05:26:51.766676Z",
     "iopub.status.idle": "2025-01-09T05:26:51.819085Z",
     "shell.execute_reply": "2025-01-09T05:26:51.816772Z"
    }
   },
   "outputs": [],
   "source": [
    "myclient = pymongo.MongoClient(\"mongodb://localhost:27017/\")\n",
    "mydb = myclient[\"new_db\"]\n",
    "mycol = mydb['raw_news']"
   ]
  },
  {
   "cell_type": "code",
   "execution_count": 60,
   "metadata": {
    "execution": {
     "iopub.execute_input": "2025-01-09T05:26:51.826284Z",
     "iopub.status.busy": "2025-01-09T05:26:51.825280Z",
     "iopub.status.idle": "2025-01-09T05:26:53.517626Z",
     "shell.execute_reply": "2025-01-09T05:26:53.517626Z"
    }
   },
   "outputs": [],
   "source": [
    "service = Service(\"./chromedriver/chromedriver.exe\")\n",
    "options = Options()\n",
    "options.add_argument(\"--headless\")\n",
    "options.add_argument(\"--disable-gpu\")\n",
    "options.add_argument(\"user-agent=Mozilla/5.0 (Windows NT 10.0; Win64; x64) AppleWebKit/537.36 (KHTML, like Gecko) Chrome/114.0.5735.199 Safari/537.36\")\n",
    "\n",
    "driver = webdriver.Chrome(service=service, options= options)"
   ]
  },
  {
   "cell_type": "code",
   "execution_count": 61,
   "metadata": {
    "execution": {
     "iopub.execute_input": "2025-01-09T05:26:53.522639Z",
     "iopub.status.busy": "2025-01-09T05:26:53.521635Z",
     "iopub.status.idle": "2025-01-09T05:26:53.535900Z",
     "shell.execute_reply": "2025-01-09T05:26:53.535390Z"
    }
   },
   "outputs": [],
   "source": [
    "def extract_data(url):  \n",
    "    driver.get(url)\n",
    "    \n",
    "    WebDriverWait(driver, 60).until(\n",
    "        lambda d: d.execute_script(\"return document.readyState\") == \"complete\"\n",
    "    )\n",
    "    \n",
    "    html = driver.page_source\n",
    "    soup = BeautifulSoup(html, 'html.parser')    \n",
    "    news = {}\n",
    "    \n",
    "    title = soup.find('h1', class_ = \"article_title\")\n",
    "    news.update({\"title\":f\"{title.text.strip()}\"})\n",
    "    \n",
    "    desc = soup.find('h2', class_ = 'article_desc')\n",
    "    news.update({\"desc\":f\"{desc.text.strip()}\"})\n",
    "    \n",
    "    date_time_div = soup.find('div', class_=\"article_schedule\")\n",
    "    if date_time_div:\n",
    "        span_tag = date_time_div.find('span')\n",
    "        date = span_tag.text.strip()\n",
    "        news.update({\"date\":f\"{date}\"})\n",
    "    \n",
    "    datetime = date_time_div.text.strip()\n",
    "    news.update({\"datetime\":f\"{datetime}\"})\n",
    "    \n",
    "    paragraphs_list = []\n",
    "    paragrphs_div = soup.find('div', class_ =\"content_wrapper\")\n",
    "    if paragrphs_div:\n",
    "        paragraph_tags = paragrphs_div.find_all('p')\n",
    "        for p in paragraph_tags:\n",
    "            para_text = p.text.strip()            \n",
    "            if len(para_text) < 50 :\n",
    "                continue            \n",
    "            if re.search(r\"(click\\s+here|disclaimer|modal|window|advertisement|investment\\s+tips)\", para_text, re.IGNORECASE):\n",
    "                continue            \n",
    "            paragraphs_list.append(para_text)         \n",
    "            \n",
    "    news.update({\"content\": paragraphs_list})\n",
    "    \n",
    "    stock_name = soup.find('a', class_=\"stock-name\")\n",
    "    if stock_name:\n",
    "        news.update({\"stock_name\":f\"{stock_name.text.strip()}\"})\n",
    "            \n",
    "    # driver.quit()   \n",
    "    return news"
   ]
  },
  {
   "cell_type": "code",
   "execution_count": 62,
   "metadata": {
    "execution": {
     "iopub.execute_input": "2025-01-09T05:26:53.543954Z",
     "iopub.status.busy": "2025-01-09T05:26:53.542583Z",
     "iopub.status.idle": "2025-01-09T05:28:21.684290Z",
     "shell.execute_reply": "2025-01-09T05:28:21.683203Z"
    }
   },
   "outputs": [
    {
     "name": "stdout",
     "output_type": "stream",
     "text": [
      "67889a42761c49c0fb36fc99\n",
      "67889a9e761c49c0fb36fc9a\n",
      "67889ae3761c49c0fb36fc9b\n",
      "67889b28761c49c0fb36fc9c\n",
      "67889b6f761c49c0fb36fc9d\n",
      "67889ba4761c49c0fb36fc9e\n",
      "67889be2761c49c0fb36fc9f\n"
     ]
    }
   ],
   "source": [
    "for url in final_stocks_urls :\n",
    "    data = extract_data(url)\n",
    "    x = mycol.insert_one(data)\n",
    "    print(x.inserted_id)"
   ]
  },
  {
   "cell_type": "code",
   "execution_count": 63,
   "metadata": {
    "execution": {
     "iopub.execute_input": "2025-01-09T05:28:21.694526Z",
     "iopub.status.busy": "2025-01-09T05:28:21.692498Z",
     "iopub.status.idle": "2025-01-09T05:28:24.272284Z",
     "shell.execute_reply": "2025-01-09T05:28:24.270264Z"
    }
   },
   "outputs": [],
   "source": [
    "driver.quit()   "
   ]
  },
  {
   "cell_type": "code",
   "execution_count": null,
   "metadata": {},
   "outputs": [],
   "source": []
  }
 ],
 "metadata": {
  "kernelspec": {
   "display_name": "Python 3",
   "language": "python",
   "name": "python3"
  },
  "language_info": {
   "codemirror_mode": {
    "name": "ipython",
    "version": 3
   },
   "file_extension": ".py",
   "mimetype": "text/x-python",
   "name": "python",
   "nbconvert_exporter": "python",
   "pygments_lexer": "ipython3",
   "version": "3.12.3"
  }
 },
 "nbformat": 4,
 "nbformat_minor": 2
}
