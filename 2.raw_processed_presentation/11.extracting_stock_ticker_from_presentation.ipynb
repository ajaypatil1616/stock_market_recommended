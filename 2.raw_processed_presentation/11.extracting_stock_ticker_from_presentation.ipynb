{
 "cells": [
  {
   "cell_type": "code",
   "execution_count": 35,
   "metadata": {},
   "outputs": [],
   "source": [
    "from pymongo import MongoClient\n",
    "import pandas as pd\n",
    "import numpy as np"
   ]
  },
  {
   "cell_type": "code",
   "execution_count": 36,
   "metadata": {},
   "outputs": [],
   "source": [
    "client = MongoClient(\"mongodb://localhost:27017\")\n",
    "db = client['new_db']\n",
    "presentation_collection = db['presentation_news']\n",
    "stock_ticker_collection = db['stock_ticker_presentation']"
   ]
  },
  {
   "cell_type": "code",
   "execution_count": 37,
   "metadata": {},
   "outputs": [],
   "source": [
    "presentation_news_data_list = list(presentation_collection.find())"
   ]
  },
  {
   "cell_type": "code",
   "execution_count": 38,
   "metadata": {},
   "outputs": [
    {
     "data": {
      "text/plain": [
       "182"
      ]
     },
     "execution_count": 38,
     "metadata": {},
     "output_type": "execute_result"
    }
   ],
   "source": [
    "len(presentation_news_data_list)"
   ]
  },
  {
   "cell_type": "code",
   "execution_count": 39,
   "metadata": {},
   "outputs": [],
   "source": [
    "stock_ticker_list = []"
   ]
  },
  {
   "cell_type": "code",
   "execution_count": 40,
   "metadata": {},
   "outputs": [],
   "source": [
    "for news_data in presentation_news_data_list:\n",
    "  \n",
    "    stock_name = news_data.get('stock_name')\n",
    "    ticker_name = news_data.get('ticker_name')\n",
    "    stock_ticker_list.append({ \"_id\": news_data[\"_id\"],\n",
    "                              f\"{stock_name}\":f\"{ticker_name}\"})\n",
    "  "
   ]
  },
  {
   "cell_type": "code",
   "execution_count": 41,
   "metadata": {},
   "outputs": [
    {
     "data": {
      "text/plain": [
       "{'_id': ObjectId('6777a0a68581574bb8d03aca'), 'CELLO': 'CELLO.NS'}"
      ]
     },
     "execution_count": 41,
     "metadata": {},
     "output_type": "execute_result"
    }
   ],
   "source": [
    "stock_ticker_list[1]"
   ]
  },
  {
   "cell_type": "code",
   "execution_count": 42,
   "metadata": {},
   "outputs": [
    {
     "data": {
      "text/plain": [
       "InsertManyResult([ObjectId('6777a09f8581574bb8d03ac9'), ObjectId('6777a0a68581574bb8d03aca'), ObjectId('6777a0d08581574bb8d03acb'), ObjectId('6777a0d38581574bb8d03acc'), ObjectId('6777a0d78581574bb8d03acd'), ObjectId('6777a0db8581574bb8d03acf'), ObjectId('6777a0e78581574bb8d03ad0'), ObjectId('6777a1448581574bb8d03ad2'), ObjectId('6777a1498581574bb8d03ad3'), ObjectId('6777a17b8581574bb8d03ad5'), ObjectId('6777a17d8581574bb8d03ad6'), ObjectId('6777a17f8581574bb8d03ad7'), ObjectId('6777a1d68581574bb8d03ad9'), ObjectId('6777a1d98581574bb8d03ada'), ObjectId('6777a1dc8581574bb8d03adb'), ObjectId('6777a1df8581574bb8d03adc'), ObjectId('6777a1e68581574bb8d03add'), ObjectId('6777a1e98581574bb8d03ade'), ObjectId('6777a2148581574bb8d03adf'), ObjectId('6777a2738581574bb8d03ae2'), ObjectId('6777a2a58581574bb8d03ae4'), ObjectId('6777a2af8581574bb8d03ae7'), ObjectId('6777a2b28581574bb8d03ae8'), ObjectId('6777a2be8581574bb8d03ae9'), ObjectId('6777a3298581574bb8d03aeb'), ObjectId('6777a34f8581574bb8d03aed'), ObjectId('6777a3708581574bb8d03aee'), ObjectId('6777a3738581574bb8d03aef'), ObjectId('6777a3758581574bb8d03af0'), ObjectId('6777a3788581574bb8d03af1'), ObjectId('6777a5ce8581574bb8d03af3'), ObjectId('6777a5ef8581574bb8d03af4'), ObjectId('6777a5fe8581574bb8d03af5'), ObjectId('6777a6018581574bb8d03af6'), ObjectId('6777a6048581574bb8d03af7'), ObjectId('6777a68d8581574bb8d03afa'), ObjectId('6777a6908581574bb8d03afb'), ObjectId('6777a6978581574bb8d03afe'), ObjectId('6777a6998581574bb8d03aff'), ObjectId('6777a6ee8581574bb8d03b01'), ObjectId('6777a6f78581574bb8d03b02'), ObjectId('6777a7228581574bb8d03b04'), ObjectId('6777a7278581574bb8d03b06'), ObjectId('6777a80a8581574bb8d03b09'), ObjectId('6777a81b8581574bb8d03b0a'), ObjectId('6777a81f8581574bb8d03b0b'), ObjectId('6777a8218581574bb8d03b0c'), ObjectId('6777a8238581574bb8d03b0d'), ObjectId('6777a8978581574bb8d03b0f'), ObjectId('6777a8a08581574bb8d03b10'), ObjectId('6777a8cf8581574bb8d03b12'), ObjectId('6777a8d48581574bb8d03b13'), ObjectId('6777a8d78581574bb8d03b14'), ObjectId('6777a96c8581574bb8d03b18'), ObjectId('6777a9788581574bb8d03b19'), ObjectId('6777a9aa8581574bb8d03b1a'), ObjectId('6777a9af8581574bb8d03b1c'), ObjectId('6777aa3b8581574bb8d03b1f'), ObjectId('6777aa3f8581574bb8d03b20'), ObjectId('6777aa6f8581574bb8d03b21'), ObjectId('6777aa7b8581574bb8d03b22'), ObjectId('6777abc38581574bb8d03b24'), ObjectId('6777abd18581574bb8d03b25'), ObjectId('6777abf28581574bb8d03b26'), ObjectId('6777abf78581574bb8d03b27'), ObjectId('6777abfb8581574bb8d03b28'), ObjectId('6777ac078581574bb8d03b2b'), ObjectId('6777ac188581574bb8d03b2c'), ObjectId('6777ac688581574bb8d03b2e'), ObjectId('6777ac948581574bb8d03b30'), ObjectId('6777acc98581574bb8d03b36'), ObjectId('6777ad228581574bb8d03b38'), ObjectId('6777ad498581574bb8d03b3a'), ObjectId('6777ad508581574bb8d03b3b'), ObjectId('6777ad578581574bb8d03b3c'), ObjectId('6777ada18581574bb8d03b40'), ObjectId('6777add48581574bb8d03b41'), ObjectId('6777af058581574bb8d03b44'), ObjectId('6777af178581574bb8d03b45'), ObjectId('6777af1a8581574bb8d03b46'), ObjectId('6777b09e8581574bb8d03b49'), ObjectId('6777b0a38581574bb8d03b4a'), ObjectId('6777b0a78581574bb8d03b4b'), ObjectId('6777b1608581574bb8d03b4f'), ObjectId('6777b1648581574bb8d03b50'), ObjectId('6777b16a8581574bb8d03b52'), ObjectId('6777b16e8581574bb8d03b53'), ObjectId('6777b1728581574bb8d03b54'), ObjectId('6777b2018581574bb8d03b56'), ObjectId('6777b22c8581574bb8d03b57'), ObjectId('6777b24f8581574bb8d03b59'), ObjectId('6777b3aa8581574bb8d03b5d'), ObjectId('6777b3af8581574bb8d03b5e'), ObjectId('6777b3c08581574bb8d03b5f'), ObjectId('6777b3c98581574bb8d03b60'), ObjectId('6777b3d88581574bb8d03b63'), ObjectId('6777b3dc8581574bb8d03b64'), ObjectId('6777b3e18581574bb8d03b65'), ObjectId('6777b3e88581574bb8d03b66'), ObjectId('6777b5188581574bb8d03b69'), ObjectId('6777b53f8581574bb8d03b6a'), ObjectId('6777b5798581574bb8d03b6b'), ObjectId('6777b5ae8581574bb8d03b6c'), ObjectId('6777b5ba8581574bb8d03b6d'), ObjectId('6777b5d18581574bb8d03b6e'), ObjectId('6777b5f78581574bb8d03b6f'), ObjectId('6777b61c8581574bb8d03b71'), ObjectId('6777b6238581574bb8d03b72'), ObjectId('6777b64c8581574bb8d03b73'), ObjectId('6777b6fa8581574bb8d03b77'), ObjectId('6777b7168581574bb8d03b79'), ObjectId('6777b7768581574bb8d03b7b'), ObjectId('6777b7908581574bb8d03b7c'), ObjectId('6777b7b18581574bb8d03b7f'), ObjectId('6777be5ab5e5e6aaf29f78f7'), ObjectId('6777bf3fb5e5e6aaf29f78fc'), ObjectId('6777bf57b5e5e6aaf29f78fd'), ObjectId('6777bf5cb5e5e6aaf29f78fe'), ObjectId('6777bf62b5e5e6aaf29f78ff'), ObjectId('6777bf6bb5e5e6aaf29f7900'), ObjectId('6777bf71b5e5e6aaf29f7901'), ObjectId('6777bf77b5e5e6aaf29f7902'), ObjectId('6777bf7cb5e5e6aaf29f7903'), ObjectId('6777bfcbb5e5e6aaf29f7905'), ObjectId('6777bffeb5e5e6aaf29f7906'), ObjectId('6777c00ab5e5e6aaf29f7908'), ObjectId('6777c078b5e5e6aaf29f790c'), ObjectId('6777c08fb5e5e6aaf29f790e'), ObjectId('6777c5033c87f456d0e4535d'), ObjectId('6777c50b3c87f456d0e4535e'), ObjectId('6777c5393c87f456d0e4535f'), ObjectId('6777c53f3c87f456d0e45360'), ObjectId('6777c5793c87f456d0e45362'), ObjectId('6777c65d3c87f456d0e45365'), ObjectId('6777c6633c87f456d0e45366'), ObjectId('6777c66e3c87f456d0e45367'), ObjectId('6777c6843c87f456d0e45368'), ObjectId('6777c68a3c87f456d0e45369'), ObjectId('6777c78c3c87f456d0e4536b'), ObjectId('6777c7cf3c87f456d0e4536c'), ObjectId('6777c7d83c87f456d0e4536d'), ObjectId('6777c7e03c87f456d0e4536e'), ObjectId('6777c7e53c87f456d0e4536f'), ObjectId('6777c7f13c87f456d0e45370'), ObjectId('6777c8bc611a1954b20d2a09'), ObjectId('6777c8e7611a1954b20d2a0a'), ObjectId('6777c8ee611a1954b20d2a0b'), ObjectId('6777c8fc611a1954b20d2a0d'), ObjectId('6777c901611a1954b20d2a0e'), ObjectId('6777c90a611a1954b20d2a0f'), ObjectId('6777c983611a1954b20d2a11'), ObjectId('6777c98a611a1954b20d2a12'), ObjectId('6777c9af611a1954b20d2a13'), ObjectId('6777c9b6611a1954b20d2a14'), ObjectId('6777c9c2611a1954b20d2a16'), ObjectId('6777c9c9611a1954b20d2a17'), ObjectId('6777c9da611a1954b20d2a18'), ObjectId('6777ca44611a1954b20d2a1a'), ObjectId('6777caa0611a1954b20d2a1c'), ObjectId('6777caaa611a1954b20d2a1d'), ObjectId('6777cab4611a1954b20d2a1e'), ObjectId('6777cabc611a1954b20d2a1f'), ObjectId('6777caf3611a1954b20d2a20'), ObjectId('6777caf9611a1954b20d2a21'), ObjectId('6777cb01611a1954b20d2a22'), ObjectId('6777cb08611a1954b20d2a23'), ObjectId('677b62919229c97949479ea0'), ObjectId('677b62c29229c97949479ea3'), ObjectId('677b62c79229c97949479ea4'), ObjectId('677b62ef9229c97949479ea7'), ObjectId('677b64911f97af387130821e'), ObjectId('677b649e1f97af387130821f'), ObjectId('677b64a31f97af3871308220'), ObjectId('677b64ad1f97af3871308221'), ObjectId('677b64e21f97af3871308223'), ObjectId('677b66775bfa351eeb3ea868'), ObjectId('677b66b15bfa351eeb3ea86a'), ObjectId('677b66d55bfa351eeb3ea86b'), ObjectId('677b66da5bfa351eeb3ea86c'), ObjectId('677b66e05bfa351eeb3ea86d'), ObjectId('677cb7bce75b8c80b424082e'), ObjectId('677cb7fbe75b8c80b4240831')], acknowledged=True)"
      ]
     },
     "execution_count": 42,
     "metadata": {},
     "output_type": "execute_result"
    }
   ],
   "source": [
    "stock_ticker_collection.insert_many(stock_ticker_list)"
   ]
  },
  {
   "cell_type": "code",
   "execution_count": null,
   "metadata": {},
   "outputs": [],
   "source": []
  }
 ],
 "metadata": {
  "kernelspec": {
   "display_name": "Python 3",
   "language": "python",
   "name": "python3"
  },
  "language_info": {
   "codemirror_mode": {
    "name": "ipython",
    "version": 3
   },
   "file_extension": ".py",
   "mimetype": "text/x-python",
   "name": "python",
   "nbconvert_exporter": "python",
   "pygments_lexer": "ipython3",
   "version": "3.12.3"
  }
 },
 "nbformat": 4,
 "nbformat_minor": 2
}
