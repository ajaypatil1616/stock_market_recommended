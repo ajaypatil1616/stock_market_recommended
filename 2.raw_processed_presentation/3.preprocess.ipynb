{
 "cells": [
  {
   "cell_type": "code",
   "execution_count": 1,
   "metadata": {},
   "outputs": [],
   "source": [
    "import pymongo\n",
    "from datetime import datetime"
   ]
  },
  {
   "cell_type": "code",
   "execution_count": 2,
   "metadata": {},
   "outputs": [],
   "source": [
    "client = pymongo.MongoClient(\"mongodb://localhost:27017/\")\n",
    "db = client['new_db']\n",
    "raw_collection = db['raw_news']"
   ]
  },
  {
   "cell_type": "code",
   "execution_count": 3,
   "metadata": {},
   "outputs": [],
   "source": [
    "raw_data = list(raw_collection.find())"
   ]
  },
  {
   "cell_type": "code",
   "execution_count": 4,
   "metadata": {},
   "outputs": [
    {
     "data": {
      "text/plain": [
       "252"
      ]
     },
     "execution_count": 4,
     "metadata": {},
     "output_type": "execute_result"
    }
   ],
   "source": [
    "len(raw_data)"
   ]
  },
  {
   "cell_type": "code",
   "execution_count": 5,
   "metadata": {},
   "outputs": [],
   "source": [
    "import re\n",
    "from nltk.corpus import stopwords\n",
    "from nltk.tokenize import word_tokenize\n",
    "from nltk.stem import WordNetLemmatizer\n",
    "# import spacy\n"
   ]
  },
  {
   "cell_type": "code",
   "execution_count": 6,
   "metadata": {},
   "outputs": [
    {
     "name": "stderr",
     "output_type": "stream",
     "text": [
      "[nltk_data] Downloading package punkt to\n",
      "[nltk_data]     C:\\Users\\AjayPatil\\AppData\\Roaming\\nltk_data...\n",
      "[nltk_data]   Package punkt is already up-to-date!\n",
      "[nltk_data] Downloading package punkt_tab to\n",
      "[nltk_data]     C:\\Users\\AjayPatil\\AppData\\Roaming\\nltk_data...\n",
      "[nltk_data]   Package punkt_tab is already up-to-date!\n",
      "[nltk_data] Downloading package stopwords to\n",
      "[nltk_data]     C:\\Users\\AjayPatil\\AppData\\Roaming\\nltk_data...\n",
      "[nltk_data]   Package stopwords is already up-to-date!\n",
      "[nltk_data] Downloading package wordnet to\n",
      "[nltk_data]     C:\\Users\\AjayPatil\\AppData\\Roaming\\nltk_data...\n",
      "[nltk_data]   Package wordnet is already up-to-date!\n"
     ]
    },
    {
     "data": {
      "text/plain": [
       "True"
      ]
     },
     "execution_count": 6,
     "metadata": {},
     "output_type": "execute_result"
    }
   ],
   "source": [
    "import nltk\n",
    "nltk.download('punkt')\n",
    "nltk.download('punkt_tab')\n",
    "nltk.download('stopwords')\n",
    "nltk.download('wordnet')"
   ]
  },
  {
   "cell_type": "code",
   "execution_count": 7,
   "metadata": {},
   "outputs": [],
   "source": [
    "lemmatizer = WordNetLemmatizer()"
   ]
  },
  {
   "cell_type": "code",
   "execution_count": 8,
   "metadata": {},
   "outputs": [],
   "source": [
    "def preprocess_news(news):\n",
    "    text = f\"{news['title']} {news['desc']} {' '.join(news['content'])}\"\n",
    "    \n",
    "    text = re.sub(r\"[^a-zA-Z\\s]\", \"\", text)\n",
    "    text = re.sub(r\"\\s+\",\" \", text).strip()\n",
    "    \n",
    "    text = text.lower()\n",
    "    \n",
    "    tokens = word_tokenize(text)\n",
    "    \n",
    "    stop_words = set(stopwords.words('english'))\n",
    "    tokens = [word for word in tokens if word not in stop_words]\n",
    "    \n",
    "    lemmatized_token = [lemmatizer.lemmatize(token) for token in tokens]\n",
    "    return \" \".join(lemmatized_token)"
   ]
  },
  {
   "cell_type": "code",
   "execution_count": 9,
   "metadata": {},
   "outputs": [],
   "source": [
    "def preprocess_date(date):\n",
    "    date_obj = datetime.strptime(date, \"%B %d, %Y\") # strptime str -> datetime obj\n",
    "    formatted_date = date_obj.strftime(\"%Y-%m-%d\")  # strftime  datetime obj -> formatted str\n",
    "    return formatted_date"
   ]
  },
  {
   "cell_type": "code",
   "execution_count": 10,
   "metadata": {},
   "outputs": [],
   "source": [
    "def preprocess_datetime(raw_datetime):\n",
    "    raw_datetime_split = raw_datetime.split(\"/\")\n",
    "    date_obj = datetime.strptime(raw_datetime_split[0].strip(), \"%B %d, %Y\")\n",
    "    formatted_date = date_obj.strftime(\"%Y-%m-%d\")\n",
    "    time_obj =  raw_datetime_split[1].strip().replace(\"IST\",\"\")\n",
    "    formatted_datetime = formatted_date + \" \" + time_obj\n",
    "    return formatted_datetime.strip()\n",
    "\n",
    "# print(preprocess_datetime(\"January 02, 2025 / 17:53 IST\"))"
   ]
  },
  {
   "cell_type": "code",
   "execution_count": 11,
   "metadata": {},
   "outputs": [],
   "source": [
    "from yahooquery import search\n",
    "\n",
    "def extract_ticker_name(company_name):\n",
    "    company_name = company_name.strip()\n",
    "    ticker_name = None       \n",
    "    if company_name:\n",
    "        results = search(company_name)        \n",
    "        if results and 'quotes' in results:\n",
    "            for quote in results['quotes']:\n",
    "                if 'symbol' in quote and 'longname' in quote:\n",
    "                    if company_name.lower() in quote['longname'].lower():\n",
    "                        ticker_name = quote['symbol']\n",
    "                        break      \n",
    "    return ticker_name"
   ]
  },
  {
   "cell_type": "code",
   "execution_count": 12,
   "metadata": {},
   "outputs": [],
   "source": [
    "def get_complete_raw_news(news):\n",
    "    text = f\"{news['title']} {news['desc']} {' '.join(news['content'])}\"\n",
    "    return text"
   ]
  },
  {
   "cell_type": "code",
   "execution_count": 13,
   "metadata": {},
   "outputs": [],
   "source": [
    "processed_data = []"
   ]
  },
  {
   "cell_type": "code",
   "execution_count": 14,
   "metadata": {},
   "outputs": [],
   "source": [
    "for news in raw_data:\n",
    "    processed_text = preprocess_news(news)\n",
    "    formatted_date = preprocess_date(news['date'])\n",
    "    formatted_datetime = preprocess_datetime(news['datetime'])\n",
    "    raw_news = get_complete_raw_news(news)\n",
    "    if \"stock_name\" in news:\n",
    "        ticker_name = extract_ticker_name(news[\"stock_name\"]) \n",
    "    \n",
    "        processed_data.append({\n",
    "            \"_id\": news[\"_id\"],\n",
    "            \"raw_news\":raw_news,\n",
    "            \"processed_text\": processed_text,\n",
    "            \"date\": formatted_date,\n",
    "            \"datetime\": formatted_datetime,\n",
    "            \"stock_name\": news.get(\"stock_name\"),\n",
    "            \"ticker_name\":ticker_name,        \n",
    "        })\n",
    "    else:\n",
    "        processed_data.append({\n",
    "                \"_id\": news[\"_id\"],\n",
    "                \"raw_news\":raw_news,\n",
    "                \"processed_text\": processed_text,\n",
    "                \"date\": formatted_date,\n",
    "                \"datetime\": formatted_datetime,\n",
    "                \"stock_name\": news.get(\"stock_name\"),      \n",
    "                \"ticker_name\": None,      \n",
    "            })"
   ]
  },
  {
   "cell_type": "code",
   "execution_count": 15,
   "metadata": {},
   "outputs": [
    {
     "data": {
      "text/plain": [
       "252"
      ]
     },
     "execution_count": 15,
     "metadata": {},
     "output_type": "execute_result"
    }
   ],
   "source": [
    "len(processed_data)"
   ]
  },
  {
   "cell_type": "code",
   "execution_count": 20,
   "metadata": {},
   "outputs": [
    {
     "data": {
      "text/plain": [
       "{'_id': ObjectId('677cb7fbe75b8c80b4240831'),\n",
       " 'raw_news': \"ITI shares hit 20% upper circuit amid high volumes to post biggest single-day gain in 9 months ITI shares rose a whopping 70% since April 2024. Shares of ITI Ltd. witnessed a significant surge today to post biggest single-day gain in 9 months\\xa0at Rs 456.5\\xa0apiece,\\xa0driven by high trading volumes that neared 9 crore shares.\\xa0The shares rose a whopping 70% since April 2024. On January 3, the stock soared by a substantial 20 percent i.e. adding Rs 76.20 to its value from its opening on Friday. This strong performance has pushed the company's market capitalisation to Rs 43,936.56 crore. The company had also made a recent announcement of securing a contract worth approximately Rs 95 crore from the Directorate of Geology & Mining, Government of Uttarakhand. This contract is for the implementation of a Mining Digital Transformation & Surveillance System (MDTSS) project. As per exchange filing, the MDTSS project aims to modernise mining operations in Uttarakhand by leveraging technology. This contract win is expected to boost ITI's revenue and profitability, contributing to its overall growth trajectory. ITI reported strong Q2FY25 results with net sales surging 312.31 percent YoY to Rs 1,016.20 crore. Net loss narrowed 44.19 percent YoY to Rs 70.33 crore, while EBITDA improved 114.1 percent YoY to Rs 6.09 crore.\",\n",
       " 'processed_text': 'iti share hit upper circuit amid high volume post biggest singleday gain month iti share rose whopping since april share iti ltd witnessed significant surge today post biggest singleday gain month r apiece driven high trading volume neared crore share share rose whopping since april january stock soared substantial percent ie adding r value opening friday strong performance pushed company market capitalisation r crore company also made recent announcement securing contract worth approximately r crore directorate geology mining government uttarakhand contract implementation mining digital transformation surveillance system mdtss project per exchange filing mdtss project aim modernise mining operation uttarakhand leveraging technology contract win expected boost itis revenue profitability contributing overall growth trajectory iti reported strong qfy result net sale surging percent yoy r crore net loss narrowed percent yoy r crore ebitda improved percent yoy r crore',\n",
       " 'date': '2025-01-03',\n",
       " 'datetime': '2025-01-03 15:37',\n",
       " 'stock_name': 'ITI',\n",
       " 'ticker_name': '0P0001HCLR.BO'}"
      ]
     },
     "execution_count": 20,
     "metadata": {},
     "output_type": "execute_result"
    }
   ],
   "source": [
    "processed_data[251]"
   ]
  },
  {
   "cell_type": "code",
   "execution_count": 21,
   "metadata": {},
   "outputs": [],
   "source": [
    "collection = db['processed_news']\n",
    "x = collection.insert_many(processed_data)"
   ]
  },
  {
   "cell_type": "code",
   "execution_count": 22,
   "metadata": {},
   "outputs": [
    {
     "data": {
      "text/plain": [
       "[ObjectId('6777a09f8581574bb8d03ac9'),\n",
       " ObjectId('6777a0a68581574bb8d03aca'),\n",
       " ObjectId('6777a0d08581574bb8d03acb'),\n",
       " ObjectId('6777a0d38581574bb8d03acc'),\n",
       " ObjectId('6777a0d78581574bb8d03acd'),\n",
       " ObjectId('6777a0d98581574bb8d03ace'),\n",
       " ObjectId('6777a0db8581574bb8d03acf'),\n",
       " ObjectId('6777a0e78581574bb8d03ad0'),\n",
       " ObjectId('6777a1448581574bb8d03ad2'),\n",
       " ObjectId('6777a1498581574bb8d03ad3'),\n",
       " ObjectId('6777a14c8581574bb8d03ad4'),\n",
       " ObjectId('6777a17b8581574bb8d03ad5'),\n",
       " ObjectId('6777a17d8581574bb8d03ad6'),\n",
       " ObjectId('6777a17f8581574bb8d03ad7'),\n",
       " ObjectId('6777a1d68581574bb8d03ad9'),\n",
       " ObjectId('6777a1d98581574bb8d03ada'),\n",
       " ObjectId('6777a1dc8581574bb8d03adb'),\n",
       " ObjectId('6777a1df8581574bb8d03adc'),\n",
       " ObjectId('6777a1e68581574bb8d03add'),\n",
       " ObjectId('6777a1e98581574bb8d03ade'),\n",
       " ObjectId('6777a2148581574bb8d03adf'),\n",
       " ObjectId('6777a2178581574bb8d03ae0'),\n",
       " ObjectId('6777a2738581574bb8d03ae2'),\n",
       " ObjectId('6777a2798581574bb8d03ae3'),\n",
       " ObjectId('6777a2a58581574bb8d03ae4'),\n",
       " ObjectId('6777a2a88581574bb8d03ae5'),\n",
       " ObjectId('6777a2ac8581574bb8d03ae6'),\n",
       " ObjectId('6777a2af8581574bb8d03ae7'),\n",
       " ObjectId('6777a2b28581574bb8d03ae8'),\n",
       " ObjectId('6777a2be8581574bb8d03ae9'),\n",
       " ObjectId('6777a3298581574bb8d03aeb'),\n",
       " ObjectId('6777a34c8581574bb8d03aec'),\n",
       " ObjectId('6777a34f8581574bb8d03aed'),\n",
       " ObjectId('6777a3708581574bb8d03aee'),\n",
       " ObjectId('6777a3738581574bb8d03aef'),\n",
       " ObjectId('6777a3758581574bb8d03af0'),\n",
       " ObjectId('6777a3788581574bb8d03af1'),\n",
       " ObjectId('6777a5ce8581574bb8d03af3'),\n",
       " ObjectId('6777a5ef8581574bb8d03af4'),\n",
       " ObjectId('6777a5fe8581574bb8d03af5'),\n",
       " ObjectId('6777a6018581574bb8d03af6'),\n",
       " ObjectId('6777a6048581574bb8d03af7'),\n",
       " ObjectId('6777a66c8581574bb8d03af9'),\n",
       " ObjectId('6777a68d8581574bb8d03afa'),\n",
       " ObjectId('6777a6908581574bb8d03afb'),\n",
       " ObjectId('6777a6928581574bb8d03afc'),\n",
       " ObjectId('6777a6948581574bb8d03afd'),\n",
       " ObjectId('6777a6978581574bb8d03afe'),\n",
       " ObjectId('6777a6998581574bb8d03aff'),\n",
       " ObjectId('6777a6ee8581574bb8d03b01'),\n",
       " ObjectId('6777a6f78581574bb8d03b02'),\n",
       " ObjectId('6777a71f8581574bb8d03b03'),\n",
       " ObjectId('6777a7228581574bb8d03b04'),\n",
       " ObjectId('6777a7248581574bb8d03b05'),\n",
       " ObjectId('6777a7278581574bb8d03b06'),\n",
       " ObjectId('6777a72a8581574bb8d03b07'),\n",
       " ObjectId('6777a80a8581574bb8d03b09'),\n",
       " ObjectId('6777a81b8581574bb8d03b0a'),\n",
       " ObjectId('6777a81f8581574bb8d03b0b'),\n",
       " ObjectId('6777a8218581574bb8d03b0c'),\n",
       " ObjectId('6777a8238581574bb8d03b0d'),\n",
       " ObjectId('6777a8978581574bb8d03b0f'),\n",
       " ObjectId('6777a8a08581574bb8d03b10'),\n",
       " ObjectId('6777a8c38581574bb8d03b11'),\n",
       " ObjectId('6777a8cf8581574bb8d03b12'),\n",
       " ObjectId('6777a8d48581574bb8d03b13'),\n",
       " ObjectId('6777a8d78581574bb8d03b14'),\n",
       " ObjectId('6777a8d98581574bb8d03b15'),\n",
       " ObjectId('6777a9688581574bb8d03b17'),\n",
       " ObjectId('6777a96c8581574bb8d03b18'),\n",
       " ObjectId('6777a9788581574bb8d03b19'),\n",
       " ObjectId('6777a9aa8581574bb8d03b1a'),\n",
       " ObjectId('6777a9ad8581574bb8d03b1b'),\n",
       " ObjectId('6777a9af8581574bb8d03b1c'),\n",
       " ObjectId('6777a9b28581574bb8d03b1d'),\n",
       " ObjectId('6777aa3b8581574bb8d03b1f'),\n",
       " ObjectId('6777aa3f8581574bb8d03b20'),\n",
       " ObjectId('6777aa6f8581574bb8d03b21'),\n",
       " ObjectId('6777aa7b8581574bb8d03b22'),\n",
       " ObjectId('6777abc38581574bb8d03b24'),\n",
       " ObjectId('6777abd18581574bb8d03b25'),\n",
       " ObjectId('6777abf28581574bb8d03b26'),\n",
       " ObjectId('6777abf78581574bb8d03b27'),\n",
       " ObjectId('6777abfb8581574bb8d03b28'),\n",
       " ObjectId('6777abff8581574bb8d03b29'),\n",
       " ObjectId('6777ac038581574bb8d03b2a'),\n",
       " ObjectId('6777ac078581574bb8d03b2b'),\n",
       " ObjectId('6777ac188581574bb8d03b2c'),\n",
       " ObjectId('6777ac688581574bb8d03b2e'),\n",
       " ObjectId('6777ac728581574bb8d03b2f'),\n",
       " ObjectId('6777ac948581574bb8d03b30'),\n",
       " ObjectId('6777ac988581574bb8d03b31'),\n",
       " ObjectId('6777ac9d8581574bb8d03b32'),\n",
       " ObjectId('6777aca88581574bb8d03b33'),\n",
       " ObjectId('6777acac8581574bb8d03b34'),\n",
       " ObjectId('6777acc48581574bb8d03b35'),\n",
       " ObjectId('6777acc98581574bb8d03b36'),\n",
       " ObjectId('6777ad228581574bb8d03b38'),\n",
       " ObjectId('6777ad448581574bb8d03b39'),\n",
       " ObjectId('6777ad498581574bb8d03b3a'),\n",
       " ObjectId('6777ad508581574bb8d03b3b'),\n",
       " ObjectId('6777ad578581574bb8d03b3c'),\n",
       " ObjectId('6777ad698581574bb8d03b3d'),\n",
       " ObjectId('6777ad758581574bb8d03b3e'),\n",
       " ObjectId('6777ad7e8581574bb8d03b3f'),\n",
       " ObjectId('6777ada18581574bb8d03b40'),\n",
       " ObjectId('6777add48581574bb8d03b41'),\n",
       " ObjectId('6777add88581574bb8d03b42'),\n",
       " ObjectId('6777af058581574bb8d03b44'),\n",
       " ObjectId('6777af178581574bb8d03b45'),\n",
       " ObjectId('6777af1a8581574bb8d03b46'),\n",
       " ObjectId('6777b0738581574bb8d03b48'),\n",
       " ObjectId('6777b09e8581574bb8d03b49'),\n",
       " ObjectId('6777b0a38581574bb8d03b4a'),\n",
       " ObjectId('6777b0a78581574bb8d03b4b'),\n",
       " ObjectId('6777b0ab8581574bb8d03b4c'),\n",
       " ObjectId('6777b1358581574bb8d03b4e'),\n",
       " ObjectId('6777b1608581574bb8d03b4f'),\n",
       " ObjectId('6777b1648581574bb8d03b50'),\n",
       " ObjectId('6777b1678581574bb8d03b51'),\n",
       " ObjectId('6777b16a8581574bb8d03b52'),\n",
       " ObjectId('6777b16e8581574bb8d03b53'),\n",
       " ObjectId('6777b1728581574bb8d03b54'),\n",
       " ObjectId('6777b2018581574bb8d03b56'),\n",
       " ObjectId('6777b22c8581574bb8d03b57'),\n",
       " ObjectId('6777b23b8581574bb8d03b58'),\n",
       " ObjectId('6777b24f8581574bb8d03b59'),\n",
       " ObjectId('6777b36f8581574bb8d03b5b'),\n",
       " ObjectId('6777b3808581574bb8d03b5c'),\n",
       " ObjectId('6777b3aa8581574bb8d03b5d'),\n",
       " ObjectId('6777b3af8581574bb8d03b5e'),\n",
       " ObjectId('6777b3c08581574bb8d03b5f'),\n",
       " ObjectId('6777b3c98581574bb8d03b60'),\n",
       " ObjectId('6777b3cd8581574bb8d03b61'),\n",
       " ObjectId('6777b3d48581574bb8d03b62'),\n",
       " ObjectId('6777b3d88581574bb8d03b63'),\n",
       " ObjectId('6777b3dc8581574bb8d03b64'),\n",
       " ObjectId('6777b3e18581574bb8d03b65'),\n",
       " ObjectId('6777b3e88581574bb8d03b66'),\n",
       " ObjectId('6777b3f28581574bb8d03b67'),\n",
       " ObjectId('6777b5188581574bb8d03b69'),\n",
       " ObjectId('6777b53f8581574bb8d03b6a'),\n",
       " ObjectId('6777b5798581574bb8d03b6b'),\n",
       " ObjectId('6777b5ae8581574bb8d03b6c'),\n",
       " ObjectId('6777b5ba8581574bb8d03b6d'),\n",
       " ObjectId('6777b5d18581574bb8d03b6e'),\n",
       " ObjectId('6777b5f78581574bb8d03b6f'),\n",
       " ObjectId('6777b6038581574bb8d03b70'),\n",
       " ObjectId('6777b61c8581574bb8d03b71'),\n",
       " ObjectId('6777b6238581574bb8d03b72'),\n",
       " ObjectId('6777b64c8581574bb8d03b73'),\n",
       " ObjectId('6777b6ac8581574bb8d03b75'),\n",
       " ObjectId('6777b6d68581574bb8d03b76'),\n",
       " ObjectId('6777b6fa8581574bb8d03b77'),\n",
       " ObjectId('6777b70d8581574bb8d03b78'),\n",
       " ObjectId('6777b7168581574bb8d03b79'),\n",
       " ObjectId('6777b7268581574bb8d03b7a'),\n",
       " ObjectId('6777b7768581574bb8d03b7b'),\n",
       " ObjectId('6777b7908581574bb8d03b7c'),\n",
       " ObjectId('6777b7958581574bb8d03b7d'),\n",
       " ObjectId('6777b79f8581574bb8d03b7e'),\n",
       " ObjectId('6777b7b18581574bb8d03b7f'),\n",
       " ObjectId('6777be18b5e5e6aaf29f78f6'),\n",
       " ObjectId('6777be5ab5e5e6aaf29f78f7'),\n",
       " ObjectId('6777be8cb5e5e6aaf29f78f8'),\n",
       " ObjectId('6777be98b5e5e6aaf29f78f9'),\n",
       " ObjectId('6777bf16b5e5e6aaf29f78fb'),\n",
       " ObjectId('6777bf3fb5e5e6aaf29f78fc'),\n",
       " ObjectId('6777bf57b5e5e6aaf29f78fd'),\n",
       " ObjectId('6777bf5cb5e5e6aaf29f78fe'),\n",
       " ObjectId('6777bf62b5e5e6aaf29f78ff'),\n",
       " ObjectId('6777bf6bb5e5e6aaf29f7900'),\n",
       " ObjectId('6777bf71b5e5e6aaf29f7901'),\n",
       " ObjectId('6777bf77b5e5e6aaf29f7902'),\n",
       " ObjectId('6777bf7cb5e5e6aaf29f7903'),\n",
       " ObjectId('6777bfcbb5e5e6aaf29f7905'),\n",
       " ObjectId('6777bffeb5e5e6aaf29f7906'),\n",
       " ObjectId('6777c004b5e5e6aaf29f7907'),\n",
       " ObjectId('6777c00ab5e5e6aaf29f7908'),\n",
       " ObjectId('6777c066b5e5e6aaf29f790a'),\n",
       " ObjectId('6777c072b5e5e6aaf29f790b'),\n",
       " ObjectId('6777c078b5e5e6aaf29f790c'),\n",
       " ObjectId('6777c086b5e5e6aaf29f790d'),\n",
       " ObjectId('6777c08fb5e5e6aaf29f790e'),\n",
       " ObjectId('6777c430b5e5e6aaf29f7910'),\n",
       " ObjectId('6777c5033c87f456d0e4535d'),\n",
       " ObjectId('6777c50b3c87f456d0e4535e'),\n",
       " ObjectId('6777c5393c87f456d0e4535f'),\n",
       " ObjectId('6777c53f3c87f456d0e45360'),\n",
       " ObjectId('6777c5673c87f456d0e45361'),\n",
       " ObjectId('6777c5793c87f456d0e45362'),\n",
       " ObjectId('6777c6253c87f456d0e45364'),\n",
       " ObjectId('6777c65d3c87f456d0e45365'),\n",
       " ObjectId('6777c6633c87f456d0e45366'),\n",
       " ObjectId('6777c66e3c87f456d0e45367'),\n",
       " ObjectId('6777c6843c87f456d0e45368'),\n",
       " ObjectId('6777c68a3c87f456d0e45369'),\n",
       " ObjectId('6777c78c3c87f456d0e4536b'),\n",
       " ObjectId('6777c7cf3c87f456d0e4536c'),\n",
       " ObjectId('6777c7d83c87f456d0e4536d'),\n",
       " ObjectId('6777c7e03c87f456d0e4536e'),\n",
       " ObjectId('6777c7e53c87f456d0e4536f'),\n",
       " ObjectId('6777c7f13c87f456d0e45370'),\n",
       " ObjectId('6777c8bc611a1954b20d2a09'),\n",
       " ObjectId('6777c8e7611a1954b20d2a0a'),\n",
       " ObjectId('6777c8ee611a1954b20d2a0b'),\n",
       " ObjectId('6777c8f3611a1954b20d2a0c'),\n",
       " ObjectId('6777c8fc611a1954b20d2a0d'),\n",
       " ObjectId('6777c901611a1954b20d2a0e'),\n",
       " ObjectId('6777c90a611a1954b20d2a0f'),\n",
       " ObjectId('6777c983611a1954b20d2a11'),\n",
       " ObjectId('6777c98a611a1954b20d2a12'),\n",
       " ObjectId('6777c9af611a1954b20d2a13'),\n",
       " ObjectId('6777c9b6611a1954b20d2a14'),\n",
       " ObjectId('6777c9bc611a1954b20d2a15'),\n",
       " ObjectId('6777c9c2611a1954b20d2a16'),\n",
       " ObjectId('6777c9c9611a1954b20d2a17'),\n",
       " ObjectId('6777c9da611a1954b20d2a18'),\n",
       " ObjectId('6777ca44611a1954b20d2a1a'),\n",
       " ObjectId('6777ca61611a1954b20d2a1b'),\n",
       " ObjectId('6777caa0611a1954b20d2a1c'),\n",
       " ObjectId('6777caaa611a1954b20d2a1d'),\n",
       " ObjectId('6777cab4611a1954b20d2a1e'),\n",
       " ObjectId('6777cabc611a1954b20d2a1f'),\n",
       " ObjectId('6777caf3611a1954b20d2a20'),\n",
       " ObjectId('6777caf9611a1954b20d2a21'),\n",
       " ObjectId('6777cb01611a1954b20d2a22'),\n",
       " ObjectId('6777cb08611a1954b20d2a23'),\n",
       " ObjectId('677b62919229c97949479ea0'),\n",
       " ObjectId('677b62b69229c97949479ea1'),\n",
       " ObjectId('677b62bc9229c97949479ea2'),\n",
       " ObjectId('677b62c29229c97949479ea3'),\n",
       " ObjectId('677b62c79229c97949479ea4'),\n",
       " ObjectId('677b62ea9229c97949479ea5'),\n",
       " ObjectId('677b62ec9229c97949479ea6'),\n",
       " ObjectId('677b62ef9229c97949479ea7'),\n",
       " ObjectId('677b64911f97af387130821e'),\n",
       " ObjectId('677b649e1f97af387130821f'),\n",
       " ObjectId('677b64a31f97af3871308220'),\n",
       " ObjectId('677b64ad1f97af3871308221'),\n",
       " ObjectId('677b64b21f97af3871308222'),\n",
       " ObjectId('677b64e21f97af3871308223'),\n",
       " ObjectId('677b66775bfa351eeb3ea868'),\n",
       " ObjectId('677b66aa5bfa351eeb3ea869'),\n",
       " ObjectId('677b66b15bfa351eeb3ea86a'),\n",
       " ObjectId('677b66d55bfa351eeb3ea86b'),\n",
       " ObjectId('677b66da5bfa351eeb3ea86c'),\n",
       " ObjectId('677b66e05bfa351eeb3ea86d'),\n",
       " ObjectId('677cb7bce75b8c80b424082e'),\n",
       " ObjectId('677cb7e7e75b8c80b424082f'),\n",
       " ObjectId('677cb7f5e75b8c80b4240830'),\n",
       " ObjectId('677cb7fbe75b8c80b4240831')]"
      ]
     },
     "execution_count": 22,
     "metadata": {},
     "output_type": "execute_result"
    }
   ],
   "source": [
    "x.inserted_ids"
   ]
  },
  {
   "cell_type": "code",
   "execution_count": 65,
   "metadata": {},
   "outputs": [],
   "source": [
    "client.close()"
   ]
  },
  {
   "cell_type": "code",
   "execution_count": null,
   "metadata": {},
   "outputs": [],
   "source": []
  }
 ],
 "metadata": {
  "kernelspec": {
   "display_name": "Python 3",
   "language": "python",
   "name": "python3"
  },
  "language_info": {
   "codemirror_mode": {
    "name": "ipython",
    "version": 3
   },
   "file_extension": ".py",
   "mimetype": "text/x-python",
   "name": "python",
   "nbconvert_exporter": "python",
   "pygments_lexer": "ipython3",
   "version": "3.12.3"
  }
 },
 "nbformat": 4,
 "nbformat_minor": 2
}
