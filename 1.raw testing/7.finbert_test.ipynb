{
 "cells": [
  {
   "cell_type": "code",
   "execution_count": 1,
   "metadata": {},
   "outputs": [],
   "source": [
    "news = {'title': 'Buy HDFC Bank; target of Rs 2100: Sharekhan',\n",
    " 'desc': 'Sharekhan is bullish on HDFC Bank has recommended buy rating on the stock with a target price of Rs 2100 in its research report dated December 24, 2024.',\n",
    " 'date': 'December 26, 2024',\n",
    " 'datetime': 'December 26, 2024 / 14:22 IST'}"
   ]
  },
  {
   "cell_type": "code",
   "execution_count": 2,
   "metadata": {},
   "outputs": [],
   "source": [
    "news ={\n",
    "  \"_id\": {\n",
    "    \"$oid\": \"676d53ea4ad3dd413764ab32\"\n",
    "  },\n",
    "  \"title\": \"BPCL share price gain on winning 150 MW solar PV power project\",\n",
    "  \"desc\": \"Bharat Petroleum Corporation Share Price | The company board at its meeting held on December 24, has accorded its approval to commence pre project activities for setting up of a green field refinery cum petrochemical complex in East Coast at Andhra Pradesh at an estimated cost of Rs 6100 crore.\",\n",
    "  \"date\": \"December 26, 2024\",\n",
    "  \"datetime\": \"December 26, 2024 / 09:25 IST\"\n",
    "}"
   ]
  },
  {
   "cell_type": "code",
   "execution_count": 3,
   "metadata": {},
   "outputs": [
    {
     "data": {
      "text/plain": [
       "{'_id': {'$oid': '676d53ea4ad3dd413764ab32'},\n",
       " 'title': 'BPCL share price gain on winning 150 MW solar PV power project',\n",
       " 'desc': 'Bharat Petroleum Corporation Share Price | The company board at its meeting held on December 24, has accorded its approval to commence pre project activities for setting up of a green field refinery cum petrochemical complex in East Coast at Andhra Pradesh at an estimated cost of Rs 6100 crore.',\n",
       " 'date': 'December 26, 2024',\n",
       " 'datetime': 'December 26, 2024 / 09:25 IST'}"
      ]
     },
     "execution_count": 3,
     "metadata": {},
     "output_type": "execute_result"
    }
   ],
   "source": [
    "news"
   ]
  },
  {
   "cell_type": "code",
   "execution_count": 4,
   "metadata": {},
   "outputs": [],
   "source": [
    "from transformers import  pipeline"
   ]
  },
  {
   "cell_type": "code",
   "execution_count": 5,
   "metadata": {},
   "outputs": [
    {
     "name": "stdout",
     "output_type": "stream",
     "text": [
      "WARNING:tensorflow:From c:\\Users\\AjayPatil\\AppData\\Local\\Programs\\Python\\Python312\\Lib\\site-packages\\tf_keras\\src\\losses.py:2976: The name tf.losses.sparse_softmax_cross_entropy is deprecated. Please use tf.compat.v1.losses.sparse_softmax_cross_entropy instead.\n",
      "\n"
     ]
    }
   ],
   "source": [
    "finbert = pipeline(\"sentiment-analysis\", model=\"yiyanghkust/finbert-tone\")"
   ]
  },
  {
   "cell_type": "code",
   "execution_count": 6,
   "metadata": {},
   "outputs": [],
   "source": [
    "news_text = f\"{news['title']} {news['desc']}\""
   ]
  },
  {
   "cell_type": "code",
   "execution_count": 7,
   "metadata": {},
   "outputs": [],
   "source": [
    "# news_text"
   ]
  },
  {
   "cell_type": "code",
   "execution_count": 8,
   "metadata": {},
   "outputs": [],
   "source": [
    "sentiment = finbert(news_text)"
   ]
  },
  {
   "cell_type": "code",
   "execution_count": 9,
   "metadata": {},
   "outputs": [
    {
     "data": {
      "text/plain": [
       "[{'label': 'Positive', 'score': 0.7004234194755554}]"
      ]
     },
     "execution_count": 9,
     "metadata": {},
     "output_type": "execute_result"
    }
   ],
   "source": [
    "sentiment"
   ]
  },
  {
   "cell_type": "code",
   "execution_count": null,
   "metadata": {},
   "outputs": [],
   "source": []
  }
 ],
 "metadata": {
  "kernelspec": {
   "display_name": "Python 3",
   "language": "python",
   "name": "python3"
  },
  "language_info": {
   "codemirror_mode": {
    "name": "ipython",
    "version": 3
   },
   "file_extension": ".py",
   "mimetype": "text/x-python",
   "name": "python",
   "nbconvert_exporter": "python",
   "pygments_lexer": "ipython3",
   "version": "3.12.3"
  }
 },
 "nbformat": 4,
 "nbformat_minor": 2
}
