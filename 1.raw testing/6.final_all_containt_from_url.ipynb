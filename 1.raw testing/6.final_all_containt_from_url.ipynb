{
 "cells": [
  {
   "cell_type": "code",
   "execution_count": 38,
   "metadata": {},
   "outputs": [],
   "source": [
    "from selenium import webdriver\n",
    "from selenium.webdriver.chrome.service import Service\n",
    "from selenium.webdriver.chrome.options import Options\n",
    "from selenium.webdriver.common.by import By\n",
    "from selenium.webdriver.support.ui import WebDriverWait\n",
    "from selenium.webdriver.support import expected_conditions as expected_conditions\n",
    "from bs4 import BeautifulSoup\n",
    "import re"
   ]
  },
  {
   "cell_type": "code",
   "execution_count": 39,
   "metadata": {},
   "outputs": [],
   "source": [
    "url = \"https://www.moneycontrol.com/news/business/stocks/buy-home-first-finance-target-of-rs-1250-motilal-oswal-12898963.html\""
   ]
  },
  {
   "cell_type": "code",
   "execution_count": 40,
   "metadata": {},
   "outputs": [],
   "source": [
    "service = Service(\"./chromedriver/chromedriver.exe\")\n",
    "options = Options()\n",
    "options.add_argument(\"--headless\")\n",
    "options.add_argument(\"--disable-gpu\")\n",
    "options.add_argument(\"user-agent=Mozilla/5.0 (Windows NT 10.0; Win64; x64) AppleWebKit/537.36 (KHTML, like Gecko) Chrome/114.0.5735.199 Safari/537.36\")\n"
   ]
  },
  {
   "cell_type": "code",
   "execution_count": 41,
   "metadata": {},
   "outputs": [],
   "source": [
    "driver = webdriver.Chrome(service=service, options= options)"
   ]
  },
  {
   "cell_type": "code",
   "execution_count": 42,
   "metadata": {},
   "outputs": [],
   "source": [
    "def extract_data(url):  \n",
    "    driver.get(url)\n",
    "    \n",
    "    WebDriverWait(driver, 30).until(\n",
    "        lambda d: d.execute_script(\"return document.readyState\") == \"complete\"\n",
    "    )\n",
    "    \n",
    "    html = driver.page_source\n",
    "    soup = BeautifulSoup(html, 'html.parser')\n",
    "    \n",
    "    news = {}\n",
    "    \n",
    "    title = soup.find('h1', class_ = \"article_title\")\n",
    "    news.update({\"title\":f\"{title.text.strip()}\"})\n",
    "    \n",
    "    desc = soup.find('h2', class_ = 'article_desc')\n",
    "    news.update({\"desc\":f\"{desc.text.strip()}\"})\n",
    "    \n",
    "    date_time_div = soup.find('div', class_=\"article_schedule\")\n",
    "    if date_time_div:\n",
    "        span_tag = date_time_div.find('span')\n",
    "        date = span_tag.text.strip()\n",
    "        news.update({\"date\":f\"{date}\"})\n",
    "    \n",
    "    datetime = date_time_div.text.strip()\n",
    "    news.update({\"datetime\":f\"{datetime}\"})\n",
    "    \n",
    "    paragraphs_list = []\n",
    "    paragrphs_div = soup.find('div', class_ =\"content_wrapper\")\n",
    "    if paragrphs_div:\n",
    "        paragraph_tags = paragrphs_div.find_all('p')\n",
    "        for p in paragraph_tags:\n",
    "            para_text = p.text.strip()\n",
    "            \n",
    "            if len(para_text) < 50 :\n",
    "                continue\n",
    "            \n",
    "            if re.search(r\"(click\\s+here|disclaimer|modal|window|advertisement|investment\\s+tips)\", para_text, re.IGNORECASE):\n",
    "                continue\n",
    "            \n",
    "            paragraphs_list.append(para_text)\n",
    "            \n",
    "            \n",
    "    news.update({\"content\": paragraphs_list})\n",
    "            \n",
    "    driver.quit()   \n",
    "    return news"
   ]
  },
  {
   "cell_type": "code",
   "execution_count": 43,
   "metadata": {},
   "outputs": [],
   "source": [
    "news = extract_data(url)"
   ]
  },
  {
   "cell_type": "code",
   "execution_count": 44,
   "metadata": {},
   "outputs": [
    {
     "data": {
      "text/plain": [
       "{'title': 'Buy Home First Finance; target of Rs 1250: Motilal Oswal',\n",
       " 'desc': 'Motilal Oswal is bullish on Home First Finance recommended buy rating on the stock with a target price of Rs 1250 in its research report dated December 26, 2024.',\n",
       " 'date': 'December 27, 2024',\n",
       " 'datetime': 'December 27, 2024 / 15:12 IST',\n",
       " 'content': [\"Motilal Oswal's research report on Home First Finance\",\n",
       "  'We met with the senior management of Home First Finance, represented by Mr. Manoj Viswanathan, MD & CEO, and Ms. Nutan Gaba Patwari, CFO, to gain insights into the current industry dynamics in affordable housing finance and the way forward for the company. Following are the key takeaways: 1) Home First is not seeing any spillover of stress from microfinance or short-term personal loans (STPL), and its asset quality remains largely stable; 2) demand continues to remain strong in the affordable segment, particularly in self-construction; 3) the ability to penetrate deeper into its existing states and improve the proportion of LAP in the loan mix are strategies that the company can leverage to achieve its desired spreads; and 4) within the next 12-24 months, Home First could potentially become the first new-age affordable housing company without a promoter and become a purely professionally managed company.',\n",
       "  'Home First’s asset quality is expected to remain strong, and credit costs are likely to remain benign. With an RoA/RoE of 3.4%/18% by FY27, we believe that Home First will continue to command premium valuations over its HFC peers. We reiterate our BUY rating with a TP of INR1,250 (premised on 3.5x Sep’26E BVPS).']}"
      ]
     },
     "execution_count": 44,
     "metadata": {},
     "output_type": "execute_result"
    }
   ],
   "source": [
    "news"
   ]
  },
  {
   "cell_type": "code",
   "execution_count": null,
   "metadata": {},
   "outputs": [],
   "source": []
  }
 ],
 "metadata": {
  "kernelspec": {
   "display_name": "Python 3",
   "language": "python",
   "name": "python3"
  },
  "language_info": {
   "codemirror_mode": {
    "name": "ipython",
    "version": 3
   },
   "file_extension": ".py",
   "mimetype": "text/x-python",
   "name": "python",
   "nbconvert_exporter": "python",
   "pygments_lexer": "ipython3",
   "version": "3.12.3"
  }
 },
 "nbformat": 4,
 "nbformat_minor": 2
}
