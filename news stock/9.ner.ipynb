{
 "cells": [
  {
   "cell_type": "code",
   "execution_count": 13,
   "metadata": {},
   "outputs": [],
   "source": [
    "# python -m spacy download en_core_web_sm"
   ]
  },
  {
   "cell_type": "code",
   "execution_count": 14,
   "metadata": {},
   "outputs": [],
   "source": [
    "import spacy\n",
    "import pymongo"
   ]
  },
  {
   "cell_type": "code",
   "execution_count": 15,
   "metadata": {},
   "outputs": [],
   "source": [
    "client = pymongo.MongoClient(\"mongodb://localhost:27017/\")"
   ]
  },
  {
   "cell_type": "code",
   "execution_count": 16,
   "metadata": {},
   "outputs": [],
   "source": [
    "db = client['new_db']"
   ]
  },
  {
   "cell_type": "code",
   "execution_count": 17,
   "metadata": {},
   "outputs": [],
   "source": [
    "collection = db['raw_news']"
   ]
  },
  {
   "cell_type": "code",
   "execution_count": 18,
   "metadata": {},
   "outputs": [],
   "source": [
    "processed_news_list = list(collection.find())"
   ]
  },
  {
   "cell_type": "code",
   "execution_count": 19,
   "metadata": {},
   "outputs": [
    {
     "data": {
      "text/plain": [
       "218"
      ]
     },
     "execution_count": 19,
     "metadata": {},
     "output_type": "execute_result"
    }
   ],
   "source": [
    "len(processed_news_list)"
   ]
  },
  {
   "cell_type": "code",
   "execution_count": 20,
   "metadata": {},
   "outputs": [],
   "source": [
    "nlp = spacy.load(\"en_core_web_lg\")"
   ]
  },
  {
   "cell_type": "code",
   "execution_count": 21,
   "metadata": {},
   "outputs": [],
   "source": [
    "def extract_entities(text):\n",
    "    doc = nlp(text)\n",
    "    entities = {\n",
    "        \"stock_name\": [ent.text for ent in doc.ents if ent.label_ == \"ORG\"],\n",
    "    }\n",
    "    return entities"
   ]
  },
  {
   "cell_type": "code",
   "execution_count": 22,
   "metadata": {},
   "outputs": [],
   "source": [
    "presentation_news_list = []"
   ]
  },
  {
   "cell_type": "code",
   "execution_count": 23,
   "metadata": {},
   "outputs": [],
   "source": [
    "for news in processed_news_list:\n",
    "    entities = extract_entities(news['title'])\n",
    "    news.update({\"stock_name\":entities['stock_name']})\n",
    "    presentation_news_list.append(news)\n",
    "    # print(entities)"
   ]
  },
  {
   "cell_type": "code",
   "execution_count": 24,
   "metadata": {},
   "outputs": [
    {
     "data": {
      "text/plain": [
       "{'_id': ObjectId('676e8cca49f67e6ab04c1ed9'),\n",
       " 'title': 'Buy JSW Infrastructure; target of Rs 375: Motilal Oswal',\n",
       " 'desc': 'Motilal Oswal is bullish on JSW Infrastructure recommended buy rating on the stock with a target price of Rs 375 in its research report dated December 26, 2024.',\n",
       " 'date': 'December 27, 2024',\n",
       " 'datetime': 'December 27, 2024 / 15:07 IST',\n",
       " 'content': [\"Motilal Oswal's research report on JSW Infrastructure\",\n",
       "  'Second-largest private port operator with improving market share: JSW Infrastructure (JSWINFRA), with an aggregate capacity of 170MMT as of Sep’24, is the second-largest private port operator in India after Adani Ports (having a capacity of ~633MMT). The company has reported a 22% cargo volume CAGR over FY18-24 (13% YoY growth in 1HFY25), far outpacing the industry growth rate of ~4% over the same period. Focused on ramping up capacity to 400MMT by 2030: JSWINFRA has embarked on a massive capex plan of INR300b (INR150b over FY25-28) towards expanding the total cargo handling capacity from 170mtpa currently to 288mtpa by FY28 and eventually to 400mtpa by FY30, banking on the rise of India’s cargo movement. In line with its capex program, the company has undertaken brownfield expansions at its Jaigarh and Dharamtar ports (two of its largest ports in terms of capacity and volumes), adding a combined 36MT with an estimated capex of INR23.6b, which is targeted for completion by Mar’27.',\n",
       "  'We estimate a volume/revenue/EBITDA/APAT CAGR of 14%/19%/20%/19% over FY24-27. Reiterate BUY with a revised TP of INR375 (premised on 25x Sep’26 EV/EBITDA).'],\n",
       " 'stock_name': ['JSW Infrastructure']}"
      ]
     },
     "execution_count": 24,
     "metadata": {},
     "output_type": "execute_result"
    }
   ],
   "source": [
    "presentation_news_list[3]"
   ]
  },
  {
   "cell_type": "code",
   "execution_count": null,
   "metadata": {},
   "outputs": [],
   "source": []
  }
 ],
 "metadata": {
  "kernelspec": {
   "display_name": "Python 3",
   "language": "python",
   "name": "python3"
  },
  "language_info": {
   "codemirror_mode": {
    "name": "ipython",
    "version": 3
   },
   "file_extension": ".py",
   "mimetype": "text/x-python",
   "name": "python",
   "nbconvert_exporter": "python",
   "pygments_lexer": "ipython3",
   "version": "3.12.3"
  }
 },
 "nbformat": 4,
 "nbformat_minor": 2
}
