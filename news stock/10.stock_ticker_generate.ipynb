{
 "cells": [
  {
   "cell_type": "code",
   "execution_count": 3,
   "metadata": {},
   "outputs": [
    {
     "name": "stdout",
     "output_type": "stream",
     "text": [
      "{'stock_name': '<meta http-equiv=\"X-UA-Compatible\" content=\"IE=edge', 'ticker': 'chrome=1\" />', 'yahoo_ticker': 'chrome=1\" />.NS'}\n",
      "{'stock_name': '<meta name=\"viewport\" content=\"width=device-width', 'ticker': 'initial-scale=1.0', 'yahoo_ticker': 'initial-scale=1.0.NS'}\n",
      "{'stock_name': 'NSE - National Stock Exchange of India Ltd: Live Share/Stock Market News &amp; Updates', 'ticker': 'Quotes- Nseindia.com', 'yahoo_ticker': 'Quotes- Nseindia.com.NS'}\n",
      "{'stock_name': '<meta name=\"description\" content=\"NSE India (National Stock Exchange of India Ltd) – LIVE Share/Stock Market Updates Today. Get all latest share market news', 'ticker': 'live charts', 'yahoo_ticker': 'live charts.NS'}\n",
      "{'stock_name': '<meta name=\"keywords\" content=\"NSE', 'ticker': 'National Stock Exchange', 'yahoo_ticker': 'National Stock Exchange.NS'}\n",
      "{'stock_name': '<meta name=\"robots\" content=\"index', 'ticker': 'follow\" />', 'yahoo_ticker': 'follow\" />.NS'}\n",
      "{'stock_name': '<meta property=\"og:title\" content=\"NSE - National Stock Exchange of India Ltd: Live Share/Stock Market News &amp; Updates', 'ticker': 'Quotes- Nseindia.com\" />', 'yahoo_ticker': 'Quotes- Nseindia.com\" />.NS'}\n",
      "{'stock_name': '<meta property=\"og:description\" content=\"NSE India (National Stock Exchange of India Ltd) – LIVE Share/Stock Market Updates Today. Get all latest share market news', 'ticker': 'live charts', 'yahoo_ticker': 'live charts.NS'}\n",
      "{'stock_name': '<meta name=\"twitter:title\" content=\"NSE - National Stock Exchange of India Ltd: Live Share/Stock Market News &amp; Updates', 'ticker': 'Quotes- Nseindia.com\" />', 'yahoo_ticker': 'Quotes- Nseindia.com\" />.NS'}\n",
      "{'stock_name': '<meta name=\"twitter:description\" content=\"NSE India (National Stock Exchange of India Ltd) – LIVE Share/Stock Market Updates Today. Get all latest share market news', 'ticker': 'live charts', 'yahoo_ticker': 'live charts.NS'}\n"
     ]
    }
   ],
   "source": [
    "import requests\n",
    "\n",
    "def fetch_nse_stock_codes():\n",
    "    url = \"https://www1.nseindia.com/content/equities/EQUITY_L.csv\"  # Historical CSV URL\n",
    "    headers = {\n",
    "        \"User-Agent\": \"Mozilla/5.0 (Windows NT 10.0; Win64; x64) AppleWebKit/537.36 (KHTML, like Gecko) Chrome/89.0.4389.82 Safari/537.36\"\n",
    "    }\n",
    "    response = requests.get(url, headers=headers)\n",
    "    if response.status_code == 200:\n",
    "        csv_data = response.content.decode(\"utf-8\")\n",
    "        stock_list = []\n",
    "        for line in csv_data.splitlines()[1:]:\n",
    "            fields = line.split(\",\")\n",
    "            # Skip lines that don't have enough fields\n",
    "            if len(fields) < 2:\n",
    "                continue\n",
    "            stock_name = fields[0].strip()\n",
    "            ticker = fields[1].strip()\n",
    "            stock_list.append({\n",
    "                \"stock_name\": stock_name,\n",
    "                \"ticker\": ticker,\n",
    "                \"yahoo_ticker\": f\"{ticker}.NS\"\n",
    "            })\n",
    "        return stock_list\n",
    "    else:\n",
    "        raise Exception(f\"Failed to fetch data: {response.status_code}\")\n",
    "\n",
    "# Fetch and print stock data\n",
    "try:\n",
    "    stock_data = fetch_nse_stock_codes()\n",
    "    for stock in stock_data[:10]:  # Display first 10 stocks\n",
    "        print(stock)\n",
    "except Exception as e:\n",
    "    print(f\"Error: {e}\")\n"
   ]
  },
  {
   "cell_type": "code",
   "execution_count": null,
   "metadata": {},
   "outputs": [],
   "source": []
  }
 ],
 "metadata": {
  "kernelspec": {
   "display_name": "Python 3",
   "language": "python",
   "name": "python3"
  },
  "language_info": {
   "codemirror_mode": {
    "name": "ipython",
    "version": 3
   },
   "file_extension": ".py",
   "mimetype": "text/x-python",
   "name": "python",
   "nbconvert_exporter": "python",
   "pygments_lexer": "ipython3",
   "version": "3.12.3"
  }
 },
 "nbformat": 4,
 "nbformat_minor": 2
}
