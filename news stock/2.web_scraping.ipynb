{
 "cells": [
  {
   "cell_type": "code",
   "execution_count": 82,
   "metadata": {},
   "outputs": [],
   "source": [
    "import requests\n",
    "from bs4 import BeautifulSoup\n",
    "import pandas as pd"
   ]
  },
  {
   "cell_type": "code",
   "execution_count": 83,
   "metadata": {},
   "outputs": [],
   "source": [
    "url = 'https://www.moneycontrol.com/news/business/stocks/'"
   ]
  },
  {
   "cell_type": "code",
   "execution_count": 84,
   "metadata": {},
   "outputs": [],
   "source": [
    "response = requests.get(url)"
   ]
  },
  {
   "cell_type": "code",
   "execution_count": 85,
   "metadata": {},
   "outputs": [
    {
     "name": "stdout",
     "output_type": "stream",
     "text": [
      "<Response [200]>\n"
     ]
    }
   ],
   "source": [
    "print(response)"
   ]
  },
  {
   "cell_type": "code",
   "execution_count": 86,
   "metadata": {},
   "outputs": [],
   "source": [
    "soup = BeautifulSoup(response.content, 'html.parser')"
   ]
  },
  {
   "cell_type": "code",
   "execution_count": 87,
   "metadata": {},
   "outputs": [],
   "source": [
    "# print(soup.prettify())"
   ]
  },
  {
   "cell_type": "code",
   "execution_count": 88,
   "metadata": {},
   "outputs": [],
   "source": [
    "links = soup.find_all('a', href=True)"
   ]
  },
  {
   "cell_type": "code",
   "execution_count": 89,
   "metadata": {},
   "outputs": [],
   "source": [
    "urls = [link['href'] for link in links]"
   ]
  },
  {
   "cell_type": "code",
   "execution_count": 90,
   "metadata": {},
   "outputs": [],
   "source": [
    "urls = [url for url in urls if url.startswith(\"https://www.moneycontrol.com/news/business/stocks/\") ]"
   ]
  },
  {
   "cell_type": "code",
   "execution_count": 91,
   "metadata": {},
   "outputs": [],
   "source": [
    "urls = set([url for url in urls if not url.endswith(\"https://www.moneycontrol.com/news/business/stocks/\")])"
   ]
  },
  {
   "cell_type": "code",
   "execution_count": 92,
   "metadata": {},
   "outputs": [
    {
     "data": {
      "text/plain": [
       "{'https://www.moneycontrol.com/news/business/stocks/accumulate-avanti-feeds-target-of-rs-715-geojit-financial-services-12896228.html',\n",
       " 'https://www.moneycontrol.com/news/business/stocks/agri-picks-report-december-23-2024-geojit-financial-services-12895654.html',\n",
       " 'https://www.moneycontrol.com/news/business/stocks/aurobindo-pharma-shares-in-focus-post-uk-s-mhra-approval-for-cancer-drug-12895535.html',\n",
       " 'https://www.moneycontrol.com/news/business/stocks/buy-hdfc-bank-target-of-rs-2100-emkay-global-financial-3-12896125.html',\n",
       " 'https://www.moneycontrol.com/news/business/stocks/buy-icici-bank-target-of-rs-1550-sharekhan-12896111.html',\n",
       " 'https://www.moneycontrol.com/news/business/stocks/ntpc-green-energy-shares-in-focus-on-signing-mou-for-renewable-energy-projects-12895536.html',\n",
       " 'https://www.moneycontrol.com/news/business/stocks/page-10/',\n",
       " 'https://www.moneycontrol.com/news/business/stocks/page-2/',\n",
       " 'https://www.moneycontrol.com/news/business/stocks/page-3/',\n",
       " 'https://www.moneycontrol.com/news/business/stocks/page-30/',\n",
       " 'https://www.moneycontrol.com/news/business/stocks/page-4/',\n",
       " 'https://www.moneycontrol.com/news/business/stocks/page-5/',\n",
       " 'https://www.moneycontrol.com/news/business/stocks/page-6/',\n",
       " 'https://www.moneycontrol.com/news/business/stocks/page-7/',\n",
       " 'https://www.moneycontrol.com/news/business/stocks/page-8/',\n",
       " 'https://www.moneycontrol.com/news/business/stocks/page-9/',\n",
       " 'https://www.moneycontrol.com/news/business/stocks/subscribe-for-unimech-aerospace-and-manufacturing-ltd-ipo-kr-choksey-12895934.html'}"
      ]
     },
     "execution_count": 92,
     "metadata": {},
     "output_type": "execute_result"
    }
   ],
   "source": [
    "urls"
   ]
  },
  {
   "cell_type": "code",
   "execution_count": 93,
   "metadata": {},
   "outputs": [],
   "source": [
    "data_urls = [url for url in urls if not url.startswith(\"https://www.moneycontrol.com/news/business/stocks/page\")]"
   ]
  },
  {
   "cell_type": "code",
   "execution_count": 94,
   "metadata": {},
   "outputs": [
    {
     "data": {
      "text/plain": [
       "['https://www.moneycontrol.com/news/business/stocks/subscribe-for-unimech-aerospace-and-manufacturing-ltd-ipo-kr-choksey-12895934.html',\n",
       " 'https://www.moneycontrol.com/news/business/stocks/ntpc-green-energy-shares-in-focus-on-signing-mou-for-renewable-energy-projects-12895536.html',\n",
       " 'https://www.moneycontrol.com/news/business/stocks/buy-icici-bank-target-of-rs-1550-sharekhan-12896111.html',\n",
       " 'https://www.moneycontrol.com/news/business/stocks/aurobindo-pharma-shares-in-focus-post-uk-s-mhra-approval-for-cancer-drug-12895535.html',\n",
       " 'https://www.moneycontrol.com/news/business/stocks/agri-picks-report-december-23-2024-geojit-financial-services-12895654.html',\n",
       " 'https://www.moneycontrol.com/news/business/stocks/accumulate-avanti-feeds-target-of-rs-715-geojit-financial-services-12896228.html',\n",
       " 'https://www.moneycontrol.com/news/business/stocks/buy-hdfc-bank-target-of-rs-2100-emkay-global-financial-3-12896125.html']"
      ]
     },
     "execution_count": 94,
     "metadata": {},
     "output_type": "execute_result"
    }
   ],
   "source": [
    "data_urls"
   ]
  },
  {
   "cell_type": "code",
   "execution_count": 95,
   "metadata": {},
   "outputs": [],
   "source": [
    "next_page_urls =  [url for url in urls if  url.startswith(\"https://www.moneycontrol.com/news/business/stocks/page\")]"
   ]
  },
  {
   "cell_type": "code",
   "execution_count": 96,
   "metadata": {},
   "outputs": [
    {
     "data": {
      "text/plain": [
       "['https://www.moneycontrol.com/news/business/stocks/page-4/',\n",
       " 'https://www.moneycontrol.com/news/business/stocks/page-10/',\n",
       " 'https://www.moneycontrol.com/news/business/stocks/page-2/',\n",
       " 'https://www.moneycontrol.com/news/business/stocks/page-3/',\n",
       " 'https://www.moneycontrol.com/news/business/stocks/page-9/',\n",
       " 'https://www.moneycontrol.com/news/business/stocks/page-7/',\n",
       " 'https://www.moneycontrol.com/news/business/stocks/page-30/',\n",
       " 'https://www.moneycontrol.com/news/business/stocks/page-6/',\n",
       " 'https://www.moneycontrol.com/news/business/stocks/page-8/',\n",
       " 'https://www.moneycontrol.com/news/business/stocks/page-5/']"
      ]
     },
     "execution_count": 96,
     "metadata": {},
     "output_type": "execute_result"
    }
   ],
   "source": [
    "next_page_urls"
   ]
  },
  {
   "cell_type": "code",
   "execution_count": null,
   "metadata": {},
   "outputs": [],
   "source": []
  }
 ],
 "metadata": {
  "kernelspec": {
   "display_name": "Python 3",
   "language": "python",
   "name": "python3"
  },
  "language_info": {
   "codemirror_mode": {
    "name": "ipython",
    "version": 3
   },
   "file_extension": ".py",
   "mimetype": "text/x-python",
   "name": "python",
   "nbconvert_exporter": "python",
   "pygments_lexer": "ipython3",
   "version": "3.12.3"
  }
 },
 "nbformat": 4,
 "nbformat_minor": 2
}
