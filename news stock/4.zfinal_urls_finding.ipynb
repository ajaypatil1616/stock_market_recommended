{
 "cells": [
  {
   "cell_type": "code",
   "execution_count": 12,
   "metadata": {},
   "outputs": [],
   "source": [
    "from selenium import webdriver\n",
    "from selenium.webdriver.chrome.service import Service\n",
    "from selenium.webdriver.chrome.options import Options\n",
    "from selenium.webdriver.common.by import By\n",
    "from selenium.webdriver.support.ui import WebDriverWait\n",
    "from selenium.webdriver.support import expected_conditions as EC\n",
    "from bs4 import BeautifulSoup"
   ]
  },
  {
   "cell_type": "code",
   "execution_count": 13,
   "metadata": {},
   "outputs": [],
   "source": [
    "def finding_raw_urls_from_base(url):\n",
    "    service = Service(\"./chromedriver/chromedriver.exe\")\n",
    "    options = Options()\n",
    "    options.add_argument(\"--headless\")\n",
    "    options.add_argument(\"--disable-gpu\")\n",
    "    options.add_argument(\"user-agent=Mozilla/5.0 (Windows NT 10.0; Win64; x64) AppleWebKit/537.36 (KHTML, like Gecko) Chrome/91.0.4472.124 Safari/537.36\")\n",
    "    \n",
    "    driver = webdriver.Chrome(service=service, options=options)\n",
    "    driver.get(url)\n",
    "    \n",
    "    WebDriverWait(driver, 10).until(\n",
    "        EC.presence_of_all_elements_located((By.TAG_NAME, 'a'))\n",
    "    )\n",
    "    \n",
    "    html = driver.page_source\n",
    "    driver.quit()\n",
    "    \n",
    "    soup = BeautifulSoup(html, 'html.parser')\n",
    "    links = soup.find_all('a', href=True)\n",
    "    raw_urls = []\n",
    "    for link in links:\n",
    "        if link['href'].startswith(\"https://www.moneycontrol.com/news/business/\"):\n",
    "            raw_urls.append(link['href'])\n",
    "    return list(set(raw_urls))\n",
    "    "
   ]
  },
  {
   "cell_type": "code",
   "execution_count": 14,
   "metadata": {},
   "outputs": [],
   "source": [
    "raw_urls = finding_raw_urls_from_base(\"https://www.moneycontrol.com/news/business/stocks/\")"
   ]
  },
  {
   "cell_type": "code",
   "execution_count": 15,
   "metadata": {},
   "outputs": [
    {
     "data": {
      "text/plain": [
       "['https://www.moneycontrol.com/news/business/stocks/ramky-infra-stock-prices-increase-a-3-83-following-contract-from-hmwssb-12897705.html',\n",
       " 'https://www.moneycontrol.com/news/business/markets/stocks-to-watch-today-nalco-bpcl-gland-pharma-panacea-biotec-ramky-infra-ceigall-india-manorama-in-focus-on-26-december-12897628.html',\n",
       " 'https://www.moneycontrol.com/news/business/stocks/page-10/',\n",
       " 'https://www.moneycontrol.com/news/business/stocks/hg-infra-engineering-why-should-you-bet-on-this-construction-player-12897707.html',\n",
       " 'https://www.moneycontrol.com/news/business/companies/',\n",
       " 'https://www.moneycontrol.com/news/business/stocks/page-9/',\n",
       " 'https://www.moneycontrol.com/news/business/stocks/page-3/',\n",
       " 'https://www.moneycontrol.com/news/business/companies',\n",
       " 'https://www.moneycontrol.com/news/business/ipo/mumbai-vfx-firm-identical-brains-studios-shares-list-at-76-premium-over-ipo-price-on-nse-sme-12897693.html',\n",
       " 'https://www.moneycontrol.com/news/business/personal-finance/',\n",
       " 'https://www.moneycontrol.com/news/business/markets/pnc-infra-gets-relief-from-high-court-in-disqualification-order-by-morth-nhai-12897640.html',\n",
       " 'https://www.moneycontrol.com/news/business/markets/nifty-sensex-trade-flat-amid-volatility-metal-realty-stocks-drag-vix-rises-6-12897921.html',\n",
       " 'https://www.moneycontrol.com/news/business/stocks/page-7/',\n",
       " 'https://www.moneycontrol.com/news/business/markets/stock-market-live-sensex-nifty-50-share-price-gift-nifty-latest-updates-26-12-2024-liveblog-12897637.html',\n",
       " 'https://www.moneycontrol.com/news/business/stocks/panacea-biotec-shares-in-focus-on-contract-from-unicef-12897580.html',\n",
       " 'https://www.moneycontrol.com/news/business/stocks/page-30/',\n",
       " 'https://www.moneycontrol.com/news/business/',\n",
       " 'https://www.moneycontrol.com/news/business/earnings/rr-kabel-correction-spells-long-term-opportunity-12897674.html',\n",
       " 'https://www.moneycontrol.com/news/business/commodities/',\n",
       " 'https://www.moneycontrol.com/news/business/markets/importers-take-tanzania-thailand-route-to-bring-gold-disguised-as-platinum-alloy-12898002.html',\n",
       " 'https://www.moneycontrol.com/news/business/stocks/',\n",
       " 'https://www.moneycontrol.com/news/business/markets/',\n",
       " 'https://www.moneycontrol.com/news/business/markets/sensex-rises-300-points-nifty-tops-23-800-in-thin-trade-banks-and-auto-rally-on-expiry-day-12897645.html',\n",
       " 'https://www.moneycontrol.com/news/business/stocks/page-5/',\n",
       " 'https://www.moneycontrol.com/news/business/stocks/buy-raymond-lifestyle-target-of-rs-3000-motilal-oswal-2-12897944.html',\n",
       " 'https://www.moneycontrol.com/news/business/ipo/',\n",
       " 'https://www.moneycontrol.com/news/business/ipo/ipo-allotment-status-gmp-live-senores-pharma-carraro-india-allotment-status-unimech-aerospace-gmp-business-news-december-26-liveblog-12897684.html',\n",
       " 'https://www.moneycontrol.com/news/business/stocks/page-8/',\n",
       " 'https://www.moneycontrol.com/news/business/stocks/most-asian-stocks-rise-amid-thin-holiday-trading-12897635.html',\n",
       " 'https://www.moneycontrol.com/news/business/startup/',\n",
       " 'https://www.moneycontrol.com/news/business/markets/ceigall-india-shares-rise-7-on-new-rs-981-crore-project-from-nhai-12897787.html',\n",
       " 'https://www.moneycontrol.com/news/business/ipo/transrail-lighting-ipo-allotment-status-today-how-to-check-details-online-via-link-intime-nse-bse-check-latest-gmp-12896688.html',\n",
       " 'https://www.moneycontrol.com/news/business/stocks/bpcl-shares-in-focus-on-winning-150-mw-solar-pv-power-project-12897578.html',\n",
       " 'https://www.moneycontrol.com/news/business/markets/chartist-talks-gemstone-s-milan-vaishnav-picks-these-2-nifty-stocks-for-2025-12897440.html',\n",
       " 'https://www.moneycontrol.com/news/business/real-estate/',\n",
       " 'https://www.moneycontrol.com/news/business/stocks/page-6/',\n",
       " 'https://www.moneycontrol.com/news/business/markets/newgen-soft-extends-december-rally-to-44-after-bagging-2-27-million-order-saudi-arabia-12897782.html',\n",
       " 'https://www.moneycontrol.com/news/business/japan-airlines-hit-by-cyberattack-causing-some-delays-to-its-flights-12897652.html',\n",
       " 'https://www.moneycontrol.com/news/business/stocks/agri-picks-report-december-26-2024-geojit-financial-services-12897688.html',\n",
       " 'https://www.moneycontrol.com/news/business/personal-finance/income-tax-filing/',\n",
       " 'https://www.moneycontrol.com/news/business/markets/godfrey-phillips-india-shares-snap-seven-day-fall-to-rise-7-board-appoints-new-coo-and-updates-on-24seven-trademark-tussle-12897791.html',\n",
       " 'https://www.moneycontrol.com/news/business/stocks/epack-durable-stock-prices-gain-5-upon-potential-investment-by-chinese-tv-manufacturer-12897877.html',\n",
       " 'https://www.moneycontrol.com/news/business/markets/guruspeak-puneet-sharma-s-trading-journey-mastering-quantitative-trading-through-data-and-algos-12897625.html',\n",
       " 'https://www.moneycontrol.com/news/business/mutual-funds/',\n",
       " 'https://www.moneycontrol.com/news/business/stocks/page-2/',\n",
       " 'https://www.moneycontrol.com/news/business/stocks/motilal-oswal-maintains-buy-on-raymond-lifestyle-with-target-price-of-rs-3-000-12897784.html',\n",
       " 'https://www.moneycontrol.com/news/business/ipo/senores-pharma-ipo-allotment-status-today-how-to-check-details-online-via-link-intime-nse-bse-check-latest-gmp-12897106.html',\n",
       " 'https://www.moneycontrol.com/news/business/stocks/page-4/',\n",
       " 'https://www.moneycontrol.com/news/business/stocks/buy-hdfc-bank-target-of-rs-2100-sharekhan-3-12898050.html',\n",
       " 'https://www.moneycontrol.com/news/business/markets/trade-spotlight-how-should-you-trade-paytm-coal-india-hpcl-uno-minda-amber-enterprises-oberoi-realty-and-others-on-december-26-12897478.html',\n",
       " 'https://www.moneycontrol.com/news/business/economy/',\n",
       " 'https://www.moneycontrol.com/news/business/banks/',\n",
       " 'https://www.moneycontrol.com/news/business/markets/here-are-the-top-global-cues-for-today-s-trade-first-tick-12896898.html']"
      ]
     },
     "execution_count": 15,
     "metadata": {},
     "output_type": "execute_result"
    }
   ],
   "source": [
    "raw_urls"
   ]
  },
  {
   "cell_type": "code",
   "execution_count": 16,
   "metadata": {},
   "outputs": [],
   "source": [
    "stock_urls =[]\n",
    "market_urls = []\n",
    "next_page_urls = []\n",
    "other_urls = []\n",
    "ipo_urls = []\n",
    "def extract_urls(all_urls):\n",
    "    for link in raw_urls:\n",
    "        if link.startswith(\"https://www.moneycontrol.com/news/business/stocks/page\"):\n",
    "            next_page_urls.append(link)\n",
    "        elif link.startswith(\"https://www.moneycontrol.com/news/business/stocks/\"):\n",
    "            stock_urls.append(link)\n",
    "        elif link.startswith(\"https://www.moneycontrol.com/news/business/markets/\"):\n",
    "            market_urls.append(link)\n",
    "        elif link.startswith(\"https://www.moneycontrol.com/news/business/ipo/\"):\n",
    "            ipo_urls.append(link)\n",
    "        else:\n",
    "            other_urls.append(link)"
   ]
  },
  {
   "cell_type": "code",
   "execution_count": 17,
   "metadata": {},
   "outputs": [],
   "source": [
    "extract_urls(raw_urls)"
   ]
  },
  {
   "cell_type": "code",
   "execution_count": 18,
   "metadata": {},
   "outputs": [
    {
     "data": {
      "text/plain": [
       "['https://www.moneycontrol.com/news/business/stocks/page-10/',\n",
       " 'https://www.moneycontrol.com/news/business/stocks/page-9/',\n",
       " 'https://www.moneycontrol.com/news/business/stocks/page-3/',\n",
       " 'https://www.moneycontrol.com/news/business/stocks/page-7/',\n",
       " 'https://www.moneycontrol.com/news/business/stocks/page-30/',\n",
       " 'https://www.moneycontrol.com/news/business/stocks/page-5/',\n",
       " 'https://www.moneycontrol.com/news/business/stocks/page-8/',\n",
       " 'https://www.moneycontrol.com/news/business/stocks/page-6/',\n",
       " 'https://www.moneycontrol.com/news/business/stocks/page-2/',\n",
       " 'https://www.moneycontrol.com/news/business/stocks/page-4/']"
      ]
     },
     "execution_count": 18,
     "metadata": {},
     "output_type": "execute_result"
    }
   ],
   "source": [
    "next_page_urls"
   ]
  },
  {
   "cell_type": "code",
   "execution_count": 19,
   "metadata": {},
   "outputs": [
    {
     "data": {
      "text/plain": [
       "['https://www.moneycontrol.com/news/business/stocks/ramky-infra-stock-prices-increase-a-3-83-following-contract-from-hmwssb-12897705.html',\n",
       " 'https://www.moneycontrol.com/news/business/stocks/hg-infra-engineering-why-should-you-bet-on-this-construction-player-12897707.html',\n",
       " 'https://www.moneycontrol.com/news/business/stocks/panacea-biotec-shares-in-focus-on-contract-from-unicef-12897580.html',\n",
       " 'https://www.moneycontrol.com/news/business/stocks/',\n",
       " 'https://www.moneycontrol.com/news/business/stocks/buy-raymond-lifestyle-target-of-rs-3000-motilal-oswal-2-12897944.html',\n",
       " 'https://www.moneycontrol.com/news/business/stocks/most-asian-stocks-rise-amid-thin-holiday-trading-12897635.html',\n",
       " 'https://www.moneycontrol.com/news/business/stocks/bpcl-shares-in-focus-on-winning-150-mw-solar-pv-power-project-12897578.html',\n",
       " 'https://www.moneycontrol.com/news/business/stocks/agri-picks-report-december-26-2024-geojit-financial-services-12897688.html',\n",
       " 'https://www.moneycontrol.com/news/business/stocks/epack-durable-stock-prices-gain-5-upon-potential-investment-by-chinese-tv-manufacturer-12897877.html',\n",
       " 'https://www.moneycontrol.com/news/business/stocks/motilal-oswal-maintains-buy-on-raymond-lifestyle-with-target-price-of-rs-3-000-12897784.html',\n",
       " 'https://www.moneycontrol.com/news/business/stocks/buy-hdfc-bank-target-of-rs-2100-sharekhan-3-12898050.html']"
      ]
     },
     "execution_count": 19,
     "metadata": {},
     "output_type": "execute_result"
    }
   ],
   "source": [
    "stock_urls"
   ]
  },
  {
   "cell_type": "code",
   "execution_count": 20,
   "metadata": {},
   "outputs": [
    {
     "data": {
      "text/plain": [
       "['https://www.moneycontrol.com/news/business/markets/stocks-to-watch-today-nalco-bpcl-gland-pharma-panacea-biotec-ramky-infra-ceigall-india-manorama-in-focus-on-26-december-12897628.html',\n",
       " 'https://www.moneycontrol.com/news/business/markets/pnc-infra-gets-relief-from-high-court-in-disqualification-order-by-morth-nhai-12897640.html',\n",
       " 'https://www.moneycontrol.com/news/business/markets/nifty-sensex-trade-flat-amid-volatility-metal-realty-stocks-drag-vix-rises-6-12897921.html',\n",
       " 'https://www.moneycontrol.com/news/business/markets/stock-market-live-sensex-nifty-50-share-price-gift-nifty-latest-updates-26-12-2024-liveblog-12897637.html',\n",
       " 'https://www.moneycontrol.com/news/business/markets/importers-take-tanzania-thailand-route-to-bring-gold-disguised-as-platinum-alloy-12898002.html',\n",
       " 'https://www.moneycontrol.com/news/business/markets/',\n",
       " 'https://www.moneycontrol.com/news/business/markets/sensex-rises-300-points-nifty-tops-23-800-in-thin-trade-banks-and-auto-rally-on-expiry-day-12897645.html',\n",
       " 'https://www.moneycontrol.com/news/business/markets/ceigall-india-shares-rise-7-on-new-rs-981-crore-project-from-nhai-12897787.html',\n",
       " 'https://www.moneycontrol.com/news/business/markets/chartist-talks-gemstone-s-milan-vaishnav-picks-these-2-nifty-stocks-for-2025-12897440.html',\n",
       " 'https://www.moneycontrol.com/news/business/markets/newgen-soft-extends-december-rally-to-44-after-bagging-2-27-million-order-saudi-arabia-12897782.html',\n",
       " 'https://www.moneycontrol.com/news/business/markets/godfrey-phillips-india-shares-snap-seven-day-fall-to-rise-7-board-appoints-new-coo-and-updates-on-24seven-trademark-tussle-12897791.html',\n",
       " 'https://www.moneycontrol.com/news/business/markets/guruspeak-puneet-sharma-s-trading-journey-mastering-quantitative-trading-through-data-and-algos-12897625.html',\n",
       " 'https://www.moneycontrol.com/news/business/markets/trade-spotlight-how-should-you-trade-paytm-coal-india-hpcl-uno-minda-amber-enterprises-oberoi-realty-and-others-on-december-26-12897478.html',\n",
       " 'https://www.moneycontrol.com/news/business/markets/here-are-the-top-global-cues-for-today-s-trade-first-tick-12896898.html']"
      ]
     },
     "execution_count": 20,
     "metadata": {},
     "output_type": "execute_result"
    }
   ],
   "source": [
    "market_urls"
   ]
  },
  {
   "cell_type": "code",
   "execution_count": 21,
   "metadata": {},
   "outputs": [
    {
     "data": {
      "text/plain": [
       "['https://www.moneycontrol.com/news/business/ipo/mumbai-vfx-firm-identical-brains-studios-shares-list-at-76-premium-over-ipo-price-on-nse-sme-12897693.html',\n",
       " 'https://www.moneycontrol.com/news/business/ipo/',\n",
       " 'https://www.moneycontrol.com/news/business/ipo/ipo-allotment-status-gmp-live-senores-pharma-carraro-india-allotment-status-unimech-aerospace-gmp-business-news-december-26-liveblog-12897684.html',\n",
       " 'https://www.moneycontrol.com/news/business/ipo/transrail-lighting-ipo-allotment-status-today-how-to-check-details-online-via-link-intime-nse-bse-check-latest-gmp-12896688.html',\n",
       " 'https://www.moneycontrol.com/news/business/ipo/senores-pharma-ipo-allotment-status-today-how-to-check-details-online-via-link-intime-nse-bse-check-latest-gmp-12897106.html']"
      ]
     },
     "execution_count": 21,
     "metadata": {},
     "output_type": "execute_result"
    }
   ],
   "source": [
    "ipo_urls"
   ]
  },
  {
   "cell_type": "code",
   "execution_count": 22,
   "metadata": {},
   "outputs": [
    {
     "data": {
      "text/plain": [
       "['https://www.moneycontrol.com/news/business/companies/',\n",
       " 'https://www.moneycontrol.com/news/business/companies',\n",
       " 'https://www.moneycontrol.com/news/business/personal-finance/',\n",
       " 'https://www.moneycontrol.com/news/business/',\n",
       " 'https://www.moneycontrol.com/news/business/earnings/rr-kabel-correction-spells-long-term-opportunity-12897674.html',\n",
       " 'https://www.moneycontrol.com/news/business/commodities/',\n",
       " 'https://www.moneycontrol.com/news/business/startup/',\n",
       " 'https://www.moneycontrol.com/news/business/real-estate/',\n",
       " 'https://www.moneycontrol.com/news/business/japan-airlines-hit-by-cyberattack-causing-some-delays-to-its-flights-12897652.html',\n",
       " 'https://www.moneycontrol.com/news/business/personal-finance/income-tax-filing/',\n",
       " 'https://www.moneycontrol.com/news/business/mutual-funds/',\n",
       " 'https://www.moneycontrol.com/news/business/economy/',\n",
       " 'https://www.moneycontrol.com/news/business/banks/']"
      ]
     },
     "execution_count": 22,
     "metadata": {},
     "output_type": "execute_result"
    }
   ],
   "source": [
    "other_urls"
   ]
  }
 ],
 "metadata": {
  "kernelspec": {
   "display_name": "Python 3",
   "language": "python",
   "name": "python3"
  },
  "language_info": {
   "codemirror_mode": {
    "name": "ipython",
    "version": 3
   },
   "file_extension": ".py",
   "mimetype": "text/x-python",
   "name": "python",
   "nbconvert_exporter": "python",
   "pygments_lexer": "ipython3",
   "version": "3.12.3"
  }
 },
 "nbformat": 4,
 "nbformat_minor": 2
}
