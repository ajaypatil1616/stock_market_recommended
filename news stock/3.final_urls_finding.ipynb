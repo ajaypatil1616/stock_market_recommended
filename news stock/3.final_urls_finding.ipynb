{
 "cells": [
  {
   "cell_type": "code",
   "execution_count": 128,
   "metadata": {},
   "outputs": [],
   "source": [
    "import requests\n",
    "from bs4 import BeautifulSoup\n",
    "import pandas as pd"
   ]
  },
  {
   "cell_type": "code",
   "execution_count": 129,
   "metadata": {},
   "outputs": [],
   "source": [
    "raw_urls = []\n",
    "def finding_raw_urls_from_base(url):\n",
    "    headers = {\n",
    "        'Cache-Control': 'no-cache',\n",
    "        'Pragma': 'no-cache',\n",
    "        'User-Agent': 'Mozilla/5.0 (Windows NT 10.0; Win64; x64) AppleWebKit/537.36 (KHTML, like Gecko) Chrome/91.0.4472.124 Safari/537.36'\n",
    "    }\n",
    "    response = requests.get(url, headers= headers)\n",
    "    soup = BeautifulSoup(response.content, 'html.parser')\n",
    "    links = soup.find_all('a', href=True)\n",
    "    for link in links:\n",
    "        if not link['href'].endswith(\"https://www.moneycontrol.com/news/business/stocks/\") and link['href'].startswith(\"https://www.moneycontrol.com/news/business/stocks/\"):\n",
    "            raw_urls.append(link['href'])\n",
    "    return set(raw_urls)"
   ]
  },
  {
   "cell_type": "code",
   "execution_count": 130,
   "metadata": {},
   "outputs": [],
   "source": [
    "all_urls =finding_raw_urls_from_base(\"https://www.moneycontrol.com/news/business/stocks/\")"
   ]
  },
  {
   "cell_type": "code",
   "execution_count": 131,
   "metadata": {},
   "outputs": [
    {
     "data": {
      "text/plain": [
       "{'https://www.moneycontrol.com/news/business/stocks/buy-larsen-and-toubro-target-of-rs-4550-sharekhan-2-12896739.html',\n",
       " 'https://www.moneycontrol.com/news/business/stocks/hg-infra-engineering-subsidiary-enters-into-battery-energy-storage-purchase-agreement-stock-gains-2-73-12896685.html',\n",
       " 'https://www.moneycontrol.com/news/business/stocks/page-10/',\n",
       " 'https://www.moneycontrol.com/news/business/stocks/page-2/',\n",
       " 'https://www.moneycontrol.com/news/business/stocks/page-3/',\n",
       " 'https://www.moneycontrol.com/news/business/stocks/page-30/',\n",
       " 'https://www.moneycontrol.com/news/business/stocks/page-4/',\n",
       " 'https://www.moneycontrol.com/news/business/stocks/page-5/',\n",
       " 'https://www.moneycontrol.com/news/business/stocks/page-6/',\n",
       " 'https://www.moneycontrol.com/news/business/stocks/page-7/',\n",
       " 'https://www.moneycontrol.com/news/business/stocks/page-8/',\n",
       " 'https://www.moneycontrol.com/news/business/stocks/page-9/',\n",
       " 'https://www.moneycontrol.com/news/business/stocks/strong-indegenisation-push-spur-optimism-for-defence-cos-despite-valuation-concerns-12896581.html',\n",
       " 'https://www.moneycontrol.com/news/business/stocks/vedanta-stock-falls-3-as-stock-trades-ex-dividend-12896714.html'}"
      ]
     },
     "execution_count": 131,
     "metadata": {},
     "output_type": "execute_result"
    }
   ],
   "source": [
    "all_urls"
   ]
  },
  {
   "cell_type": "code",
   "execution_count": 132,
   "metadata": {},
   "outputs": [],
   "source": [
    "data_urls =[]\n",
    "next_page_urls = []\n",
    "def extract_urls(all_urls):\n",
    "    for link in raw_urls:\n",
    "        if link.startswith(\"https://www.moneycontrol.com/news/business/stocks/page\"):\n",
    "            next_page_urls.append(link)\n",
    "        else:\n",
    "            data_urls.append(link)"
   ]
  },
  {
   "cell_type": "code",
   "execution_count": 133,
   "metadata": {},
   "outputs": [],
   "source": [
    "extract_urls(all_urls)"
   ]
  },
  {
   "cell_type": "code",
   "execution_count": 134,
   "metadata": {},
   "outputs": [
    {
     "data": {
      "text/plain": [
       "{'https://www.moneycontrol.com/news/business/stocks/buy-larsen-and-toubro-target-of-rs-4550-sharekhan-2-12896739.html',\n",
       " 'https://www.moneycontrol.com/news/business/stocks/hg-infra-engineering-subsidiary-enters-into-battery-energy-storage-purchase-agreement-stock-gains-2-73-12896685.html',\n",
       " 'https://www.moneycontrol.com/news/business/stocks/strong-indegenisation-push-spur-optimism-for-defence-cos-despite-valuation-concerns-12896581.html',\n",
       " 'https://www.moneycontrol.com/news/business/stocks/vedanta-stock-falls-3-as-stock-trades-ex-dividend-12896714.html'}"
      ]
     },
     "execution_count": 134,
     "metadata": {},
     "output_type": "execute_result"
    }
   ],
   "source": [
    "set(data_urls)"
   ]
  },
  {
   "cell_type": "code",
   "execution_count": 135,
   "metadata": {},
   "outputs": [
    {
     "data": {
      "text/plain": [
       "{'https://www.moneycontrol.com/news/business/stocks/page-10/',\n",
       " 'https://www.moneycontrol.com/news/business/stocks/page-2/',\n",
       " 'https://www.moneycontrol.com/news/business/stocks/page-3/',\n",
       " 'https://www.moneycontrol.com/news/business/stocks/page-30/',\n",
       " 'https://www.moneycontrol.com/news/business/stocks/page-4/',\n",
       " 'https://www.moneycontrol.com/news/business/stocks/page-5/',\n",
       " 'https://www.moneycontrol.com/news/business/stocks/page-6/',\n",
       " 'https://www.moneycontrol.com/news/business/stocks/page-7/',\n",
       " 'https://www.moneycontrol.com/news/business/stocks/page-8/',\n",
       " 'https://www.moneycontrol.com/news/business/stocks/page-9/'}"
      ]
     },
     "execution_count": 135,
     "metadata": {},
     "output_type": "execute_result"
    }
   ],
   "source": [
    "set(next_page_urls)"
   ]
  },
  {
   "cell_type": "code",
   "execution_count": 136,
   "metadata": {},
   "outputs": [
    {
     "name": "stdout",
     "output_type": "stream",
     "text": [
      "https://www.moneycontrol.com/news/business/stocks/hg-infra-engineering-subsidiary-enters-into-battery-energy-storage-purchase-agreement-stock-gains-2-73-12896685.html\n",
      "https://www.moneycontrol.com/news/business/stocks/strong-indegenisation-push-spur-optimism-for-defence-cos-despite-valuation-concerns-12896581.html\n",
      "https://www.moneycontrol.com/news/business/stocks/buy-larsen-and-toubro-target-of-rs-4550-sharekhan-2-12896739.html\n",
      "https://www.moneycontrol.com/news/business/stocks/vedanta-stock-falls-3-as-stock-trades-ex-dividend-12896714.html\n"
     ]
    }
   ],
   "source": [
    "for x in set(data_urls):\n",
    "    print(x)"
   ]
  },
  {
   "cell_type": "code",
   "execution_count": null,
   "metadata": {},
   "outputs": [],
   "source": []
  },
  {
   "cell_type": "code",
   "execution_count": null,
   "metadata": {},
   "outputs": [],
   "source": []
  },
  {
   "cell_type": "code",
   "execution_count": 137,
   "metadata": {},
   "outputs": [
    {
     "name": "stdout",
     "output_type": "stream",
     "text": [
      "<html><head>\n",
      "<title>Access Denied</title>\n",
      "</head><body>\n",
      "<h1>Access Denied</h1>\n",
      " \n",
      "You don't have permission to access \"http://www.moneycontrol.com/news/business/stocks/\" on this server.<p>\n",
      "Reference #18.8663d417.1735025229.36b62bef\n",
      "</p><p>https://errors.edgesuite.net/18.8663d417.1735025229.36b62bef</p>\n",
      "\n",
      "\n",
      "</body></html>\n"
     ]
    }
   ],
   "source": [
    "from selenium import webdriver\n",
    "from selenium.webdriver.chrome.service import Service\n",
    "from selenium.webdriver.common.by import By\n",
    "from selenium.webdriver.chrome.options import Options\n",
    "from bs4 import BeautifulSoup\n",
    "\n",
    "raw_urls = []\n",
    "\n",
    "def finding_raw_urls_from_base(url):\n",
    "    \n",
    "    service = Service(\"./chromedriver/chromedriver.exe\")  # Update this path\n",
    "    options = Options()\n",
    "    options.add_argument(\"--headless\")\n",
    "    options.add_argument(\"--disable-gpu\")\n",
    "    \n",
    "    driver = webdriver.Chrome(service=service, options=options)\n",
    "    driver.get(url)\n",
    "    html = driver.page_source\n",
    "    driver.quit()\n",
    "    \n",
    "    soup = BeautifulSoup(html, 'html.parser')\n",
    "    links = soup.find_all('a', href=True)\n",
    "    print(html)  # This will show the raw HTML of the page\n",
    "\n",
    "    for link in links:\n",
    "        if link['href'].startswith(\"https://www.moneycontrol.com/news/business/stocks/\") and not link['href'].endswith(\"/\"):\n",
    "            raw_urls.append(link['href'])\n",
    "    return set(raw_urls)\n",
    "\n",
    "url = \"https://www.moneycontrol.com/news/business/stocks/\"\n",
    "links = (finding_raw_urls_from_base(url))\n"
   ]
  },
  {
   "cell_type": "code",
   "execution_count": 140,
   "metadata": {},
   "outputs": [],
   "source": [
    "from selenium import webdriver\n",
    "from selenium.webdriver.chrome.service import Service\n",
    "from selenium.webdriver.chrome.options import Options\n",
    "from selenium.webdriver.common.by import By\n",
    "from selenium.webdriver.support.ui import WebDriverWait\n",
    "from selenium.webdriver.support import expected_conditions as EC\n",
    "from bs4 import BeautifulSoup\n",
    "\n",
    "raw_urls = []\n",
    "\n",
    "def finding_raw_urls_from_base(url):\n",
    "    service = Service(\"./chromedriver/chromedriver.exe\")  # Update this path\n",
    "    options = Options()\n",
    "    options.add_argument(\"--headless\")\n",
    "    options.add_argument(\"--disable-gpu\")\n",
    "    # Set the User-Agent to mimic a real browser\n",
    "    options.add_argument(\"user-agent=Mozilla/5.0 (Windows NT 10.0; Win64; x64) AppleWebKit/537.36 (KHTML, like Gecko) Chrome/91.0.4472.124 Safari/537.36\")\n",
    "    \n",
    "    driver = webdriver.Chrome(service=service, options=options)\n",
    "    driver.get(url)\n",
    "    \n",
    "    # Wait for the relevant elements to load\n",
    "    WebDriverWait(driver, 10).until(\n",
    "        EC.presence_of_all_elements_located((By.TAG_NAME, 'a'))\n",
    "    )\n",
    "    \n",
    "    html = driver.page_source\n",
    "    driver.quit()\n",
    "    \n",
    "    soup = BeautifulSoup(html, 'html.parser')\n",
    "    links = soup.find_all('a', href=True)\n",
    "    \n",
    "    for link in links:\n",
    "        href = link['href']\n",
    "        \n",
    "        if href.startswith(\"/news/business/stocks/\"):\n",
    "            href = \"https://www.moneycontrol.com\" + href\n",
    "        if href.startswith(\"https://www.moneycontrol.com/news/business/stocks/\"):\n",
    "            raw_urls.append(href)\n",
    "    \n",
    "    return set(raw_urls)\n",
    "\n",
    "url = \"https://www.moneycontrol.com/news/business/stocks/\"\n",
    "ajay = (finding_raw_urls_from_base(url))\n"
   ]
  },
  {
   "cell_type": "code",
   "execution_count": 141,
   "metadata": {},
   "outputs": [
    {
     "data": {
      "text/plain": [
       "{'https://www.moneycontrol.com/news/business/stocks/',\n",
       " 'https://www.moneycontrol.com/news/business/stocks/buy-larsen-and-toubro-target-of-rs-4550-sharekhan-2-12896739.html',\n",
       " 'https://www.moneycontrol.com/news/business/stocks/buy-pnb-housing-target-of-rs-1160-motilal-oswal-12896792.html',\n",
       " 'https://www.moneycontrol.com/news/business/stocks/hg-infra-engineering-subsidiary-enters-into-battery-energy-storage-purchase-agreement-stock-gains-2-73-12896685.html',\n",
       " 'https://www.moneycontrol.com/news/business/stocks/page-10/',\n",
       " 'https://www.moneycontrol.com/news/business/stocks/page-2/',\n",
       " 'https://www.moneycontrol.com/news/business/stocks/page-3/',\n",
       " 'https://www.moneycontrol.com/news/business/stocks/page-30/',\n",
       " 'https://www.moneycontrol.com/news/business/stocks/page-4/',\n",
       " 'https://www.moneycontrol.com/news/business/stocks/page-5/',\n",
       " 'https://www.moneycontrol.com/news/business/stocks/page-6/',\n",
       " 'https://www.moneycontrol.com/news/business/stocks/page-7/',\n",
       " 'https://www.moneycontrol.com/news/business/stocks/page-8/',\n",
       " 'https://www.moneycontrol.com/news/business/stocks/page-9/',\n",
       " 'https://www.moneycontrol.com/news/business/stocks/strong-indegenisation-push-spur-optimism-for-defence-cos-despite-valuation-concerns-12896581.html',\n",
       " 'https://www.moneycontrol.com/news/business/stocks/vedanta-stock-falls-3-as-stock-trades-ex-dividend-12896714.html'}"
      ]
     },
     "execution_count": 141,
     "metadata": {},
     "output_type": "execute_result"
    }
   ],
   "source": [
    "ajay"
   ]
  },
  {
   "cell_type": "code",
   "execution_count": null,
   "metadata": {},
   "outputs": [],
   "source": []
  }
 ],
 "metadata": {
  "kernelspec": {
   "display_name": "Python 3",
   "language": "python",
   "name": "python3"
  },
  "language_info": {
   "codemirror_mode": {
    "name": "ipython",
    "version": 3
   },
   "file_extension": ".py",
   "mimetype": "text/x-python",
   "name": "python",
   "nbconvert_exporter": "python",
   "pygments_lexer": "ipython3",
   "version": "3.12.3"
  }
 },
 "nbformat": 4,
 "nbformat_minor": 2
}
