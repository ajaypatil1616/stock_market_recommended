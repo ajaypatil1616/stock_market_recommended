{
 "cells": [
  {
   "cell_type": "code",
   "execution_count": 1,
   "metadata": {},
   "outputs": [
    {
     "name": "stdout",
     "output_type": "stream",
     "text": [
      "Cleaned data saved to:\n"
     ]
    }
   ],
   "source": [
    "import pandas as pd\n",
    "\n",
    "def process_real_time_data(file_path):\n",
    "    # Load the data\n",
    "    df = pd.read_csv(file_path, parse_dates=['Datetime'])\n",
    "\n",
    "    # Drop duplicates if any\n",
    "    df.drop_duplicates(inplace=True)\n",
    "\n",
    "    # Handle missing values, here we can choose to fill with a method or drop them\n",
    "    df.fillna(df.mean(), inplace=True)\n",
    "\n",
    "    # Ensure correct data types\n",
    "    df['Open'] = df['Open'].astype(float)\n",
    "    df['High'] = df['High'].astype(float)\n",
    "    df['Low'] = df['Low'].astype(float)\n",
    "    df['Close'] = df['Close'].astype(float)\n",
    "    df['Adj Close'] = df['Adj Close'].astype(float)\n",
    "    df['Volume'] = df['Volume'].astype(int)\n",
    "\n",
    "    # Save the cleaned data to a new CSV\n",
    "    \n",
    "    df.to_csv('cleaned_real_time.csv', index=False)\n",
    "\n",
    " \n",
    "\n",
    "# Example usage \n",
    "file_path = '../1.Data Collection/stock/real_time/BEL.NS_real.csv'\n",
    "cleaned_file = process_real_time_data(file_path)\n",
    "print(f'Cleaned data saved to:')\n"
   ]
  },
  {
   "cell_type": "code",
   "execution_count": null,
   "metadata": {},
   "outputs": [],
   "source": []
  }
 ],
 "metadata": {
  "kernelspec": {
   "display_name": "Python 3",
   "language": "python",
   "name": "python3"
  },
  "language_info": {
   "codemirror_mode": {
    "name": "ipython",
    "version": 3
   },
   "file_extension": ".py",
   "mimetype": "text/x-python",
   "name": "python",
   "nbconvert_exporter": "python",
   "pygments_lexer": "ipython3",
   "version": "3.12.3"
  }
 },
 "nbformat": 4,
 "nbformat_minor": 2
}
