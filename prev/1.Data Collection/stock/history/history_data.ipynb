{
 "cells": [
  {
   "cell_type": "code",
   "execution_count": 1,
   "metadata": {},
   "outputs": [
    {
     "name": "stderr",
     "output_type": "stream",
     "text": [
      "[*********************100%%**********************]  1 of 1 completed"
     ]
    },
    {
     "name": "stdout",
     "output_type": "stream",
     "text": [
      "Data downloaded from 2021-01-01 to 2024-10-06 with 1-day intervals and saved to bharat_electronics_stock_data_daily.csv\n"
     ]
    },
    {
     "name": "stderr",
     "output_type": "stream",
     "text": [
      "\n"
     ]
    }
   ],
   "source": [
    "import yfinance as yf\n",
    "from datetime import datetime, timedelta\n",
    "\n",
    "# Define the stock ticker symbol for Bharat Electronics\n",
    "ticker = 'BEL.NS'\n",
    "\n",
    "# Define the start date as January 1, 2021\n",
    "start_date = '2021-01-01'\n",
    "\n",
    "# Calculate the end date as 60 days before the current date\n",
    "end_date = datetime.now() - timedelta(days=60)\n",
    "end_date = end_date.strftime('%Y-%m-%d')\n",
    "\n",
    "# Download historical data for Bharat Electronics with 1-day intervals\n",
    "data = yf.download(ticker, start=start_date, end=end_date, interval='1d')\n",
    "\n",
    "# Save the data to a CSV file\n",
    "data.to_csv(f'{ticker}_history.csv')\n",
    "\n",
    "print(f\"Data downloaded from {start_date} to {end_date} with 1-day intervals and saved to bharat_electronics_stock_data_daily.csv\")\n"
   ]
  },
  {
   "cell_type": "code",
   "execution_count": null,
   "metadata": {},
   "outputs": [],
   "source": []
  }
 ],
 "metadata": {
  "kernelspec": {
   "display_name": "Python 3",
   "language": "python",
   "name": "python3"
  },
  "language_info": {
   "codemirror_mode": {
    "name": "ipython",
    "version": 3
   },
   "file_extension": ".py",
   "mimetype": "text/x-python",
   "name": "python",
   "nbconvert_exporter": "python",
   "pygments_lexer": "ipython3",
   "version": "3.12.3"
  }
 },
 "nbformat": 4,
 "nbformat_minor": 2
}
