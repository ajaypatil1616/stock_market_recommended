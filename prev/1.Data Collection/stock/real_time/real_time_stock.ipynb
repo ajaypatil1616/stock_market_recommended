{
 "cells": [
  {
   "cell_type": "code",
   "execution_count": 1,
   "metadata": {},
   "outputs": [
    {
     "name": "stderr",
     "output_type": "stream",
     "text": [
      "[*********************100%%**********************]  1 of 1 completed"
     ]
    },
    {
     "name": "stdout",
     "output_type": "stream",
     "text": [
      "Data downloaded from 2024-05-21 to 2024-07-20 with 5-minute intervals and saved to bharat_electronics_stock_data_5m.csv\n"
     ]
    },
    {
     "name": "stderr",
     "output_type": "stream",
     "text": [
      "\n"
     ]
    }
   ],
   "source": [
    "import yfinance as yf\n",
    "from datetime import datetime, timedelta\n",
    "\n",
    "# Define the stock ticker symbol for Bharat Electronics\n",
    "ticker = 'BEL.NS'\n",
    "\n",
    "# Calculate the end and start dates\n",
    "end_date = datetime.now()\n",
    "start_date = end_date - timedelta(days=60)  # Set to 60 days back\n",
    "\n",
    "# Download historical data for Bharat Electronics with 5-minute intervals\n",
    "data = yf.download(ticker, start=start_date, end=end_date, interval='5m')\n",
    "\n",
    "# Save the data to a CSV file\n",
    "data.to_csv(f'{ticker}_real.csv')\n",
    "\n",
    "print(f\"Data downloaded from {start_date.strftime('%Y-%m-%d')} to {end_date.strftime('%Y-%m-%d')} with 5-minute intervals and saved to bharat_electronics_stock_data_5m.csv\")\n"
   ]
  },
  {
   "cell_type": "code",
   "execution_count": null,
   "metadata": {},
   "outputs": [],
   "source": []
  }
 ],
 "metadata": {
  "kernelspec": {
   "display_name": "Python 3",
   "language": "python",
   "name": "python3"
  },
  "language_info": {
   "codemirror_mode": {
    "name": "ipython",
    "version": 3
   },
   "file_extension": ".py",
   "mimetype": "text/x-python",
   "name": "python",
   "nbconvert_exporter": "python",
   "pygments_lexer": "ipython3",
   "version": "3.12.3"
  }
 },
 "nbformat": 4,
 "nbformat_minor": 2
}
